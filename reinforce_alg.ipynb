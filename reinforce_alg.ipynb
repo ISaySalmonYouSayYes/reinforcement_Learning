{
  "nbformat": 4,
  "nbformat_minor": 0,
  "metadata": {
    "colab": {
      "provenance": [],
      "machine_shape": "hm",
      "gpuType": "L4",
      "authorship_tag": "ABX9TyOBwmH6WbKj+PjxQb2uwhpu",
      "include_colab_link": true
    },
    "kernelspec": {
      "name": "python3",
      "display_name": "Python 3"
    },
    "language_info": {
      "name": "python"
    },
    "accelerator": "GPU"
  },
  "cells": [
    {
      "cell_type": "markdown",
      "metadata": {
        "id": "view-in-github",
        "colab_type": "text"
      },
      "source": [
        "<a href=\"https://colab.research.google.com/github/ISaySalmonYouSayYes/reinforcement_Learning/blob/main/reinforce_alg.ipynb\" target=\"_parent\"><img src=\"https://colab.research.google.com/assets/colab-badge.svg\" alt=\"Open In Colab\"/></a>"
      ]
    },
    {
      "cell_type": "markdown",
      "source": [
        "# **0. Before you Start**"
      ],
      "metadata": {
        "id": "8UqbCqtjkxjn"
      }
    },
    {
      "cell_type": "code",
      "execution_count": 1,
      "metadata": {
        "id": "NNQXLpJukg7O"
      },
      "outputs": [],
      "source": [
        "%%capture\n",
        "!apt install python-opengl\n",
        "!apt install ffmpeg\n",
        "!apt install xvfb\n",
        "!pip install pyvirtualdisplay\n",
        "!pip install pyglet==1.5.1"
      ]
    },
    {
      "cell_type": "code",
      "source": [
        "# Virtual display\n",
        "from pyvirtualdisplay import Display\n",
        "\n",
        "virtual_display = Display(visible=0, size=(1400, 900))\n",
        "virtual_display.start()"
      ],
      "metadata": {
        "colab": {
          "base_uri": "https://localhost:8080/"
        },
        "id": "vLj8hRpQk2J9",
        "outputId": "7081729f-aa53-44c0-d792-e80ca702b8cf"
      },
      "execution_count": 2,
      "outputs": [
        {
          "output_type": "execute_result",
          "data": {
            "text/plain": [
              "<pyvirtualdisplay.display.Display at 0x7f3eacf08810>"
            ]
          },
          "metadata": {},
          "execution_count": 2
        }
      ]
    },
    {
      "cell_type": "markdown",
      "source": [
        "## Install the dependencies 🔽\n",
        "The first step is to install the dependencies. We’ll install multiple ones:\n",
        "\n",
        "- `gym`\n",
        "- `gym-games`: Extra gym environments made with PyGame.\n",
        "- `huggingface_hub`: 🤗 works as a central place where anyone can share and explore models and datasets. It has versioning, metrics, visualizations, and other features that will allow you to easily collaborate with others.\n",
        "\n",
        "You may be wondering why we install gym and not gymnasium, a more recent version of gym? **Because the gym-games we are using are not updated yet with gymnasium**.\n",
        "\n",
        "The differences you'll encounter here:\n",
        "- In `gym` we don't have `terminated` and `truncated` but only `done`.\n",
        "- In `gym` using `env.step()` returns `state, reward, done, info`"
      ],
      "metadata": {
        "id": "llZb8DC6lTsI"
      }
    },
    {
      "cell_type": "code",
      "source": [
        "!pip install --quiet -r https://raw.githubusercontent.com/huggingface/deep-rl-class/main/notebooks/unit4/requirements-unit4.txt"
      ],
      "metadata": {
        "colab": {
          "base_uri": "https://localhost:8080/"
        },
        "id": "JLHiIVP8lUVC",
        "outputId": "b231429e-69b0-464b-faf9-2c72aaf625c5"
      },
      "execution_count": 3,
      "outputs": [
        {
          "output_type": "stream",
          "name": "stdout",
          "text": [
            "  Preparing metadata (setup.py) ... \u001b[?25l\u001b[?25hdone\n",
            "  Preparing metadata (setup.py) ... \u001b[?25l\u001b[?25hdone\n",
            "\u001b[2K   \u001b[90m━━━━━━━━━━━━━━━━━━━━━━━━━━━━━━━━━━━━━━━━\u001b[0m \u001b[32m757.9/757.9 kB\u001b[0m \u001b[31m39.7 MB/s\u001b[0m eta \u001b[36m0:00:00\u001b[0m\n",
            "\u001b[?25h  Building wheel for ple (setup.py) ... \u001b[?25l\u001b[?25hdone\n",
            "  Building wheel for gym-games (setup.py) ... \u001b[?25l\u001b[?25hdone\n"
          ]
        }
      ]
    },
    {
      "cell_type": "code",
      "source": [
        "import numpy as np\n",
        "\n",
        "from collections import deque\n",
        "\n",
        "import matplotlib.pyplot as plt\n",
        "%matplotlib inline\n",
        "\n",
        "# PyTorch\n",
        "import torch\n",
        "import torch.nn as nn\n",
        "import torch.nn.functional as F\n",
        "import torch.optim as optim\n",
        "from torch.distributions import Categorical\n",
        "\n",
        "# Gym\n",
        "import gym\n",
        "import gym_pygame\n",
        "\n",
        "# Hugging Face Hub\n",
        "from huggingface_hub import notebook_login # To log to our Hugging Face account to be able to upload models to the Hub.\n",
        "import imageio"
      ],
      "metadata": {
        "id": "JbJBigpTljEd"
      },
      "execution_count": 4,
      "outputs": []
    },
    {
      "cell_type": "code",
      "source": [
        "device = torch.device(\"cuda:0\" if torch.cuda.is_available() else \"cpu\")\n",
        "print(device)"
      ],
      "metadata": {
        "colab": {
          "base_uri": "https://localhost:8080/"
        },
        "id": "4eB551SplsOk",
        "outputId": "2a293488-6439-40ab-d80f-30ce761f8be4"
      },
      "execution_count": 5,
      "outputs": [
        {
          "output_type": "stream",
          "name": "stdout",
          "text": [
            "cuda:0\n"
          ]
        },
        {
          "output_type": "stream",
          "name": "stderr",
          "text": [
            "/usr/local/lib/python3.11/dist-packages/ipykernel/ipkernel.py:283: DeprecationWarning: `should_run_async` will not call `transform_cell` automatically in the future. Please pass the result to `transformed_cell` argument and any exception that happen during thetransform in `preprocessing_exc_tuple` in IPython 7.17 and above.\n",
            "  and should_run_async(code)\n"
          ]
        }
      ]
    },
    {
      "cell_type": "markdown",
      "source": [
        "# **1.CartPole_v1**"
      ],
      "metadata": {
        "id": "n775YQ2GlyON"
      }
    },
    {
      "cell_type": "markdown",
      "source": [
        "### The CartPole-v1 environment\n",
        "\n",
        "> A pole is attached by an un-actuated joint to a cart, which moves along a frictionless track. The pendulum is placed upright on the cart and the goal is to balance the pole by applying forces in the left and right direction on the cart.\n",
        "\n",
        "\n",
        "\n",
        "So, we start with CartPole-v1. The goal is to push the cart left or right **so that the pole stays in the equilibrium.**\n",
        "\n",
        "The episode ends if:\n",
        "- The pole Angle is greater than ±12°\n",
        "- Cart Position is greater than ±2.4\n",
        "- Episode length is greater than 500\n",
        "\n",
        "We get a reward 💰 of +1 every timestep the Pole stays in the equilibrium."
      ],
      "metadata": {
        "id": "adgqqTnKl-WY"
      }
    },
    {
      "cell_type": "code",
      "source": [
        "env_id = \"CartPole-v1\"\n",
        "# Create the env\n",
        "env = gym.make(env_id)\n",
        "\n",
        "# Create the evaluation env\n",
        "eval_env = gym.make(env_id)\n",
        "\n",
        "# Get the state space and action space\n",
        "s_size = env.observation_space.shape[0]\n",
        "a_size = env.action_space.n"
      ],
      "metadata": {
        "colab": {
          "base_uri": "https://localhost:8080/"
        },
        "id": "y3BY--bTlyCb",
        "outputId": "ece130a5-2595-405c-980a-f301847eba20"
      },
      "execution_count": 6,
      "outputs": [
        {
          "output_type": "stream",
          "name": "stderr",
          "text": [
            "/usr/local/lib/python3.11/dist-packages/gym/core.py:317: DeprecationWarning: \u001b[33mWARN: Initializing wrapper in old step API which returns one bool instead of two. It is recommended to set `new_step_api=True` to use new step API. This will be the default behaviour in future.\u001b[0m\n",
            "  deprecation(\n",
            "/usr/local/lib/python3.11/dist-packages/gym/wrappers/step_api_compatibility.py:39: DeprecationWarning: \u001b[33mWARN: Initializing environment in old step API which returns one bool instead of two. It is recommended to set `new_step_api=True` to use new step API. This will be the default behaviour in future.\u001b[0m\n",
            "  deprecation(\n"
          ]
        }
      ]
    },
    {
      "cell_type": "code",
      "source": [
        "print(\"_____OBSERVATION SPACE_____ \\n\")\n",
        "print(\"The State Space is: \", s_size)\n",
        "print(\"Sample observation\", env.observation_space.sample()) # Get a random observation\n",
        "\n",
        "print(\"\\n _____ACTION SPACE_____ \\n\")\n",
        "print(\"The Action Space is: \", a_size)\n",
        "print(\"Action Space Sample\", env.action_space.sample()) # Take a random action"
      ],
      "metadata": {
        "colab": {
          "base_uri": "https://localhost:8080/"
        },
        "id": "sQGQAj3zluOK",
        "outputId": "cfb8b749-78dc-4e50-8721-0cde1c3238b9"
      },
      "execution_count": 7,
      "outputs": [
        {
          "output_type": "stream",
          "name": "stdout",
          "text": [
            "_____OBSERVATION SPACE_____ \n",
            "\n",
            "The State Space is:  4\n",
            "Sample observation [-2.6760459e+00 -2.3699156e+38  3.2352632e-01  2.8192083e+38]\n",
            "\n",
            " _____ACTION SPACE_____ \n",
            "\n",
            "The Action Space is:  2\n",
            "Action Space Sample 1\n"
          ]
        }
      ]
    },
    {
      "cell_type": "markdown",
      "source": [
        "- Since **we want to sample an action from the probability distribution over actions**, we can't use `action = np.argmax(m)` since it will always output the action that have the highest probability.\n",
        "\n",
        "- We need to replace with `action = m.sample()` that will sample an action from the probability distribution P(.|s)"
      ],
      "metadata": {
        "id": "sku9QMbwpbh2"
      }
    },
    {
      "cell_type": "code",
      "source": [
        "#a subclass of torch.nn.Module\n",
        "class Policy(nn.Module):\n",
        "    def __init__(self, s_size, a_size, h_size):\n",
        "        super(Policy, self).__init__()\n",
        "        self.fc1 = nn.Linear(s_size, h_size)\n",
        "        self.fc2 = nn.Linear(h_size, a_size)\n",
        "\n",
        "    def forward(self, x):\n",
        "        x = F.relu(self.fc1(x))\n",
        "        x = self.fc2(x)\n",
        "        return F.softmax(x, dim=1)\n",
        "\n",
        "    def act(self, state):\n",
        "        state = torch.from_numpy(state).float().unsqueeze(0).to(device)\n",
        "        # probs = self.forward(state).cpu()\n",
        "        probs = self.forward(state)\n",
        "        m = Categorical(probs)\n",
        "        # action = torch.argmax(probs)\n",
        "        action = m.sample()\n",
        "        return action.item(), m.log_prob(action)"
      ],
      "metadata": {
        "id": "PgkiL_c-mbnw"
      },
      "execution_count": 8,
      "outputs": []
    },
    {
      "cell_type": "markdown",
      "source": [
        "### Let's build the Reinforce Training Algorithm\n",
        "This is the Reinforce algorithm pseudocode:\n",
        "\n",
        "<img src=\"https://huggingface.co/datasets/huggingface-deep-rl-course/course-images/resolve/main/en/unit6/pg_pseudocode.png\" alt=\"Policy gradient pseudocode\"/>"
      ],
      "metadata": {
        "id": "H7JKh6sCrEkJ"
      }
    },
    {
      "cell_type": "markdown",
      "source": [
        "- When we calculate the return Gt (line 6) we see that we calculate the sum of discounted rewards **starting at timestep t**.\n",
        "\n",
        "- Why? Because our policy should only **reinforce actions on the basis of the consequences**: so rewards obtained before taking an action are useless (since they were not because of the action), **only the ones that come after the action matters**.\n",
        "\n",
        "- Before coding this you should read this section [don't let the past distract you](https://spinningup.openai.com/en/latest/spinningup/rl_intro3.html#don-t-let-the-past-distract-you) that explains why we use reward-to-go policy gradient.\n",
        "\n",
        "We use an interesting technique coded by [Chris1nexus](https://github.com/Chris1nexus) to **compute the return at each timestep efficiently**. The comments explained the procedure. Don't hesitate also [to check the PR explanation](https://github.com/huggingface/deep-rl-class/pull/95)\n",
        "But overall the idea is to **compute the return at each timestep efficiently**."
      ],
      "metadata": {
        "id": "ZXEE-TTYrFg1"
      }
    },
    {
      "cell_type": "markdown",
      "source": [
        "The second question you may ask is **why do we minimize the loss**? You talked about Gradient Ascent not Gradient Descent?\n",
        "\n",
        "- We want to maximize our utility function $J(\\theta)$ but in PyTorch like in Tensorflow it's better to **minimize an objective function.**\n",
        "    - So let's say we want to reinforce action 3 at a certain timestep. Before training this action P is 0.25.\n",
        "    - So we want to modify $\\theta$ such that $\\pi_\\theta(a_3|s; \\theta) > 0.25$\n",
        "    - Because all P must sum to 1, max $\\pi_\\theta(a_3|s; \\theta)$ will **minimize other action probability.**\n",
        "    - So we should tell PyTorch **to min $1 - \\pi_\\theta(a_3|s; \\theta)$.**\n",
        "    - This loss function approaches 0 as $\\pi_\\theta(a_3|s; \\theta)$ nears 1.\n",
        "    - So we are encouraging the gradient to max $\\pi_\\theta(a_3|s; \\theta)$"
      ],
      "metadata": {
        "id": "eO3Gn8VHrI95"
      }
    },
    {
      "cell_type": "code",
      "source": [
        "def reinforce(policy, optimizer, n_training_episodes, max_t, gamma, print_every):\n",
        "    # Help us to calculate the score during the training\n",
        "    scores_deque = deque(maxlen=100)\n",
        "    scores = []\n",
        "    # Line 3 of pseudocode\n",
        "    for i_episode in range(1, n_training_episodes+1):\n",
        "        saved_log_probs = []\n",
        "        rewards = []\n",
        "        state = env.reset()\n",
        "        # Line 4 of pseudocode\n",
        "        for t in range(max_t):\n",
        "            action, log_prob = policy.act(state)\n",
        "            saved_log_probs.append(log_prob)\n",
        "            state, reward, done, _ = env.step(action)\n",
        "            rewards.append(reward)\n",
        "            if done:\n",
        "                break\n",
        "        scores_deque.append(sum(rewards))\n",
        "        scores.append(sum(rewards))\n",
        "\n",
        "        # Line 6 of pseudocode: calculate the return\n",
        "        returns = deque(maxlen=max_t)\n",
        "        n_steps = len(rewards)\n",
        "        # Compute the discounted returns at each timestep,\n",
        "        # as\n",
        "        #      the sum of the gamma-discounted return at time t (G_t) + the reward at time t\n",
        "        #\n",
        "        # In O(N) time, where N is the number of time steps\n",
        "        # (this definition of the discounted return G_t follows the definition of this quantity\n",
        "        # shown at page 44 of Sutton&Barto 2017 2nd draft)\n",
        "        # G_t = r_(t+1) + r_(t+2) + ...\n",
        "\n",
        "        # Given this formulation, the returns at each timestep t can be computed\n",
        "        # by re-using the computed future returns G_(t+1) to compute the current return G_t\n",
        "        # G_t = r_(t+1) + gamma*G_(t+1)\n",
        "        # G_(t-1) = r_t + gamma* G_t\n",
        "        # (this follows a dynamic programming approach, with which we memorize solutions in order\n",
        "        # to avoid computing them multiple times)\n",
        "\n",
        "        # This is correct since the above is equivalent to (see also page 46 of Sutton&Barto 2017 2nd draft)\n",
        "        # G_(t-1) = r_t + gamma*r_(t+1) + gamma*gamma*r_(t+2) + ...\n",
        "\n",
        "\n",
        "        ## Given the above, we calculate the returns at timestep t as:\n",
        "        #               gamma[t] * return[t] + reward[t]\n",
        "        #\n",
        "        ## We compute this starting from the last timestep to the first, in order\n",
        "        ## to employ the formula presented above and avoid redundant computations that would be needed\n",
        "        ## if we were to do it from first to last.\n",
        "\n",
        "        ## Hence, the queue \"returns\" will hold the returns in chronological order, from t=0 to t=n_steps\n",
        "        ## thanks to the appendleft() function which allows to append to the position 0 in constant time O(1)\n",
        "        ## a normal python list would instead require O(N) to do this.\n",
        "        for t in range(n_steps)[::-1]:\n",
        "            disc_return_t = (returns[0] if len(returns)>0 else 0)\n",
        "            returns.appendleft( gamma*disc_return_t + rewards[t]   )\n",
        "\n",
        "        ## standardization of the returns is employed to make training more stable\n",
        "        eps = np.finfo(np.float32).eps.item()\n",
        "        ## eps is the smallest representable float, which is\n",
        "        # added to the standard deviation of the returns to avoid numerical instabilities\n",
        "        returns = torch.tensor(returns)\n",
        "        returns = (returns - returns.mean()) / (returns.std() + eps)\n",
        "\n",
        "        # Line 7:\n",
        "        policy_loss = []\n",
        "        for log_prob, disc_return in zip(saved_log_probs, returns):\n",
        "            policy_loss.append(-log_prob * disc_return)\n",
        "        policy_loss = torch.cat(policy_loss).sum()\n",
        "\n",
        "        # Line 8: PyTorch prefers gradient descent\n",
        "        optimizer.zero_grad()\n",
        "        policy_loss.backward()\n",
        "        optimizer.step()\n",
        "\n",
        "        if i_episode % print_every == 0:\n",
        "            print('Episode {}\\tAverage Score: {:.2f}'.format(i_episode, np.mean(scores_deque)))\n",
        "\n",
        "    return scores"
      ],
      "metadata": {
        "id": "SfP51weWpdzo"
      },
      "execution_count": 9,
      "outputs": []
    },
    {
      "cell_type": "code",
      "source": [
        "cartpole_hyperparameters = {\n",
        "    \"h_size\": 16,\n",
        "    \"n_training_episodes\": 1000,\n",
        "    \"n_evaluation_episodes\": 10,\n",
        "    \"max_t\": 1000,\n",
        "    \"gamma\": 1.0,\n",
        "    \"lr\": 1e-2,\n",
        "    \"env_id\": env_id,\n",
        "    \"state_space\": s_size,\n",
        "    \"action_space\": a_size,\n",
        "}"
      ],
      "metadata": {
        "id": "r9bXNBo2vTmC"
      },
      "execution_count": 10,
      "outputs": []
    },
    {
      "cell_type": "code",
      "source": [
        "# Create policy and place it to the device\n",
        "cartpole_policy = Policy(cartpole_hyperparameters[\"state_space\"], cartpole_hyperparameters[\"action_space\"], cartpole_hyperparameters[\"h_size\"]).to(device)\n",
        "cartpole_optimizer = optim.Adam(cartpole_policy.parameters(), lr=cartpole_hyperparameters[\"lr\"])"
      ],
      "metadata": {
        "id": "6nQXaP3x26CT"
      },
      "execution_count": 12,
      "outputs": []
    },
    {
      "cell_type": "code",
      "source": [
        "scores = reinforce(cartpole_policy,\n",
        "                   cartpole_optimizer,\n",
        "                   cartpole_hyperparameters[\"n_training_episodes\"],\n",
        "                   cartpole_hyperparameters[\"max_t\"],\n",
        "                   cartpole_hyperparameters[\"gamma\"],\n",
        "                   100)"
      ],
      "metadata": {
        "colab": {
          "base_uri": "https://localhost:8080/"
        },
        "id": "sg70zV7424sd",
        "outputId": "d43fa0ba-22df-4323-a987-30a779b8c5d1"
      },
      "execution_count": 13,
      "outputs": [
        {
          "output_type": "stream",
          "name": "stderr",
          "text": [
            "/usr/local/lib/python3.11/dist-packages/gym/utils/passive_env_checker.py:241: DeprecationWarning: `np.bool8` is a deprecated alias for `np.bool_`.  (Deprecated NumPy 1.24)\n",
            "  if not isinstance(terminated, (bool, np.bool8)):\n"
          ]
        },
        {
          "output_type": "stream",
          "name": "stdout",
          "text": [
            "Episode 100\tAverage Score: 19.14\n",
            "Episode 200\tAverage Score: 55.95\n",
            "Episode 300\tAverage Score: 201.39\n",
            "Episode 400\tAverage Score: 472.22\n",
            "Episode 500\tAverage Score: 429.68\n",
            "Episode 600\tAverage Score: 496.65\n",
            "Episode 700\tAverage Score: 479.77\n",
            "Episode 800\tAverage Score: 499.31\n",
            "Episode 900\tAverage Score: 500.00\n",
            "Episode 1000\tAverage Score: 489.23\n"
          ]
        }
      ]
    },
    {
      "cell_type": "code",
      "source": [
        "def evaluate_agent(env, max_steps, n_eval_episodes, policy):\n",
        "  \"\"\"\n",
        "  Evaluate the agent for ``n_eval_episodes`` episodes and returns average reward and std of reward.\n",
        "  :param env: The evaluation environment\n",
        "  :param n_eval_episodes: Number of episode to evaluate the agent\n",
        "  :param policy: The Reinforce agent\n",
        "  \"\"\"\n",
        "  episode_rewards = []\n",
        "  for episode in range(n_eval_episodes):\n",
        "    state = env.reset()\n",
        "    step = 0\n",
        "    done = False\n",
        "    total_rewards_ep = 0\n",
        "\n",
        "    for step in range(max_steps):\n",
        "      action, _ = policy.act(state)\n",
        "      new_state, reward, done, info = env.step(action)\n",
        "      total_rewards_ep += reward\n",
        "\n",
        "      if done:\n",
        "        break\n",
        "      state = new_state\n",
        "    episode_rewards.append(total_rewards_ep)\n",
        "  mean_reward = np.mean(episode_rewards)\n",
        "  std_reward = np.std(episode_rewards)\n",
        "\n",
        "  return mean_reward, std_reward"
      ],
      "metadata": {
        "id": "iSPaNv43vivD"
      },
      "execution_count": 14,
      "outputs": []
    },
    {
      "cell_type": "code",
      "source": [
        "evaluate_agent(eval_env,\n",
        "               cartpole_hyperparameters[\"max_t\"],\n",
        "               cartpole_hyperparameters[\"n_evaluation_episodes\"],\n",
        "               cartpole_policy)"
      ],
      "metadata": {
        "id": "ktZGzk_SvkSJ",
        "colab": {
          "base_uri": "https://localhost:8080/"
        },
        "outputId": "c58f6dd9-b5fa-45de-d297-1a4e5ff95f63"
      },
      "execution_count": 17,
      "outputs": [
        {
          "output_type": "execute_result",
          "data": {
            "text/plain": [
              "(500.0, 0.0)"
            ]
          },
          "metadata": {},
          "execution_count": 17
        }
      ]
    },
    {
      "cell_type": "markdown",
      "source": [
        "# **Second agent: PixelCopter**"
      ],
      "metadata": {
        "id": "5w6gagtF43HK"
      }
    },
    {
      "cell_type": "code",
      "source": [
        "env_id = \"Pixelcopter-PLE-v0\"\n",
        "env = gym.make(env_id)\n",
        "eval_env = gym.make(env_id)\n",
        "s_size = env.observation_space.shape[0]\n",
        "a_size = env.action_space.n"
      ],
      "metadata": {
        "colab": {
          "base_uri": "https://localhost:8080/"
        },
        "id": "yaCYz-AD42lZ",
        "outputId": "51a05ad2-dcb8-4add-a069-3b4456370ce5"
      },
      "execution_count": 6,
      "outputs": [
        {
          "output_type": "stream",
          "name": "stdout",
          "text": [
            "couldn't import doomish\n",
            "Couldn't import doom\n"
          ]
        },
        {
          "output_type": "stream",
          "name": "stderr",
          "text": [
            "/usr/local/lib/python3.11/dist-packages/pygame/pkgdata.py:25: DeprecationWarning: pkg_resources is deprecated as an API. See https://setuptools.pypa.io/en/latest/pkg_resources.html\n",
            "  from pkg_resources import resource_stream, resource_exists\n",
            "/usr/local/lib/python3.11/dist-packages/pkg_resources/__init__.py:3154: DeprecationWarning: Deprecated call to `pkg_resources.declare_namespace('google')`.\n",
            "Implementing implicit namespace packages (as specified in PEP 420) is preferred to `pkg_resources.declare_namespace`. See https://setuptools.pypa.io/en/latest/references/keywords.html#keyword-namespace-packages\n",
            "  declare_namespace(pkg)\n",
            "/usr/local/lib/python3.11/dist-packages/pkg_resources/__init__.py:3154: DeprecationWarning: Deprecated call to `pkg_resources.declare_namespace('google.cloud')`.\n",
            "Implementing implicit namespace packages (as specified in PEP 420) is preferred to `pkg_resources.declare_namespace`. See https://setuptools.pypa.io/en/latest/references/keywords.html#keyword-namespace-packages\n",
            "  declare_namespace(pkg)\n",
            "/usr/local/lib/python3.11/dist-packages/pkg_resources/__init__.py:3154: DeprecationWarning: Deprecated call to `pkg_resources.declare_namespace('sphinxcontrib')`.\n",
            "Implementing implicit namespace packages (as specified in PEP 420) is preferred to `pkg_resources.declare_namespace`. See https://setuptools.pypa.io/en/latest/references/keywords.html#keyword-namespace-packages\n",
            "  declare_namespace(pkg)\n",
            "/usr/local/lib/python3.11/dist-packages/gym/core.py:317: DeprecationWarning: \u001b[33mWARN: Initializing wrapper in old step API which returns one bool instead of two. It is recommended to set `new_step_api=True` to use new step API. This will be the default behaviour in future.\u001b[0m\n",
            "  deprecation(\n",
            "/usr/local/lib/python3.11/dist-packages/gym/wrappers/step_api_compatibility.py:39: DeprecationWarning: \u001b[33mWARN: Initializing environment in old step API which returns one bool instead of two. It is recommended to set `new_step_api=True` to use new step API. This will be the default behaviour in future.\u001b[0m\n",
            "  deprecation(\n"
          ]
        }
      ]
    },
    {
      "cell_type": "code",
      "source": [
        "print(\"_____OBSERVATION SPACE_____ \\n\")\n",
        "print(\"The State Space is: \", s_size)\n",
        "print(\"Sample observation\", env.observation_space.sample()) # Get a random observation\n",
        "\n",
        "print(\"\\n _____ACTION SPACE_____ \\n\")\n",
        "print(\"The Action Space is: \", a_size)\n",
        "print(\"Action Space Sample\", env.action_space.sample()) # Take a random action"
      ],
      "metadata": {
        "colab": {
          "base_uri": "https://localhost:8080/"
        },
        "id": "-3yw8SSY5RtX",
        "outputId": "1e1a13f9-505d-4844-f5b7-a41d9ee92f00"
      },
      "execution_count": 7,
      "outputs": [
        {
          "output_type": "stream",
          "name": "stdout",
          "text": [
            "_____OBSERVATION SPACE_____ \n",
            "\n",
            "The State Space is:  7\n",
            "Sample observation [ 1.1201957  -0.24353242  1.351933   -0.6634255   0.73635936  0.33479714\n",
            "  0.21228398]\n",
            "\n",
            " _____ACTION SPACE_____ \n",
            "\n",
            "The Action Space is:  2\n",
            "Action Space Sample 0\n"
          ]
        }
      ]
    },
    {
      "cell_type": "markdown",
      "source": [
        "The observation space (7):\n",
        "- player y position\n",
        "- player velocity\n",
        "- player distance to floor\n",
        "- player distance to ceiling\n",
        "- next block x distance to player\n",
        "- next blocks top y location\n",
        "- next blocks bottom y location\n",
        "\n",
        "The action space(2):\n",
        "- Up (press accelerator)\n",
        "- Do nothing (don't press accelerator)\n",
        "\n",
        "The reward function:\n",
        "- For each vertical block it passes through it gains a positive reward of +1. Each time a terminal state reached it receives a negative reward of -1."
      ],
      "metadata": {
        "id": "qrX7HYD25Yay"
      }
    },
    {
      "cell_type": "markdown",
      "source": [
        "### Define the new Policy 🧠\n",
        "- We need to have a deeper neural network since the environment is more complex"
      ],
      "metadata": {
        "id": "SLv3_BRi5zXk"
      }
    },
    {
      "cell_type": "code",
      "source": [
        "class Policy(nn.Module):\n",
        "    def __init__(self, s_size, a_size, h_size):\n",
        "        super(Policy, self).__init__()\n",
        "        self.fc1 = nn.Linear(s_size, h_size)\n",
        "        self.fc2 = nn.Linear(h_size, h_size*2)\n",
        "        self.fc3 = nn.Linear(h_size*2, a_size)\n",
        "\n",
        "    def forward(self, x):\n",
        "        x = F.relu(self.fc1(x))\n",
        "        x = F.relu(self.fc2(x))\n",
        "        x = self.fc3(x)\n",
        "        return F.softmax(x, dim=1)\n",
        "\n",
        "    def act(self, state, deterministic=False):\n",
        "        state = torch.from_numpy(state).float().unsqueeze(0).to(device)\n",
        "        probs = self.forward(state)\n",
        "        if not deterministic:\n",
        "            m = Categorical(probs)\n",
        "            action = m.sample()\n",
        "            return action.item(), m.log_prob(action)\n",
        "        else:\n",
        "          m = Categorical(probs)\n",
        "          action = torch.argmax(probs)\n",
        "          return action.item(), m.log_prob(action)"
      ],
      "metadata": {
        "id": "gyNAokkK5T5B"
      },
      "execution_count": 8,
      "outputs": []
    },
    {
      "cell_type": "code",
      "source": [
        "def reinforce(policy, optimizer, n_training_episodes, max_t, gamma, print_every):\n",
        "    # Help us to calculate the score during the training\n",
        "    scores_deque = deque(maxlen=100)\n",
        "    scores = []\n",
        "    # Line 3 of pseudocode\n",
        "    for i_episode in range(1, n_training_episodes+1):\n",
        "        saved_log_probs = []\n",
        "        rewards = []\n",
        "        state = env.reset()\n",
        "        # Line 4 of pseudocode\n",
        "        for t in range(max_t):\n",
        "            action, log_prob = policy.act(state)\n",
        "            saved_log_probs.append(log_prob)\n",
        "            state, reward, done, _ = env.step(action)\n",
        "            rewards.append(reward)\n",
        "            if done:\n",
        "                break\n",
        "        scores_deque.append(sum(rewards))\n",
        "        scores.append(sum(rewards))\n",
        "\n",
        "        # Line 6 of pseudocode: calculate the return\n",
        "        returns = deque(maxlen=max_t)\n",
        "        n_steps = len(rewards)\n",
        "\n",
        "        ## a normal python list would instead require O(N) to do this.\n",
        "        for t in range(n_steps)[::-1]:\n",
        "            disc_return_t = (returns[0] if len(returns)>0 else 0)\n",
        "            returns.appendleft( gamma*disc_return_t + rewards[t]   )\n",
        "\n",
        "        ## standardization of the returns is employed to make training more stable\n",
        "        eps = np.finfo(np.float32).eps.item()\n",
        "        ## eps is the smallest representable float, which is\n",
        "        # added to the standard deviation of the returns to avoid numerical instabilities\n",
        "        returns = torch.tensor(returns)\n",
        "        returns = (returns - returns.mean()) / (returns.std() + eps)\n",
        "\n",
        "        # Line 7:\n",
        "        policy_loss = []\n",
        "        for log_prob, disc_return in zip(saved_log_probs, returns):\n",
        "            policy_loss.append(-log_prob * disc_return)\n",
        "        policy_loss = torch.cat(policy_loss).sum()\n",
        "\n",
        "        # Line 8: PyTorch prefers gradient descent\n",
        "        optimizer.zero_grad()\n",
        "        policy_loss.backward()\n",
        "        optimizer.step()\n",
        "\n",
        "        if i_episode % print_every == 0:\n",
        "            print('Episode {}\\tAverage Score: {:.2f}'.format(i_episode, np.mean(scores_deque)))\n",
        "\n",
        "    return scores"
      ],
      "metadata": {
        "id": "RyFl1Xw66Ma6"
      },
      "execution_count": 9,
      "outputs": []
    },
    {
      "cell_type": "code",
      "source": [
        "pixelcopter_hyperparameters = {\n",
        "    \"h_size\": 64,\n",
        "    \"n_training_episodes\": 10000,\n",
        "    \"n_evaluation_episodes\": 10,\n",
        "    \"max_t\": 10000,\n",
        "    \"gamma\": 0.99,\n",
        "    \"lr\": 1e-4,\n",
        "    \"env_id\": env_id,\n",
        "    \"state_space\": s_size,\n",
        "    \"action_space\": a_size,\n",
        "}"
      ],
      "metadata": {
        "id": "sECw5KOL6G2d"
      },
      "execution_count": 10,
      "outputs": []
    },
    {
      "cell_type": "code",
      "source": [
        "# Create policy and place it to the device\n",
        "# torch.manual_seed(50)\n",
        "pixelcopter_policy = Policy(pixelcopter_hyperparameters[\"state_space\"], pixelcopter_hyperparameters[\"action_space\"], pixelcopter_hyperparameters[\"h_size\"]).to(device)\n",
        "pixelcopter_optimizer = optim.Adam(pixelcopter_policy.parameters(), lr=pixelcopter_hyperparameters[\"lr\"])"
      ],
      "metadata": {
        "id": "k0ECAXek6HOJ"
      },
      "execution_count": 11,
      "outputs": []
    },
    {
      "cell_type": "code",
      "source": [
        "scores = reinforce(pixelcopter_policy,\n",
        "                   pixelcopter_optimizer,\n",
        "                   pixelcopter_hyperparameters[\"n_training_episodes\"],\n",
        "                   pixelcopter_hyperparameters[\"max_t\"],\n",
        "                   pixelcopter_hyperparameters[\"gamma\"],\n",
        "                   1000)"
      ],
      "metadata": {
        "colab": {
          "base_uri": "https://localhost:8080/"
        },
        "id": "ItPlgUgf_27u",
        "outputId": "99bb924f-d246-46d1-b183-a7ff3b1b3165"
      },
      "execution_count": 12,
      "outputs": [
        {
          "metadata": {
            "tags": null
          },
          "name": "stderr",
          "output_type": "stream",
          "text": [
            "/usr/local/lib/python3.11/dist-packages/ipykernel/ipkernel.py:283: DeprecationWarning: `should_run_async` will not call `transform_cell` automatically in the future. Please pass the result to `transformed_cell` argument and any exception that happen during thetransform in `preprocessing_exc_tuple` in IPython 7.17 and above.\n",
            "  and should_run_async(code)\n",
            "/usr/local/lib/python3.11/dist-packages/gym/utils/passive_env_checker.py:174: UserWarning: \u001b[33mWARN: Future gym versions will require that `Env.reset` can be passed a `seed` instead of using `Env.seed` for resetting the environment random number generator.\u001b[0m\n",
            "  logger.warn(\n",
            "/usr/local/lib/python3.11/dist-packages/gym/utils/passive_env_checker.py:190: UserWarning: \u001b[33mWARN: Future gym versions will require that `Env.reset` can be passed `return_info` to return information from the environment resetting.\u001b[0m\n",
            "  logger.warn(\n",
            "/usr/local/lib/python3.11/dist-packages/gym/utils/passive_env_checker.py:195: UserWarning: \u001b[33mWARN: Future gym versions will require that `Env.reset` can be passed `options` to allow the environment initialisation to be passed additional information.\u001b[0m\n",
            "  logger.warn(\n",
            "/usr/local/lib/python3.11/dist-packages/gym/utils/passive_env_checker.py:141: UserWarning: \u001b[33mWARN: The obs returned by the `reset()` method was expecting numpy array dtype to be float32, actual type: float64\u001b[0m\n",
            "  logger.warn(\n",
            "/usr/local/lib/python3.11/dist-packages/gym/utils/passive_env_checker.py:165: UserWarning: \u001b[33mWARN: The obs returned by the `reset()` method is not within the observation space.\u001b[0m\n",
            "  logger.warn(f\"{pre} is not within the observation space.\")\n",
            "/usr/local/lib/python3.11/dist-packages/gym/utils/passive_env_checker.py:227: DeprecationWarning: \u001b[33mWARN: Core environment is written in old step API which returns one bool instead of two. It is recommended to rewrite the environment with new step API. \u001b[0m\n",
            "  logger.deprecation(\n",
            "/usr/local/lib/python3.11/dist-packages/gym/utils/passive_env_checker.py:233: DeprecationWarning: `np.bool8` is a deprecated alias for `np.bool_`.  (Deprecated NumPy 1.24)\n",
            "  if not isinstance(done, (bool, np.bool8)):\n",
            "/usr/local/lib/python3.11/dist-packages/gym/utils/passive_env_checker.py:141: UserWarning: \u001b[33mWARN: The obs returned by the `step()` method was expecting numpy array dtype to be float32, actual type: float64\u001b[0m\n",
            "  logger.warn(\n",
            "/usr/local/lib/python3.11/dist-packages/gym/utils/passive_env_checker.py:165: UserWarning: \u001b[33mWARN: The obs returned by the `step()` method is not within the observation space.\u001b[0m\n",
            "  logger.warn(f\"{pre} is not within the observation space.\")\n"
          ]
        },
        {
          "output_type": "stream",
          "name": "stdout",
          "text": [
            "Episode 1000\tAverage Score: 4.53\n",
            "Episode 2000\tAverage Score: 5.54\n",
            "Episode 3000\tAverage Score: 7.25\n",
            "Episode 4000\tAverage Score: 5.91\n",
            "Episode 5000\tAverage Score: 7.84\n",
            "Episode 6000\tAverage Score: 10.60\n",
            "Episode 7000\tAverage Score: 14.22\n",
            "Episode 8000\tAverage Score: 16.30\n",
            "Episode 9000\tAverage Score: 15.58\n",
            "Episode 10000\tAverage Score: 19.43\n"
          ]
        }
      ]
    },
    {
      "cell_type": "code",
      "source": [
        "def evaluate_agent(env, max_steps, n_eval_episodes, policy):\n",
        "  \"\"\"\n",
        "  Evaluate the agent for ``n_eval_episodes`` episodes and returns average reward and std of reward.\n",
        "  :param env: The evaluation environment\n",
        "  :param n_eval_episodes: Number of episode to evaluate the agent\n",
        "  :param policy: The Reinforce agent\n",
        "  \"\"\"\n",
        "  episode_rewards = []\n",
        "  for episode in range(n_eval_episodes):\n",
        "    state = env.reset()\n",
        "    step = 0\n",
        "    done = False\n",
        "    total_rewards_ep = 0\n",
        "\n",
        "    for step in range(max_steps):\n",
        "      action, _ = policy.act(state, True)\n",
        "      new_state, reward, done, info = env.step(action)\n",
        "      total_rewards_ep += reward\n",
        "\n",
        "      if done:\n",
        "        break\n",
        "      state = new_state\n",
        "    episode_rewards.append(total_rewards_ep)\n",
        "  mean_reward = np.mean(episode_rewards)\n",
        "  std_reward = np.std(episode_rewards)\n",
        "\n",
        "  return mean_reward, std_reward"
      ],
      "metadata": {
        "id": "FWFmTJrG_4RC"
      },
      "execution_count": 13,
      "outputs": []
    },
    {
      "cell_type": "code",
      "source": [
        "evaluate_agent(eval_env,\n",
        "               pixelcopter_hyperparameters[\"max_t\"],\n",
        "               pixelcopter_hyperparameters[\"n_evaluation_episodes\"],\n",
        "               pixelcopter_policy)"
      ],
      "metadata": {
        "colab": {
          "base_uri": "https://localhost:8080/"
        },
        "id": "SCWfMWIGAC7s",
        "outputId": "d8fa5d35-c422-43ad-cc6a-6562787a5f69"
      },
      "execution_count": 17,
      "outputs": [
        {
          "output_type": "execute_result",
          "data": {
            "text/plain": [
              "(27.2, 23.202586062764638)"
            ]
          },
          "metadata": {},
          "execution_count": 17
        }
      ]
    },
    {
      "cell_type": "code",
      "source": [
        "from IPython.display import HTML\n",
        "from base64 import b64encode\n",
        "import imageio\n",
        "import os\n",
        "\n",
        "def evaluate_agent_with_video(env, max_steps, n_eval_episodes, policy, video_path=\"evaluation.mp4\"):\n",
        "    \"\"\"\n",
        "    Evaluate the agent for `n_eval_episodes` and save the video.\n",
        "    :param env: The evaluation environment\n",
        "    :param max_steps: Maximum steps per episode\n",
        "    :param n_eval_episodes: Number of episodes to evaluate\n",
        "    :param policy: The agent policy\n",
        "    :param video_path: Path to save the video\n",
        "    \"\"\"\n",
        "    episode_rewards = []\n",
        "    frames = []\n",
        "\n",
        "    for episode in range(n_eval_episodes):\n",
        "        state = env.reset()\n",
        "        done = False\n",
        "        total_rewards_ep = 0\n",
        "\n",
        "        for step in range(max_steps):\n",
        "            # Render and collect frames\n",
        "            frame = env.render(mode=\"rgb_array\")\n",
        "            frames.append(frame)\n",
        "\n",
        "            # Get action from policy\n",
        "            action, _ = policy.act(state, True)\n",
        "            state, reward, done, _ = env.step(action)\n",
        "            total_rewards_ep += reward\n",
        "\n",
        "            if done:\n",
        "                break\n",
        "\n",
        "        episode_rewards.append(total_rewards_ep)\n",
        "\n",
        "    # Save frames as video\n",
        "    with imageio.get_writer(video_path, fps=30) as video:\n",
        "        for frame in frames:\n",
        "            video.append_data(frame)\n",
        "\n",
        "    mean_reward = np.mean(episode_rewards)\n",
        "    std_reward = np.std(episode_rewards)\n",
        "\n",
        "    return mean_reward, std_reward, video_path\n",
        "\n",
        "def display_video(video_path):\n",
        "    \"\"\"\n",
        "    Display the saved video in Colab.\n",
        "    \"\"\"\n",
        "    if os.path.exists(video_path):\n",
        "        video_encoded = b64encode(open(video_path, \"rb\").read()).decode(\"ascii\")\n",
        "        return HTML(f\"\"\"\n",
        "        <video width=\"640\" height=\"480\" controls>\n",
        "            <source src=\"data:video/mp4;base64,{video_encoded}\" type=\"video/mp4\">\n",
        "        </video>\n",
        "        \"\"\")\n",
        "    else:\n",
        "        return \"Video not found!\"\n",
        "\n",
        "# mean_reward, std_reward, video_path = evaluate_agent_with_video(\n",
        "#     env,\n",
        "#     pixelcopter_hyperparameters[\"max_t\"],\n",
        "#     pixelcopter_hyperparameters[\"n_evaluation_episodes\"],\n",
        "#     pixelcopter_policy,\n",
        "#     video_path=\"pixelcopter_evaluation.mp4\"\n",
        "# )\n",
        "\n",
        "evaluate_agent_with_video(eval_env,\n",
        "               pixelcopter_hyperparameters[\"max_t\"],\n",
        "               pixelcopter_hyperparameters[\"n_evaluation_episodes\"],\n",
        "               pixelcopter_policy,\n",
        "               video_path=\"pixelcopter_evaluation.mp4\")\n",
        "\n",
        "\n",
        "display_video(\"pixelcopter_evaluation.mp4\")"
      ],
      "metadata": {
        "colab": {
          "base_uri": "https://localhost:8080/",
          "height": 610
        },
        "id": "avcCLQASB1wA",
        "outputId": "aca44396-ff34-450b-ffd7-3d2f498320a1"
      },
      "execution_count": 19,
      "outputs": [
        {
          "output_type": "stream",
          "name": "stderr",
          "text": [
            "/usr/local/lib/python3.11/dist-packages/gym/core.py:43: DeprecationWarning: \u001b[33mWARN: The argument mode in render method is deprecated; use render_mode during environment initialization instead.\n",
            "See here for more information: https://www.gymlibrary.ml/content/api/\u001b[0m\n",
            "  deprecation(\n",
            "/usr/local/lib/python3.11/dist-packages/gym/utils/passive_env_checker.py:280: UserWarning: \u001b[33mWARN: No render modes was declared in the environment (env.metadata['render_modes'] is None or not defined), you may have trouble when calling `.render()`.\u001b[0m\n",
            "  logger.warn(\n"
          ]
        },
        {
          "output_type": "execute_result",
          "data": {
            "text/plain": [
              "<IPython.core.display.HTML object>"
            ],
            "text/html": [
              "\n",
              "        <video width=\"640\" height=\"480\" controls>\n",
              "            <source src=\"data:video/mp4;base64,AAAAIGZ0eXBpc29tAAACAGlzb21pc28yYXZjMW1wNDEAAAAIZnJlZQABfS1tZGF0AAACrgYF//+q3EXpvebZSLeWLNgg2SPu73gyNjQgLSBjb3JlIDE2NCByMzE5MSA0NjEzYWMzIC0gSC4yNjQvTVBFRy00IEFWQyBjb2RlYyAtIENvcHlsZWZ0IDIwMDMtMjAyNCAtIGh0dHA6Ly93d3cudmlkZW9sYW4ub3JnL3gyNjQuaHRtbCAtIG9wdGlvbnM6IGNhYmFjPTEgcmVmPTMgZGVibG9jaz0xOjA6MCBhbmFseXNlPTB4MzoweDExMyBtZT1oZXggc3VibWU9NyBwc3k9MSBwc3lfcmQ9MS4wMDowLjAwIG1peGVkX3JlZj0xIG1lX3JhbmdlPTE2IGNocm9tYV9tZT0xIHRyZWxsaXM9MSA4eDhkY3Q9MSBjcW09MCBkZWFkem9uZT0yMSwxMSBmYXN0X3Bza2lwPTEgY2hyb21hX3FwX29mZnNldD0tMiB0aHJlYWRzPTEgbG9va2FoZWFkX3RocmVhZHM9MSBzbGljZWRfdGhyZWFkcz0wIG5yPTAgZGVjaW1hdGU9MSBpbnRlcmxhY2VkPTAgYmx1cmF5X2NvbXBhdD0wIGNvbnN0cmFpbmVkX2ludHJhPTAgYmZyYW1lcz0zIGJfcHlyYW1pZD0yIGJfYWRhcHQ9MSBiX2JpYXM9MCBkaXJlY3Q9MSB3ZWlnaHRiPTEgb3Blbl9nb3A9MCB3ZWlnaHRwPTIga2V5aW50PTI1MCBrZXlpbnRfbWluPTI1IHNjZW5lY3V0PTQwIGludHJhX3JlZnJlc2g9MCByY19sb29rYWhlYWQ9NDAgcmM9Y3JmIG1idHJlZT0xIGNyZj0yMy4wIHFjb21wPTAuNjAgcXBtaW49MCBxcG1heD02OSBxcHN0ZXA9NCBpcF9yYXRpbz0xLjQwIGFxPTE6MS4wMACAAAABMmWIhAAx/8+9c9N+dlB6UAfKIW9xpEgnvVhDZ/ElrVCj7PQhR7Llidi+rLfbE/vR/feBnr2VXo8vKA4mDidovpozF7OaORylqDNuuqPY5hXrM3K+hoMSvab5yAJBS8wh5o5y2l7bPkRKXsz8F9dZGVrVny5/Jm1N/i1Leikj5JF97noyxC62DmosKYMnBewvcxB9zITyoFELrb/DXBQabssx/Uowx9mYH6g3JpADupO/q5+EDp8RylaZMCLxW16zhd7lZrRgqGFDlWXbLEP+HbTEUUQESTnxIUplBTaPB5KNHr/d6OHnCFcgDqJmZZT0VINCMhRDcX4a5P6WEVqM0omoW0s3a3zcqcqXwgrdNqW4HFj4Aw9YtaujbhfJubOdjjHoEIkxJz9G9S4Tzih+dGE9QQAAASdBmiJsRH/tLAFra8mi7/D/8/Cqvc2hPTHIKq6tGKMIjRMoJxWOfNtmHy3Z2IgIh+9+FguSgZH58xOs4ZnQKUbMMLEK2jmNYt2thPHj6AhlZZ2igM3++A8ZWqLcFvkyFJxm3ONuqjqpZjqXXfF+dlLJ7IyIBAZEZTGvbx1fpBq02cX/+ukzUlpmXySnrECsVmcwwJ5rwYu/24bwhYJIn+Hv5cVVDZ/4KwA2lkAfHzsozLAsgPjgFlPHf5J0d9UqDms+qI5gToXu8WcmX5F4O6fW8ItEyqL3PyGKgKg6XlikY3uXHe9PbeZnnCMfquZqz1WvB/SJkk9pn4H+gtL8poBeRaXVgwd09OdwAf6bmE2a6bC1s4cxKhjbS2Y4KTVLGCjDk0l1SjokAAAACQGeQXkKf/AtEQAAAE5BmkY8IZMphEe60Si3326hqiJPM//8nUXL/7rmXG5IZiOg/5dkYViEjzVnXPwGXbb2jJAZ9c+V277yyjB7y1LtOjN4c2mpeHB0It0xAk0AAAASQZ5kalPHf/Z1njMGBNYUV/GJAAAAGQGeg3RCn/rYvv4gef/v3CWB7UPwa+duGbUAAAAJAZ6FakJf97CdAAAASUGaiUmoQWiZTAivw594DbE3B+aH885wJ4QTNw8ltqEO6J0WEmZUOyKJAxFcZ7E7Wz1EpjFePyMdaUhJ+EkVx4DzCS0rNN0+Z4EAAAASQZ6nRREsd/TcVSpkQqmBOdggAAAAEgGeyGpCH/Dts13x8n9KTxVOgAAAAG1Bms1JqEFsmUwJ/09sQTPeKxkJJK210QT0MXjN3BJaipyR9JboLS5CPgHeGbUDzuYxf+2AV10IqSZfzdLNQgz+Buo3oKQDnSIY5jKj7vzjf/J+k/fhtpk201NRsMBL/Y7JGawl0elzefLfyTNBAAAAFEGe60UVLGf2efcnXhl+amfxZ1N+AAAAEAGfCnRHf/VlMhV2izBaBoQAAAAOAZ8Makv/8zuG4rW0/TEAAABbQZsPSahBbJlMFEz/sUOER9ydzSLtPw/LMuFdAEf90/218jsZWzaYiOkIYwJLZjSiRXAzlu6xEVoeLCPXNAklf/k+SAkai0fcVULFAmaGTtwPBG79QqmRkM1vgQAAABIBny5qS//O9oVQShff/p6H+sEAAABHQZsxSeEKUmUwUs//dwXGoRVG14hVljvsd41/+5Mi5JoiMSUm32BaZM7fk+PNq88R+fPn4xlbtCOx+AqJt4Rnb4jzHpComiAAAAALAZ9Qakv/1QRVIqgAAAGlQYjUgF///vWy3zLLXbcprvETwhctaebItwQBwHleKf5rzTSd/VuHnCGeMzk/FcJiZ//CkSCQAJf3+v99Z5ednYlfeUGVCPV/g1jtOGdsH46k7F5qpWxzB8poDZd6ATkH3Kn0FLI4XAaELZSjeMmDS7/yZ0MOuJyxW5A2enONu2drhQW7hW+aG4s3ykjtVZG7ucPQC4C/Mu6enOyPSPaa72I3PIs1hPcY9bixhbSvr7B6WerdNHyV4fShq+bfhlADL+qH7q2UCj7FS8Co35qCrFg8z6iaRh7fqf7hbQXhe5qtpW3PzLzbjNOauSuGfH8R6a6f2Tt7wCuFjSRBLsfG0yxEhS/Mg73Umr2m36mv9RCZ1NN9S7wuXauvUIFOyjiqbr70x9+uPymKdWb+w/PHawaswT6lgQHmWr/AZ1Ib+FS5/Vsec4MsKU4og4NB5EwQEW5K+9Sc5y8TKc1mdEHKgQBQ4t75mkFacsw78ufkM98gXlba9Yy+44lfqxegxO+BrthPWh/spcjaQ60Si+0b/XgYMjCyMnMFNJ0uzFsjwA87H9tX8QAAAClBm3NJ4Q8mUwILf/0D00P0/9QNfk3R6vdkACMSHUtrmarPggMsZzz/3wAAAc5BiOUBv7HAayW3qMaOdapat3bax3PVHKLxbbUA89e3es7vlKRYj/pGc1/Oke1anGiB7S9qoHGE+wacTcy5a44m6ZHGQ+WXGSpmeJB1i7eTgnffp9lkLxlrXitsu/PKQS8Q4cQNtx7fJBmgM+r9S40DgtSad5+iP/4jKvTVvIbjYvWVBM3FNl/qcUcjZrXLKpYfbOxL/4eeunv/O3bJNjHRXltlILsqj7+FRV1f378vNuhkHsNSz7Js6v+GR5bQwtEgfCoPM0M03HD61cbRWCxx6NyG9MAF3TWazcsEvQI8Yt2tAGcTLdZzxRJtwT+Jg0ScPmFxmu5XTDmjLuinZ9pjP+NGa/xap3U7DytnWT19n/uQfHDXrViFbuG3aLMN7yOw7U6yoFOMPmhQ21UtF4+4BYFLd98bLd0Q0zI/V9b0haPVFaPrw//q/ZjlmmgeiG/BHEH0YpY9TCXOYKxBxmQgHNwHtDLVieLFzERcjKt4ldtVBJgNDDmVzsoe6HOJCL3189j3O6gJ/+Iblcc6PaF903QbKMuBsn/blDCuBYkMzhafJHkq+vKyREj66uo28mFojqlPAuiSVVSu2Xp8HNPCIFsGAaXgDL9/DHgLRpsAAAAgQZu1SeEPJlMCf7rKuDOcylbo+nHyfjQ3XBdMY6UD/98AAAIiQYj1gT+fgSyez4E8tl8p4cX5e1B7ValTP/g2QAEglEWbqPmk5Gvmmw3zwXUQRQ5ur2wSg5r3ZEj9ru+g8cjOKUP7a4ET45edxgFYPGvoRGG0+64JO9JfILUwuT1/FVy2EXGwe5TL1Pid777W2huYlfsbJSlpeztCxR0zCz88Eam8YHZy31XF3SrUJXUXUL7Mf4+kllWhVeC5pW679rdwo8nZ3bRWy4Me98Q63GA6JvtBpbAwYNUqdsuTENDlVc9HYbZOvZkyFbY/Djr6EVIjKuBRwfrN1Xis+wQ6jTh7uJyzL2U80wAhOvFDbIrOyW+/LdojwF4QbY7WjjktJ9nUxRWQi9FdctBs3vF0eXbG5ut8BxhzCq5CHQs3Cgrm6KBV/9Lfp4ZlphyvSoDirF+DCA6KxXrJmClkoju5iMpWBWAeve3spRUNCBIgbdDHyW1nUgBDYjhoj7HdGZZgbaP7PFh7OvE3wRodzvy54AVU9oH/5MKl3+REPh4/hiOZCeT+kJWRsJdAASJvpYEJHmxFVAV8+nTao2t3A9RxvKfUudB+r8vAPhsY5bIocGaHElP7NxCIsj5y6EGRcHKtlDLAgIzqpE5CTzTsN/K2DauCRvrEyy3zoOkcch3TJ9gS01/g37TmuTi86RBPpskHTx+Sk5FUxBp94tbuyYDnrzHzv5p1YGHeMF8tF/GJ9i04dTGa+g94i7hxQNri/M0ESo1uzspxAAAAIkGb+EnhDyZTBRE9/8FTGW81EAsFSqlLvA1TSLursuxi9sEAAAAJAZ4XakJf7uk5AAABlmWIggA/lAGwul8Cb6MZTvoVK9VZZO8Tb1GTTqEwblparRLy19comqP/p781g43dmCldKHiYp3w19rsF1G1EBDRRGZpkMh4Hi0LMe1geohhpkaL7NW9godpd2kf22jF98Bz+ciZWSFLEcDwvYCPcHFQF3+OB9uTS+jC+kRPRve4+Y5wF7fZtFjGcB9/oSk5j6G+etU1Uz7HGs6i0zZlFrbAuvw0vcwiEnTajphWAwrud5y5oSfhLTAOyGxK6mdSFtSW6gccMP+mqkthoBIJAfNfjDVI7v6nO9zaRWeLWIslhWSDirhqXkXBoFtsdk8mu3i30j750zWHTdczeeQr+Va/9T6ABeYKrNp69+Ehb/+H4HaRUyGYcxBTNQDLF8RazN2j0LrrMfv5krpKdhe7ug+Wo1U8M5MYh5bPgwSo92fJrahU6/jcMm0xEVd4nSmwvJe0dBFD54hDoQ7fBVKS30nquKJ6I/yMFQ2suz3NBVouH837LT6Qt1uiK3fp3Y9js3A3g2PQK6bxrX7LbLm/97LL4Dyxz1vgAAABQQZoibFedaB9Xz7RvvYlkhe5VYmLOOMWpJOdhTTSMoc2Tqx6v+cM6BQf5QcDrrFhH1B0gHxN0EeZ5FtAlIoSDVrC5QbmpGkALk5dYqHbpYsEAAAAJAZ5BeQp/8C0QAAACJUGIkMf/fIMjZ6W/wN+hQCrzLWDJ1nNHqahlR2OOXfyxAg+I9C1Gg8AqLCiviRZBZw+SwG8L5+DTgBTguc1npRNFJIVkd36twZMmA7O7aUrsrBohnTF1lkAhCtodU9ORJi1PwGPGCPjGgnHXx6Be51NxEj7GkYORAMBRUUkfYd8YYXrdrDfcTVZnCiMX8NlR/fLNxwNdS0LBlHwXqi0WTLO7tIhooV5c0JG1JJRVUEXrQkIrlG12KIGfTgg32DGIFUdmq2JqCsqcniP4npF+7HdRaFdX00vdJsGix4Go3/PM8vOZLyUWpLVHRdAhJtsSH1DR9mIU+ICMIXeeG6HsbxMK3740662dLgemdWW++VA1/MDcVo9rxpJBkPdxYOWgcPxfLaTkdamhjNKDpQJbU4bnE9KVsvAyrsm6OjuYe1I3FfZ+DL9qhzIbPRllKX7E30LKqdNi/umPTxMJKYvhXtz0HP/xgHmBgNJmqeX7MkyGrrBpmyWU6KK18s/rTTBOkyO+Bu/sZD2tzWQCFUB7ZqGGjled4AaEtTsrOV4Fn6Y4AFGRC6Mh00Gda3w9HQR6JwJuQ2w6JRrynPRx6c6mWZhW0mRdsuDDzwCN5EMWbIOAbQnWvCiwK3VN7ir369Aq+Kaj4QArcs4jGuBFGZFBidE8jrytWtiuzqluT+6z2uLDgKCI+yFuXHn+4sy2Pa+xokT9jmKb3f2Y1Z9xS1cMmj+glrHM/wAAAChBmmdJ4Q8mUwJP7Kb94onx6c1ub1fAuRfFpGCAtWr02xo92490fsyZAAAAEkGehUURPCX/8vtQZ0kQC4AyMAAAAAkBnqR0Qt/wCKgAAAAJAZ6makLf8OWRAAAARkGaq0moQWiZTAiPutDxGj4kKcvxaV//YtKo8na9U0geup+Jq1dkbQ4fErUvR9uf9u1RsK4QTno3nvgw367bXINu59RzPP8AAAASQZ7JRREsJf/y+rS69NHAVFrxAAAAEQGe6HRC3/s4p8Omi3SHJXcwAAAACQGe6mpDH/jxSQAAAHdBmu9JqEFsmUwIr9qsVgXqmUPcJzF//9x+3PNsT4AX3XvltVYOmbRoFyiK9+4qpJLMG/+PytRiDVd3AJC+iVl+6Wyf6aMABGCNGqyPsAt/R6nHbN9u60WV9rlONrN7QoRqNFBOqxGFyACHXnEsrh0JQkQiPdi4YQAAABFBnw1FFSwl//JVIkJI+U0VwQAAAAkBnyx0Qx/xDBEAAAAVAZ8uakMf9PdSVgyEdQgABILGIvomAAAAIkGbM0moQWyZTAiPvJvf6hTjMmRhoANrOUAGQQ6RYuOnR8AAAAAOQZ9RRRUsMf/6p+PlPoEAAAALAZ9wdEMf+VrnglAAAAAJAZ9yakMf8XqQAAAAW0Gbd0moQWyZTAm/p+hOsBPlRP931Bva5n/n1M24+fjdMRA1X24qS4fgVzuwoYai3EQsA6f0iSol3HzwSZ8V4VFDtVoz/ciRVdv1gNwKTzcmLIzx0R5J4h5NyH0AAAATQZ+VRRUsJf/5WwbG5O9tCRNSQQAAAAsBn7R0Qx/xFKrwUQAAABABn7ZqQ1/7AueCOma6aghNAAAASUGbu0moQWyZTAm/qZImO2A72uZ/4ONM46gxkYklpGwceNzoRJCuk7Uxj0Ro/Xa5SZA9z79jSgxThJsadOnXF+r1yaEWAzBsb8AAAAAQQZ/ZRRUsNf/16Ofc1ywZ8QAAAAkBn/h0Q1/51BAAAAAJAZ/6akNf8iAgAAAAN0Gb/UmoQWyZTBRM36mSKjMshNig5XJ0sYLp5tqCdKtow2LZ5MCZyBJdWmgyQ9OUxXjsfdS/Nb0AAAALAZ4cakNf+wKsJFMAAAAfQZoBSeEKUmUwIj/UaSQ74hLdYIY7Ft3tpnOQtUDLwQAAAA1Bnj9FNEwt//RoWfj/AAAACQGeXnRDX/nUEAAAAAkBnkBqQ1/5ffkAAABAQZpFSahBaJlMCb+n6M3B2x1LHpMO7h6tHg4xIf1K72XhjgP2cKrL8E2cKWa3Mads1BgpaY0ZPsj9Hn2kEzfD6gAAABFBnmNFESwl//la2av5t3EXhwAAAA0BnoJ0Q1/xnkGbrJeRAAAADwGehGpDX/sC/WVra5ZT/gAAAA1BmoZJqEFsmUwJvwkoAAAB1mWIhAP/7mAj9d/A1ocolsgThsolHP7KlAeQapzqW9kvQQPtwc1ZBG7g0wdmPdGVmeedbATqK8hANyxKIHDeh9C59QmchwEjn8u0lKJIu/gkvDpWbcGkskawTbPQf7FI5NlmjnT+igJ58Zz+qUPXxCKR2e+eA9rQwG4QA64ISgV7b1hX8BhBDc3gYHXX+AHNzqi2W+0MSJlAF8JCKA9NEdEiOX6dp2nhHPTFEUnlqp+69nwt4EjmEQ2Let4BwScd4FeXM7CqOpBRAsOY4jFTgURXcuPK/sO6Sk0SUoF+Pup1vM+aY/xHFzKNVuff+Y0SxUI0tNkRJocjZ+Re9hUani2MhFpXITJ1P23WEp35+xdOeqfRRV4I2vvEJjPeqH3dbxIvFKHSoiNxzrmFofJBfCIZgqwcvI2+BI3Kln+sNvSRP4NyGo8dM9Wax0Qm/pEjRpseFO5FR6PLbOaPISyAVBF9eLxzZbJfqaDEW8CKGiOpJ9D4xIl2mHhS4Sv6SaznGrv0IcnG9dpR+EOb4xICTxwzxOKFqG1oOSuJ4sWsYDvtYRF54+6893xPu1nbwmFSbeJySvwlq6FiCPJdwmnHY1lKuNVX3y5fRBAO91N3IWncScoVIJtxAAAALUGaJGxN/9Eq+CYLqiTjRv6iFVNMZyY4aGtm58jh1mAi07wsM13pj6qiN7lHgAAAAAxBnkJ4hT/znjhT60EAAAAJAZ5hdENf8W3wAAAACwGeY2pDX/Xo071NAAAASUGaaEmoQWiZTAivw593nzy08U+Z4Lo8zRPJC/VtF7uLqV5N5fQReb9Q9l/bWEKKUkE0Sj8bunRNlN70ZA7jniWeU8eb02fsXGEAAAAWQZ6GRREsLf/0Z/mY6VzZ6aKcMxGDQQAAAA4BnqV0Q1/59yFRW53igQAAAAkBnqdqQ1/5ffgAAAAtQZqrSahBbJlMCI+8m91hjMAAkY/m5I7guA+6saeR2O5d3eBCWdp/Qn1ynvsTAAAADkGeyUUVLC3/+gvueoyBAAAADAGe6mpDX/mFQkw8mAAAAERBmu1JqEFsmUwUTFfE/e82vdT3CRmxHHPGkY6tZhTxWQ2mUw1RBlUwR524/9Hmx28YvnbcD11+eT8IJpzKGD5bynlW1AAAAAkBnwxqQ1/yICEAAAAxQZsPSeEKUmUwUsV/w593oKcK1m0ZwqlBq3+55c6Rdv40lAQ0egqTM8e3KZ6AF8eIFQAAABMBny5qQ1/7Av0diPexxitOTK5pAAAAYUGbM0nhDomUwIr/w594Db1DAxqgp5CRth6vyH2rI+uKXsbeeMVyI9RmYgZMqyIdqYU/twFGYiPpvuX+GOTZg/8HBQUD9yLCWBxM7ZJjQs6zRCHAN90mRYgdYiGaNqL7jegAAAARQZ9RRRU8Lf/6C7wml+a4kYgAAAAJAZ9wdENf+dQRAAAACQGfcmpDX/l9+AAAAGtBm3dJqEFomUwIr8HRm4Sd9Rmn09Tf3P94WFPlp5rWwqDclnbu9mXGqCnistedT2ZBKjqbuwmFP89vu+B5YVAEWJHnfZ7Rltl62XKTTQxubiamEpvyJ+oSFJ3Vcudz6e2obw+OnKvVgd5cwAAAABNBn5VFESwp//mr1pgCW2/vplGpAAAACQGftHRDX/Ft8AAAAA8Bn7ZqQ1/7Av1lfOgFguEAAABIQZu7SahBbJlMCK/Dn3gNvpLbDJ//yrREfaHHV6jjgy7RQvckh5HXv4eGgwYywIcaIKBocAr9i+r7T+n6BRKTNf3WMarOTtc5AAAAEEGf2UUVLDX/9el5KXm5NfcAAAAJAZ/4dENf+dQRAAAADAGf+mpDH/FQfx8IOAAAACtBm/1JqEFsmUwUTFfDn4EGRyzqLt1PFjoQF6XBHyiJwrpGBODPQt0Y3kVBAAAADgGeHGpDH/qn8X4l4dG5AAAAGUGaHknhClJlMCM/WYJvTd7XdZIkbMmsXtAAAACDQZoiSeEOiZTAiv/B0ZOE0fOfmh/Yg5Z1e+zJ0ehPK2zDNPNZleVP9g0XJyhLFLOIzpWDDYmzQyp0Mh/c9P//DX38gTLDfRyrSbpTJRjLp8DyiKEk3GZjY9v/rkjEGRSA1PrlDNdZYDEcxrU4cdYZb4s2/I4/ASncR7Ys7kyoT0kPnDAAAAAiQZ5ARRE8Jf/5WwbFy8nlza/5dg+v+/Rik848dH8N3b7w8QAAAA8Bnn90Qx/w6fGXuGb4gl0AAAAcAZ5hakMf+qdl0AOJ+taEeD739NZXUCtu7T+suwAAAElBmmZJqEFomUwIz8hb3BL6LZnf6nivrhPqKuk6UsJzSfY6uK0Bomthm8zHA6IM8kLQF1qNK1N6WhQ9fh90bYXvizl6f1lUmg5AAAAAEUGehEURLDH/9PhKCXdrOiZnAAAACQGeo3RDH/lUsQAAAAkBnqVqQx/xepEAAAA/QZqoSahBbJlMFExXw6BwGXVABBGqvhn/Pff/l9ogb8rYwQF1oXURaKGpDt5kegSXNecogQnRZv3Ed45A5VnBAAAAEgGex2pDH/T4ShQOCjOtdM3JgAAAADdBmsxJ4QpSZTAiv8Ofd+Yll67zABi/df6HTKqcowtvyjuUopOUn8d3Q5hTyBZWp0iShFFYg1WsAAAAGkGe6kU0TCX/8vnLICfpOIAlTp64lDjjybBhAAAACwGfCXRDH/lbX95fAAAACwGfC2pC3/hk6Sz8AAAANUGbEEmoQWiZTAivwdHH4fwlcw80HDIXyZFy7RYZzp0OttiYE6gp5Ate80f9jskGMQnYXi5hAAAAHkGfLkURLCH/99IRkUTU8LX7SRD7DcG2H1Rtoeq/sQAAAAsBn010Qt/wD/ry0QAAABUBn09qQp/5q/3LPjQPuJl98qHx/2AAAABkQZtUSahBbJlMCM/IW1VPtLyM19fvH6Y6Mj88iM0KhWa4xZJJ/sjDIKaJE+aBuMInS2GTlVEnV+ZNgdkpRA0G0zx0roW1lqa/ZonwCPCznYxx0s4ENJbOuNzuzTWB6J0Pe4olwAAAAB1Bn3JFFSwp//QIhTlv7MG0GxuzAv5086hfo5Qd3QAAAAsBn5F0Qp/4f7exvwAAAAsBn5NqQl/u75ilFwAAADFBm5dJqEFsmUwIQ//QQHpKcLPX2QVtTn7tk/OmXu7NYsA0Rmw366jabaUqDPG7eNvBAAAAEUGftUUVLCX/+VsAzq2YVHtQAAAADQGf1mpCH+z5arkFyUkAAADVQZvbSahBbJlMCM/eaFFbg4rnqeX2S2rj5fdENhxhSCMwNTo7lhtIInUn/pwIHCv5yEMc0N7LmcH5+TcTSQuFxBqyc7M9yVVho/ieO+TU2bNnmywNFCKr5bE3vBGvCaJ+Pij6Rh2eL9BgToaTHyqZ3+Zkl896osCAwr7DhsWGHj5n7aRTAXmQAbOy845Tw22a1XsKg8A7B33reDvyxhprY/kMpy9h9t7nCAy66XGpEVrWaG3EeybA9gAbIDO8EdaH78vVvzfCN2hsafB2n3xwdiHko+mBAAAAP0Gf+UUVLGfukZxmm1z1PFfZulZjkjghsd/ttvPJB4IOqgnRKt6Reix9G2Fq9mb4y4BSetCgBOoALqX7fE3kxwAAAAsBnhh0Qp/vdIZPyQAAAB8BnhpqQl/y+87Zlkw4Pb/E1ozF1/4Ot8ehG0WHLlY+AAAAXEGaHUmoQWyZTBRME/+cDWmfP//Rjws1BOy5tbQfxjgdpbNA7w84HkTiSr3ZrYFtI4AHVcyFQ9kAvlSaWkvy3c1n8boV2WMEV6Nf8uTLgm8olnk7h2oTisIswMEhAAAACwGePGpCH/Xuo0KhAAAAFkGaPknhClJlMCCv//6hPh+Fpdm924AAAAA3QZpASeEOiZTBTRM/UBIVVCedmVOYvhf0TtEvgnRPuFRR+jgL9r2oa4xhgPxbZ20/zdojbxa/gAAAAAwBnn9qRn/vLZ03j4EAAAARQZphSeEPJlMCf/yR8miz22AAAAArQZqDSeEPJlMFETz/UBIpr64n48hQK2SN0Fm+O5MPFSzUe0bEh8dVzUGEvwAAABABnqJqQh/w7TwTj3vGMS/gAAAAT0GapUnhDyZTBT3/wVMAvQH98PKe5r7TL3EEK8XXFHgFoU5w7BIYANMceLkQTXM+hj0kbGiQmHikytqaFCN5OXuaDvcf32LLhMidbgyxTdUAAAAOAZ7EakIf9eeWL0dLQ30AAABVQZrISeEPJlMD/8pfmG54gPX8nsrDd9mR1itRCstsZz+3k7Pe+7hmJJSGn2kTXPByKHsBBEGn9h4uCRKk/jxqfz3qtWpyM5X3IDWnjJm2Q4Pa8BkxJQAAABNBnuZFETwh//DtOnyhHucdia4RAAAACQGfB2pCn/gEHAAAAFpBmwtJqEFomUwJP5+uSlYK8fvgeW6eDyFRtu+q4UFzZKFxf8SJBFwLyBoEmr2lAXhXV/1D16/ZWbeJbysoGNxU/GvqqBNtHVEJbZ6wCGWOG9VcOyrExnjHEbwAAAAlQZ8pRREsIf/w7T1fUdSJVvNtvttP0kxRU7LsPrQ+ZQ/8Z1/bCQAAAAkBn0pqQp/4BBwAAAAiQZtMSahBbJlMCT87oedX5QhrO6Zv+/NTWQiUX+AfROdF/gAAAftliIIA//CGhuH/5nfh5eAtrX0Y5Vi1zd/88EGvG6Yhu2PbUD6z3XG4HeBE6MwwXrVSjpzXVNCpgeDvcW2vubL286zQFkl4daOTeH2asiCn28Sq7SU82Vd/KNMZnCrQ1x3dfpsOJ0DqrZk7cjGMBORvLenQmW2VKWUvNnfWctYXbwNIEHbDmdhV6Q0qEBWmavH1yZt0iwgvJB3deFqkEBsXr0pRTY8aZOEZmlRAEZOYHHnOOmm6CzoN2b8DmDlZCkb60CACX8EHt36HpyRRnCJWRDGti8F3ViMOMDkV9i/Wu/NxOCaLKJRttS7Wr4ee6O9pXRZzmeYIZQTWCVek2GllkZn1pAV2iPlGR3qJHUihxHjPp72KkIswAcr79cBCfrqJ8dARGOEAnu+dPR4uhM/pcdymPw+dzbz92Q3s+WHlvnEO8izLVNACJ/5aG7V75DWjmN8JdWo878dEe3KzBF7IoBPX3Yc5JPE8uU0UhsVFjh3YFLTJ8Ulqp7xd44coNEiSnX9VQ2HFgD7KCqToU+A0OsZZar8FSjbkwTI4f8evRtChedZMNKIw+6nN/bL8tP4d4bp7RCR1v9LkBKRZM/pCAjllAdKFVvXnOAmppir+dJxrrOJGaeVD/UBCWcKZkiNwQryK+0z/r66F50z1r93CR7wNEDDU54TH5n8AAAAPQZohbEn/omdg+p1gXue/AAAAGkGaQjwhkymE30PJ6cBSQAHkFSXv0ujwTteBAAAAHEGaY0nhDyZTAk/FOaSsgZcIOGgrWdnZ6NV/i+AAAAIQQYihD/CYvhTj+BraxzyYxleEe7SQfd75hGuePfrkYRBYYal0UfZdVZMRkoD1oBUFagZ9+pQLdUxkapNT0f0AK59N4G3h8H2DIFR4ysjR5SvcSUcOIggf1++M5Vjod4UF93FZGHYnxGLPwRImRuvA4hnxTzlkHuwF0acg7WgMnyRJ2YhBj88EcjRDNpdHV7H147Y4j/ddSvNiXyyIRcFVWgHercP9OwoQRsxxvmUIDbcBkjfVC0232QrJNDsnySsvGXIGkwB86qtT3hE/C++lvWzuk3uMiuOTA/D3P6HIM7QsS0crMrIX1K3PjGYRVi2YdCsOyWHB+lD/wIWm+kUMTUp9eUYz1kFbppPnAFshIUAg/Y+l2ppr2MHjpfxsJHjg7xK6hblaUloInjIfYlNuzxSs3MczajlNale4wZ44iIAN8Nn+gOqvxuM64FWLbJ+Iw5RmfCc13h5bPQjhJyQ/Bz3EhUTThUjYwR8QranyQCzGCfJSxJ4Jwsm636wzm6VykXoO2LVYx9aKgMIt2o7aOwUaPQXEtkqQP/zavi9T56c/qzSWZ2to20Z6AXvRj9E6K5SytDwfbHGVg8EHJZPmmg/axsIykfD1xizda3n9NxEETI3WW47Agwhz1TeGkvdOQZKKujzAsS55RvcKnDZzDHrdmCisaNQ1ArSRlPuK8RLgI3gVsvOnybRDmYURNs9BAAAAMEGapknhDyZTBRE8R9BMOulQpVwkNCwcPEdqGCfUpST27G0FHRuSlKIEtEjT05KPmQAAAAsBnsVqQx/0+ESb+gAAABdBmshJ4Q8mUwU8R73qv2pqXI3dg7dCagAAAAkBnudqQx/xepEAAABhQZrsSeEPJlMCK//YZ8EF5Nd2AIyf/85MQy3HrxpVfJYTX0TvM0oeNFdLwgo////j//EB8n4nRDyio+SyQr/96ZNRWQrmznfZqTfuSq+Zjp5arXufE14/+VOXbiL/IFtrgAAAAA5BnwpFETwl//JVYdn1gQAAAAkBnyl0Qx/xDBEAAAALAZ8rakMf9PhEm/oAAAIeQYjLQn/sjudCej/BA9zQV5DhRaLPduScxg4EJ6saVGdvmBbyChSNMRUwA4/Nl2N5oRmR2rhsCZcyUdUv0v+RtO9I8CvRU5dfqrHQGEkmF0CWb9Dy9o6E1meN4PgrSzssbdX+2BqYRSWAKO4OpaTJ29Tb18o9PbGbE3C6cb9+wEhi+eZFG9nwOJsv+HE/b8nRMxV3NObyfuqEgLamNZ6PgHrOAD2kw+umw79qkZNsfjNYx52AcrnRP0OF+UMhByjbr9AHdvvA6otBEKqPR5tIp+XK/tZv5jLzyWeb3trLoxiUNT/C6EAEKI2lJK5B34QmGfuSia2e+qmTv193+WeEwIyH5DmL/zs8EjljEMcHn1nxTXZP90qA5aNp4PdiYbs1FFXik2uFz8bxpN53xH8cp/4adb2ElBKZz7TZzT5KN6QGqfujWh2e/gU7CXM/Xf2i/k/2vgAsdnkuheJQk0gK9D9LbiEfb/UbCHc8W7ikonCxhu4QPN4CaGjLMpv6DIw966QG4Rkko1RmY04PRwAsUzqwYQNwJJjddwSSCQD2kSltz2U+UIbjq/5uIEVWRMnZx3ilcuQUi/IiNqgYO2zF1Q270IBX82zo7MGC8/wrP+TnrGxMgfoUIRUQ6qih0HUqe5lMei3wthzenbJqU2AtuqraGhTYccOasZygCYzeAm29IexAM1vXAGKBmvcx7ncXANOz/VBf9Gu/BpinINEAAAAUQZtOSeEKUmUwIj/QcGsPF3Xl1+AAAAAvQZtwSeEOiZTBTRMV/9q0oXqXsFxyjqiVC1AzCqKCnkPc5tO63V+RCJq9t5SEDFkAAAAJAZ+PakMf8XqRAAAAPkGblEnhDyZTAiP/utDq9m1eEWkr/+us67z1g+IoMItaYM5ykuTEXnPcZZ7Xf/avhfnmpvuQsk15fUjyw17kAAAAFUGfskURPCn/+Xr9+HsYhxb1e8/hQAAAAA0Bn9F0Qx/zm5iAUWKRAAAACQGf02pDH/jxSAAAABhBm9hJqEFomUwIj7yb4ADBtpvIFR5cv8EAAAATQZ/2RREsLf/0aGq1nN736RNLXwAAAAkBnhV0Q1/xbfEAAAAJAZ4XakNf8iAhAAAAFUGaGkmoQWyZTBRMR7yb3+C4bP591wAAAAsBnjlqQ1/7AqwkUwAAACtBmjxJ4QpSZTBSxX/E/sewJ7mais7ExvolohEP4kcUduSPLHGHtqYLzYAIAAAADgGeW2pDX/mK1Oaa+WTxAAAAF0GaQEnhDomUwIr/2GfBC/N0FosvR5pfAAAADkGefkUVPCX/+Vr6bu3AAAAACQGenXRDX/Ft8AAAAAsBnp9qQ1/7AqwkUwAAAFdBmoRJqEFomUwJP5+uTXZngAFUonvBH2g+ilWT4XsH3cY+7pEL/S0M9ndo+AZeI/MlVz3k6NkVJP7Yafr/KohyG5+057EBnUMBJbWK8Jj+9emmoAD8SN8AAAARQZ6iRREsLf/0Z9hLNAeloMEAAAAMAZ7BdENf+frsnapDAAAADQGew2pDH/j6hMqo/hYAAAA9QZrISahBbJlMCT/Iz5/YbedwgBOd2tYkLHdPvDW1TkAafhvT8vbfvwz3LB7JivHQvWXPCLjNPPqRhwyneQAAABBBnuZFFSwp//OeBTGTzDjwAAAACQGfBXRDH/EMEAAAAA4BnwdqQx/091JWDP0wQQAAAE1BmwxJqEFsmUwIr8OfgJwCgmq0krbDJ//+2VIC8FUnQQqeaX/z7CyPZ4PIevRHXMusZqUCV17e4asR2PcMSb3HjtJevjpVtWLs/6X1vgAAABFBnypFFSw1//sDCa/WXsxvWQAAAAkBn0l0Qx/5VLEAAAAJAZ9LakNf8iAgAAAAIEGbTkmoQWyZTBRMV8OfhasK0B2Uwm0DfNSn4BppcfrdAAAACwGfbWpDX/sCrCRTAAAATkGbcknhClJlMCM/yFtU3tmY/BOX/pn6GXyLLKfFSBwYJ2SbZwqZrl1xEkU5ZFIYyRDatbaR+5IZ4EE7+xg2qJhuAb6BKd2sN8Aor8tt4QAAABBBn5BFNEwt//Rn2Es0B0XhAAAACQGfr3RDX/nUEAAAAA0Bn7FqQ1/5iDOYBwVAAAAAc0GbtkmoQWiZTAivwdJ5he9bVLf7bHKM44AeX6H87kWuFDKOUMZtPcWiMl7PjrzTNYm9Xp1XuxMUQgkmG9H+mWajQ3OKGwXJwkGYBKSqFpB3mf1B29iynfmPpMaAmLv+S+xC87dNCLh0ophQ3vz5A9f9xxkAAAAUQZ/URREsKf/znghLMhIudUAnI0IAAAAJAZ/zdENf8W3xAAAADwGf9WpDX/XpWHqbCVghQAAAAENBm/pJqEFsmUwIr8Ofd/pAZLFK1ADmJdK18b7srP4x/OmFPFZFHn5BQf8OWpjDrwBVtK/mvWJKjO3h0Lrh67U9uAAxAAAAIEGeGEUVLDH/+qeu8rAoRmcHcfe/prK6gVt3VMioIy1rAAAAEAGeN3RDX/n32ZBVkSFrqUEAAAAXAZ45akMf8VyixbDb4IMW+NblHfSiIfEAAABqQZo+SahBbJlMCM/GkUvGF66D2QDKKZ0cQegT/cSMcRaskTD1j7bVzLjeSAUQbH+QBNLmRWtQhsTnGva5qx0b2zu+0sYOSKM5GLP+MsDggF9HGkEhv2fLoYdfhrdrtA1iG4VChjVQFEOssAAAAB1BnlxFFSwp//mr/EtX9DbGdjkBZgCJOph85Nu/lgAAABgBnnt0Qx/xFChM5X0WsJrY6bJeMWpYx8kAAAAXAZ59akMf+qf6kIfnYk/J2mqiRPblizoAAABSQZpiSahBbJlMCM/IXH8XxABaNvkRLkjz4gBb2dsr39BNZY/jOoduyFej57hQxidQK7tqa7j19KTBl2JJCQcz7NSfdggbHI/qC/xtVcC4C7xfRgAAABpBnoBFFSwx//qmy2GWwU8oXPk/2R18Y8YHLQAAAAkBnr90Qx/5VLEAAAAJAZ6hakMf8XqRAAAAXUGapEmoQWyZTBRMV8OfeGA+ksF0eiWF5TOS9ZL4o8R/9bqR3C801sz1pY2nsQq3EQMEPRm+KDG+hQQWDB7z3g5zIR9JZOz24WaD5K8778G0uqCyNctNNUBm0n/BYAAAAAoBnsNqQx/0+DBAAAAAL0GayEnhClJlMCM/yFtU07FESdDObZJOagNTxAaPmTJV/vzs1ePEAUKjCupaPhS5AAAAE0Ge5kU0TC3/+gvwrx7BLeRvwKAAAAAPAZ8FdELf+Nd3kCg9JcdEAAAADgGfB2pC3/DucKcc/chdAAAAH0GbDEmoQWiZTAiPutDrBvobgpEZ/jQQdL920cVxV+AAAAAQQZ8qRREsd/bCFBc22QzDEwAAAAsBn0l0Qp/vdIZPyQAAAAsBn0tqQp/5q/3IrAAAADJBm1BJqEFsmUwIj7yb4wlF4Q9xA90rTVlW4fUM87Yimbhnrkal6o3C9/CWor6mKtEA/QAAABFBn25FFSwh//DtiWMskphChgAAAAkBn410Ql/4GYkAAAAJAZ+PakIf7O7pAAAAJUGbkkmoQWyZTBRMR7yb32zlVByR57OBMaNqUxcs8+TQ9vBUvvAAAAAWAZ+xakd/791VycetrI236dKWCOUP+AAAAE5Bm7ZJ4QpSZTAl/0AWFlCACjyhO3+IkqRA8/W1nBEidwJMP9fn/PIJBckBQn6Qk2EjoHCISuY72aX0/XXrYdofXYx/spZxZyAAnhKP7IEAAAAaQZ/URTRMv/M3VMGQER4NHWnn+HctQDlyLdAAAAAJAZ/zdEZ/9MKtAAAADgGf9WpL/9UEVA+pYDhDAAAAWUGb90moQWiZTAgn/6R03ehWd1mB1VuE6w8GbQ+bVZNQzhHAA4IklcX3bZSOino6QGSGoLByiDTmRJCfADpnXVwVOp9t+jlwuHbQPkgP0aBzseB+BgZLomuBAAAAGEGaGEnhClJlMCCv/6l4+mGLJu9vcgEGrwAAAERBmjlJ4Q6JlMCC38SW38ChWXocBJrQD20rautEvLuvjKNN5H6CITKVhOQAAk975cXzAXzQvYOH1O8R6m9a2bO2/QsBOQAAAVhliIQAF//+9bLfMstdtymu8RPCFy1p5si3BAHAeV4p/mvNNJ39W4ecIZ4zOT8VwmOILABkh+OPEDB30lIcaUg8Vye+8koh4bSm1FbTlUKxbLMKapk1M2Lpf7N7xF9AS7yJ306AxB9Ds8/IQqZNE0dsHowm3H+N6rM/8j8qWTCjHRor8cTSAI4080GAioY055RXzA9qYjkifXPJdyXPx25vfzXpHhQcFb3fQTGZ/mnl28/vhzbNsXQganr914g9xXlD4s7/yrqf/QVntWiKAyocby2h5JB6MeBOu0aqz36Otxh9J3YQ78qXw3zNOPq/olzYAe5e1+PWJmXtsfy2+K6UxBk1/b5RBsJc39Er/QWx/z3GclaMnQvTljXLhnz4AxVbXJw4f+UDmujpLdb3sIUPaXyl0/xuHXKo1k4pEfeBHoE+NED/w6fDIWvgeRPxqCW+rtUnuAcKyQAAAGRBmiJsT/9Wr8Hx/ijzSOx9dPaqwwhXhj8QPImlShvRL+w8XsKZbK23/3cj05zMo1H0BRf8AD6etkKtDOH9CCjKYNDln1iFWIzBueLB9wGI0dkSjSRqcsZUBLJr6t6N2LM7iYgEAAAADAGeQXkv+sed8Hkf8AAAAflBiJDBP5+BLJ7PgTy2Xynhxfl7UHtVqVM/+DZAASCURZuo+aTka+abDfPBdRBFDm6vbBKDmpabFLCxEfKNrvD4zKFmd0GSxJ0iLnQn6PxfVVLIz4QMAS4tGyYYA8FGjZguA7umqzimeJNkU22zHeymifpb1I3Xddv6V0CTe0lZgK4M+7NpCyVUfPbVaFsAjpXtm3DSGeNV5G/xkqUIT4AvG8Ka+DedlurFfhxuxuXPC4aL9Z50j0xiM9niva+rTJt84DkyduB+QAsTZmjqI14RXKlivgl1jDcnn405V3XY4Sols2kOUllHkHQ9xcy1UR44byNp3aEL8xq5myfv+aOqHOUrFPctwyCpjMVe1Q7fbhA4ameRQUb2TwWSdaf2WCf/CISRFYZpckaLd95qwAW/D///IqWq68pYj5PbnhJkdFVcR/eI8hFZMzLlrjZs2ZyEbO+vn8n04UeCehB+QAVqdCHQDL2rhrHiJ3eRm0waXvoD8o0lQgMEK6d1SXJX3Ne2PHkiRutZgkwwRt5HYkRx1ZsGLWglifWz6ks+LNjRx7rEr+fqBzpdj97TBehkKuOpkKzRlDMwn3m1eCf0RphNyvFhxvT/VFBlK8f2BSE4juEhvd1MTolU8AqZthVb3ikdeJS7X3M3F5YVjrA77Rfu5FYswJ7nwwfJAAAAL0GaZUnhDyZTBT3/2S3dyo22U+zleG4dK1g0TrmfJ32Q+WF4K8S1OCYNhx6+Jv+AAAAAHQGehGpCH/XGEPrCIuXtPvrb4ktI36H/09OZZRPAAAABWkGIoYP/lAGwul8Cb6MZTvoVK9VZZO8Tb1GTTqEwblparRLy19comqP/p781g4ty0iPZP416VDPV2aVTZFKHNjv/4iCiSaIDyMAw/RXWR/hxbXVHqBRGSsWpvpbDJH+rqRjhMM3Z1piUaWiYcgF9dcQ7I2B1ILd8aSwlww5/qfdWkSPaspWPLwFC9mo4pEvhZzj+yESM/m297AI6iAxhNXNLQCxvfukyKHNChL9sSieXqzWk+ZCFdmL0PZuVgDR2a9Xa7EAOMWAzBNuj7VOWk31+4fNZQMN12/XFtCd1jKvX6NFaNQuB9qgK35qEcBl4FuccuLpLW5d6CE3x+h/dDE0Zh3HhEvZdUFiYDLPH2ReYvdHfah9bgOgycmkSxR8hhRKM6RWRW7Ulc5AVOhMw0hvVyk/DQ61T7VhQgFzTV0dTE6DK/OINj0l7Cwk5kt0Uyl3uAFYQFWJJ/4EAAAAsQZqnSeEPJlMD/3R23d1y677R5/p5Y7CCWHn/73oHrKZdX635gVU7Nf4en/EAAAAzQZrISeEPJlMD/+EB+Yoiu5NdXsc/xsZxPylhb3cVYKvZmOHR8Ts7cih648/ojH4I+7n5AAAB+0GIukL/iQIQEEf4EymbDO9qN8iGWR4lT/IHuJlLWBmyme92fklYZW8XBGy3Vu37CZhsB2DyvbiUlfsWYog2q3YeICuN/yKJUy2KtGJY29BJOV6L9EGwPSdxPkrPAD1ghb53B2QQYoaVyhqbUMShzZ41eEIURNmdOAYo+6mgWM/Ix/fhb26EKmoEQrz5+267q1/huXLUQCTtdXc7xOOMTNBz/n0YD+xgNwypQGUIY2CI9JzJRLbuwT1ulliZniEQj2JXEHBOAObiHzLPmhMDCUNm2E3myEe/n9l009Qg4CNEqzJbAWLkSAReaFPl8zGk1EViCNHnDSGDGX93ZQRUf1+2Nb+fPbl1r11/LsQEGSXAp6JWtlEcHN9PE9zpdRYlV1SVUkJ4RE+9zuiyEiQ+RbtXFgtODKZKrfS6Oih9v4tpce3is+T+Na5M+2gsQyYI9FX3V9JkM0wCxCMphAL2xWpjVfr7e3IpeqDC5UH/u/IZfuKUB2eA41Enm0F8pCmshC5CgnoiOWUfj9t+udA4Q8T6bVMC+7So4+jXnAj5zzjDe0acMNEhJddVm1BJd2240jAY4g/7MTIngdhBJcv2mTPiOffldsyXC+SwuM3M1g7D3y4R48kbs6xaUcTuCrsY3sjhhPc3PCUcGacuxuTJa/oWTOwyI6a+/lX1XwAAAB9BmwtJ4Q8mUwURPX+8Wz5ks4UbOQIG2TRfxXvZhwwlAAAADwGfKmpCn/QIeCGeoUpBgQAAAB9BmyxJ4Q8mUwK/NbbmxJ3M4ylHiz9p3Zw0mWdl9pb4AAAAXEGbUEnhDyZTAiP/utG2X+lTK8COGMTHEk4fqLIYRihRFTieBUgjo6ob4ySUvsNz78jvp0kyY5E9/5+TUvAtJGV9rHk+F/6uBGdKV6yb2hhdwOq7diPlNY9Qqy6fAAAAE0GfbkURPCX/+SkXOnEChPYcRwMAAAALAZ+NdELf8puBFTIAAAATAZ+PakLf+GTpQsT3W6r13IXhPQAAACVBm5NJqEFomUwIj7ycwR4KVbDORYtlefiDH4yCvZid7WIswVifAAAAEUGfsUURLCn/9Agrj7eMJZAjAAAAEwGf0mpDH/j2G4kdi735qscvR4EAAABHQZvXSahBbJlMCM/IW1Tp1x4/BOX/rNnSz3iJrImgX85IwtUB1ZdtLgzum0HfWCRxcvqG5j1fC1dtfOlKPmQZ/0yczGPo0v4AAAASQZ/1RRUsMf/6p/qF71JUr/UZAAAADwGeFHRDH/lgSz4/4q3SIQAAABMBnhZqQx/xjA1Bqmh//9UnGEX+AAAAMEGaGEmoQWyZTAiv7HpgM23/REMv/hKANoPCr+AsqBCqZ+aH8vFY05zfWAV14QmWoAAAACxBmjpJ4QpSZTBRUsV/894lADVkRNfvqAA2k5iAXxvP2efqHtamirIy/NT8kQAAABQBnllqQx/xjA+Bi46Al4AAmRB8/gAAAFFBmltJ4Q6JlMCK/8T98Bn0PNHsl/9H6VONXfeK7RwM3luM6f4sKe6PrSKWYzomGn5F+e7Nfw7z5/RC5fkjqiZBuwazbXFW1jfob7zlRpBfl+EAAABQQZp/SeEPJlMCK//YZ8EpLl7ri8jVam794+VY5c9P7wBN3hBDDioNX4Dp64z9FB1PgKaY9i1ZLvLkL2enPigV23yUBIO/hj/lBmbxVaNQRTgAAAAUQZ6dRRE8Kf/5q7Axl0QaUcsUgNEAAAARAZ68dEMf8OnunrPY/Sgy1rUAAAAPAZ6+akMf+qeSklvwuBaBAAAAKUGao0moQWiZTAjvzuDxfASM3uhhoj2T2XGE6b4Pt6UHzYL97acGIG+xAAAAEkGewUURLC3/+gusDYiPHw7I/AAAAA0BnuB0Q1/53FSldMPIAAAAEgGe4mpDX/mHGbwO9543o7UvYQAAABhBmuVJqEFsmUwUTHfQQzqUiK+cyb/EMbAAAAANAZ8EakNf8jOoFfwQKAAAABhBmwZJ4QpSZTAjP9tsu4rII2Hp++T2Th0AAAAaQZsoSeEOiZTBTRMIf9GiKhmREdkjRNiOi7cAAAAPAZ9HakNf8lbcSS/b4yu7AAAAGEGbSUnhDyZTAhD/4veuSsNxtN7S2ewRIAAAAB1Bm2tJ4Q8mUwURPCn/2X5S4+B9FyYY1mVAo7636QAAAA4Bn4pqQ1/yNS8+NZ+BQQAAATxBm49J4Q8mUwL/vreFt0aPxrD/xM/oWO2hjEXskP+q7/OZJ7mQeaGN4s2+unaO4tkuNjc77aZu5ge2tUPemy8F3k4BSLDQFQTuKJvqCBKB7c/dwlhgs3FwnPiw3jCNeCDz4DFgfOF8oRAE20elZSZZf9STTiTIbODZp5izwlz549YMVAAnstSkvDwka7+XelcBDY4DiRl888BjgUzP7r3nmCy5ziGET36gN1nCKfIcw1ubP3n+OnHL5mhLg3h1IpugS9bIocpGDWIEqN3LpidOVLATn13yTW+VC9Qk0xcZ0u9W7ZuKUdyWW78VvtNCi1k1CPMj8fc0+xtavsSAQ3wH5mlNQwGU/0tIF7mbfL88jmG/a5ksA9xnCFeGX8IkoxgVYU5LX+EezxM3QR41BcNlodiI2vMuS0mTY2xMAAAAHEGfrUURPCH/8O09X5PRtH9h/5nMT0RKLYKQ/pAAAAAXAZ/MdENf++txb+4wAnIR1JBf1PNPRzcAAAALAZ/OakKf+Ab3RnQAAABQQZvTSahBaJlMCf8AzYWOiYfqQCA7pTMEaA72UUBVNSZbELsrL1ZJyo7wyf2boqSAwNc5E7c7NhfY6SEOQ3QxzvNVMxzE3RC4u5rz1174F8EAAAASQZ/xRREsd/bB5+Jkr88A7xw3AAAACQGeEHRCX+5LeAAAAAwBnhJqQh/s39ss8hMAAABHQZoVSahBbJlMFE3/wEKz0pGwqfD+gcMvdnr6Ak1TaAbOovnD9Zk8WqbjM1Fj0nycnyknrvwLO24iI0E3/rfOv2FgN6jNYsgAAAAPAZ40akIf99ISFnOX49yBAAAAEUGaNknhClJlMC//I2pX2rZrAAAARUGaWEnhDomUwU0TPwDM3oW/WDN0I0Q9Em+UPmWyuUx194YRI2ToWh5gkV4JuWV5vwP9egon9K7SSz+k6AGmSW+pGPVVSwAAABIBnndqQh/30d4Al5mW4V2v05IAAABQQZp8SeEPJlMCv5quj8HTxSCRJkKqhtsvdUUxXyWN8+QPrRs1a1HlP/UW2bNz8p7zxLDtsb/0CexOdxVQ99eLm0mlSdusvD3z1MdxqkfHIlMAAAASQZ6aRRE8Kf/0CCxLqcjeXnvuAAAAEAGeuXRCH/ZhdvOaDl6FfJMAAAAJAZ67akKf8C0QAAAAG0GavkmoQWiZTBT1/5quj73awYCJFFcBCu+xsQAAAA0Bnt1qQt/0aHN0ZfCpAAAAEkGa30nhClJlMCv/NnN82IS+TwAAAHlBmuNJ4Q6JlMCb/+p+C8jCp+YPcz/wTPqag5xrm+oYsU6f0jiuF1QkV2VKzUpso/jbqy5vpjz4JLF1hkKsCFkU4UxUnmm/X4HmIZqcZLs7Vsmos1SPuqB5QSVBGt42SjHB2Ix8KmxHaZEi0MiYer++G5D9MGqyDhVBAAAAFkGfAUURPCH/8ErBrIcQEGlqoy0VWSQAAAAJAZ8gdELf8AioAAAADgGfImpC3/RoZwDSJDIdAAAAQEGbJUmoQWiZTBTzf+3v0N8Vp5+wkyKtLh23j+wjlyV8Fs6/md66GJERytNiKGqke8XbRj/iMIQgej+x4nbNzM4AAAALAZ9EakLf+GGchsAAAAA0QZtHSeEKUmUwUs3/qtNMb8LWuZ/59NmImasPA8/cyiasNogkvr74fsMPFIgT4DKLquX8QQAAAA4Bn2ZqQx/xXavq6jX3gQAAAmZliIIAX/EVjuh+F/gY5nxhh2eAZGuKp32vtLd1SJa2TvDH1KWccBwfLGn2lUOJms8csP33q3MoU+dczTlY+jj/JgqXbtzAICKTw7QkvOJOeYoqzktDBHitOTfSsb5ubw8tniF/BL08LhNeQwe3wowRJjg0f6OQma3/xktWCLBK3/9R/K+ABPblGiRhPc0e3Jq+ck4jL1sjGnWXVkM6OD5n2keRHRweL5OlebdAtQTAsbkm8pmVO6FVQZCu/9jQ6LEe1OJqZTfhX3D8HIAQYdTqQ+U3g5YFtm7HaT+YFb/gIpRa+S/JF3RCIwrBaxknfo45pjMCv2ZxPwuVZWAYCNyVxtAsr/YbbCKfPC9t0SpIsatUY9TRDyFiBIDyCJncX49YkULk1VU/TPKyLbS1KoiUnBA/DSeVAt69ATF44FdKovB7wZzgZDwBb82nvKKsup91IWfS/ShLgOkr/7sVPBbpSx399O5+D+N7NOIPTSu2b/JrRx6gCU8K2/yppJ8MbNVVQFCoNF1Y5jduvVhgA/0LiU0lLljVFlE/4CQES9knc4K8fBFM/Ih/W8NGBWgd8dMUgNsu3le6vDwxNU+sc+pydJFydNmeulkM/IxYwVYjsoYZ/Uvv5ivKwoDq6HBjCvEM7+picRydr22oMQpe9c58LQ5VVuk9JMizBGji1ZpJ2ckq5LgVqftlkwcgBVlWfjZnrDk1dses3eOJEFGn+wEUPHPIZAP21cumSUjlB4KPQ/r2mq6BwiliGEhlTwy2t80S/DuXiE6QY6wLdQSC0q/WCZZDPzqvVRGSkbfPb90AKxxpRJsZsQAAAFRBmiFsRH/pDuMjJ3TfvUVl3xizXi4kzpUTd/8+aaTXMHk1qoQGBJ//xeAjKSfFYoDwlm+Ioo6caMpuigkBPh/zq1vNHyH3KIWFpTsJNkgTFmOfHUAAAAAdQZpCPCGTKYRHRvPC66Gz1ejalLAklEqK7zYf52gAAAGFQYiYxf/xD2vsIX+BjmpBwo4AvkQQ+K/wjoK2mqMshq0fOLu7KGujfU+LKdGhugnf/zplbKgPG9O3sW5dXVg1N7V460kTkMvoQ4ae3TU2rWOQEhDOyIY0U+pczffApFwco8lElkgkDeLBxJQIM1L75ToFvkCEanfDDdBgNWJtqrizmPMDqfqvRauv9jUKfZeLyd/YaAh2I/YWgE08XPR6BzsGyH//nouTpH637RO/URS0HvtbmDsKl1Db1L4kfBOIELHz7Inb027/3mZyPCsY9kSc21npTJNsGf+f/wbGyukHQL5KsXfoFhuy7svS4mJuaNCCYQvK3vKhHpWxupq0p57ZI5Qg71jlHqXfkW9UYJrPyN7ZAmfTEkgjyjHDIqd57c46lAQZAResdJ0AV4HOK3xv6FlOy9C6BE3Kvk2bIBvnh1S7/5jUgqtECK8HofwazWCJfa/nleZJCQ3Vm2cBQUaI6unPZhhqIR3G2j+5e32cqqxfMdb2HqcSGZj5k9zUKb+wt/kAAAAoQZqESeEPJlMCI/84UIEVLE//nE8U8eeuVUZg2XpNwgcTcQgc4BO/8AAAAD1BmqVJ4Q8mUwIj/73qv/gx6i0r/+bjKMJQuYoJSfxOjOc3f/XKuGNle3BGYMtTu56Pzn73SBk5H6udNgVQAAAAUUGax0nhDyZTBRE8V9iP7ghNi5iWH/kLH2VSg9Okfdi7mV3WDdn/x/YvhZyCgyWDCvttis//gPxr9SOMhzPLHMzzMvWDxttc6dfPK41NzDFGowAAAAsBnuZqQx/xf1pAwAAAABdBmuhJ4Q8mUwIr/8T977TRFA4ksE0M/wAAAZpBiMJCf+yt9ayMf4IHvd4OlYkf8KN8kWMkn9OjqtMmoAP++O7wUg9EqoCxfulZVt5KDEpbqjIfU2SAeX34ptUnNLMqhn2P9GSN6d7Ga0en08ygF8n4Tt9Dv/DDC41ziTSOjSxB6GyGOJ5yoXjg9q3UPuqvV8CeOta1eBZT5JTuai2Js+e7f0Xc5SVymnLbVq3Al3mZhiFbDiPDIeRdX91e+FEBA3At2+84F7uceW2psxRbGImh1yxVJRFBlL7v1vSBoOWw8NALDQPo1T2Myg7wOBOdjM/u29xxYWn1m93WniB6hZaSj06/rsueFcToeHmvmsO8+A921/2nb3//9E78OLlzMzVkoKlgsNPnw/JwKAyAlALPreuKH0dadMpC9cvSCfFMW5/Uzpl5Tg7ygNgF7lHUMzRhd5byYkr48FukTFWWt1hXl39hJkOnjgbpOSOG4lQE3bXe/ziUqNYi1H0teb0OyxEL1n6veUUbihCOnn3JvM4yY7at2qCIbLGkm8GLLzQvVkAnS/dGOuhIE5D1NJ/vy8HlHK9O4QAAABdBmyxJ4Q8mUwIz/90ZCIH24/Z7LzV3gAAAAA5Bn0pFETwt//P+LMu7gQAAAAsBn2tqQ1/16NO9TAAAAh5BiNtDf97z+N6tT/wF5ErxrIQiarq7FhDfZ34h7JjkX9x3E8C+6og1gqvQvtye4Q9gZ//Q+Q+GetXjL7JMWsQd5r1gdMI6KfmoDFE8G45QRCbzVQ7uWGRQa5CqnBp3bZgYzkgrbFgkOG4KiSyIoQCjJwkEP0S5XgJ1vvm93xJ3p4lZUnDRNcDUTsQea8Hwei3ysL3cfVFd8AxQLVsIfjw6cATIIHwCc+7XQnfTuMN22Dsa939j9njYmMEC4xRwohiNEPy3udJmVgJDILURA/wlocAQSE6T5VIktqn31UBUcnnxUddOw5Xc8NMZ8/Nw/FxVlKHUuIzTbPUnJIfIDQ4X6bCb3zHO4VgfScshXraViEYFygBEy2dUO4ontJt6eZUH9GYT1ROtFnZ6Y8VHMvEQYzNwrQYQivQnDf/9zR73lKY+Mhm60n/A4ikh49UnbCeMGI4j98BHMG+Lq+C1s8+bD/b92PIXKRM4jCS0+IC2X23C0iO5wPaIfzjrqtpwCAqhb0drq6PNidtiT5AZgr3e19ki8D3zwT4PJqeEUGM1qxcoV2bvtCDsbxCxwklzHfjxfvXIK5fpWLd/DomrFmODRWJthCHbRWTv8M2Y4CJvpq1d50RN+Lj4MylT/C3fZ29wmyvopVy35Q1AGzMN1U9brPBuG8FlI2wtnKBRseuWB9vnN7RCI3HDe4PEAjfKAjOGcgehe99Fot2ShhXdwQAAABhBm49J4QpSZTBREsR/0Ew63ysjWGPpjp0AAAAOAZ+uakNf/PSwaud0S68AAAARQZuwSeEOiZTAiv9N/gvs0cAAAAATQZvTSeEPJlMCK//Dn3faOHAD8QAAAA1Bn/FFETwt//RoWfj+AAAACQGeEmpDX/l9+QAAABdBmhRJqEFomUwIr8T98D6c1bBeoUMb2AAAADlBmjhJ4QpSZTAiv8OfdwUg2AiJUFPIGQOXjaupHE3ikiXK0XwcgZo6JohgcMj9NybWFfS/FEEPrv8AAAASQZ5WRTRMNf/16Vh6gQJ84ABlAAAADAGedXRDX/ngGZQ8XQAAAAkBnndqQ1/yICEAAAAcQZp6SahBaJlMFPFfw593BSVX4Zzn/7QH7eBrXgAAAA4BnplqQx/6p2XVnvcewAAAAE9BmpxJ4QpSZTBSyf+g75sWnAIgBy8DeCQNCHXj9iLc9zv6DfloLQgousX7e9Or/r8kY61rrCle+nZocEM4lg+Yxmfe3A2Z0a0J0mqQERvBAAAACwGeu2pDH/j2knLAAAAAZEGav0nhDomUwIr/w594Db1kQ7v/+/wJuaLM0MQ7YMWYOdyV/oPl8G91/MVvZcWcTQzrsunXFVx9rDeM16dIF1WIFSJ6qZv0hJnTgNRpRgAvX6i/54Y7i7XbeXauf1fjU0MGFtgAAAAQQZ7dRRU8Lf/4RQAVXBRzwQAAAA4Bnv5qQx/096cHW8U4gQAAAEtBmuNJqEFomUwIr8OfgPhhgE3+f5yJuD80P7SXAOzbGiCaJfc/jbMM0+VfQX5LsyQVUmuT/5rmzowK4NJe6cbHe2Xw0/b6Jrx7umcAAAAnQZ8BRREsNf/16RB7vgl4q//+3d/o3t/pvdqyP/6k/oDS0WTyrMzOAAAADQGfIHRDX/ngFe9q0iIAAAALAZ8iakNf8iqvq0kAAABfQZslSahBbJlMFEx3zuDxfczQngcSdwvRKZqoXJiuZFoDCHh/yE/THKuS9yzL6V1BOVXr2Gg3BUL75OpEs0VoLHAHiy5lh+lqYA1Yds08kwmY7irNZyYv0cDsB8Px0eAAAAAgAZ9EakNf9ekB/xjZf//pp/IVVs7S6f/75+aBZae9u1wAAAAjQZtJSeEKUmUwIQ/QQIT9QwvDzijyx6yN0/PK1GiGEVTvDmUAAAAfQZ9nRTRMNf/16U/RMfoar+p8MkWI+R8XfxIDp4UN2AAAAAkBn4Z0Q1/51BEAAAAJAZ+IakNf8iAhAAAAQEGbjEmoQWiZTAhj/97sCef9QsA9YxC1/jerd/fugylbGy7rWA0Bx4n5KOVQ8BQb2hbWJ981iTn/LiIZDZx3riAAAAAZQZ+qRREsLf/0Z9bNxKJfurdRDRSdgbQTOQAAAAkBn8tqQ1/5ffgAAAC8QZvQSahBbJlMCK/DMCDC3+LkdZctwCqQPzQ/s0ELLY3uP3HyD3F3jACggwzT5VJiVK5sjD9o/dNIbTLosh0jrbowMCVK9MahE6kPB7yURTlwDWFpP7l/FUeSIYOejldw0wIGT29eYx1nmNeqxRDtqD3lB7omFfw17yuVsR3iR/vAYRBaQh+tfmdJgtT3g/XOsJndXP+xJEmCgrurGIal81x6O+0IlGitJFvkYJqYHgGD28dQuzJxmRo/eYEAAAAjQZ/uRRUsZ+6SA6k1rUuYZuzVz1PFfZulZjkjghscEW6u/ZUAAAAJAZ4NdEJf7kt4AAAAGwGeD2pCH/fR3zYsbkNo/vt/0Zq2XJvd9xrGEQAAAGBBmhJJqEFsmUwUTBP/q1qNFB/vQnGj9XxWTdUSgsu8sSU1hybkYD0giFnzboNPY8jlf/oDtFXKgAhOF8g/U3JZ2/TnLLYEKS7PLN1lPcTkPG8juIvxdD07S+G2FCjqR/EAAAAMAZ4xakd/9OK7myXQAAAAFUGaM0nhClJlMCCn//6TvhlSjDr7twAAAD5BmlVJ4Q6JlMFNEz9QEhVIuchLLG+F/RPOjsi073UmUXA3I8dtCtJKYWS0YPehn69ELP7ChNTknuThA1pwqAAAAAwBnnRqRn/vLZ03j4EAAABLQZp4SeEPJlMCX0AWFk9eA/PFF2yGi1vW+xRol+vFaW8TMo82dNtzizfTujZUjStkKvmVQjp610fQI3Dh92GdE3PtV+EicHwb5XvhAAAAEEGelkURPGf0mAFJ6gD3FaEAAAASAZ63akIf8O0/t3dYXU1c+Fd/AAAAX0Gau0moQWiZTAv/wEKz0nV7Bxej1hr6nNMYwzN/ZE+BQxEzrRjnaSqWZV9r4rUcaBkFGz2IE/09wFyxJW0b00278bwVX4cjtFpWfcsElgZopyrsGSBRDCWiae0WJXhAAAAAEkGe2UURLHf03BCZHTxeWLjuwAAAABIBnvpqQl/y+rbAtr2wMpDxjkEAAABjQZr9SahBbJlMFE3/wVMAs5LddVAi+vm5IHmFLSn+3UnUX/1cGf04B/RNU/4PWB6jWbMc+03QGuh4Kgi7VLtm9Lgzn8ooIuYOjx6FRhLR514kKQZcDAN8EcsV+2deLf+GVG78AAAACQGfHGpCX/ewnAAAAYdliIQAX6iBc6448Bn/z62a8DoTgSp9954vgiaOFhdjvFuMdDDSYz7e/VVxJLue5CykdehsRzjuAa4N5NMVk4+3IpAEUzTR767UcxmAcd/E4bfoHz1RvUmUG31Zyvs4+E43gcgTSHY0dzRAamsz+JmBN/13oA3G2UD7ohhLVnxm7LC+TYZbjiAD5zi5j4lctVHZBUgnJMd/Us3XGM+sNzAUQRuv3VF5WywVH3L2ShOmoivPZAOIzuZNinb+M9HTP6S/tMEURU3tRt7va0TkyP9XKkM/F0QdsqFSK8o/ZobLwiAkwy5mu7f0QPz3JU3LLWbsx+r51ZcsaRLFyMI5dbGe5Sr3kDOl6kx3thMTBoYxIsDShUlAAKQA99tfKSgSZUr+i0QNjfoE+YJEgjZXaD1vFNm/utg2T51FlLtRIFE5MB5M1A9DZlB64YZ1xN79FRSASEvmyDKE5DKoEnVpTIwmosWfJoOYWDDo2kXTDuMevqqMp4TODreO97zyF7N2Zs34ruTWBT+BAAAAEEGaIWxL/4jwkDkZT2SKf4EAAABKQZpCPCGTKYV/m/AfUbI3H7NlzNwe3xc0V6NQFsmT0SLic1WAKiQMH3ungzJw8BaKL/4gEYMRidsskgRnurnc2cvhotEJOn5Spz0AAAIJQYiYwv+JAuZQU/MpFDy5pDRQg2/OUjAniOsCsSp7CS/em19SyQFoxkuIBKoWZq9qyUhBisOwptsl+mPY0x+KlDyymQUFUnepu6gUge/bw+JRMcAWlO/5Rc+K1mkwyS9v4iSccILTAT5KKcfJmoE/CMdCPXZrr5PGrFKZr0VbyYVKLmsTkVs5581k65sAMhIDBZRPYMoPdcuNxJGxZrNSsMum0mE910WW42jMctkWrrBXtTpOZKOYUtCh0F3ZuSJB/UPlg0jDOE8wcFbSAzURV5lRL9v3N846exIy3sBez6gAnmnLwYUCPJTDztH50YXylZrCCiHwHB4HI6vO5RdPbHCP4Rq0C1+ZUFJO0/SSZvnQ5yzYP03egAb6Jp6KRdmYKiSqJXOtcww611FLgKhNazPu2VOKp6TKBucWktGjU1q8YF/9oiKUhq0sSaKogkIW6ZlZjgUV/jOPqtggb39uB7fRqYsKXbmzvbwoae45P6lFkNZB7adLKhoH5EEseqsDpQOarwWJkiWxcw1zq4+glfwi+BD8TFVUNIu8zEt/+6RPVEAAkR17O2DcNkZLoh1MltD2QYT9OJYp+9z9l94c0DQpUQC96L9BhZpJ05ZtRpQepYIQYEhArL0bduRanVxdEA0ORTqj1MM4LIC0Jx+v9flovqI4tBLh3lryiugmO0xjoDhfdt9vv4AAAAA5QZqESeEPJlMCT8U5pKq1L9gANkBsHJ2sHpv4KHCOakLG4mEpqSwwawpe5GBJDXw2G3+F//a4hyfAAAAAPEGapUnhDyZTAk+g75bUT86hfq3Xdv/LXdWJwxbX2ujrv/UZZpXv9LZEbUZy1eXdloiy7p0yT1JiPzWjeQAAAitBiLGP8IeRH2v8DW18h9hHNQzs0wTQOKcdCsWkMv+GN/8SlbsQKGQae0e33b3lqoynqIdKQXTWVLACsgLqiNGR5luepl8uZaORx/ymhmWe/cu4BFLKfAei9bGpZU6aw5TQOuBO6b/AB3AbhbGRwnSb/KjYmTiodj+hlJM3133uo2/reuhK1ZI+5lHfHV4RDagKDfS8WTC3dL0raRk0/5qwEMiJPn9VA+PJ2vTIvrDANX4eh3wR+JzSh1EkkVFFa2vA4jPTI7xY1uFfjLQ5ZKaaz7FvrHjdJFSzOL+bQeY4FcSh1yDwRvmiOeW25q4K9FuZitB4EtnekaIRua+VesV6M/DJsXP/XrEXB2879GcBcqzlImNJw+4CBncHmCX7rbo1FY+1DfgQA2dWDLPWbskVWut+qZZGxzTOgOyH2ozgoS6Cq3wBA2zRC2AAGSjuGFcESrW0XN4VPNvc4XrliTzzafhmXrPlXyYHiHF9lPwGC/vkRfZ8OAyu5B4lp4yNzyStsJObwTLpqooDcVzXR5WHWw4a3DT4jAGulKU4hlBZho0Kp2NGRRg2f6UEKGcDCaYDzT7z9jTh2SXnhc4FScV0JQTe3VMGiFO9S9yOtv3bVUo0KegXcZHJyELNGagj16IbdYMRIMINSoj6AyHJsqR9JvhLbfNvgmtCU3BzJHBw8ZApUY/L5XzvzSRMH/+JhpHJ+VC5woSaRnqLYK4GZOwNCGUx6SiDl4OfcMAAAAA2QZrnSeEPJlMCb86Z4msKsR+L3hrmhwjBACypCZQ9wsuGJraRRXebDMcHywbk71qg5Zdjo4OAAAACBkGIwg/wmQgbzOP4GtrHPJjGV4R7tJB933TBGWkHTNv93Hqj1tDTMbcLDNpXwG7KVXEWy4dMJoHqYQ/Rw+LaD48KIbiVzIr3eiqIipydly1MvkQO8NYS07oSiyDnyhIp2WsbohkK6WIdfdXQJeyLYVYW3Cwhp2fT5QkRjO9J+sVlTheU06nTwXWg+LlV703x5oyXGU3uyo8oJvc9ISQa6IZq94grQspFZaNic5stxtGY5ZwpHkxR1Ok5nYGdvA5KbZd+uwuqpzEGTMZDGEQKV3teCvvYxMxH1hEShi/58zcOAgAcwvG5x6iGru5a1vMl4VoiSS5KUN/aIAvIvnrL2rViLcij0uUaZIFLr3HlLu2l100/2o7Uz5GvZLU10MpAgcD1wOr+M7oc0ywXWF5BCx8ggv91vX+4SZhkZlDQ7fyUXqj2Mc1NZ04kLcAr/DJN7ENHRUVCM3ok2bObU4SHe5pOgyq4kEpNM4dbq4ZepZcRUwc31q2RUMu2A/YyfxSDUlNreLEEvQpicD5hPM1OCLb7/+O43fNLf7QxmTNDaEHQ2kwD0wyeA3oCxDO3i2lrqKL3RelvcE4yUVOlfweVx0y6QU7yNTR8vOz+ByMtzJrrXGeGZE/yASWw28FmLS2J/JO7eYT82z2swZZ++vSjM5wP+JqaZ12DnW2hVsQX7g/S2ACGUTQlAAAAIkGbKUnhDyZTAm84bJ6pzXGz/zgO4ue65WFzJfArNOuCux8AAAAdQZtKSeEPJlMCI//SBIXN86/Z/Wr7z8+FbVtv4kEAAAAgQZtrSeEPJlMCb6rTS9DtsJBIsqeTTMh98BX9WTkPek0AAAAUQZuMSeEPJlMCb0Hx87dN9q0SEdgAAAGUQYjrR/98iZjZdH/A36HYFKmChjZKxl2C0DSxeRJNQR1Afvnt666ayhwvUQJZrA5ThZC0ch2WTYX+kfGE5orggQDpzxwRPoAvhect4VWSnWRaOkdwNid1johoWVSdol6s+8bBoDfOW63Z1gfEWzlAqV58ngsfjQ2PhxP1rW7JnR6Qlx5QrdWZM55ESbIzY73kPGDlK81IKX23Dj/FGJEcHH5jTh3smUJdHH0yEHE1kf2aUoxNguov+ABqB/nQSKeC5aSpCOXzqWMXXnY42ZzEK+uoNYb03/QU5pvFGA11fA2gbGT9C1B9LOdl8fxturRfNEyzexkX8uXyzcr5KhUk0xmA6AMQyQEGuZhhnmfLe0DLD4oJdybEc7VEebn0xg3WMcb7viDJ18/vZlU3CKCzkQTIVy4Gp1ix3CifuQwdw0jcizrRGtodyeGEvydVmlJFYK59DrkCZ2uPP4JKcM6U9plGscwhVmFfhpUTStybP0UWTQUOZv8awFHHcNPC+1iHRLccUbcxuv0sbFTgYovTFT+4pgkAAABCQZvPSeEPJlMFETxH0Ew6vEn/juC44eDo1LrpbHED+j/kIG0yNDisx9TJs3/dIwdX7/JARGk6TyLmRcra/0vwY7kzAAAACwGf7mpDH/j0qGJBAAAAKkGb8EnhDyZTAiP/0ExTJlIroJqObqj/fRSuNbAg5ZKNIUWumdm5wzWjgQAAAkJBiIRCf+yUxyKWH+CB7mgryHCi0We7ckK9bUXA6F9r4fEWDwDRR4JfbCrEpLJMTHJQ4XIOVBFRkT+jTHK/QeW9zN7RkjLGconK+iz/y6/U+Ce0jSzsfSMWTg0xjekWizEkcHkmFa/PTcvAX0xVXldXA0tAOZ0eWxEiYoC6aIJ4Vx8vL2KxPns6QT/Tb9xXC1tyVD/YHJTi2XXesUMC++TWb+ZWPwYtZACQVqJPkphCJcYuhKyjVx2OHnH3N49mOu4dfO7q2e3RtJM8wcW/czaiZM77AUWrbKc2KYM0stzx6QCDqTA1QnxiOq+epSCO8Oka+IeqxRqCu7EDDIFXekScv7bEVGXcroKc3Z8yTF5uoC0yT1F9YK/YVh4MX/IKClSpROP91zMaiCNzi0yt8TPyfmLvuNEU1T74vxzw6/v4Z/pfyy58K9MnExNvqW+HgjBF1v/R50IZv5WW63d36a5FOyZO5iECBpB7TW6YNh29xY+he6oT7M0ua9GVKYumPuxFzBSy23s4TMdiJZ5v3r+7sFQDioydrJWWq5lSlvSTFoTtoi4e7Fcc+j/m74SmFpOyXbLYdNTpNZmMrrWEuha7qVbuj3gdOwEouq3HELBZ4/mNKEJCbhE5QmY0ej7CYEjn5ixgwSbHjhHbwG2LeAmPi/bEUO61j1URMTvKOUGm0FcxoVHQ9bgQ5O17aWcM3ahM6v4MOqzfNcQ0w9HwNZLmvMPQATFoW3ui/t2DFbtxHgA3xv0tHh9apyzInx25AFhkSAAAACNBmjNJ4Q8mUwURPEfQTFlv8qDh7Amr5qzjk7MyYEAh4/njHgAAAAwBnlJqQx/091JeLtkAAAASQZpUSeEPJlMCI/8/l55JmFPtAAAAVUGad0nhDyZTAiv/w5/UpLcpne0zGrYY9QxN2R/8KIWGGbs7IVtrvC8mTSAa7JTpox8Sx/Heq8Pm0TepxmUMvt9YPh6bmMATKZVs7Gh+a6h0iOnww30AAAANQZ6VRRE8Mf/0+ESb+gAAAAkBnrZqQ1/yICEAAAAaQZq5SahBaJlMFPEfvJvf3oexk/1yhDExVX0AAAALAZ7YakNf+wKsJFMAAAAwQZrdSeEKUmUwIj+8m9/ozgZy6jbSV//XSmbZcU49/4L99EaD8hKpDdti1n+oOPyNAAAAEEGe+0U0TC3/9GfYT4RMFcAAAAAJAZ8adENf+dQQAAAADgGfHGpDX/mINmj7R1SBAAAAF0GbHkmoQWiZTAiPveq/4JSaJJRpwmvAAAAAKkGbIknhClJlMCI/vJvjCqDRGdF6XqYFDPT0sY6A/2qsXpdjZjrFqVe7wAAAABJBn0BFNEw1//XpWHqHXVc9DOEAAAAMAZ9/dENf+eAZlDxdAAAACQGfYWpDX/IgIQAAACdBm2RJqEFomUwU8R+8m9/wGfoaDXPV27XWpTGx9fBohdMHEvPC40oAAAAPAZ+DakNf+wLE2hOZp8PWAAAASEGbiEnhClJlMCb/qZIl//XegM4X7ziMZMTCqkjGrtDTW5iF/L+dpKMGu56Vj1qMNzlSZ0RakMtIO3TC4/YREOv7t9/3AMF5wQAAABFBn6ZFNEwp//QIECot+E/hEAAAABkBn8V0Qx/5OcvHU//5Rgw31j0R+6a49lnAAAAADQGfx2pDH/jQc3k7NoEAAAAbQZvKSahBaJlMFPEfverVoo1MwibozIgz80ZoAAAADgGf6WpDH/FaEVMCOICBAAAAQEGb7EnhClJlMFL/6eDsByNsVWBnz15wDcO+/2GImytw+pNv5j/B1jSiKTjqD0USq6HcFYR1Lxtoje96+Cli7N8AAAAOAZ4LakMf+qdlsdsoM6QAAABeQZoQSeEOiZTAm/+pkiY7Zuqd1Cf4kVhksHAkJ8aQ3//SgMCr54eD/UDU9xaazQBf0XQv1KgbrtBubNmsHy5ZiBEnJEyYd8etmUlMGBR+0X+x9Johu22Brqg0GYK3wQAAAA1Bni5FFTwx//T4RJv6AAAACQGeTXRDH/lUsQAAAAkBnk9qQ1/yICEAAAAbQZpSSahBaJlMFPEf8uSHdgwdAxS8fzOefAaAAAAADgGecWpDX/XpeSl5uTX3AAAAOUGadknhClJlMCK/w594A5mYv//9mDJeKEYYddZfib/sENRlO0K6AWivv8mJNLLLXi1mJQuMiMAjQQAAABBBnpRFNEwt//Rn9qdFaOwjAAAACQGes3RDX/nUEQAAAAkBnrVqQ1/5ffgAAACGQZq6SahBaJlMCK/B0ZOE0fOfmh/auOrcn7Ot2lekv/iQwOX19sdSedr/4QGBgJTLpk384Jf57fHq/SWiTBQTLe2z4hwqJWDHWfOZZft5gFftuCp0lWNtc7EjLXgn4ufd7d1gLw3+rNFIyM6KvnEJl5SzYGyTHYdTgb6rl3WpFc4pqBQ0ooEAAAAkQZ7YRREsKf/znk25AnMpTP+Nq5ATluIv+7ZJI27PpJNHSRqBAAAADQGe93RDH/D14hrCISEAAAAYAZ75akMf9PiEdk8uyb+6p6LnFJP+pUiBAAAAe0Ga/EmoQWyZTBRMV9qpGBeqaoDhOYv//9mDJeKEYYdJOfcNL/DsomZb6G+n6yhkqYbIePDwyfeaV+TvT2rPBquO//odvyv0Er84bXk15IhxdyXbeBw/TGDGdzcwFCHPDhKfLDlA5y0jCDy3XLXztw0m121u9Mo4obK9bAAAACMBnxtqQx/4/JLwTdNMxUb//857w5/RlvBY7ivRHVBtP+xp2AAAAFJBmx5J4QpSZTBSxX/E/goeXXh7bGqCnistMa6e2dUngfGP60GKSixcZ2ii/ADJk7vWr/LZ/EV2mF8eobIB1OF/1DW//BWsF8WmUxQlQwUhorBXAAAAJAGfPWpDH/GW0jUjGJgugxxqu+qUdIjV1HXH/+/uVuQ1nxQl1AAAAEhBmyBJ4Q6JlMFExX/YkAxN7PTPmjivrzcsi8S/XVWGcQ2Vy8jntftqDOi+aOUTh8s0G0xnmUkop7CzVeiNOJN9Kl3qC5EcU4AAAAAJAZ9fakMf8XqRAAAAR0GbQknhDyZTBTxXw594DLRMX//8vl5nOqoPTBcnPq+N1pUV7MgILtQddgLhKSpyQlASIdAU8Mbs1/f/BdWOS4tjfjU9+Gc3AAAAEgGfYWpDH/qn+okC8mxyA0chmQAAAERBm2ZJ4Q8mUwIr/8Of2MoNqoAIi/dA1kuwSrtxgDWOpvuR/oJDqranrrJ4MRbyx4N0DH/LSaamreCYvAWHD71DksEPwAAAAA5Bn4RFETwx//qn4+U+gAAAAAkBn6N0Qx/5VLEAAAAJAZ+lakLf8OWQAAAAYUGbqEmoQWiZTBTxX8OffCSCJQIQ28H556pXrjUJHhgu/rOxYp7duvF4bLV1xANlWiIi63tKPF770tjAdAX6qobeFmJA9mabgL1e0HF6XlnrkGv6AY39p0m59FNevTsRrsoAAAATAZ/HakLf+gwJpQhTWKHDj5IUgQAAAGRBm8xJ4QpSZTAjP8hbZWqEigZRUAXc4d8oIflqxp9mp/bkE2DePogKZjkjghscZDGNJa88kbfFgwq/hdY8PkKoqtEzq56aAo+6NsK8tgZbZrliN+JoUAJmoBLHQG6olY+HwasgAAAAEkGf6kU0TC3/9Gf2p2GrnEckgQAAAA0Bngl0Qt/43gtmDF+BAAAAEgGeC2pC3/ED4H4zaTjXb0TIgAAAAElBmg9JqEFomUwIz8hbVU/g94/BOX/1aeHeyWaxvO88O4/14Ne5kEVFwRmhMSaoh4EBP2Eh5QyQBKd2p5wehdpXm/QWSUVsB57BAAAAGEGeLUURLCX/+VsHOpSGR54JWMtWvgKF2AAAABEBnk5qQt/4Vn+KvJvwgJrXZQAAACtBmlJJqEFsmUwIr8Ofd6E7Npoft020mJV8vOhoHNK7lTIL+P79Puhw4sPvAAAAEUGecEUVLCX/8vs94KN0V71cAAAACQGekWpC3/hhOAAAAENBmpVJqEFsmUwIr8OfdzOVVQhebTQojsAAkN4vfAj558ul2vGLNL4Gwy7l0sVUgbg+/jfRuo3gqgp4qH2XegKY9i/fAAAAK0Ges0UVLCH/99FqUbrth/Yfwt6hiaJwTC89t07dLreB4xx84XAi1Z7Ab2AAAAANAZ7UakKf99RrQgtNgQAAABdBmtlJqEFsmUwIr8Ofd+ol4LeYBuidpwAAABBBnvdFFSx39sIJFwwc4L6BAAAAHgGfFnRCX+4mAzC3cleDOeYodEHNzspYE9Rb9nHXQQAAAAkBnxhqQh/s7ukAAAAsQZsbSahBbJlMFExXw6BTUUUeO0ZWAAT5C3bI35eeKKmyi5lbJgsNz627P3kAAAAWAZ86akIf99IHQv59KkpW2pzv4aNiYAAAAD5Bmz9J4QpSZTAgr/+oIZ/y6CVHZncMuq+hhRw89FszYXzIobg/ii6AB27rffr/Wfc0Exh3ajNoZ5CvDBeYgAAAABdBn11FNExn9nnt3XIUWEVZGO10ZUqpEQAAAAsBn3x0R3/1X0TZUAAAAAoBn35qS//zPTRAAAAAZUGbY0moQWiZTAr/mO5O2lPNp4yyYPb2wXLP7+ZHNsc/IOpf03Gi4RRdyKx1XwH4yZ5XDVpTBGD1bpmbdL0ZM21i56MCZxMPjc9hv/J0MKfOsZId+M8X1B2uVi+UTwtWu+CzmkA7AAAAMEGfgUURLGfvLPreLg0rAosgmz/vM89jeI3Pno4RXi2/w7bzCcnWMJZFKDqP7uygIQAAABwBn6B0R3/4OuN8zOnGxKb8ESSWEwMzN6RntyqpAAAADgGfompCH/XVs44UrSa4AAAATUGbp0moQWyZTAk/n65KVgvM7CAunzZuRi1JJ0qi3q87u+VZ1tePLNUoUONTa1/RsYMojnhV9zlBbC1w6wAO++j2WPsAu7rxXHK2+4/4AAAAFUGfxUUVLHfv3VON0QeSQ0n6k1zAwQAAACwBn+R0Ql/uJbquSITozPYep5U0Dw/qw5u3YuRzthuZwNrzv0r4TMtuFGPP8AAAAA0Bn+ZqQp/wGUaNS1CwAAAAKkGb6UmoQWyZTBRMn5+uS35oBOMSOV9B2a1HXRf4otKsoe0muYTboinqeQAAAA4BnghqQp/0CHup9SQGDgAAABNBmgpJ4QpSZTAk/zj24kkaL3mBAAAAJ0GaK0nhDomUwJv/9VphSYuU79pkAd0URVePnpZ7/lsDrS4wcsI7HwAAADFBmk1J4Q8mUwURPEfQTD9tkpTsDq5P8riQhxZFMU99PO2TPE7kZHrp6G2qcJmIFxXgAAAAIQGebGpC3/EcIqv/QTWFNBULGNhlLPO97LEqoAx/p4A9YQAAAeJliIIA//CGqVx/+Z34exJuUauWkbsTpG/AKmCFihHmANzjZgMpRTUyOikZ7gM6nfUSU1T4WbL4aqGxqVPZiVG8KUzFIbFgyBm+KaWOygLfA0I3QzyHguTvoRhM8Thmrrj5SHlIjI4xh1hwdylTOR7PRxaJELjCrCi2hEEr8Pg96eLE9ZSYcuPu8jsJb97T5urK4ejNcvFO+6qBBSFUrXQ3RTREoWVk5wjLcCzUOPwXY3LDL3aOeYckSYDdQ3KGeCYKKESEFNVaPax32LE11CszJ42373pzVUhDSKhfjUI3LvBfkioOFGns2xz7MrY6vfiAw0PWxxSYm2clib/acQPvCXc9r9IahaQzDS+oZQ9V8QLrne/XN/DvVDTK5GvyDk0DSxlP+eufKD/wKc1cSYs+/CCjczp2g7iDyl9kdfqw+4F/6C2z3Z93pl9wbtclP7IfcIB2PEk1UlOvCrLF9m6oI69R0fLRTYelznFd66gnEf2nbOetkv0Y4OEiz93cmYm5VYFHfnX08YykWYHBA1CjgqpsSfIDC73vkKthjTvooO3IiS6WT1GLhiSKDpdnfUVstX5kVYACo/Eu7HRMjf02ZfQy9xxW5NcPeBn0EALLiO7Bp/55qWGb8tFjmZ/CISNXHAAAABVBmiRsRH/F0cUIlTILOT1k+7GoYl8AAAAPQZ5CeIU/9AgrsKA1oLLRAAAAHQGeYXRC3/4V+gSp/y9JXohWSwrotFvG5+gmSwe0AAAACQGeY2pC3/DlkAAAAGhBmmhJqEFomUwIr/R0kN0jpYG30luD80P7NBCq0JrsY1AQzbiaMeoXr/iuPQMLBYqD9A/rsGsfUlquIXpNok6tMZI3ff++Cms8L2ZBROn1/N/AFxc8D+ZjXVPSVN2OjpVu6yJEapZg8QAAABFBnoZFESwl//kpFzyQOB0IpQAAAA8BnqV0Qx/7v7oKDrJ2mYEAAAALAZ6nakMf+PYbaugAAAA1QZqpSahBbJlMCM/xQvYw92qPy4LuQiDGp+sX6VO/IiAdw1mXfz89PgontXtpEDl5cDN5OSEAAAG3QYiyg3/eKKnDQjf8BeX/0aME9rVpAuKy3CH3mKdAwBhgrOEeUYD+yq5RJo+/gBRxVSl/V/4ucZBckQG5aTc5syoGPxCjApPmwO4lAk43aEMzBrtc95GvtkQUERSFWyVsQ0ktBhXj1HTW5EwtZS/ff/1sw0+DRKGTRHbaiX++ju2k/W2NLmc74MBHQSqv+Sv1sQso4dWPifeMPtD+donUo0EbJ6fEBCIrYym6c29fGtw6hKlpbsmqQKI/d1LowWbQjQiZ4F8dCmJyiwu6qChbOXgjGEd9t7qOiyVohHOi4LlAlvUctSvN2hCKa6BO/EWczSzFCLeRvYgtMmVOVyNd1J2fxBVSaSFXFE8ox+JV0yZbMzn+VDU65M1S0pPur4euN/bDtZYOOpBwQ9BQK97s0dmMadkfutcX5KhtvwmIaY5gyETGoE8143Sw0lbwKQKjJ2eKpYqP6imqSbL4+NWFVphfmL9TNEdcEhsfHwBSsJLL/IzG3Z1O1bEG6WnM65tS06j85VUS65F7MwsytAjQ0yhBZLin/IgbrAqfBb0iIbrfnarpFmyFK4pHvYbczPJWFoDv153/wQAAAHFBmuxJ4Q6JlMFNExX/3mTBFgBModMUVqzjKki1idAYorOvHLjnQrD1IOP5qwzNFFXwCjTCYr/CwTZF79nBC0ic2XC22tbuku5Of9R1CetKMdlde3e3YKD5iZuJyOgxLtaCm2fbHh7BzFasR3x2UvF+QQAAABEBnwtqQx/8xX6gqzAvcK/I4QAAACJBmw1J4Q8mUwIj/+3XRsh6eGWYf0DalLcQRde0TMQVL5VgAAAAIUGbLknhDyZTAiP/veq/7KmCCuR844ReXXIjQ8r4Bm5GRwAAAZtBiNPCf+yUxEVl/wQPes54+hEWgbOxCzfGabWNcXxB/pwUBQTgq2AqnwXsijQJbZc32FOXPVRUmq7ok4ZHPFN5Ur+/qzbKeBsETzXze50EH6jm5/xhdaln919oEsGJobCr2lt7ybZKJ0yaJVFeyI8P6ur7xzywdrK7qsdLgL4e/bafjBuRyFfe0J/eSTV1BrzqwSdk06ld6jeaR9Op/jZnl+MR8SRdlb/dII/puoJj2B3iQSXnTeel0/rjBbNWEaHJmXw4mGGqWI6ym9YRc+dwyzDIteQtT6857p3638OQisV7RY69BFx+n6gXKcVP7btT54UkT9ysDM37LH/DuKwlTIKNUDyxXHdJEjFofgOGDW6HcgCoXRjS4zBIQTPuBIp2hJcGQQKc9L7U57s9w1BafiykSPvkGO7cGNNILc6uzx2R6KjZh5++D9+nFGynuVBPk+GiYcun/uKMMmXigUBmlpbbschH6c/+y+aeElADc4QVnPk3NXpwZGp0Asf9zJylmqBQcVvJMih5+cT2lUH/dTVx/wr3IUOqf4EAAAAaQZtxSeEPJlMFETxH0ExZcO8Om7XfxRn+5uAAAAAQAZ+QakMf/MVrfhNp1jAp7AAAACJBm5JJ4Q8mUwIj/0iwdLFDYr6KAdXKbLkE5ef3sxMvJ/nbAAAAL0GbtknhDyZTAjP/xpDjbknnWjj2SQ89xTZymELayg4T2Zks5yptFgvs8AasXegxAAAAEEGf1EURPCn/+Xr9+EMYxDEAAAAMAZ/zdEMf85uYgGJSAAAAFQGf9WpDX/mEz2gNGmbgaAa6cJa7wAAAACJBm/pJqEFomUwIj9AqeV4rL1U7KzRj4LkeIR18C4CX5vQdAAAAEUGeGEURLCn/+av+YIhekPQHAAAAFQGeN3RDX/3M02B+b8FpBUbrEHSW8AAAAAsBnjlqQ1/16NO9TQAAABdBmjtJqEFsmUwIr1ZtCLvbrf/uy1FFcAAAAEhBml5J4QpSZTAiP7yb4AHYgbGotK//sW9zFJ8F/3uC3hwRzzOrG3TzdA60D8YhTm7/4jP4XcSSRKnxDKONjgvPnPnGpo+VeHkAAAANQZ58RTRMLf/0aFn4/wAAAAsBnp1qQ1/5hIAEsAAAAGlBmoBJqEFomUwU8R+96sAWDgbZ3L++Mfflfr+QWAHwmbA6uU6xngPBwjxG7vMqwA3hbKUcn/0THYRuDKBEK/3SW4Xdh6jn1X7PNP+89buCHLbhnfz/cF//IFOrXbwruwdP3it8k3SImmsAAAALAZ6/akMf8YZwYsAAAAA0QZqiSeEKUmUwUsn/9v18UPDpi0dqkr6dIB4QJEzxrKFGK2j24ONSBEI7ZnEHWw1dWlo+fwAAAA4BnsFqQx/6p+extNrYgQAAAEhBmsZJ4Q6JlMCI/7yb4AHYkleESv//rtEy3wZSlxtDm1X+WrDbYWWPNL/Se0fq+4s1RcXkhrSbMXLCauZfftezf6GIzChW9sAAAAASQZ7kRRU8Mf/091JWarKmxfvQAAAADgGfA3RDH/ko7GYuFnZxAAAACwGfBWpDH/GGcGLAAAAAI0GbCEmoQWiZTBTyf+v9e2U9UMx9J26OiWjuFkMUDbKexk8pAAAADwGfJ2pDH/qnZbGO74AXiAAAAFdBmyxJ4QpSZTAiv8OfeA29nDMX//xXGtBuaX1TrmVJv4rQOJtA9pyDJb+v2zD+zj9AHA/YoWI76WuNOz/6eBYOZdpLaBOLe4hvkASY9QsPpdud9fkeJnEAAAANQZ9KRTRMLf/0aFn4/wAAABYBn2l0Qx/5XRjFY/zKfsemn/iFeiw9AAAAFgGfa2pDX/mDrsyaTLw/sjSQtQ3tg8EAAAATQZttSahBaJlMCK/E/e+nXIM2HgAAACpBm45J4QpSZTAivzPuEKLmV+CqNSKt8h7fSG3z2RiqOYsMf+gN3x29RcAAAAAeQZuvSeEOiZTAiP/SBIXVdVh34Qg6F/SJfDpk4OjhAAAAMkGb0EnhDyZTAiv/xP3wCro0eyX/2lFbNtG80QEMs880W2PXQP8KuwQYZp7eqClBRyucAAAAFkGb8UnhDyZTAiv/O5GwkCOjoeMEy4AAAAArQZoSSeEPJlMCM//dJIEEFv92KI2/ll8nr8plDc9EtjYP9embt7136lBP6QAAACdBmjVJ4Q8mUwIr/8Ogbt9cgiSDV8D/iF1q2XgdRSCSx6HpTow7m8EAAAARQZ5TRRE8Lf/0Z95WxAF/3uEAAAAMAZ50akNf+YcWp9C4AAAAaUGaeEmoQWiZTAivw594YDE2wyf/TZcmf2tVBhFgd+JpqgQSK6Z9y/jlsaGLTf9OTxu6ljkfdtb0qSmeeqItzTutZACJonN8ubvrBDrV/fVBQuxNgqeOpxBjmxOZDRRm4s6aE1cEjLZyXgAAABxBnpZFESwx//j5+6FfbGh+OMx2RvtwcgIyPDpBAAAADgGet2pDH/T3UlZr7ymAAAAAXUGaukmoQWyZTBRMV8T+Ch4LtMnOUToqaCsRwc6IgneTsEsSG77MB57Q1u2v3OzP+NHuDwC4dDSuaxmRh134bjs7qhdr4MSYPnAH/zphTxSL/G+6y3AYcy47Cy/4gAAAAB0BntlqQx/44l8FIR9CdY9jwfe/prK6gVt3VeNu/QAAAFpBmt5J4QpSZTAiP9AqeXSoYJlvCJX/+3z2UDAfMxHOJbDPE9vI2O3JRVeUcBo1lCc+bR7OxTn6rxi9B2n17R4/flLtLXsVDdbeyIdXzuBCMZEsmWUGcVH3M4wAAAAeQZ78RTRMKf/zngU9eSsR5lWNS0FwFmAIk6nYptmpAAAADQGfG3RDH/DpWIWqybkAAAAWAZ8dakMf9PhKAWhyy9ydpqokXEDn7AAAADNBmwFJqEFomUwJv6mS7i6m5PFh5uzL2GmOHNuL8SPAB3KfNuJxGpoB2K5r4UqCba5PLcsAAAAPQZ8/RREsLf/4aieJnRaJAAAAFwGfQGpDH/qn8OGGhc1wpv+yOvjHjAJNAAAAGUGbRUmoQWyZTAm/qZImGCQiKc0A9Qlp1N8AAAAMQZ9jRRUsKf/0CGLgAAAAFwGfgnRDH/lgUtNiXDx9/3do4uJH7HkQAAAAFgGfhGpDH/j4+MK60yv+G7/lRafcOWEAAAAeQZuJSahBbJlMD//JEjw21F+pVAr4e0UiO1iLXlKoAAAAJ0Gfp0UVLCH/99HhRei+V0c0p727YGtWm/enFg3zYtJjeDAGD5h3iQAAAA4Bn8Z0Qt/v7by4KKsC6gAAAA8Bn8hqQt/0aF7K72B9FwkAAAAaQZvMSahBbJlMCX9AFhZN5mTcLAEoyviPTi0AAAAUQZ/qRRUsIf/154HXyQ/4QCer/xMAAAAQAZ4LakKf+avRltdm2I7c+QAAAFFBmhBJqEFsmUwJf0AWFk+vTCbgQ/vgB4UkPZg4FcSd/xDMVb4jl0jfgcCXiGzplMRgRMaSTIleWy1Fb0SQvQ5TDThWSczFxPPpmBjziMhJ+8AAAAAYQZ4uRRUsZ+8trq0TUBHDcbXXeEPbl1r4AAAACwGeTXRCX/gPZN6nAAAAFQGeT2pCH/XngzRXxrfDiOQGxB1sMAAAAflliIQAT5+In/gfgTy2cqE24xiMQHeX3Yza2Wy6PfA/lcho3JIGd1Nc7FNZ/0oHE13o49NJyqft+NX9lAma+aREBSaCMXD4WP8lnWxHPD52DsXNst/vY+w3zMol3+6LGMjr3p33utDkzEYFuXiN32x+hTkj4X+zqDeRB4ugMqxMITVYaft7x/8s3V2jBoXSMSb9R++e3hHJVKhEmqULWyYiVHib431X45TeWLc8XAyk5K/JCRyGh4tk2XqXVX8P3SergzGOofG7QlaHaieitYbBYaTaCfFNpNKMwPCjzY0nCddYQmO6U3Z7ucT7+uGvw4qoK+VzZO5g4j2ocRjLMLAidwtgeOMtgEmr7ufKXudiQKXrp0q0vMPYqsDepY9295m7w48wW6QbK2kvS3gUfoc9ndO+ouYdn3rgjTFwHWAFrtl91FhiG+jW9d6EhQ3vkdV+XXSvzkb0LasUuL9WeCcAlt1C2sn8xFKaR9aaM00Fl0rLO5c4jMzdPmvBjDLxXgPEL9IjADQYHRqZt4I8DAElJBpEdU3BYf6ozr1yYyquEhvs78VrFGuh1S9NOTQ1YWds/s637PsY35RZC36f7kkH/4aoeCF8sb6B/pqOsWverpT0KF3rwnVy384MO1yz4LD9HccO+z0oD9+ZeeBgMg1/ZVq+v9B3Xx2AAAAANkGaImxL/0cPAZOIM2P4DbMmDh+RanUho3YuI5DtGe5St09vrvOwiZirkYd/glwVi1pXYBR94QAAACgBnkF5CH/2Yp23PqkOvMWsoauoOIVqLyBbeCbxH06z9D7/JEiQtZ7BAAAAWkGaRDwhkymE/3tc9r8iEGqMyCfsBf83THaQ4wiXxEAajFmDOKGMixlJxq6i/FMq7AW9AoM+X+QF/wLKeZk6pDQ5iNmn4V2fAPe9dUqqzoF/pW61OopNAV4WgQAAAAwBnmNqQh/s4JuMpMgAAABQQZplSeEPJlMC/8FTAMHFvV31r7VvtHMT8R+psNsz4cMFKBiyy1+N02zxlTb4Iedh3/RBKLe55q9OQyGDXbJUWMTWEJr530wET4twFWMem/AAAAH2QYihg/+UAdWLpfAm+jVqqF2lWhFfxy4nuqSkfS1W1P/QI8Dr7eoyadQmDctJcq1nw775fdUgBwtx8s+7JvfIFIr9u9+X8Nx3D38v8vwm4ma9d/G/ILQ996mIvvuaZVJbk3oo8up911eBVV4Ks/aZZv/CAS1Md+iCz/yPIsAIaeIWec7C1AUglMKPbBEQPRDQFaU+OkAh/uhqniOnCmWWQAqv6iqzAsQpXnMKviUgJMYRq4HRvXPZSTanUdsCUiTBaAg5VS8JUJBQZARwBFwohdb6KMcMAC7J+/ZeX2EZXT55M9o8CM3RAaeqnXqjsabMbDzKpah2bAjM1eUnV1uG0QSOjK7IbxQmdvW+gn1qDcfvEF1dw1/tMZ09qMc2pa/AbhJMJVTnQwqpXeI1yDiSVBDhcD3LZ971qQhLoqUCxDv/bnPYTqM0xS917pKjPCVPDxor2vW3BSgC4+fktzRXgqjV8X8teXAQfoAstQGBD1xHzgRXe1dcGpNuL42DMDfIw9udsDauEILwLf32HJJqDIjN/cc412j0HZTI7ftmCGSNd30yNu1bZxXtSHt3SG6UdjqXdzApmj3vKD+F13ktCdTVpfngYv9CJWXbMPnPClCeGUMlG4l3IVgbi7YMTV9snUw1USppC0YvR0AfNtm9HKcz8qovgQAAABBBmqdJ4Q8mUwP/L1pV4+KAAAAB40GIsgP/lAHVi6XwJvozA9p2JWtzO6qmZoBjq+MpwfS8pqsoJm227ADt0817NVC9XP9kQbSD3Ij8Zyd23KlgUi7XjO6hr1TKiX847q9lEfqeI3jvoVbObcKFw8i+DpXWqo8vYUfpCjkt2FRp5aMWH6FRHK0Hf8dX15Ud9aScybxx7Lp5w9FpGDtuHcJjXfQBc8cel0USXPgSqUMBxsfDu657c+/Ax47dguZFDLmeA5k5mBGKZ2j/e0rv2F1L2W0hDZTRvuMCOHRGijfETZHJBD+DFzBXWRmRu7+rc9fThIli27WNjqcmStIWU+31PN4a0cxbsZQ2CrkmnJUMfPfXan9d7jWQLlA6Uk1GYWEoIax0kBRKVIpSYDALfBAeBd/xWtEtqT8OOneYn/ImKIfFahsiwncHKq60IixKSYiByvJfDFuSvyhnXwGumfjHaCaWRvO3hiGw3nVX4qn9vvntGSuNEdfVFpGU61Kc1IyrUiW4be26xompkTcU8cmG4MwWHnfYs2A6Dacf8Tk/azVPIoqnpQr2wrTAKsgl5WP+e5Q5lk5RlOMwaGlttt0eXL6UZbtH/zVz0PrfxCBKWVwXY0aazwfIm/cuwj+ToxgeOlMCibjNeaYwg6FNg3/KxHpp0aysfwAAAB5BmulJ4Q8mUwP/+jPuADwZTxuL+TtS2TuBstJYTuEAAAATQZsKSeEPJlMD/y169h8z25xAwAAAAFNBmy1J4Q8mUwJvqZImW4A7qK//r0a1zmBNAGridQmaESDAevg0HYeELWpVv/9xMyS+67QL57fLxYnS55qjoOyFl8kGM+QWViHdCgCK1R/+PP5fEQAAABJBn0tFETwh//DtP0Iez0bX9zEAAAANAZ9sakKf9/v3kjD+gAAAAelBiNuP8IaegP/zO/DxH2Ec1DOzTBNA4px0KxaQy/4Y3/xKVuwoqCG5BaG168srs+AauxgTqtl9P8IQYiR/DMI+gqDasGB2nW4cg9GimXy648j3wwIZsplNlR4M4bJZKOQ6XKhknuUYcE9VDjYeEikYxgIl1Je0N6xL/EQI0eYGkRbejpeG41ozfr8lvqUcMXfdmnJZHMqnEOkqNA7xoUVi8Xb5SEfw6YsZ2MQ5g4awb+ql5k9oRWXUg1oEgkLjhR5WJVoaSD6/rT+2oQJGpzPv+UihFPEZPnIZcmt4WQxZDAQx0JngggWghPm+0SS7yeKggA+kyLdKfigk97bw1CeC/wVZ0lZbwjaeRtm+RAL2Xh8lPbXUkD4RYNnVvFnaZaJhVEida64h2OrVMB+hpMsN53VOyAiC/4mIRImm1o21uRkXMOEvSE56ZPGi7o97PhZr+TMGTl9s/5U+ik0ONoffwa7Z/RZXzwWP+89iQYcZ/IKSc0FgWQ12kYORkmGgHK9DpSdulCBZnr4xnKJ7zQJ+0VmNOGJ2OpsWPM5iCbPk8dZp9zkK0X1tt6GN1LxV63WT2NcxkkMFrwBHYuHZczLSNAZ3qRorzdweDomy0QeSoQtOu2TO8ElouLIWE+4/hi7thKCH4UK8IYEAAAA6QZuSSeEKUmUwIj/tVOgdWiy2m9xUWlf/1uen4ghKqperCM2n47DsZN/BqRN67B9UBhj2HSzs+vaM3QAAABFBn7BFNEwt//Rn+HLRvfqXQQAAABYBn890Qt/ym7MBQJ8tBiBdHm4/LWwbAAAADQGf0WpDH/FdXt1EBhQAAAA5QZvTSahBaJlMCI+96tVvbiYNkkHT9MaA+ztdhVriDqTaaXPKHv0SB39jArdUYt4bJ7LPKn/eGitsAAAAO0Gb9UnhClJlMFESxH/QTDrpUK0jyCL//hcKaHZ7k1p4cfrudZHuAJz3OJbRH4KiNB+0x2IxSJFMd4fBAAAAFAGeFGpDH/GVe7GjQkD1J5EHaLv/AAAAI0GaGUnhDomUwIr/wdGXrgQCYIX4mHA0dYxkKcjnCm75lLrlAAAAEEGeN0UVPCX/+Vq+9I50spAAAAANAZ5WdEMf8PXiGsIhIQAAAA4BnlhqQx/096cHW8U4gQAAAGFBmlxJqEFomUwIj7yb4D4r4lLBm5yv/IZoksjUmrG+POZo6Fff6edEqtFnFtgKP7vZ9z3a6kAMBHoUxcRXGQXVTE/py9QkXH48oKntmSRjT72G5x2p/vJXJxe9EH/sDKKJAAAAEUGeekURLC3/+FZgVj9zr3p5AAAAHAGem2pDH/qn+oXvXYfKfAAXARrYS2hOkedwPSAAAAAsQZqfSahBbJlMCI+8m+MlyQ21q7+0HHJMetSmLlnnyaHt4Kle2ECghdaVDQkAAAAQQZ69RRUsLf/4aiYo7Q39LwAAAA4Bnt5qQx/096b8kfwoYAAAAG5BmsFJqEFsmUwUTEe97UWQfBh2ON3LRvj5guY/0Wlf/zbvGU5GLzL+wwseipWiaIXEwqMR90cV/ogdoQjtbL4scFPG/dHpHu2qcMzJn3a31rtINZ1ixmGXamL/9Xtd9uWZ1NIUBop5VWLaBhdsLAAAAAwBnuBqQx/40H5RdS8AAAA3QZrlSeEKUmUwIj+8m9/1jWpx08Nbutw01sgjWj5ytJX/9QMUrJG6zeoOZFgV5LB1DIa/3pzGhwAAAB1BnwNFNEwt//RoeA4zr0/hmewvODbD/6KaHusv8QAAABwBnyJ0Q1/xqpk/Fk56+yXxoCZ/1v//iFXTlz/AAAAACQGfJGpDX/IgIAAAAEJBmydJqEFomUwU8R+8m9/6PqZrSv/64Ih8aq7TmCgDKRXfLR5+mW+qWqhV2MWyK2IAxiG9rpkMRLg1r1FAW8lZOLkAAAAbAZ9GakNf+wLAwfPe88Rf5l/55vD6fflZJHVgAAAAM0GbSknhClJlMCI/vJvf7OQwGtLcvBF//zLencgOzG+fd3kAeix9W+X74oaSx0ewUT1MwAAAAA1Bn2hFNEwt//hlcR0pAAAAGwGfiWpDX/XpAf5zoVf//bu/0b2/03tyUn12eAAAAFZBm45JqEFomUwIj7yb4AHNo7guOHg6NRkO7VWvlTcdmee3N5RXTBFHFyzmwXGn4T+F0yQGg9fFEonNKNGv/CC6+MF74YNfkRwf7zN5zrS5CPjjB86foQAAABRBn6xFESw1//sC/KP7JlkbsWOzwQAAAA4Bn8t0Q1/54BTL7g5WhgAAAB4Bn81qQx/w4bBf/XgywWVZEQgllWAjGYa0RCmYPrkAAAA3QZvPSahBbJlMCb/SdoBsk0lFMpqoGvFaHEQTmmgKuOtqV+E+NfvlK5tRZL+b7ceX3wm//LGTeQAAAExBm/NJ4QpSZTAiP7yb37UUElkU4iQKfI6//Rg7xX0VgeNwa//y8r364CKi+4oEnI4mCy4BptN/nBMc18+onGkWezJzu3uMaOxBH7LxAAAAFUGeEUU0TDX/9emiznJwt8GQ9/UjEQAAAA8BnjB0Qx/5QJhPpVAZ8BgAAAALAZ4yakNf8nQWkf0AAAIFZYiCAP/uYCVPvfwNY22tIFeQUdtZsFIzAQ6yPbJAAKcVlWaa1H5iDKphu7vMLduAzELbRezr84cWwAOi43ndoWxSOzc/ZcTq72lpDgy1jM83fSqT5O/t3IX0dDVSLWLFH7Nro7Sm3BMDwV06TUS0RxrvVRqmseu4HJnFqM6hpzBm2ou9TJg0yFZcx/jI0B3AoTb2Q+YgCkpcApuhTtUW3T8PXCv5nQ4O9fWJ01m0hDI9NUJO+YN5SsG2UjbP0oPtzq20kHxpiWFcEwQuxZumtWK7LZQtl4TeeiLQZB2S1+nd843u6hMFfXcCWAmlF9XC4pKgd1suhSZ8yiOeeVSTwFxQqJa9UrsKzVQV0z22H/0ubuqX4R7RtGEJ+BDhQSNU7uGgvupEKFFEwIu0E8OWADCl+VtmqcB/AI3OzAR1MCGBA5peUyMgLFlTSfZ34Zb8KzGc2gq/qIHw8UPbhx8F0s6UACO4dHufIy5nVHmrDTjKARzAJcY5EeG5LR5KmnUAIw5iOmyeu4aeRE5RjKTOGJVfLd4S5pi/+xE+NWCeDCtJZGycy0XgU+09Mds19/yBUIhS6533nlO2vRlCiCRVlsUr10d4mNmnWJBaiAFI4APscA45w7tPva+ldU2M0Z7hQvIQBLwwmPOUw7akgigNryeCbgnwvafSqo4rsgLsESn8SezecQAAAG5BmiNsSf/xHFxiaRBk58Txj9l6SLBXFg785FFhBqy1fnVdKjGqcS9dCRHfLGL6uf/8oZR8JJwFhlfaPhvjXPJIviHOBfYqqzzpqMvTYjkVA94q8tAHMGReAEVEMy6kclVvE0mzmF6K1Q+nBh7F8AAAAA1BnkF4hb/0aFhO7HcxAAAACQGeYmpDX/l9+AAAAFdBmmVJqEFomUwU83+q00xljf5p72gTxKe5n/g5KnHUGMjEksh98PtWeyE+qPTyHlERBIFDRDEvD2xZd/UVYz6MtkweiIrSdZIhPkgshJol12lQceQGbPkAAAALAZ6EakNf8i4nZCEAAAAtQZqJSeEKUmUwIr/YZ8EL9KbStBEFlpW4PzQ/oWRUGuspYWr80mf21JyCPgrhAAAANUGep0U0TCn/9Ae7mS1fdOIB8qONdkTFCWgTV/9DX6ywvPz8ScZr953vEy5/SrzQIAA2O/uBAAAAGgGexnRDX/vrnBQo2c//+GfvQaUv+fq81QOAAAAADwGeyGpDX/lZACy40DFlgAAAAB1BmspJqEFomUwIr1ksCqfnARkv+7hevmSGg+h3uQAAABpBmu1J4QpSZTAiv8OfgC4ezvss7Uv4kcUfgAAAAA1BnwtFNEw1//Xo071MAAAACQGfLGpDX/IgIQAAAhlBiMuCf/JfjO84L/ggOWDpWJH/Ck2LDcsZJV9HCVhB4AbHzyq6uktCTzU8Y6aLVzoF+4ERyLS0Dj+hJZ8gIAx0J77JuWpGE9n2ia4T8rv7qj9KIZa+TKmmyytotnRgn6WauK6KNJ8v0wWXqFRP6DDZQcpSfBj/AmbuhS7TLDwMtsG3BRoyjbwEhtZZd6TDAQFOFDPyfUga38uSFzvT231S0v6w7NtiqAoc0RHpvqW0OuAI73mr05lkwTTDs1/qjvckRJ27TJklYcFpXULG/lBpZLhEdkFhV1bVDJR4f5kBJSgId7379HHW0ZswbGVGR4otkxQ1MdLFVlDaxpLycKXxwjP5UC50pkarClxU8u/+WKdClTG1+4DdVSAOcBciz4r4fTm4wbKmx/14f3W4+svH4L/cgDRGS1p9QZR5Wi+ahpuGkuqvD4FJZAIikh5t2t7/KNpTkIDcM7WghSbAO9de3azb+Axe2wiy7cEWMQuWMf2G7nWRtauwTa5UZ4eQjsjv3eTam9qHVJEmw+5RFUzB8fAXacELQfHKmkId92BIGuI6J/OAnvxzmXjKISuyZEMSqc5DAwlOF1Nj2MMS5tHHQzG6WNUgWSHeK48PDfzj0ZYafGb5HgnoJTtKANnIzH0PAIa/uXedjz67KrzU+JAF+sIAJFNf3T2OTMw2KP2N+YDu6VR5Bn+l3H/2C0ZUqDFTdTww1coZEYEAAABFQZtSSeEKUmUwIz/xaSTonHv+p4rmFGClRm/ALZogyGlRLFUdiesZleGoxe0Oz0fyZtUjr9HfnoVra5YfWeKO+CN5dqT3AAAAGkGfcEU0TCX/+VpVB/ZtrqPjc85170FtcWjAAAAACQGfj3RDX/Ft8AAAABABn5FqQ1/86XrY+XqJbCmRAAAAW0GblEmoQWiZTBTxn90ZDbYmr271GR9yAZf+0kxIiO4soZ+D1McuzYNze8zSNQgEhblXAGLpTu10MRIYSiiEqWxn8Dnq3eBmR1XxmZbYfuwEp/EwEFYoPB3qskwAAAAPAZ+zakNf/ee4rxSEURi4AAAAKkGbuEnhClJlMCM/yFtZ965xPR18Jsg4cj+qVNcbpMkOipzSwLmmsypk7wAAABJBn9ZFNEw1//sC/WV87JA4gmwAAAAJAZ/1dENf+dQRAAAACQGf92pDX/IgIQAAAGRBm/pJqEFomUwU8Z/IW1TqvUZH3IBl/+MqiHve2TCmXcZodVn58eWr/8qK+Woh5hN9foIHcdw2uAFFh3YVDkbp6fBg3pBKS/LwZMqg6hux0hUwv0nSpeo/4onocZypeyAZH6PbAAAAEAGeGWpDX/sDCbO+9glFVxkAAAApQZocSeEKUmUwUsZ/yam/kQZKcNK9RwZE0QWFz5cLSQw+1KimnlM90O8AAAAJAZ47akNf+X35AAAAL0GaIEnhDomUwIz//CM+5q7XPUbH0A4ezUoRtLFSajrJkJUtef+jLR8qjejgwC3hAAAADkGeXkUVPCn/+av5ZkJAAAAADAGefXRDX/F+w3XcoAAAAAwBnn9qQ1/7AriAF40AAABMQZpkSahBaJlMCM/grgn/Kh15tSVCI/Pqg0QGG+K9P6nivwj0j2R0I/u/P8O6IM8il/g5dui9E1cBfG3oS3lokKRrGyFpkMJUSCgxgAAAACNBnoJFESwl//L6jluniWgGpcg//6LaBFfQUdlh7hIjIVMJ/QAAABQBnqF0Q1/0OCn3mC//mXvr/NkzwAAAABQBnqNqQ1/5iDhnuTP6KeODgZFMtQAAAFtBmqhJqEFsmUwIr8HRzvzXd9RdLf7bFPM3FG4ZQlilahAU4WTSfevpTKCBtS0YW0ps/zbegOWKyjB8J80QTIeeYJ/QK2ZdlJbc4Xy6eXEBTaj/Ml7gSLR/dB+xAAAAIEGexkUVLCX/+VsGxgzYPm4g+jcjz5wR2KaXWUfRRx8lAAAACQGe5XRDH/EMEQAAABYBnudqQx/091JXAZpUafk7TvmTw1aAAAAAX0Ga7EmoQWyZTAivw59/rKa/s8PYj9tobSmF0tKu74AAuknN4Jaziw0aqcdXhLGdFiQYJWmRzt84DBeDFvc68uaKx67OWcnF2t7O+xuMnAGRlTh2TEcltnKDYNtqfFGAAAAALEGfCkUVLCn/9AibZ2dVxDbk5/79wlfrmRANWUSlWwn+v3C+lZaMcfV3l9OhAAAAFgGfKXRDH/k5yxR0/arnvEOfe2TbLyYAAAALAZ8rakMf+PYbaugAAABiQZswSahBbJlMCI+60a0ZTBYDzEGU2NmF13/+tM2M3Pmn/zRXFRT0m1I2KICn+bXNd7cd7cgFbznmJTvlxs/L5en9Qzzth02XAuWGYsP8EASVKUYgdOryxTrKAaxKkPFkpd0AAAAgQZ9ORRUsKf/5q/5WfPz+Wcb+cEPaY+Ra6odP8hIM5VkAAAAKAZ9tdEMf8RQbnQAAABgBn29qQx/6p+ZWW5Z3/Y89MxTHCkSPj8QAAAB0QZt0SahBbJlMCI+8nTptG2X2l88Ilf/7fPZQMDQtU95sdiTQbaVtACnMjjNt5N3PI4ySPttoTzE/2nc77rMT9A2JsxXW8s96cfpnDREUt4hrgxztoxws5i/5Vdl4B8Q1IjG9sCkftaKH4JSZdtX7v+pu7cAAAAAaQZ+SRRUsMf/0+EJCOd/zhUaXbv4g6oLqJcUAAAALAZ+xdEMf+VrnglAAAAAVAZ+zakMf8YNaPF/LOI00rawYN7+CAAAAQEGbtkmoQWyZTBRM36mSKD6abHtZ/qIa1nzDzxffOjS8bMUpjCAVRbzfkGJKpdgsc9q9alFgpXuNruXT62VBSEEAAAASAZ/VakMf+qflOp5f//VI1hRXAAAAJkGb2knhClJlMCb/qZImLs5A8Y/4/qLW6jM1U+MTQWtpFERWwo/fAAAAF0Gf+EU0TCX/8vpfOXxYB1Jc6pi84xbBAAAACwGeF3RC3/i8zQ2AAAAACQGeGWpC3/hhOQAAAENBmh5JqEFomUwL/77y8i39tq9lPc4jWosDz9bR/sur6y+E8mV/P4mLUocD8J1ScjVmewW0I72wtDuxnr/CjoH45cjWAAAAG0GePEURLCH/99HN9UsfOZzZgpys7UAwaMXPzQAAAA8Bnlt0Qt/wDlLv8yxdIH8AAAAPAZ5dakKf9Ah0YCN8glK0AAAANUGaQkmoQWyZTAl/QBYtAU+Po6WcI/4HsB/SnqcaocxFJP3RfTnb5dNHRydTwHyMc01eMSqAAAAAGkGeYEUVLCn/+av6LzLv6DZwE7HJFN6FTF7BAAAACQGen3RCn/h6eAAAAAkBnoFqQl/u6TkAAABNQZqFSahBbJlMCX9AFhZQ60LlP6IJwsP7GlFsYEl/TCIEEMum1FFz5FmTRySG7na3ENPnf7+XNiaRwq5hl+73N5j+OQYk+BO3KeFc0JAAAAAfQZ6jRRUsIf/w7Q1zt1P8bWQ9ZWoZ7RJcL1VB+AvhkQAAAAwBnsRqQh/18TK97tEAAAH4ZYiEAE+fiJ/4H4E8tnKhNuMYjEB3l92M2tlsuj3wP5XIaN0vjUOfhJMxv9KBLOsVwH1DlVKz7yg5Z89wBkBVvnKrUedoc0ty3tTYqRigMbLiZA46eWBtj14v+IFp9EihMyOP3uc47zCi5kqoy0h8IS941WpZBSEyYJ7+TvlEXZ8F8HYvSTwAoLBGmTwwSp8SUduILFM+9mbnw7V//I8xtbsQytsJjSEdRv7W0Z1hv4pOw0V1X4lZugHghEInF9r1yOB25tGAfi75lqQSFQcQmf53UF/EKQ4xPJ2IwDHqEhmiHFqGHYPCa+aLX0po5MVuQrnG6eP8KJSbERr6UUSMudzoDy5Q62J+E3x+1KFdkhtjBcBJJmDvqyMlH9ydzhEtOiJF8v7K89Jgiu10FdFiO1M7g3UJfKbAvQV+6y5Aujm4w78dqYiv32U9tIgwvv7Wzz8Fi3d5xfu0IK76Z/yHrklKPCuh1cO9fz7lgaoukXWEnqKEvp44FmH6QjSNkwiv5lVuID6iA7P5zM45F2ifVY27t4O6IIGdC239Ri6eAmEQd6ABA27f/xxOYkYEYkHDqeYWhBE1PPH4qrrPbLoFNpsqkXUy0ht+hmLxUUfgHRGNxvns87Zv7WGonWT4cO6FV+KSC/733GJsEXBl/ZhnsV3n4sRXXlaBAAAAS0GaI2xP/1TEZCegHh7MFcs0dj66e2JDCFeGP3q4cFqKzqOG9utr4nhdmFlaPBvXcILIkAsyMc+AFMmV4ylnxpQJMB5HSHxNwOi/wQAAABlBnkF4jv/1YRYu4ybK2YcGxsQuJUuh+X7AAAAAGgGeYmpCH/fR2ZUYAQK7ieE27tnbT8ZmNaZ4AAAAPEGaZUmoQWiZTBT3/8FSjcSHlWXFMKg+v3qrewmQktALUR3QnNw0KeEDBFZGVh+Be36Ny5MqP41xLsYD/QAAABEBnoRqQh/15s8+npKKeevzEAAAAfJBiKGC/4kB1YNv8ykUM5BCK5hi/8MpY413jc09TR9Ge5VAxkwMyI8+rmCNluPAcFbWVFSy+f+APT293D1wxgeS0bIZ4WgRcHmUjiwTyNeMaJ/vnrb7dpVBHGKuhgke+34TUInoHAk8pYi2scPWz7IoHh9qT8MQqEEW2pfCdupkMjmUmWZfC4oXP566YN5ysCDyI3GLW1piqgA+4jvONUPhG4oMjMrDP7kMrEe5cTG3E9xxkSMV6iD4apGNi8CqLp7cLcbWqFtKhe43lt5mknbOdQdGTvHrEATII43CUNrKS1nha721KLKSDEseT+pYy1Qa+rmzoHapJgPdYzd/d0zqxM7o7syLo/INk8MUz9qt5n3T5qXVhtjOnatgyngAAlX5qq7Is4RvgTeCbUlKHUm1eEgbLJzfD0TaFfp2WGyBMk2EwlSc9D4l1QWpMUSJlkFlQGNJcBndgfdijcQu3rCbxrqk4NP+UhhLA+/jIXExQl6hsZ7syYr0CmN9Fi1GGX5CXoC3ZPuwBMLWVJ3QLXKe2PoVgnYBRH7y6D+Y3W35ft5h/OBpyNzVhFrFWuFnSZ8dXj95Gqoa7fM46zc6rw2yEXIgx3nbvWskyqiRlvHndcyRwxfEoknDM0kJgGG9Gh26BZrf+d67IhhSVNTn/vjKzBgAAAAoQZqoSeEOiZTBTRNf7bTc10jzPoGmQwSRh659KsUUVfQFElATBXcvgQAAAA0BnsdqQp/0CHIGv9CBAAABf0GIskL/iQGwNv8ykUOzp0+gH5c+C8K7Ub/kuBsC1CwIV2t3NddrMd2uzG0cbJqFQtSZ52zmjU2YwEy3unRhXRztdmv93FMVB1qJiQlphz6BMtU83sEbrQv5XtMmQO8MvWxsA5RAd2yLnvuwBWKWWUxU4+u28fzn+rk3f6SFw+w3AXy8RrnBoGZ5M81YX4SmlVkiL2HtPPYTh7lxJEYhEThQnXPSJKYxLTbfxOWZgqmygMgzHX0BMfAqn6VW7LsDhuvN3zm2g29JQRzewrjvMlZLBTKMHvi64v3+upBLzMblVJkR71tUzq6eZu1trhn3VOyV+WB4OhynN9Jfl+uWGvIlD+eE6CKY3DQT1772v2aqEEzPIYqB5f7CgPd8dguswLHYezpkNvenssj+i2/dM5J38PiSRNGrQSgfFilfYIkKK0/84Gm3aZTmH1bhX6Sti8zj2ZlRU+Rgr+F0AqQ03llv8cVR+OT4ZbV+jwqiXkArU1P2qY0+kCInWgL4OysRAAAAekGa7UnhDyZTAm+pkipHgIirYIFf/zsmJryXmJAZPMlj3Kl/vqvWlJ1V3u2aPMt1beTS5VBCI1Jdh/6pc/ii+szIG/V4NfVURXFks9d0wAookkJV7o9FyCa8f9FXsrU3oGYyi+HpCmb2s/8TLiK6H3GYnh2/UANHweo7AAAADUGfC0URPCX/8vs0OG4AAAAOAZ8qdELf+N4LlRQxxyUAAAAJAZ8sakLf+GE4AAAAMUGbMEmoQWiZTAk/n65LbbPENyodqwUPP67B5tWNaHcAjni97NUFRa9skgLaCxpusbAAAAATQZ9ORREsJf/y+0eAQrfqpSEFgQAAAAkBn29qQt/4YTgAAABAQZtySahBbJlMFExHverAA5trrUpb25iZyP/+BJM75seXlt+p0Swmu12AyQwnk5ckYd3oNE4Qymr7efWZKVvfvQAAAA0Bn5FqQx/xXYEDrDTBAAACU0GI5MJ/7I4jVAf+CB6V6wfpOaos925BUUUJk9WEhlwjZOp+oRi20Uls3b9pMsIryT9RzN63aeXI7jYolohec8sZ0drdlDrJJe2lBVXUOg1pFqTzaTemOR9g34qUNOtMs6BfL4vkzH61OcKO0pbRDWI8eRf4Sn2rcXwIddY4HFxOtP9tcWPDT6SFcx4MXFMu/jU+CYenf6XPxAINmLNzPg/o8VMZELfXhEpK5M3dCl23ebRl7jiCYc5sF+ghLeky5+ntv/LxBTRxsrbbyHGSVNKfbP45ivkYQ1ZCAi4mtYODZeSV7Uyohk0KcOF63i3opTIFgBUUfHVumauqz6zrmFxGg5MB651MTUlTlNk7OCEVH9J+FSkqI4vCu4p0aeWz0riUx2piJAw83GDPNu13atiFFmTJybcKK2VKTwpEk3mSSWhBztoTmvaRh3d8SbSdHk/GxEDk5AYyWVf5BiXvyGKj/R9+mjD4L128OlA2EzxMUl6GC9HU1PL72W5110GrqCOlOf4j4mYl7GVDjowxY2LEpZm85R1GI50xGNfaD62UGEemKAKvfM8Z6g9PVA6oddP+B1EZmQiEOb2KzCOxsKI0/Hf4jj7RBmN49h8U7ZDKVf+odBDOe5MY8uDOrXh/pAxLBof6sSVhhRpzGLv9BMM6t4/An6jsl+bN+tOPkj9d/zn42Hgje6NXQCYDbZzMsmISFag7+MtZgQFks5r5g2wCsaf2fBkl6gbnizB5DBNriI9sCn58QTaqO3GX94dKTpklsCYaR9iruZrwk2rzsG3KyyAAAAAmQZu0SeEOiZTAiP/QTDrpUJrd0yO144v1bZKIPoKYfgch5TLRP8EAAAAhQZvVSeEPJlMCI/9AIBxhA3hgh1S1qUsCMiVq6eEkPnaAAAABuUGI/YX/8QQdCc/gY5t8UFHAF8iCIJEYGjAVVmavVPRWO+sDcwpS+v+hCDFoXsRd6OmWmEJmseIYF/EcM1KBjXzlgFhd2bisbyEx27fMakHNLj68UWkbUcMrIC2usOiLv0PnIW7frza54BlSF4KtDoT6WiGG9v2b/F+BZ0XdvyPPLB3fl47nmNlWF31uXXbzF2c1CwL/LJrhNKTk+u8hSGv+LAz9SrfymOyLxH1ZaOB0jj6YDGjayvZPq8ViHJsklgiaml1qErpKNUwMLv17r7U88IJajRZsIZvPw18QTKFZQJS50JHb1EGKr0fqFHGWqNk0wiD4msTTwteJTKXazcL5QDkKkmA1HZcmToOrUEELUjDPxYAZMUg0ddwTidN3QhbVsww1cYMjzgzKbrtIH0qflUEnACxecYxnAb9+yWnoOLkCblU9OHzXAXfHCUAr5wuKysRB/dRe//89X/NByKH91jJhII2Sb/FURC0Gykv4gADL115bbOssxKEC7Ho97P+rWCpyaTVAOY1idjd8PhHJz48htTsj3WGh+tTo1kHc51VZrIGMG96w2HiasrzN6uRnCScxvipnIwAAACNBmhdJ4Q8mUwIj/zhQgRUsT/+cTxTx565VRmDfoHAn/o/7+QAAADRBmjhJ4Q8mUwIr/8T98AczR7Jf/at2ncYc/mxiUCmqSpkkVL896+PZVPb9fUHa3qqLEXfwAAAAPUGaWknhDyZTBRE8V9iP7ghNit/eHO2CTZli7mUtuD/4/sz05jX1JtVgwr7fTGbNkyUx35F244qyrOHUXLgAAAALAZ55akMf8YbcjfUAAAAfQZp7SeEPJlMCK//E/e/qxri4vRBlZXjZHuTI4imzgAAAAZZliIIA//CYrUn5nfh61RLZAnDZRLEvQLk4bOnSsprfjcvVbP4ZJFSHadA67bhsnm6a6TqpmMlW/J8IBxzqidzPMvoD3k6bCOnfKRBMjeZIqtHBcEDRkERd+p84r3D+EMnec6oJBXd3WSyKfWD1wGXeT+K4H3q4+NgBfuB/c87DJ/JAqr32iRheMROyOy0qnf7zwnutOOHM7uwlJWlF6kKhoMM9CpJPug8qTZQvymeuXDHwtRGRw3tSe3c9ppLXgJWZ5m5cFC3yU9K5E4d+rqHDdz0TtPJgBhA/neFKMa4GW+GAd0hh1yT8D3BHKEzPAbkUdR5zrkvwDdsuf2LLroZ4R6hWZHaqwOGjnF4CEBP95VJeqQcZDaselpeOxgVwrfi6Frgwga/79Jg+xan6acljlecslz2kN0na6aO6BIeakuu/L8G9Y5J2o9mQ1hV/sHEQ6E/TZ0oV+U3AKxFh35PqKLoD8Nqe6JgjVuscf7rUEUipilk4clXGjUDfLMK89jIdpaFgbi6nunvyl4f7e6OVi/yFpMT5AAAAP0GaImxEf8dJxTsEVpK//m5DEqcPrmpcEdSsOGT8ffgZHVFAcyPP7UXweZRcdxivjb7hjlx59w4ErMrPREu/gAAAAA0BnkF5DH/5VdNbIiz9AAAAR0GaRjwhkymER9AqeYUxrrUpjTsV9bTgRk83hZlXT0PkOs/DA6quM+a4P6AITlIYFFMVVbPQk3l4F2ZnV/2kf3e41M+XIYE9AAAAEUGeZGpTwp/zncBj398PF5u5AAAACQGeg3RDX/Ft8QAAAAwBnoVqQ1/7AqmcAyAAAAA6QZqISahBaJlMFPEf0BvaArwHPd1WsUKdOyjSV//W8ZbSXW/9/gLSWPRLFIgiNB+za+/djE1yosDaMAAAAA4BnqdqQ1/5WQdvaIJtgQAAAFBBmqxJ4QpSZTAiP7yb4AHYkbZMCG6kjqqcF8rD566Dhyz9Dr//nGo950z1fEOGIFbv/kTZhDqBeoCGIi4EOegjAza9tXs5o1NglXAxgjdxCQAAABBBnspFNEw1//sC54IpinqYAAAACQGe6XRDX/nUEQAAAAkBnutqQ1/yICEAAAAmQZruSahBaJlMFPEfvJvjCUX1I4nZnr00o+cdxXbTDbUpyU+iVvEAAAAOAZ8NakNf9elQB02xqcAAAAAbQZsSSeEKUmUwIj+8m9+OVq8p2tfA+dpzzeGAAAAAFEGfMEU0TDX/+wL8o9URo+/V48hBAAAACQGfT3RDX/nUEAAAAAkBn1FqQ1/yICAAAABDQZtWSahBaJlMCb+n6E6wKOWV3kuLNSkbiqdtV7HVD+eRoIFf/4MHFxEGQxMQ4MM3EZUqKggCbPI0x9SPVL9Z2BjfwQAAABJBn3RFESwp//OeFH9kkUs9xKAAAAAJAZ+TdEMf8QwRAAAADgGflWpDX/XpUAXE4NLpAAAAQ0GbmkmoQWyZTAk/n65OlPEe2R9X27gBNpr4AB4CwBbTwwGZ4PzYb/8OCerPiHc0Wh/+UNFZeZo7uBjJGfWtOgbsT/AAAAAUQZ+4RRUsNf/7AsD5Xf5G/7zAHd0AAAAJAZ/XdENf+dQQAAAACQGf2WpDX/IgIQAAADpBm9xJqEFsmUwUTEe8m+clzQHaqL+gFeDOvB80J6hUlbs5UZtUJJTwA//6rkGkAPbqtYcCVQ9JstdVAAAACwGf+2pDX/Xo071MAAAAHUGb/knhClJlMFLFf8T+C1hNkmZiFhnm/rTILafwAAAACQGeHWpDX/l9+QAAAEtBmgJJ4Q6JlMCK/8OfeA29ZEfVdtXpXPUB+VfwokjewIgSiJ/tyQj4VqRu5qYj6GpWOuuoKk4qlgAbk96sPOuhPy/dQJU9OHZodfAAAAARQZ4gRRU8Mf/099tMrPr3F4EAAAAeAZ5fdENf8buEp/+jNghFYEfIf9zW8wEVBkxDzskoAAAACQGeQWpDX/IgIQAAACxBmkRJqEFomUwU8R+8m+d3obPlN8Ab5XvqRuAJxIBc/hnhyKMvYd3cf+8/pQAAAA8BnmNqQ1/7Av1lfOsy6rEAAAARQZplSeEKUmUwIr9WbQjAv3EAAAB0QZqJSeEOiZTAiv/B0ZOE3zLF//uIEqKFX9C0///Ja4cU37oIpymyH8aA/X2EXZ5EIa/Up/ODYe0HmRS6rmtOeqbch9gBU4SnOteWvu4bvAWKbpw9I+JFUtxNEZnR/krIzhF0qTLy56hGdLRqt87wgnyqAagAAAAqQZ6nRRE8Kf/5ewSoIUEhSDJ0UzvDP+Nq4u6jcf4uoSvqAhdEy6pu2e3AAAAADwGexnRDH/ObMSaVkD+onwAAABgBnshqQx/41+JDHQb//857dVY9n77IM8AAAAAwQZrNSahBaJlMCM/IW1O41gBM5L+/VlU4JHcdX+h/H4PHOZw98XeSlL3OK0LiTXHAAAAAG0Ge60URLCn/+av56Zs7BJ2OQFmAIk6mNuOTCwAAAAkBnwp0Qx/xDBEAAAAMAZ8MakMf8YbYmVj5AAAATEGbD0moQWyZTBRMV8Og8/Ar3r5D3bn9yogA9Xpj4+l7RaHZEm5nz0vbQ6Mjhe3Ligj2dZGrMLIwdg5HYOk8w9EXsrMiw0iwieSi/vAAAAAXAZ8uakMf9PhCQjnf+K38gQ2czAV8eY0AAABfQZszSeEKUmUwIr/Dn6G6FUADvNwk/4shFwvIuhvX3v1u8yp7HJUGUHLc0/SKSVAE8su6aAr6e1g5zmBQcAhGySY3Fb6RG/rTUHqgp4rIo8/IKEAhm5ndIYOChlsJCqEAAAAYQZ9RRTRMMf/6p+UKT2Z+Hf9jqACoMVOAAAAACQGfcHRDH/lUsAAAAAkBn3JqQx/xepEAAABJQZt1SahBaJlMFPFfw594TzPBdHojznAIUSipjs5qCmj9GBoT4AUjf6rcd5Vwwp6Pv8xfGlVn3QcwFFt6n9IK4TFIr4xNku3MuAAAAAoBn5RqQx/0+DBBAAAAH0GbmUnhClJlMCM/yFtU09Pxtgxh7ntpa9BW+hfKr/MAAAAQQZ+3RTRMKf/5q/ovL7+UbgAAAA0Bn9Z0Qt/41lHj/57DAAAAFAGf2GpC3/FD2N/sowTZx98uJm31AAAAJEGb3UmoQWiZTAivwdGTcRMtTXCeKPBCitZrbCOBKIvneEtlIQAAABFBn/tFESwh//fSB0L7J8vksQAAAAoBnhp0Qt/wD3nkAAAACgGeHGpC3/RoRsAAAABlQZoBSahBbJlMCK/Dn3hgMTcH5of2rdp3HKzFhnGLf8uJtwgzRD3ZW40yMNKBIiiO3R365GF6RgnkVXaU/qmFn+CpSDUuTEeOKdq/vgqw2XIkUQ8WdG1aBL4Ib5RnH5abv9uY0cEAAAARQZ4/RRUsKf/0CJtsOAUQz5MAAAAJAZ5edEKf+Hp5AAAADQGeQGpCn/BDcdBfN6AAAAA6QZpDSahBbJlMFExHvJvloNPmI36jJ6pFxHv7uyrfNPfvXnLfzldKibKAnQRS2JUmwklfBfPbeecw0QAAABIBnmJqQl/5Wwc7mndJyhqIGQUAAABlQZpnSeEKUmUwIj+8m+WgSireQRf/8LhTg/RiM2a/I5f+XIDJRe4HTpCrTpg2n0zav4BElhsl7ET8gHJSrZM0Lb9EwUCFOD3mOn5e7gFDPVtxKIO1M0YOn5fMOvBmRY7mdKXsZ4EAAAAWQZ6FRTRMZ+8twabxQqgz6jNReWuTSQAAAA0BnqR0Ql/4Iq7R45MkAAAADgGepmpCH/X1hoqifjX4AAACDWWIhACf7IN1fP+CB6V6xUf1bo013Ah01RKxovw5pJbS8AKBpLqvIw/HIcDoX2vh4zWqCPfIdGV0/Kn58CrQW24gR73IZwBEUomRy+jO/2ZHhhLSynw3gtgaunznw/tTYQXspZl0OiusojGIiOeSCfo7gL0T9JADbPPVc0nDSfaCJQFbJb3phvCAEpmA9fKFvvs0Ed8MzWvvkgXNcXzGckHmPrDaukuNQF/ReeDtrTVi1vzYPx4QosVMSeAToWfbkUkHf1zsv/AMacQzZTfeJ8qUUV2WUhzWajgyJ/arqlSUE0nPYyme7154KgC80sNIX4gyrkKMd7zLkddXTs7vhoBjS/SklQVIjZOykfWARS6dmYZ8SmKsH3p0ZtQs1fCc6F4CbFdMItp9zYRg6kIxTIcUYWXuAzqtMSeeWbj5tYSkYxI2uReln91/UjgWv02D/LEnTVZzRA/Qts0Ys/X03ERohYLtLav43hQ6l6iwmc6NuzptaIN6lN+ou5Pbk4X7gZhHOtB4FsEaijV0nOv4JBOtkQH6GhU3bKsje8M2vUPPLJkTQA7zP9S/y0jyP1/X8/f0dMeaJoAywXUmLaFjEK2D716kbL/mG9AkIYwsyiIYU+BLDtGoh9yXvG6BQdWc6H3yQfd5HfRGZvCGmxgJxRa2BNGnIfaKX2nlupwyGZlFZBB9x9Q76AZvnWOH+QAAABlBmiFsRn97vyBn6vJ7xqWKlXx9048D/iu8AAAAKkGaQjwhkymEZ8mpzr6Yv/OnYstFmFje5JUc3nh0sdFID0DlzlB4zc/++AAAAaVBiJjAW//+9Zw/MstT8Xx8UHCng5YpvGcEHJPPv/3ek3DHpmP8l7wx8mZlaKGINQAAf+jt1/+cFRzWAEJJU/i3FgO3JughEw7by3IcpuHr0nmNXwEO4MOqsQPNEMJ0Vs4Rca+YMzkkf5BemDZ2k48TTP9ADXejD3fvSv4GDcmFClyezqUTvJV213hQ9lmz3O+RR01931XU3TR7XkAGosyOds4/zsD9T0AFnfMSNpExDGVwfpiv5Lok2g/T7hNXlshp6JEDyat90ACFCfCh2vhI1oK8c0xaSgB2o4QLlcFs2X9kYD22E8ghn6sH3h1M5JZXa+MXh6rwTtmIyRVlDxfjbYtf9fe9iDAzqz4Wg8E5CyPnPH5griXerrZwM8/AC36byb+jIzJjq1HH9XjLTIwJNOJuIt4RSlgfBILhbiIMeBSVXFL4mYurBejy4f6b5XLeRifWT/n6E5ZRRexBmT4E2rx3PEs+HGe3ZUpjKC/0PdLp98DHbC0DVQeuz9gFfzTi36HvbHR4sfjfbCW0ZSyZUyFtjDotIa0MBcQtsTxjFVz7owp9AAAAG0GahEnhDyZTAgr//QHfroALoAAVBN3JOipq/QAAAC1BmqVJ4Q8mUwIv/2Hg40iHzIgLrvWXUuT/JKdB7AMD4flldoI0de19sL/dDlUAAAAqQZrJSeEPJlMCX1mCEVv2VDZ5sPwXszUY+WJSD1vw1RNpObs+yf97D80IAAAAIEGe50URPFftueNYFfAu1orwL7nIoB7Jf8Kmz1Olnb7YAAAADQGfBnRHf+tnMxmICYkAAAAZAZ8IakIf8O08E8pjdQVRSJkGGHfxr/xFMgAAAFVBmw1JqEFomUwK/5qukDuNA4lQN38+/48qm7vmZlVEkiILgcacPxVsymLM5mavWBS4UORfif0HbvFQCsTtMXgzTgPQbCi4ABeCjVvv4Uc4/bHxF/uQAAAAJkGfK0URLHfv3b7Dk35R5uCBArKp2JewXodJyul9xL8dndcgvwE5AAAADgGfSnRCH/Z0s9LmK7O4AAAADwGfTGpCX/e2iTRwDZhN+QAAAexBiNOC/4kB1YNv8ykUMXsh7YK/vNWGQ9Qcp0wpeBHGOUNN7Cz9ZG81sHFZGy3Ap4SE20d7gmg5PfKwqpPxBDUfY0db9fWgbqw+CHK5ZERi3JdnMSbx5L7Rk7vxZ3wmNIBjHjb0vke5+4yD3myOjl7m2cQGIiqF8pupkCDyU90uEy7QGmyaIAyqL3Q8Sg2xQ+Z44l0nzmAUkCA9mxvo5rTMIhgsv/psaDJjTTS5Vwmdlep+f8UveudUn8l+bzYy9oQTZCkNx3JBGLPJ5SEnoot2FZXmR4BrNXU+e4FZnLjKvS+GqXY2lf7+chgBzo/OvF2GQipO+FJBz3YEJyY3M6BPXFrV0cma9nw+i76buUgP5ELRHlM4BJHaAtsjhcE6XK+56fBr4Fj0PSzQ+DHPfza/193EnxM3CpwNQrUioGDD0T16ghx5iw9qeZXNAgxYY45gD8TxQ1FjVOOIXjjJHX861s0sBBaCMAO6jiHcxQ7yJ6gTqhH90FPkKxmhXQGvNcOBW9a98fLYYiHC8fq+Fg8E2ZXLJnRgndrtJixzNqpI5FJUUg1XhX/YENf1jxUBnuRZZoZS5sAFRJLaD2VfLG8h1x/LaetOsZf5Y5VKHEQuY0jhbLTZgcoeFooAvdknJjFOak9cgJfzIbDOffEAAABCQZtxSeEKUmUwJv/KyB2Sx8jnngPcz/v5wnZtdDnt3RMA3Zj0f3G55sXspkHxbd2T6Whab+cbnP9xE4//DkCghhGIAAAAFEGfj0U0TCX/8lWNTRJEaKDLMETfAAAAEQGfsGpCn/QIoSk6laqt3iFBAAAAL0Gbs0moQWiZTBTxH73tdGSXRlaZOz0dRP4fD2j97wPg35qyPN4jv18jo8ER3VdhAAAAFAGf0mpC3/hAH9HpFpjjAJN8AgYhAAAAO0Gb10nhClJlMCK/w6BSwhEjizvTDy7tRydKW+ZUwe0ClS2XsVyHCADYu0WojaG+o8BjosI1EgiRBMF4AAAAFkGf9UU0TCn/9Agrj+VsMhBzSMAtp4AAAAARAZ4UdEMf8MId1hbqV3oWuMEAAAASAZ4WakMf8S0KBDHD9mmIFLTgAAAANEGaGEmoQWiZTAivxP3wGbADOtOP7LF6SIAfrc1G571KMTlOQFRs2jMKf1bjlb9gZYHWN0sAAABDQZo7SeEKUmUwIz/IW1TRGN1AuIOY+YqcjIVU56nivwkEPBMFlUVvSmlrzyKXRi3+oPDaicYeuvMIF6aaxa8dLUvvwAAAABVBnllFNEwp//mrnIbZ+SUDPFJXBeEAAAANAZ56akMf+K+1xRX34QAAADhBmn5JqEFomUwIz8hb3Z8zvoQ/1tptbJqQhoV7XGYAvtbrjgBUkDD4J8YD1gUkmBMHunstJrgIgQAAABJBnpxFESwp//QIEIIAZ4ifwiEAAAAOAZ69akMf+Mf0EZJZnoAAAAAmQZqgSahBbJlMFEwh/9Gk9ie663Wpn/7HrI3T9gJG06cGetxULJwAAAAXAZ7fakMf8RzVnYwVlPf9kenbZWW2LkkAAAAVQZrBSeEKUmUwI7/hl7gWajjRAR+AAAAAQ0Ga40nhDomUwU0TCH/lvXRDQdQLB6KP77f9QbHrR3Olt/LCzshBKwaBsvlqQqWuw2hJ3Cm9O40BRu9GQIiHrmim1KMAAAAfAZ8CakNf8fwzErFWVHDD6mb87gCo/B8Yn5TbtgG5YQAAAEhBmwZJ4Q8mUwIS/+i74YMKomLNf9+jGM1gJiCqazJdQHT99uNxjf8O4xX73IkiJ9niNUOOkk8gldtBLehunqTRT+YYMWZSUv8AAAAUQZ8kRRE8Lf/9+A7TP+SVqLSTH9EAAAAgAZ9FakNf+W9JzGmAneXF3gRdzjIr2/vFfMaMbnvLi7AAAAAzQZtISahBaJlMFPC37Zfb7mud1V//jY50eh3YKYm42dqH/JVBfP8hctTBV7cpDmlKT6rgAAAADgGfZ2pDX/H6T3Z8IPCBAAAAHUGbaUnhClJlMCFP668F0JJQb+KoNo0tgD6Rr3zgAAAAGkGbiknhDomUwIY/+I+usZJxS+zFUht6+XOAAAAByWWIggBf8QzTnae/gY5sL+nEWIU9HaPLvoIYsJUXzv/e4hXK1RdCi1+DV6z/S+RrZjc/TPT/9U/InVhlg8+Z9axIS2QzpMQmDpaYIXvnDax4QEBXvhyzTXvpiCpo3TmmpiYOfEpLd1ChFvzFBN1O219zUQXYkVSINSWbFKaoym6tL+eh583tOGLPwRIkr6BGwVWvIbTCWqgdYgdGTqAmgeTEkDz5Wm7y5LVh+/+oc9WXuokXGI4JPelBGVFt01jYHgfsrIFVL8oRapD0/mXqrJwCN4Nm0gyheV9kHemLHl7WXI57WQJJV0/o1w5wDTkkpxAhOMhiprznhCx1hJxlizKSzlX3wf0It5W5LnSA6cIeHWAqlZ+iQXslYgHJOcR+AuFW23l5N4BLUct5jPs0iri2XgcFidbSTvmmNsUrpIuLXBICYIwaOIUdfwvE6FlzSo8ZkIUxh8qgCzjBpwrUnP24M1nZ+OnOSF+EFFCkLWgr/v+hBZRLV9vwXJgnq2pUae2g+WrlsAYP+qxzwk4a30kRjdRxP7QLDCKw3IYKh6rFAQwa3nEPveCYTNojC57UlKo8h+WyyAuxMHuUkSuZJoRq5Tl4StngA4EAAAAxQZokbER/xdGZ/LbG7yVisYZEwwDUsHLc+Fuj0H9XzuKoxVsJCO3cX0y5Ocs6IQ4DwAAAABlBnkJ4hL/y+q5a12ie/7Oh4rEr253FPQbdAAAADQGeYXRCn/g0G44FqkEAAAAJAZ5jakJf7uk4AAAASEGaaEmoQWiZTAivwdGVaOQNd2AZ+aH9GjooUgmdG76hqw2uhhNmogTilsvG4Dx42wsvzroudavf1XSKP0bKYCwIMXKOrQwrvQAAABJBnoZFESxn9nn25isL3ubp18AAAAANAZ6ldEIf7BKY11jLNQAAAA4BnqdqQh/w7TRNr4gi4QAAAGFBmqxJqEFsmUwJ/2nL6X4q0reZU5pHY++BlqS0xMw/agjEfMwxEdtUYjUYuzkLzNZ5vh9h61KUWdsMGTARmbzsIhZ9ZhhX3Yl7t+MmOSke89J31LkzvbZc8+5K/7nbdDPAAAAAE0GeykUVLGf2ed3txFes9iN+SuAAAAAPAZ7pdEd/9VeaaS26d+OZAAAADgGe62pL//M69KhPcL9QAAAAZEGa7kmoQWyZTBRM/7FELiHigrVQyG0kqZEL+iedHZFpWlPh9h7Wfpe+Polgx5IUifihfnwpqYInZBLqU2lF5IYq441vhSHTZfzGdlzI+dumv/zL3bdBkOa24JGRIESlEMq69fkAAAAZAZ8Nakv/zvaFUEoX3/qhAAYVLKDvGzveIAAAAD9BmxBJ4QpSZTBSz/+U+0aQpYLEmFsaeexf8gJU/Oj3FAXIL8n4mZXYI32zZ2GnOz5Cjoj9bfuF+RIoxUoe++EAAAALAZ8vakv/1QRVIqkAAAGJQYjMQF///vWy3zLLXbcprvETwhctaebItwQBwHleKf5rzTSd/VuHnCGeMzk/FcJiZ/jOXZ4G2ADR5wv99VlPGRg2An8cTVEOywK/Jv58O9arYlelJaaQVCW9hE/W2KJ8sW8PLcqtyzrv3KXSIVTK4Vt+HPQ+3Ckp1Ci9tLbAZ1LlmABxM6zkaNRTE7h+xeFzkkINT4gdAjEbdyOZqpzlJ0wpVc2Lf2nDfrCpJdbGiY99Hyek6QyVBji8a2/6JtdeH8vY6wK9mc8ZfQtwV7K+TlJRwf7hLB+SvGNLbYQpqvZ7tUN3o/osY4romRw/2TzC3+sgKRykG9TISYbOL7FPhwEMNHUJGxLHYBFoXUs+x9Zg+Y8iNym5yJILyyAkAjXJi2G16gddyrrJGZIhycSZwEHhlGDMhy+/S4qzRbC7QJtr/+7BAPI09zQQ5dYHK6kirC9U6eVyl1LQr0qW216RFg3ybqNW+JoKWmVVYMp9jzhKDmEuIOSzHiGZvz4cC3DmqpIpjGW3pg//AAAAD0GbUknhDyZTAgr//tapYQAAAdhBiNzBv7HAayW3qMaOdAGoN7IfXExfgw3mGt2ejaXRWgPG5UX8jirk4E6Kv+c3Tx8aTnrKkX04qgk8+y/TeAIsl1PzeT1Qv1LFdyz9tRW7vgMt59dIPDh+//REi/TfNUuI+cNzpPBeX4YfdOIJX7hbwMxKPWSSPN+Ug034tcNdiFx6ZOjVYbAPBM2Ze/ayYe7Ijxxfw1UqlCDZk6ymGw0iZqZ+LmLAk9a1UwaHfq1dFNYZruPoQTbUSy0DUjCqU0UrfUcNTZJmQYnuVIUGHvvpB792cfZ7jACmjDSoEfEpkh5nL+hdlO1X5+dXMZIaKR4OCfmoM5ZQ2bhG52pVd7vRBiYpykUHi30UZMHYwX3bl4t8NaUD/xUXt8fZGYWy5sOpPMan1cyASsws7M7Fa+X02e1TzZSObJiOjUTyD0PU7gq1sYMugGaziz6VkkkXpyeuMkNEGb+476jz/3CmU8S4bjO+D8zxcS2QP1YV7+YzmZ6hHWgRf7plYKizrZe54YO1KiWls6QnYCvR7rioOcij+DrNogByiRt6OOEIoqc/0n7wHcsMl/0Pli3unhV3W/rxJ4ZxaEmBn3JdCPgFqPUWaeYszKTszWmk45tVDP2znZa3zG5TCZL8AAAANUGblEnhDyZTAn/9ZDaQASHjHl+ZUwT+zR2PwGG33TKXtuB6naxNIn9LiybjY1X4dnQlJ/eAAAAAJ0GbtknhDyZTBRE//+DtI8VLr0SvA3UjW5pCze0buvv7E80jklAzwQAAAA4Bn9VqQl/y+rkSBARWZAAAAb5BiPXD/5QBsLpfAm+izaHDg2uRQ5tBu3dK5RmGLVunmjat6OS5oXVm4d9RTmOwNikBIBBEf+ID3wsOkfBi8mOEsKTCDqNhZgazSw6XkxBQSKBKuDjAspqwgxvnPSQnXXjLMkVDHJ1j+18Md50zxtk7UylYv9v+CTAy2haOiXErwK8GsDq4hS8KQa4O+T53W5kMDXnlsC/sgE328Dnt3p7/7ppLyg9qX0ookAr3Qmvu8N4WUrok8MSKmBlAGJsEscBkLeomFa83yjO2nowRDjPURXY6kaVEvs8zNh7C0LPIL2ze1Pq31Nu4d2NceHCbOCDsntxyrQj+qpvTmJyz6Xf0hBV3ejfu+OxSb8Aqap7fMCeNdM6nh5tnTGTDm4YOObiIX5dOc94jM4pKYas0mBtSZhTSw0H1ht6jvE6iyZRhIjH3u5bSiH0rr/zSy4fzYetZz/xh+vneIlNz+kqkF90pJxf2fV0Vqx1SjoNNYmMoHLKfPO8e36IYpo1cJ5NTEcKI9nWDj/7LX4WlvPNE3ARAHrFwJ/+NdIiJ6t6Mjgrm3SCuRQgNz4djREI6d0T2j9G9wyMOJ/ulca6+XCRXwAAAACJBm/hJ4Q8mUwP/3jNxFwYt+on+j3rPVUkV0lmZyXUNq1F5AAAB/WWIhAC/iQMn9jb/MpFAL2Q0UINvzlIwJ4jdUgZW1xIgzZCI9d3DToRJuSCOddmve1IVnm6ZAWCgO6UEdPzpPPB+huUgdvwwKcUGmIHleMHZk6DG9NufnvAjXzI3/EGHm/HlSYj2zwGkXmakArU2ku+NPOVNEqdjdIj/CFv82auZPHtRZE8qMnJJCBhLgBi1NaUCAAVsEVTLN7e3tyQkDLU9BM1rPxVtUuyji7hqkH9QIPe1JWihGQYHWBTzOVCYrgdgUe+8HWSKJqAhzedSiKbmxumNFxOa3OscqtHtbTbU9v3LDVn4d8R3JqT8ZV9UaYHNmqiNhSzYmREJTjNJ9HDIOA9c4TetwIfpRnFaswiZFAJe4ggwRh989fZmL7I41RW53uqx1034j///7nr4q3eN8hqSLDqu7parhKjnxLVcICKzLD6jJB6HgNGe3dY0eemsQ5N6fYOrYA51TwTYmShByW9g27zuh3gv2DSm3E2Ccw48LXR+0fheb+RwTi0ufVSwf8KV1zZUF0Es9HFlW/kNaT/3WvOCJ6pgQUEH80Xzoax/HEm6F+HWzSjMokfCwkyK50g8l6ocMfAxrhBnPht76tt/BGemREDc8IqoAK3xvc9aYBPBoYoVnvs/6iWpMGYZgbsg/zcPBiYRikYR6us221qfzdY0WFS+kGZ/AAAAQUGaI2xXxN5EvoNCfIRqk+ovyk1oRg/Oxm5mQGzhaU5++SohkIwrGTN/kZ3w8tVfk3TAbvpE8sZfcYdplEpzbD5BAAAADUGeQXiEv/JVZegkBYAAAAALAZ5iakLf9GhZ+P4AAAAZQZpnSahBaJlMCb+pkiYWAVizdcbtk9af4QAAABRBnoVFESwl//3CSKU7jwF/EJnjOAAAAA0BnqR0Qt/4wAfb3VBFAAAACQGepmpC3/hhOQAAAClBmqhJqEFsmUwIj9BMZ1UsxZQ9IaIUh5EDc4dN8j4ubqD9/1nwbdUTMAAAAElBmsxJ4QpSZTAiv8Ofd3X83RGNUkzj97AM/ND+hZFQa6ylKuKsxNGMMv7vk2M6UYmcyqsdNaHi66DB+8ArrfMEEP/BpmWsgkxBAAAAL0Ge6kU0TDH/9PfaBQVvVO59wn4nb8BqXAXqaYGqhcAFL5QDXL0mb8f/Qkz5yNKhAAAADwGfCXRDH/lA90VqPXU4wAAAABEBnwtqQx/xXobrF7aEh3cTwQAAAGVBmw5JqEFomUwU8Z/IW2TblW8/bWYBl+5NHQvmw0TeVrBW1ZV/1MjuBZ6HdpkNiB1Zf8PDQHdiuBe6m62LMv65BQNZ8+6vanOsXXfva10xiI6DUf+FiE2LWyZi/2Ekupq9ysI66gAAABUBny1qQx/099qogG1D+El8unctNOEAAAAVQZsvSeEKUmUwIz9S+czcxnNa8j6tAAAATUGbUUnhDomUwU0TEf+8nUOzmRRDNe+6CfUs2yqSCHoBaoIv/+cA74qHhXYP8fnN3/yELKgaE86jajlAAQQuG9EvJXTnZr/eFZsGqfjAAAAAEAGfcGpDH/qnkpmX/NgZhswAAAA/QZt1SeEPJlMCI/+8m9/7CKOA//jDs+xNTYrI3RII8uOcq2RUN1i5u4l9WQsaql+XEkOrmRug5vxgoiVdrx11AAAAJEGfk0URPC3/9GekWHjW/U/VDntbCBQDE6eFg5+WHtdNllOB4QAAAAkBn7J0Qx/5VLEAAAAJAZ+0akNf+X34AAAAL0GbuUmoQWiZTAm/p+hNf9HMYfTTI9toggkfcDW9lWwjxSZPC6E9rhREUB0SlXl5AAAAGkGf10URLCn/+auoXaw60c2OSUce0NwNW7aBAAAACQGf9nRDX/Ft8QAAABcBn/hqQ1/16VAXNw5V696hdPw09RJHgQAAABNBm/xJqEFsmUwIj7yb39HY9DZgAAAAC0GeGkUVLCn/+AQcAAAADQGeO2pDX/sCu0cbVOEAAAERQZogSahBbJlMCI/WaY/+XK0ppMrSV//Xg9edyDMIpAM7Pa7/4F/bmwFsLOB4FbDYveM03Y33VwCh2p+6Y6O5K2GUeyaUewAKm4iRpetuJrf19lKG52j1QwgLeZX9sbUSI201Q7OyHgpSMvNGCu+ZCf4x09oGK1LyJXoDathFt0thhbgVLvA+gDs6SO61KVWh0Dk+zIUpPYleEYrjqak8ch/52dZxmpW63EgKOnedPnZ379zarBXoLVfTPRew6fTANnPVm8tHJxI7Xtbc3E4eIkvGpUilZA4ku+rQd0hQl2EAJM9oxJfRPBwZvOHQOjr198nFzi24MUKCJ7og2HMFHlkqOzmAWOCkFV0VnUDg+M/AAAAAJkGeXkUVLHfvOp1W43tZ4DUjxsWo/jOLTqxmzVuG5bngjObOxEQQAAAACQGefXRCn+9uuQAAAB0Bnn9qQl/y+q4nQF9f9nQ8VTF/kxW69fqSeSAMyQAAAC9BmmJJqEFsmUwUTEe97FXsJgf6/J44Y2sHL8lPxaROkGg+ib8Y8kXjRV8uUBh+4QAAAAkBnoFqQl/3sJwAAAAaQZqDSeEKUmUwIr9WbQjATM1fgVu8RI+n6I8AAAA+QZqlSeEOiZTBTRMV/8OfeDKgEZP/+coTcr/y4Ug8vTIwvaLhENewq7Qj/9TrHOLu1NfGIheA6vCXWD3pYSEAAAAQAZ7EakIf99ISFPWU323v2AAAAJ1BmshJ4Q8mUwIK/6RomnFf/XoJSkX4K84L4HDTMc1Ao+QVj05jmDNzpQj1kYAqJzorbQpEMY2dJC3GtLvm0gy4aagEVP/igAV04bBSB+3I/Z6HeEjAZZt//vrBg76xkgt9j1MDJzql3Jb3jcRfSe1epgbymzPp2kcODqRiQcT+GrvOjC1wwAGuTpUx62ygDAq9hVBZnwhQn3LbkbvAAAAAEkGe5kURPHf9JALuwyg82rF7IQAAABEBnwdqRn/2ed35q2iI9tiSgAAAAFBBmwpJqEFomUwU8/9RB9oikme4K6o6I/XT2qsMIV4uuMJE/pUoaES/sPFvkMwWBdhuWh5VzpBTjJX/INFZ7F989nm4phTD6DiqArN6Lvl44QAAABEBnylqS//4sd53jsWDyt/ZcQAAADpBmy1J4QpSZTA/yl+Yw95VoMchxDpIW3dSvaAYmLjzCZoSbXLXDwnP201XgkQKS2M1Dlj2yB0csivAAAAAFkGfS0U0THfv3VMfaabh/9ljXtaV/HEAAAAJAZ9sakJf97CcAAAAP0Gbb0moQWiZTBT/y3u+k1IL/g0Ro9GKxUivu2mFLW3eUSw85Dp+qxfo+Sr3BRa57/iINw7UZ96CstTlbuTKgQAAAAkBn45qQp/wLREAAAH3ZYiCAC+JAyf2Nv8ykUDDO9qN8iGWR4lT/atU9tjHPKaAahgTiEdMVjmtS6wmA1l8mGHGaFV1/Ou6UEdS4yROFb9tUPC47cQytgGXI86LiKkD6QsexN+Dtu40nzpj+OBYHMbsFqChZchQi0W3Vw7bhEx0w+Fvf8htcPixHup6DHgqlW7rAuC5m4ve7hgNBFEk4ksO98kgArhy2PGATlBsrzLtmUVUH+LfkFDWAwr7kNkWjzuNLLgfBack81a/Sg1gfNUUZbXM63mIq5RsEvsTwbgGumNbbjpB3cEnKBUoMY6Q2A2+b4keNchb4I3F+sv8LDCra6YHQj1B4djXRTl9n4+PTKcRJjI1N/gsWTJz4xxZIerAgCPOz2CaKBecj5nb0yZ132XQHMmbCcbIU7lIOjNgng41w2U5BMILiOXt+kAxbMvquTbzZ0iS7R1Th3AmJgQfseaGFsGCExz5WKqqFIZTV0m1xVvGx+UIe69AwQ2WC2enle9aWvVs14wEH3mKobZkMF/natcZa9QQPW5R8QceRAGXFSuvC8I2GR7hjN9b9tWzs96fEIZ6mu5Rf+Qy49L/4mT3gy+5Z2eozNFlKthfHvjrz79gRQOagojSw7u+49eTF7SQCat7quCSuBvgwp7KbUS1Sa1iYmoKTeDSz/CpO3qrzD8AAABAQZokbEn/+En+3oAa0eIOduUhTYplvtCNzUyA0iPp47DEKpPP2HP3f9W6sM8u69gmjguGp04Q46KXmLcUtWCv3gAAABBBnkJ4hb/0Z/wAVRsiUArZAAAACwGeYXRC3/KbACkMAAAADQGeY2pC3/DHgpj5ScEAAABdQZpmSahBaJlMFPN/qZInj4xnbRZBn/fzhBhsVHI3Tp/SPEcAiqBNd85C2znG7LGpn7MjtI/H+2byFbEL4dZ/5FnEDKdQJ1kzv70pdaoh1it1TRFnxeqbaRXJd9NwAAAADgGehWpC3/Rn9qdhl8SLAAAAQ0GaiknhClJlMCI/vJxI126Ke+DcnQZhs7HCKOrCOZrXJRuC5NkwWG6gjr1vbRqAB5Qv1vGLXhiefkj2kvWL42jeUkUAAAASQZ6oRTRMMf/096cHPcj8YA4hAAAACQGex3RDH/lUsQAAAAkBnslqQx/xepAAAABdQZrOSahBaJlMCM/GkO65+Ve9lpp/0gJU6+gFnAGxM++JIhsWivHf8U8kvyGQzT2IPdM3jxBCyfh4Zb7Clsbq6yM2oa1vrNXsQoJbvPFKflplP/nTdCaed+KiyVMgAAAAEkGe7EURLCX/+VsGyMQ4R1xcgQAAAAoBnwt0Qx/xFBucAAAADwGfDWpDH/qn+pRv3JrONAAAAFFBmxJJqEFsmUwIj7ydOnL8a3R/hSJt6qSm1KY8WHjqs6GSN3l+bX1XVbg/SKNoAa0aIoYIME5FeXf2m2U6FbJ+EikZ90Byy3r9QKiKSoI3mmEAAAARQZ8wRRUsMf/6p2WxdemDCbEAAAALAZ9PdEMf+VvJKA0AAAAJAZ9RakMf8XqQAAAAMkGbVEmoQWyZTBRMR7yb390JTlw4iC/a4nep4Uv5OWl7COA//5x+rvhViUh+3K+uGTXgAAAADQGfc2pDX/Xo2HrzINEAAAArQZt4SeEKUmUwIj/Wl7QuLa1feVylEWlQq8JuPwkSaI4nbXkd+IsQc5Xz1gAAAA1Bn5ZFNEw1//sCrCRTAAAACQGftXRDX/nUEQAAAAkBn7dqQ1/yICAAAAArQZu8SahBaJlMCK/B0ZNOnIDR22GT/67TsDrSrItNBa60qEYQ3Is2vxmpwQAAABBBn9pFESwl//laylELnQZXAAAACQGf+XRDX/Ft8AAAABIBn/tqQ1/7Av1nDKNIJCK2cCUAAAAqQZvgSahBbJlMCK/Dn3dysgL1uKQ1QU8VkUefkU6EX3MgYybq6pbJavuAAAAAEUGeHkUVLDX/9el79J8QdrJBAAAACQGePXRDX/nUEQAAAAkBnj9qQ1/yICAAAAApQZohSahBbJlMCK/E/e82vdu/OW2xzqRMIGYyUz6QRDX1x6Yja8LCquAAAABLQZpFSeEKUmUwIj+8m+fP/9QgAEev/5/nfgtV7FbbwDv1913IZC9/luaBmg2+zrvAOfG+TLXt8QoZjXXQzdpx0Xe2oQ+RNRP0Y6vhAAAAE0GeY0U0TC3/+gwByyGQkZkK02UAAAAJAZ6CdENf8W3xAAAACQGehGpDH/F6kAAAAGtBmodJqEFomUwU8R+8m+AB2INUKOA//0q3D+Hz80vos9bBceq1xi8GOw5aZqgBI59AGdIf6GfW4t1JOi4sEU1HzuBXuewrNKCaQflCu/pO3+qBp+ZLjpyFPAqmTCi4MrPyvLAGbvv1MTt8wwAAABABnqZqQx/099tMi7EMyBFBAAAAJUGaqUnhClJlMFLN/6rTTCvutf+U+bcTjDP8l8TFrwygdvGEFpEAAAAJAZ7IakMf+PFJAAAAY0GazUnhDomUwIj/0CqGH29nxAJqHm4HODEj51ICphztRDZczd1njYUqJVuWgMlWuIUKNbpKAwUMGmvzek6Min6MKJ/+DJBdUEhb0TChE9fegT1041piSGdQf2K0yNRQa//jIAAAAA5BnutFFTwp//OeOFPrQAAAAAkBnwp0Qx/xDBEAAAALAZ8MakNf9ejTvUwAAAAgQZsRSahBaJlMCI+8m+d3jCnaKOJBfDHxROIiuHdMs6AAAAAQQZ8vRREsNf/16Xkpebk19wAAAAkBn050Q1/51BEAAAANAZ9QakNf8mWifBMdwQAAAHJBm1RJqEFsmUwIz8hbVOq9prWYBl/3BM3ZDlrYN67vne9UojAs9/i+QsTir3Vd/BTgZPuy32oMElp639N4nzXH//OAACLWDF162Ihmv+tpVSKRg/M3rHze26x+TOhEBeTXdjSiGDdFYnq6eVEB/NMgASoAAAAVQZ9yRRUsLf/6DAHLOhrQVg+4CcqAAAAACQGfk2pDX/l9+QAAAF9Bm5hJqEFsmUwIr8HRk4TfNGj2S/+yk6bPA6JIiWJDHuZltL+zu7bu0Dx4s5aG5znnsrf9JIS7enWw01e1BrmBVP5G+mdDoA1bgsZOLFLxI+X+mGPGaCSoNhfAPunUUAAAABRBn7ZFFSwp//OeFn5SjTjrwdP4CAAAAA4Bn9V0Q1/xntBkS1gsWQAAABUBn9dqQ1/16X3e68NFbLjzgedIRfAAAABIQZvcSahBbJlMCK/Dn3fx4XTZjX398sf4L0Udan/9xAlRQq/WY+L7An9rLpa3f+C6cPJEDdKmk6Kf/w43rtFZtLHLTLl6zfq1AAAADUGf+kUVLDX/9ejTvU0AAAAJAZ4ZdENf+dQQAAAACQGeG2pDH/F6kQAAAE1Bmh1JqEFsmUwIr8T+xDTlGlQAQRjTJcCsRAU4zf/QA1wdISARX8LzmZWPU8uEU0faZj5/E0lfBEfO/hq3cxyD64t4Wkz88/cBWF4i5wAAABtBmj5J4QpSZTAiv4KAoAIPrZ9ikU7BBZ50o9kAAACPQZpCSeEOiZTAiP+60PFdQS6MKMiI2/lFpX/81i9brVyGHz5VGU7/L5jdoxk9Fj/9+kOCsCHzxlqqdB5HfdR1mmZOPzuMIgU2f5tLweWFrpFfWJXVeN3S5BXvD0fbjjoIeF1k5EFaDpdTIaphi+TxJBq5uS39yRaNJtklJRfyvUhPutM/V2ipvkRb0IGa0FcAAAAgQZ5gRRE8Kf/5ewSnM4RQdxKSYZ/xtXF3Ubj/F0dHQAgAAAARAZ6fdEMf+7+6AOq7s0tgY8AAAAAJAZ6BakMf+PFJAAAAZEGahkmoQWiZTAiP7ZZkNVFOX0XR9ff57e+CsyeqeL6c85wBvWLE5FP9395+ETeZXRU7Wx3rpRfOHt/X1O2DWZ/w2c2kh9eosFGjsbaofAUO76YcgBJYyd4CI1ongIMd9YWhQYAAAAARQZ6kRREsJf/yVQ4u/tj0G6MAAAALAZ7DdEMf8OjXdMAAAAAOAZ7FakMf9PhKFVhcy0EAAAAnQZrKSahBbJlMCb+pk0DBL2p9fGWB0E9mGu1AZQPFzxb4FUAXa43xAAAAFkGe6EUVLC3/+gwB0B4yXYx/k7GP/dcAAAAJAZ8HdEMf+VSxAAAADwGfCWpC3/DucB24PyQjwAAAACRBmw5JqEFsmUwK/5juTUzmvxo1PPbCPW4ieLEg0aCTCW9CZfAAAAAOQZ8sRRUsIf/30fr7gIEAAAAJAZ9LdELf8AioAAAACgGfTWpC3/oL42AAAAA/QZtSSahBbJlMD//KX5hkCeuatAEDv3i8LJXnbVspGYr+BZL7laZiJyDUR3AgeXRooROCIB9VI1wTfeTdsW+9AAAAEUGfcEUVLCX/8vs93fPpoFC5AAAACQGfj3RCn/h6eQAAABUBn5FqQl/u7ZfeGt8FJNpA0QmlqEYAAAAkQZuUSahBbJlMFExPVY7pOM1ezvqT3uAlmvohvHA636w5mP7wAAAAFQGfs2pCH/DtgZhmu3VMlzo5QmqY9wAAACxBm7hJ4QpSZTAi/2EjIgGieniZmdolPAc2R2GUoTf49CGGzK76WXvMPjgfMAAAABhBn9ZFNEz/8d5Jq60PD4BI53bd21CRz6AAAAAJAZ/1dEd/9V6lAAAACgGf92pL//iymiAAAAAzQZv5SahBaJlMCf9RCAsIIM92UHigYh4/bdyMSw/sXC8iapLLXG2oybHcbGCdmeOjRfLBAAAAZUGaHEnhClJlMCX/QBYtAU6sX6JhWk7f2WJOQhhCm+BfjBetnTcMtvw/jEd5wgAQyr/W/S59t1ze8m+tjfLtYaCSUyUdxdctCqy8l2+q6exHAqZ7+123ZFKZx+jcRLb6dStiAUo9AAAAHUGeOkU0TGf0mAFHq2E1iWe4Fvt0hTuH2TJm0EHnAAAAJQGeW2pCH/DtP3JrE3MlMZzfx9Yx64qTHzmpKvQJGYF5eJ0ETuEAAABOQZpASahBaJlMCv+aro/Mh7VMEgqVxgzuR4BgtmPYTXrCEk1mPdH9zjZJHm/K65T4YdP2eK8vvR2epoWAPw6pkILWLBdqf7WVTVTK/IpAAAAAJEGefkURLCX/8vq5Eix3orABdBct8xmq3zGpwJwhibFaz2EtwQAAABABnp10Qh/2YZEriCiJQYwJAAAACwGen2pCn/A2HFeQAAAAM0GagkmoQWyZTBRNf/quwlesFwWp1jGIYPh/AIr2iQ8DfhSjEldfAKdVVsvp9myQHdj7wAAAAB0BnqFqQp/0CCz/VQ/xjHljkzwH4ABIEcpIun67SQAAACZBmqRJ4QpSZTBSxn/JqbR7W/AsgZuy7oUBUzWNnscj8Zp8TOFD+AAAAAkBnsNqQp/4BB0AAAGaZYiEAX/xAnC0fwMc2F/Iq4upPJI1b2BYWtGE2D56l6Xl8vMUcyXmV/q6+aGXbKXVjbbBAgUoE9ooJ2GbRqv8VF7/OtBAm8OHBdnBBIpN0SaOuOwX++J7Mi9yrPsZ43TIdKWLrLFoAInoUYFmTPO99s4a36KS2JHwWHX7oOFiwHpxgIwwWDZND3BqGXGd4p4bXVMSZZJWdNpWeU+A9I2MoW3DNvoP5i91ibrw1iDQbK3g797ZwCWzqr1GkxnOEmYUPcads4exAgiYkLwzqGIKiM+HeIR7kqS7aAIqA15Uyllk2kxUAp8rL2UkuWkhoNpTnDQmHq92LgDmyhG8MfeBvnSyaHkflJzGkg8pBywmN6aWMn6SKXrYPeqyErzByfCURtyQ2W/e8EyaeH1GCGNQLkcLy31qJaQ3t8lQX7o4go3Z8QcrEvH20/CME0yBaZ89HUwUfU1crHCGB8d81i+JwHeD0FyUsDbUMcGTvGlWZf61WsEQ/hRJtr4/OR0Kcx5NWrbt7fNoC4FtLDbL4Qa4OY2JTih0Bpgu9oIAAAAkQZokbEZ/0PRxAos7/l/9vecbfmLL+2bbnSdsCu4SenhOcg95AAAAGUGeQniO/+/dSn8iu4+VIXgvgZUvpqZVQwMAAAAMAZ5hdEIf9iVa+x+tAAAACQGeY2pGf+sFVQAAAFFBmmZJqEFomUwU8b9TJ8QXLwFmI9e9gCAeLMgAcbDorB1tB4yjUf2nuBh+CKyNQk8nvgsaz7JeN0+acXjfUmG/TEVmYmwO2FO3ED+xKPpulPwAAAAOAZ6Fakv/8zuG4rW0/TAAAABIQZqISeEKUmUwUs//sUOFkXJ3EKWQdzV6UjMqpNDjfo5RVJQYLPDS3KzYpUeuuiF/waMfcm4Pvi1t8hDK8kIDQ1WS3d6CKOJZAAAAEAGep2pL/872hOsZfCdk+EAAAABcQZqrSeEOiZTAgr+iYA3M/PeIlJs4ws1DGpOg8OxTo9L0IzQznCcLWTN326KyjYJfRht/kYrfxy/xFNm/kmg18QqgAtOpW3EzufUjXDLxAGFBo8BIn2rRli08L8AAAAASQZ7JRRU8v/M5VRYeKD3unDqHAAAAEAGe6mpL/872hxZPlhC2tcEAAABCQZrtSahBaJlMFPP/UQeg6t9locjCQPwDvZW9tiEoUS/kuLt+od4XJWpoiItVNIWbliF1dAwAEQz+Ir2kDvrREwrpAAAAEQGfDGpL//ixzXS1rh//39HAAAAAUUGbEEnhClJlMC//wEKz02XatDI+X8l8UeHlPc19hlvDCFeGPxnErV2azGykKZzCdakS/sPF0Fuk8CXA3nCo2IOF8fJ/YGl9dDyMzr+rVDYWIAAAABNBny5FNExn7y1scaOqaGEGku67AAAACQGfT2pCH/XtvAAAAH9Bm1RJqEFomUwK/5quj8HT6Pbr/XqZeAzEwsTqoJ6daJGcO7GSfav48NL+l0bdaYAJQirzgOYwNii/+MkmQLFR4QFumeGVNKVili4o+Z1019J+OdKtEZ7pi3FRQEKnBndxJNl+kjlmmnLJbwih/qLeaAt0bC9mMWwDnN7uZbMgAAAAH0GfckURLHfv3VE2bT9nyEmnPFDRgS3qOkV8TTtyoYEAAAAJAZ+RdEJf7kt4AAAACQGfk2pCn/AtEQAAADhBm5dJqEFsmUwK/5quj79gqBCvjqZQOe71f5EbytfzZkhL20SGoGaZ71HBwrTTUjKuXIwF0+GBgQAAABBBn7VFFSwp//QILP86IaEKAAAACQGf1mpCn/AtEQAAAWhBiPYC/4kB1YNv8ykUPAU6fpkSbUVvxL3effgeaVhGSstXC5IzHI9u1fT46kDs7D0u6HGWvkPF/r8Pz8lwB6pbxVEKh/0wZjm27xxUoTiiAEXbSo3+lfoffaYowo6o0jsvZFC6dDC+AyxdA18PJiLpKACsbnSRqtuddzxMdh1FiyYUuBPoP2H4x42VggMGnI1fHdjqhCSbV39W/vqaCZcTYWzgPOE3BonDQkJJu3FHDe+SDm1RkkKHkLB8y3RjRKvKkBz4D3sJsTpDcDhHRoGK/+3PPyngeeEe2Dnu06xv8a/HItzynpKxSouDfr0uafTvrldYe4u74+g1/kPsE5jBaVTuU6yQeBVa1ommhv/g8pc+I/EoTcBcJlW2BXbSe7GjzPa65wPpHxX+maR0CK8tKADVgD3nrz9gUFQZ/pFDEQJiL4AlcK48By7yyAm2oUc3R4Rie3CsFgxGYmHYABwYzCozN5nAPNYAAABdQZv5SeEKUmUwJv/LCST6QEZT3M/81d0ctWYXV7oWj1XpshGT+ky1LZT4L6V79f/Z2sIOY44nn79cuBmwKRnuPfJ3ab8pT+1RnLDX6URz4plxQsP6DYzI6g289mOBAAAAHkGaGknhDomUwJv/Q8nePly3CY//5vxgO7BuNNrOMQAAAjtliIIAX/EDo2Ln8zeU9ZYjI1dfecCbT/mmJ2inGVkNSSU26j/VGwJWY2y/cBmeuxSqjs/3P0DR3Mi3nFhLKQ+X8IlWpPdQ4OFryzISXygDBsZhd50zpSPvj1BewAd49cUuNWY2R3E5vukZsVICReL9YQnN6X2MFJdRNrc+ZPRFXoggkGGVaEiJcB0fTO6LFjmlPr7fnKxSfAQGCaBCg15YNjVJuOoTmKYgDyIwx6uUOTvwDrZcpzWxuIzmEQK5X16SYGkMGEAu3/PCRgu4RiEJw6xBLGWkyVS0LQeR4vlDZXcKsRKk/89Nijka4FuC/lnbbXE37xIEADF2N1ZzWGuYGq+EKCDgO89ZZIx31uDp7R9FnVVM3pi5O5xhdXAyPEav5ehsXc2xOYiw/EZEtWeN2LqFbPcVUxDtl7CT8O2Gcc0k4zIGBvtrPYAH+VsH3u0KAwWiTeI8/qfrz3jy7Nz1/VNyMea8m0U7r6VZFYXmOKOkUXH1f3SjGoPgWeRTExC35hKxIKfcLl7Z4j/phoNE5xxyW2RNYSpRoHGNQTipdObuxv9Jl/XuVUP9SEDQCzG0V2J1imlAqaGLZtBAvuP5yn19a2O3Jv/pqo58zadpNLjpdHPSV91v11Bff9/VaP81HLOnFKwNmYiIYjDt1DDNOOGjm8GEIfE80z2nxL8tXKZCYHtBnwXoGFjgty4ueVJolXL96EdUVoJD//01YXVvQrNIA81Jui5cRngRLOVZ2e9IuIUj+sb74rMmAAAAK0GaImxEf8dM2FDuASu52A3K4BAbPkiDg0gS0C28V/F9R00xDc1RH4yuS1AAAAAJAZ5BeQx/8XqRAAABe0GIkMX/8QO0qrn8zeU+1nSCIIE7CCFyM2HgaQf6qCfiZMxCwi12pN/YZYRoZXUR5WNOR7neq+mrQS3rQu9Fna2SeON5b164daYpV9ow6y7GtATN3MhcATuAuELAvcoVpynQCdjBDMyt3RGUTyUJVgSURPfIkiaVI1+FqcOxOZsLxQaVT9WBQbq8X8clKmk7K1dQcm7y1Y1dg3gbtedad1i4I4CZ1ETWr4E+aM239f1rtIhCAaJbgxu8wis+IZtok20QOnGvKjWBd4+Z9gz48Wsll5kSZ3q5d+ZfPmAiEd5iSVDaVkNtpp9T0eBjxWnV5Hf1zcXNKrqZSb4fh7ZQtHDQgv3/WqnzWcInKsp5f9iWqHB1AZrh+Plucfc5TKELaT+Nwu0I/R3mqThZyY/6vLK1KbIK7z8a8wEV3wN/+MrcprhhfoFXwrVwjYrQrIfYE66lpn2yrbH4PhRtYQQ6N4b9ah8F0oAcH3WYnLYnINzeATOlQMtEKWjAtbIAAAAqQZpkSeEPJlMCI/+zimSCY5dO/BlQHGPLRkSNdqbXhXCMP2GF+BH899DJAAAAOEGahUnhDyZTAiv/xP3wCsSfVdtVU4JHdHbSgFhKLCueBqVjvGQABmlaRl5JPerDvvmTWT+LeuPwAAAARUGap0nhDyZTBRE8Z9tsqCHMcvZ3uqCE5KvA9ocrwTMRcyhBThtoCvvSOJ/fdBEDOjGjHpWJKwjM9I1L8daGHYx/POD4swAAAAkBnsZqQx/xepEAAAImQYiyAn/sjuaN8Jf8ED3HYmc6V1eqVkNcYzO/R0FbJIgKj5iTlvz1qFXFITHkhkEQu2ZdstTaC3BJ1qiE3AsuTr2LDjXS37RVGdTeSxWHIgHLY3eirz5sIu/xKnqn6RMzzAqbgidDkqcjz/XC4eYWLqEYn/UzUBXB1pAI6sbkYQORFA/r8EQULfXKS/x+3kbga11W9lQB7vvhXDXic7fZkUcYaxr00Byp0adzemjYWhwY+o9IBILhOU100j4ZsHT4VkiVha6yo/GP+VfONALubZtOPVRUTibps8Bi0Zklq1MRcH3HDsZBKG65wDcvzC947BdiScWOdVFWAcNIqGPb5HaF3jA00x3WTZUkohhd82VU4H0zcCVOGvWJjRN7LU655B27+V7VdnukRsqfoPDI3IZvf4Yjrf6HkmW3qSOMWY3/WAfoqm6PlY2JkQ6yrumUtXquq97UKebz4kklXI6fnbOwglLqWkXct7/xhCTN699CpJqLwqHlsqdccA/b6s4fe4ASfw4f6m7ONnvhK0bY+LzxriA10oBEzKdAeUC7DOqSZ8ByTZbAQ2p/h1a7m1fI6FVpQQEjxwR7p6unmxSDKlRXPDj5aKETfCHrtJR7z3FSx29Z6/RYFG6QvZuKtNDa/9rabz8p5tUi2jvpLDrc8prG+I5DHYGL0PffvS59pQcb3htgMsrY/v3C532qAZVajgnzgQsxWYNKnUU7W7WrBj5QX61gNwAAAEpBmutJ4Q8mUwIj/9Ab4MtT7hCCJeQRf/8LegCX+gXmjjtPmL/aIZQTPg5E5u/+uVcMaO5jUMuJX9+Tlvp0Z+c/cBAycj8apM22uQAAAA1BnwlFETwp//QIcOCJAAAACQGfKmpDH/jxSAAAAjtBiMsCf+zN9H4U2b/BA9KKryHCi0We7cgssg9gLgmlaXiZx8yQy0E0ixF64qKYcGO7663ty0HIvzPEegouDh+GAppODRaWeV7yX9MoIRTj1HN/Eh2B7x7Th1CPrmEjjwqBmT814D6KR8eLIE9qD8ldL3z7dKEatwfuQZxXgl0y7hE5UhREyP4ctj2uqnFKmX46xvtoYqN4siRru4aeG4x6QNjT5B6ocX6Hu2NAEXkt8EQu9Gvxg8doVodRjjhz4fX9uZuu7qSvMdDniuKqbIu0S5sm7s5NUj4XU1rpqIEpmJUewv3Cqeuw+VFxWxxI0aK/AHPUzocqpFebIIPrBQrXoEsmRk3Yc0dEln1bADBtlirvw0Mrw1LCOFiAHk6F0GGlTvUAckK5DF91PT86N0xfLCuxUsQJOR80uNRbF0Dl0CmAq38Dkwl9egZ+LPwbq4/jrfSBo9TLAiJ7zWqOZRJ/R7AKR9pSFnzfK1UGM4czqH3r7snEVTOYHY43BlIP0gaFfso6Y85NW5SSYLbgnq8yrM54Ht+G2hlIRGpogsTso9Lfd5WuSof8Js/SGsWlqhvQ0DZfbUkl7lDajfryo4McWon0SU6Lx9wvTzsorA3OK/3YQtW7kJFRCOAL95/faMm/IZ7HQhNlyD725YTjJRgMublKm8QE8S+yQ0T6cCxq7XJWUIBRDUHySk9I0/Nk0K9WmunHbaPE3sSdz/WpbN2pan8/EtTuxmaCA/BBKXzukiRjQJqbY0tvzSeBAAAAIUGbUEnhClJlMCK/2FYxKS5e6Tush/VZV3MjTNNanKn/vAAAABFBn25FNEw1//zpmDcish+/YAAAAAsBn410Qx/zm5RWXwAAAAkBn49qQ1/yICEAAAAYQZuRSahBaJlMCK/Yj+4ITYe+Jr/X+/9XAAAAIUGbtEnhClJlMCM/yFtTbl8apvDZZkLx9j7Hb+S7DpiboAAAABBBn9JFNEwp//fugwWTiydAAAAADgGf82pDX/XpUAdTZfvBAAAAGUGb90moQWiZTAivw594Tok7G4YrqmKQTaoAAAAOQZ4VRREsMf/40H5RdS4AAAAOAZ42akNf9elQB02xqcEAAAAVQZo7SahBbJlMCM/IW1NuX07CvCwJAAAAE0GeWUUVLDH/+qdl1cJ5edqn6KEAAAAMAZ54dENf+eAZlDxdAAAACQGeempDH/F6kAAAAGNBmn9JqEFsmUwIz8aQnIdeoyPuQDL/2kmJER3FlDQCVKQMuzcUw4vMpjYcx3HfR9S2ABL6MS/rgpmihDv/8/PkG4a+SpIMBhc63weiSWzk/mH36UY4GWd3pgg5tJ7FIOUVwoEAAAAcQZ6dRRUsKf/5q7AxcSpN9rzmUvjQNvLtxg6W4AAAAAwBnrx0Qx/w6ejTMhkAAAAiAZ6+akMf9PemvUsIPD9ev3iesZz10Vf/6/pzlUubXhDPewAAADlBmqNJqEFsmUwIz8hbWfosJtGSngGpb3X8Pojj1V8WyzIXjySWK+35Zp4haXs32vdZoe2obyxa3QwAAAAYQZ7BRRUsMf/6p/qUgvaYen+yD6Wo9gW+AAAADAGe4HRDH/linM7mgQAAAAkBnuJqQx/xepAAAAAqQZrlSahBbJlMFEwl/9U9tVFGqg297/toXj3Xca2EW9ARtqtoLlzFNkHBAAAAFAGfBGpDX/XpAScK3Pu34wnyEkCgAAAAJkGbCEnhClJlMCGv4CxDOqPvwAHayTL3U9mnC/BbbECyDDAFF0r9AAAAC0GfJkU0TDH/+PFJAAAACwGfR2pDX/Xo071NAAABKkGbSkmoQWiZTBTxn9tXHABPtzEhzQ+AI9pyjCTfUostXjofy39prBt//8pM8Gfbxp/gzSHvfXTj5DLr1cT9ssMzDK8AS5ru9N0vmAMBLx7MmGhLa5TbrtNwF8NP/KcMQJzWFL0XRKY7grJDoQgSzSGOGPYMhIeIfDHbAsoLVZ3MG7GqUsjCc6KHXIRYyLna+IGzV5BgDE0YPAq8u18Cx8zOE1XLw1RlatrgZ/lxFVqJ05LtZtn5+PSU60q4gCv7udbG1EZPeB8fOz58wIIhpvTK2j4MA+gVSR0o2Dcvn9ljPzu0ZG2BlCWaOIeRMa2aOxJ+LdILwgHouVsSD+yBPLRkW+x9K/wgVRc9GUSbG48hv7gmKbR+HMmEjU4FUYvCN1pseeUQdk/CFmEAAAAJAZ9pakKf8C0QAAAAHEGbbUnhClJlMCEP0EHXYKAOiW74l0RYBF2CN44AAAAgQZ+LRTRMJf/5WtpS3Zc9kTXr//ox4qlQ1aPcDvlZj5EAAAAJAZ+sakIf7O7oAAAAWkGbrkmoQWiZTAgn/58oLf8A6Bl2WAOeCD/0BuTxi4SAeKHA1T31oeCBM0vYXFUcx5FKPws1bCADnQg4PaDYr9+XU+AvwVizdiAUWg3QLfaIUElT7WXy5A78/AAAABZBm89J4QpSZTAgr//+oT4fhaXZvduBAAAAW0Gb8UnhDomUwU0TP1ASFUkKMEUoVLILwMzOtwNl9zctMbCjiHvehP8amn6OUbd4H2fQzXRu8BeeO2hWklMNzi2tXuM/XE1pdWkfuwuhZciTm8OBGIzuvReAQ5EAAAAMAZ4QakZ/7y2dN4+BAAAAEUGaEknhDyZTAn/8kfJos9tgAAAALUGaNEnhDyZTBRE8/1ASFVfhriBWo6FHoMA6VekBN7sfhax3uifgHcLyWIrq+AAAAA8BnlNqQh/w7TwTj3vGQEsAAAA4QZpWSeEPJlMFPf/xJv49QKy6lhJHazvDhSmlhcH6BNh1cs5syVfYvH4Rx4UzlZqFeMnMzd6oy4AAAAAOAZ51akIf9eeWL0dLQ30AAABoQZp5SeEPJlMD/8pfmG54dpnDG07I+eL/0xTkzbY7pWE37WZPnavsjKvWz3a27wVdABS2ArVG0VPnXx4zGCJ/6Y08Cq0COKp5ckOL9iAg70NVadHIXn0r8pbBRbTbVV/SvljC7d7rCisAAAAUQZ6XRRE8d+/dT/aayJlW9R+SbeAAAAAJAZ64akJf97CdAAAAZUGavEmoQWiZTAk/n65KVgryHc1Y8x7TKddDAk+PezakljGionzpeUvdNl805DGhnct+XQ/+ZBYYP2ihbvcw/CKDof0e95Ee8LKh/Dxb7zJv6RQN/2+vnug1sCDa3M7/Njb/OXnrAAAAHUGe2kURLCH/8O2J93ceYuI3fnPsD5F7iqfd5galAAAACQGe+2pCn/gEHQAAACZBmv1JqEFsmUwJPzxzfQsZ0xKWd0zf9+ajj1KggLrG9SqSpVdHgAAAAGNBmx5J4QpSZTAm/6rVgUeEjLwVXsS2O8A4ot/orqk55Ak6cYXMvPNLe1zP/NXdGoYLHTIrAA22T/23EHaKuk7JTEU67/6vZJdW6mnwbNUNU1tF4WEh4O+uoykNscxrG5mnMPEAAAIyZYiEA//whp6A//M78PEfYRzUM7NME0DinHQrFpNNRhtHtcXvR3uNShVsz+OoHkqMLd8Bf7GE5+1dIj4Le0nNWDkFbTQvAyHI2EZ2a+DDQEK16axTieScrJ88miDdLgH57vIKEwd/sxJ1cdaVt6BrY2HhIpGMYCY/ajjfKT4SkwgCzqD42kYEhXgJrBJA/zJpQuspSpKcVY4bjVEzkhIoYL+tsyhnhTzPlRACFYEs3r6Jau/WRAVoKRzgMrbCQwgFwdi2DVw71gEQKJdJT38r77+hMU0ObHQYCmeB5l3hdwaIiFls3fxG1V6ias/9J+LEzSkM+dvcTDcv4CDm/ii9JUTdVTZpFGSZX2FrfNv1Jseb5fnaAYJAODfuF5+GqjjDJoUq7XnAu79xnZGDY7AtDjkwZwh6hx30G1hlrxPyGJSG7ZO2Eqc8HEEambKCs7F4FySK8gwI0DhjVzxGkj4fYilAJ7tvkgYfnWV9IlaA8JzxrNlxMuq2UPCqpm8AI1nLV4objDakDw89H+ZuB+cDQABHNAWPDuzJPxNaqflEgQ8S6y0yDaVfe0uixDw9tO2Nh3FKH+G9aGfSrmR+K5Cd5BDlhkrVrXFxkeK7a1CsFzT+YAzmRW4z+HIPc2JnE1osQLN+BlzLHS9lWjNeMG0TYGauOiZSq7Z6ZHzlEVEGUo4tqRbxatoDE6GHMnI323F2V1tvOUwGuXLK2ctb3m8qM1xaFFFfIZGKX7dQA/iErku7kQAAABlBmiFsTf9B+VK6YQAREoUo5lsmKYm8c5+AAAAByUGIkI/whqlcf/md+H1qiWyBOGyiWEP+N7SWxFh4Mknk51nENt3IxEcVJtMbcG5PMtNy4Us6Gk6CiDlX0Ui+WvlbyKtN1kVcq8wYwHqqbrFmH9oQXS4WjIRbF5JK/F9Gsog7VJI0bsTsnOdWik1AsBK5IT8E0ij3+65t6L47/oJ14mkT1L03+VCH+Taxg8DIxNcRtQwxP7YerO9ts6o6Utsd2b6rGbRr4Cd6K5FspA4qxiTQVSBbIeayQkx3vGkNuzX4xDy0vKDkZuROXj1/YrKemqwGd4I5hMGlR4VzxhLPurt82uyyDY9FJUyjSC9bwdhByeTV3+e6jc/gpDSirquKNWpGjHD4rYCwy+aHMBNWxk4IvSOzEhkw4hcb0l6nGd0e5pv42uV3WY/wg5bgzcvlYeNcoTTCRQRHMoZ+wo4se0cKdcuWohMWpMOdZHpK1UZV6wBicrrHNN9ByKFdjcvXcH4nJoMjsUhxIifdGKnnydp5LEFqy3HWc/ROAjlqDNcwlx/cs1gVj8kWXbO7kM3iYXxn6/RY/q1rR3HTUaJszE9BqI+Rv2Iu6R4vwBMeGeKzyYiO2n4DlQxKj4+x06XN/LIxin5gE2IAAABEQZpkSeEPJlMFPEe96r/2EVpK//sVsaSydWCqzVWKB+cxYBHgbujys1xt+Z7LEjNn4oZSPCDVThjcCjafvM4yNr7gKX8AAAAOAZ6DakMf8V2BBv1QMPgAAAArQZqFSeEPJlMCK//YkAyhxHlf/wAkKyn4g1aMDqmegsK4I2rW1ywyaBwkMQAAABxBmqZJ4Q8mUwIj/73qv9nJFFcx+2j2Ql5NNZeAAAACRUGIscX/8QrOBLpz+Bjmwv6NbeNIr4oZet98VrjGwl/BqBDEG/F0shE5LSuEViFDFZykUhPgsrcmsxEPt3A2NsaRONlT8yzprmFiAPS6SLZkfEem2FRe7UrxSHy/QRnGLZ+uhx4iHgmZDdz8KmVmJhwnRWVH1ak3WKBw/F/JjdasNYaaqP/H7gmTWcsk3V8yZiTMIBJrEGjdZHgdNE0f9+ilKhNCCsul9ANiKCbG8H9q4Lqngl/gu91PyYhlo9gw+4+zinAuvooChGcQP8Sbj9i6s9iCaCq1i1tDXzOzHC8xmcHCobN/8w06bLjlXlBur5G4L73nHeq8Az1PonGSx3g/glso4mYx7bnO9e+tusJ3AiJIRpz0jeGH93Xngc1vTPbvvk36iN743xvsNLysB4r/Heg1JADgyl3L82CHUfaIgx/ZOX8amSziIOvRyKpp4S3SU9c551kysa3oZoKEudwtK+9qevgnrSfCfDDR8xky8ddQlPEIIf+tf9KCmv/RKkiJ9KiHON3MPPTWPgUV//+mnR46Khe24IQpWaclrgh+EmCe8ZAd1ALidE5nR2/SKlwxAQm/eqBI0/9w2fdplYqkJ7h0/kLJ++8zwJYZ+iBg75NTXrUYjdDRDp+sc70CqY/WpxycG73H57UWOiJ63kBX/EsCHzO/dka4PcXinDsLT4zUktrrpfCAsVR7OS2qQ9z1TKv8sogI3oq5hL2UJT2SxAD+xb5OKI7b0/nX2GcNPb5IsMSG4JnDmGZyAk2/Y9nze9hhAAAAJEGa6UnhDyZTBRE8R+3XRmNX9ljNdNYB1PEe/lQISygzr1FZgQAAAAkBnwhqQx/xepEAAAIeQYjChf/xFWQUiN+ZvKcP2+ZmlmQiWvSEcBw4KbW4Wx1HhO2xlvqICMuTwAAtUd8Qudhi1f3hsEBSbsmK7sKMcWDqluj1wEA5J6iLOYYKY/T7WsjW7jcPQMzBau4uWbUIhfOzEnCEECHpg54du9eyVk4jY/97Z9rskau0jXABVXd/UbQ/GvEEEuUp1QeIskGx7wQa4u6kBj7L5Se/egYsHdx6Pbp2knecBqZl9+XE0KwYWeMnLMW+L6qFAmLO1a1rtCsJxcB3LbWHIVTB1wPXORJ/ZBY4hftkCeGUlNrEn/0hmBmngg3IgFj2yDf03omQm+DMqyz6RlWQZx2mojZvwZhMlzJw+uoIAkDEGIiH8QFgmATIbKNCS9FxXyNI1n3Rl91jCmXYVYozyCicIgbjThiE2P0C+t4m+AU0bpV3JihcQdT7Zv5Qfxi8d83wLLClLxNHGfPwFaV0DncK/dUQ5zq9GfEjO1VD2QFw461QZVAdfwdPZKb2mcu+51UGw0faMHOR3pTRHMEmWMrDhkOI6NQrvsH0P/UNikiC5ajkC7BeZV/BlOepYcDrP3EM2kCgGYxSFj5gQqNzeRL/mJ6RXRfodLm0KeJrL3h6JnuaiNa4eCnAosXCgoPeca0FdcBdn7sRcumdVvz8AmbA94BFjINAMMfN5H+f2B0QC4mD3t4yZ0cDzpj3xrmTcXgmic7fQopPsdtE42srUeoVttsAAAAjQZsrSeEPJlMCK//Yj+4ITYglCDL6PLWtkS9iQAcMXb8AHvAAAAAUQZtMSeEPJlMCK/9YBRnNPv0/b3AAAAAjQZtuSeEPJlMFETxHvJvf9lzckMGfX8YNsqu8bkMEAEmqI3kAAAAOAZ+NakMf/MVYU1bjSGgAAAG9QYjjxf/500BrXFnDpHEO0fg0D/noD1DI5vANGB/+Y5lUxDNxgPS44/eziT2tPORqaTR/KE4pnVkP4//ecXaK4KFwrvZQ6PgUlGAFZ8xDboqF9OJtlBSw74xbg/6AYCTf/eli0TJXTDwLlL6GT3UKlfbDSHvbfLzlTwcdsmsxcXt926WL+tXso27Lw1VCvXf1pBuQwcr7IvwNfwEeOK8P6CB0kA41vyFIQPUwb670Jq/dum+zUngVzQTCMKRAK4kyeuQTgne+t/D+YTesQQt5CFeM/JyuIgwY4f79KYZDe4wXaNvX73lt091G6A7JyqjeUkdauWXNkevFCbiML9axoNs3OtZYsJCls0YmT5MMhiFEuJ6JKhxXeejvhZWF7/Sg2DZzYxNHQ0WoZ+JUsdKVe/YEktCW4gk0xw/QKCQ5ERR0PpaxrglZF/BOtvOgq4X+gwoU/KW9A6gGpTzoJaA4ZCVzOrD2+oJ5b3IpIcpfu3I4u/ktzPA29DZh1HJHXWQyReyC2xZ5QwsUYS1Htk+/UA91rQ1/bX5qngW+M6EfvArdL9Y8orTLSX81MWuRsR3QIh1+7+pSEY6cw/pnxwAAABZBm7FJ4Q8mUwURPFfDn3fYBhoW+bPBAAAACwGf0GpDX/Xo071NAAAAFUGb1UnhDyZTAiv/w5932CFUp/BEcQAAAA1Bn/NFETw1//sCrCRTAAAACQGeEnRDX/nUEAAAAAkBnhRqQ1/yICEAAAApQZoZSahBaJlMCM/GkJvF1caylh2OR/VKmuN0mSHRVSSJxtVPrvxVdMQAAAAQQZ43RREsJf/5Wr70kz0suAAAAAkBnlZ0Q1/xbfEAAAAOAZ5YakNf+wLE5PGQ0LAAAAAhQZpdSahBbJlMCM/IW1NuWK4ZvDZZkRMkZ01JKEUVF3HVAAAAEUGee0UVLDX/9elYeoEbJVTBAAAADAGemnRDX/ngGZQ8XAAAAAkBnpxqQ1/yICEAAAAiQZqfSahBbJlMFExnyFtTbliuGbw2WZC8fY+x2/kuw6Ym6AAAABcBnr5qQx/097ONowZObfgNSwZgi1vrtQAAAF5BmqNJ4QpSZTAjv87g8X3MwExviqR42Mee/qd+LC0XS9dCudMfpFZx2UHF7j/E7CUsIkzn7RQJmPdY63IEeZudp04bFRZYQVEZYqWA0BoaA2yf6Sfm3d56DCiZ7EtBAAAAJ0GewUU0TCn/9AihlEdwCn1jj/QUtNkUn1KHkC0mdb+CRp+yYa1W5gAAAAkBnuB0Qx/5VLAAAAAJAZ7iakMf+PFJAAAAP0Ga50moQWiZTAhL/9NwzZHAGfgtb0jieqXqIRq5KIDDUu5rGklCYAN+pvQdQ/s3EPpOyRVtopu6TbkSEKtMHAAAAB1BnwVFESwp//mr1IkyloEtjfzgh2yEBrwrWF7agQAAAAkBnyR0Qx/xDBAAAAAVAZ8makNf+wLE3pxaaW6hc9SOE8nBAAAAYUGbKUmoQWyZTBRMNf/hR6Af+IB58v//v50HfpKnqaIwYcpvijP/9MQevi8VAIZsgZoW4IFYsFSzpajbQqiq37y46EfBoKf/t/req1d/DCmSHl4B/9bWVbipJarjF/dru4UAAAAOAZ9IakNf+Ye4JWogmoEAAAEeQZtLSeEKUmUwUsZ/+XzlidirlSdwzqnIyRbGcFpAoONU8wi3nzsdE1tamP/l882yoyWrZSeseJvqhYdecaRpy/ysj5h7/VEKw7WHt+zN+v3rqypEKidkmDgZPNQYicw1hZZacM8iyKrSRms/jKQNrCSRgZOxhvRVsS14rDFI0pjbPmUcXYQfLwfXTvMLmTfh3LgpyzjsQ8jXKwKHqEuWf3hfchju5rZmRe4P2xZM0h2mBSbidr2VTKBZK2cSDnF/CVRaDKOCN+jZfmr8Y92E8OJjxsEyPwhuXX0MD4Cx4guXHb8pJjBzseozaEfJTMAxnpXhLWItDwhnRWFnhJNlSl+LimTtaopQhzKbQynZweQHiCe/W0ci2OePO1argQAAAAkBn2pqQp/wLRAAAAAtQZtuSeEOiZTAhD/QQdfkCsxu1LNSJkCIyNp+1hKHdt5/EWVRFZAIT6fs9HJWAAAAKkGfjEUVPCX/+VsHOMCqWe/79GO+Itos9EaebyHy//244HS2UbAUxlMogQAAAAkBn61qQh/s7ugAAAA9QZuwSahBaJlMFPL/Yo4c36hnhaMQwupG/c5efgtPSiCaGQNFibsG+hGMxsdAPl0lVYQU3vjBQk9YcFL83gAAAA4Bn89qS//zO4bitbT9MQAAAB9Bm9JJ4QpSZTBSz/+xQ4LEaDRlf6JVvKO7YI6oDBwJAAAADgGf8WpL/872hOsbj8ipAAAAfEGb9UnhDomUwIK/pPnP3/FQdhe0p5YKdxyQPM77q3qnljvZCFV7zpECuymBEDADzTrESFkrzlgVCVQ/AezOrNf8FM3oAIKzzvUmHkeMSOPEedTffnHD799HBOwvXrHpn0axyX5pK0NgkZHGAnXKDAebfS2KJLMcpLhKGZQAAAARQZ4TRRU8v9UDfiAEbyZUlfAAAAARAZ40akv/8zdUcMW37cy5P4EAAABTQZo4SahBaJlMCf9QEiomHm9mYEOdIr0hN1MiF/RP1sCa6gGsUOhVyGNqIwY8kJTW8ylH9uMmCJ2Nsne9oJIUKC/SkhoPMvc87ACrI1aCGBG2WhQAAAASQZ5WRREsf/gWUGeUsuAu3iNYAAAAEAGed2pGf+8tZpaLJal4moEAAABIQZp6SahBbJlMFEz/UQfZr44BKahV7QqUKGMWaOx9UTHPEBEHk5Cb8XX3FvImlvAbWAWTJ7TpebgFJuB98zqdW+xls6hebXwwAAAACQGemWpHf/ThDwAAAWRliIIAG/+xwGslt6jGjncH8fVhAuj3wvy7uj9ybPdvIP6mHv6r6bt5qP9KrOrVzmnZyReyvnSSOLT9HGZjwWoaBdtBuKzD5PykltdkDa1u73vvheNxS5yHKrdkNX0PieopFmpPRPdfYiLHDchGLoJDhdx2145v87bf8oZ5KX31RFqPAVLaPK3i0GrDo7qPKv5nAl6n0wFbr8T2rwATmjWBqTvmVRXqc9RheSuQr2G2Cae/ogllLhnc6E5U4qiuM4uKu8KRRHO95ZDBHwuRmy2pOzfisp17d++zJyZTnbidhChr1xZiaqaTnjJcukR930lriQ9/Vda44P9Lr08+QJHLXWzz5t1f0mX07Rz+GW02qMihahWA93W/FwKwIOx17OE0BUYbic/E1KvHr8vvWREQbztLyb3RCNWuvGWRa3AnlLXmYWNJL4r7a60ChMud+KVbm/tQF58nLg3xUF4MJS/gVvcmmQAAACBBmiFsT//n4M0ahEAhBgn8BTBPDNLk9jnMsE8dS9v74AAAAatBiJCBP5+Bc6ns+BPLZmDAfrQXRAPraaQZKpYlcm+EDLVVy1PgxyZ0+vBM2RXSqZonz7NZvc0YeH+Xqs/JWIn1K3UkMRu6BWudB8ROMLHe/k8fHKn9ORhfk2VlMYEB/+h/yf35MmzJ/G3A7KjayA8hMKUzU7SjgNv69WVdn/6q2rCx0FJfIbis+xJCCT/FYpd87opBQl55/c/xCAuZqxPakVuRfHB+8NqIhduhpDYuQproawBmlATeYWSMzzwowmuYmtznySA0gi4WegGUMeXzSSOMYE/8f3uW/D8C11rcvGsEpw0EPYgzk7jwcqe2jAu/Diuyi4D8S4d0bej/6uJ9PcyWc0ecgNwqEsPU4uGXvgw+2X1/8+ktGPivalBIxkjafXNYsS2N80xtpKG4+QxWQXl/cXdmhm0t3zHwiUUwsOeCPQSKB8IaxrA2sdiCKy/YAzrg41vKBdg+JXLBoNnJGyiWYnWxkH6MLSSlDg5GU94lIu0blJ3sx0pxuG5SwsEjhXYoPbidr3ZGgZdKn9lmiJjPB7uTGPobz1+9tZrTmc9x9zHXAOKfXb/hAAAAFUGaY0nhDyZTAv9yyoqUJSZXPW/IFwAAAeJBiKED/5QB1Yul8Cb6NWqoXaVaEV/HLie6pKR9LVbU/9AjwOvt6jJp1CYNy0tVWdQGmxH92u+VcgPAlbkjx6O/6VJhNWUvGDOyuElIxalBq+rwXTPi2TdjaJHbYU5qlgd6NB+TtcWJQutLSTgok/3v7cQtUopVahsSGxL4dHGEqZjb8ObbT8CKlaFQi+/ITstGv1x4BCjXOcISFoy4BJhDshVeIfcNUmzJLhmOd6SbTCrMlkVKM+XoA0n8dvLuw3A22vCTJUYWHUnqh8JTlXsgEIegkIVxfOD3uaLnVFC0wLBWJg1CqEJy80XfM3cmaD1UjjBYM/x629UsiYTbY/lBS0Pp5QAeBt3RniLR7mTWh8kvWf2v7eFZTVQFGvicf2ypaiKxkLJP3HWBlWZYPHK4HENfpSSw2d7qfukLUSuEGjOEft28Fzc7nKBy5weVcEJ4jeWRPpxwf+G/pSIbGPMsLVbIxuSn9m4hEWR/ptccy4Gg/4lKQajIYN6fFd6TpbzEOXjm4ayjzTvvVLRKHpMBxOJsSpLjvcIET7Cb3WfisBJ+scVGMbe6NvbKU6LlHK2gldPbS4c5e1Cwytr0YdxDbvmtC8HcYwtnXjLMQZkyaZ+EBEzpO6qbsbSw9kKiSK6q4wAAAC1BmqZJ4Q8mUwURP/+X8+bsm1KhxhJM8deT7F6SqhOxFMpieOpVb8TiL38qG8EAAAAJAZ7FakKf8C0QAAABbkGIscP/lAHVi6XwJvo8faZemJ3rYCwcvZ3+/ct6Yapluy6so6MvrSZrlpU/0n2sL8zdsDrVrn+EufJe/bncIL+NnBLT1Sq+f2Yyr38ViPwwPBmzbAiFeBSFZQmXuCieT3IIM3udKoxZD4QU3o7iBJwiMTuUIZBg+5NB4/OQIshqQ2EQGaA3tqDtckOgz3Em6UVJ2sMa85QYOTW/42HUgiOlsxi9X/hUs4veBnZhQbUZ54a0rxrNLdHHQtfMRhRwx5ma8Gy3mlgZJgBGbuYDbuM4movghhfAGxCBw3ZCf/v8B+oPH5OzM3yMcpFMHZA2iMeR0nuCQZrKLKZQQXJcEd2mGxAQNPuuIYCx2sDBYkF+Gx3U24Gc2NynNJ7VIJnOK3i/mLr0ZT4ycPhNyqmfiF4W5D0eD1WJJ5Xbmnfpjd+jJo1QFoB/sPVbeuLlU1vkGJ5FxE/8XpO3yICtmDVVvRpEBPaSj2pW6dSxUWzfgAAAADZBmulJ4Q8mUwURPX/ttN31frVYczvHbkcYp3HGLUkxPBFLpErqybInVtIBgFKmDxPmCSgrIf0AAAALAZ8IakKf8DYcV5AAAAHtQYjCj/CGnoD/8zvw8vAW1r6Mcqxa5vP62iyT2vHK8QjUfJVVD9ODUrMuUASlrQJ0Gw9WgUdjPr2L1iDI8Dsvf0SfuNvZNsbRM8Up3gmevqk92B6LVpc3KQzItW/Ba0caWpXPQRJgn6sylXdUo4V2TYz/VyRsz+aDkroObh00J4uE9YIuUck7ve46ZygnhPKce7VWdE6wAja3zQ7PmrQWEA6lXwP43uracTQAEndz1zrO5Ma0hcCIFDLlzdnIDJBBXb2aMzCu9GbVbllHdvT+HDTFErSa1wNeeT33xochpVDhTucAcgG+Pf9dOgSHl3gsOkUtn+4pX1rVt+F+weSH2pibnjVopA1xxKqwKCRAwRuIZ+pgTU8D8gROTQW7xQhsYg+CxymqD+dhzXz25BRR+q3ojO78X2hiAp/mlqRlLYy5UD3atW+wk2rZPblNZ5OK6pdv48THFXQCPX4tTZ/nMGpC9wgusBBCCbxzsSqZUH5D0cH4WUH0/oPPtLCYBwky+/E8SDoPVdCV85xyVOpNydYFtut/ruCWX3nBHxjFBDE+J6Un8eGLmrPdoHJwKLZ9tDiTgLLWa9j6noRQIM5xZEnG3kXmpS6IqWontNyKCRSNC47mWexsm5W+uUmo01R51cQF1lMZrlk4+UvCzwAAAFpBmy5J4Q8mUwJv8LCcM1H6F52WjBAr/+vcWucwJoA3HH/2mhKsZ9wqFm8RJay+e5PZBD137WI2MdBzW5T29EtHhZM480iohPTd+0qqoYsrSQsvTzi8Lf00H4AAAAASQZ9MRRE8Jf/y+rbAgdK76zIpAAAACQGfa3RC3/AIqQAAAAkBn21qQt/w5ZEAAAA2QZtvSahBaJlMCI+96sACVEWlf/2LgcKKFXI/9Ozk3QdGQ3BRg1qiojQfkkAQKoUtyAPligBXAAAB+0GI5AX/8QrOBLpz+Bjmx65R48kqNcVTvso2w5KQM3c1Ha1KgEL2hki7a3fcxGI0jRugNirLA7HC8ufb8/SC9cDmIDpiahfULpoaj6BUvgI5tWCc69M8qWP2f6YblleACV3garDideZ0A/0mkmtkHsysXBlbtKbqxY0ZVoLA7wJdeZZSfS3hkCEBnMEotb/UDsNavJPiA7IGgQd3NzrHLKPiotHHasfTY12exSKv8yFMrXIpHVLYh0Li9WQ/n//Ma/632kRSmPGMusTosCrXFqfRG03GI99cEVEy0W3gaZawX3KwYIQ9p3qAO7ijwgIKOpNW3zkBgivo7kOtc3TuBQdJEKRdJBDOIV4qNZ9Lj7RsKkslF1O4sUjbXh+oklnwUlj5DhnFZoFceO3ROnmK/PGEu+DCPl5WfvqIWTZdbSO4+A1QHjbzSTBMksmvwpMLm6n8nyj0AY7jiKxYHBXsC32CEdJ99JVKMV/s0YBh8nqzVwizRkPXmHENR+JLaR8guTd/1zNEJsPv2mMkwMomfxvbIOscz1JL83bxcJ3AOS0BbX78PqU8vfZeMo+Y1WrL6rk/XTTY3EeJNV1K4Ru5xPsQcCRKJumQWMP0RKsHGiDltGc0V79bXc+ZP7nm67BnPKDqYqTtusdYrQVUP4BoCFa8wk10NlvR68BicAAAAE1Bm7JJ4Q6JlMFNExH/0Ew64XhoNkFaSv/63oh8ahepfr41uW9bTM5rc4QjNoZmm33gK+VD9rQ6ZbD//kQI5EIEmD+griBKzVdqvBTnDQAAABABn9FqQx/0+H8AoGzOXMeBAAAAKkGb1EnhDyZTBTzfqtNQWwWj+eTbfnHBZbCi82lkzHfz5JAkktvPsEXdfAAAAAkBn/NqQx/xepAAAAHrQYj9Rf/xFWQVQTn8DHM6SorWZZkIlr0g81sDzMDt9zBJ+FOTKiQZgbokDNFl8fJMKgEQHRnAfQ1JlZlbWytxYFUo3Ve9V/FmN+0Fj4aseV01pczajjPSXHCMWimoZDtAfqYHS9BLR2ltYAK5pPPvMTDzJ0EGgZDKCa5+BUAY+cVPM/3ApG6v5EY5/FZQwPN4aMaEQaDZUkox0yTIK4bX1cNNQg3dqPMo7s9N6s9OT9tpeRy9kyBtoWl7bWy9DwwXWfJYlsyeE3BfvQU5UDniAibNpnC3KEH5Y3GFjbcaVLYcxPYIAxZmQer6j2zVso/rJls52+syVFTP/unnhV/qWu7BMN+7AwDj7fB9Pn9Xd7zET+ZDfF9a25b5g84MwAWcpznwD8kdXgR4AdDA5VdRKQcSHU1q7ZKvAY+CaqzoQgZgnWC/eWXSOtzJh2KPWX+eoiSPpxTy6FUPDZZRJjtrfy4AEcrc50RAKMHm+9mLc7WLAaJCsOyebXzZyz5LEHjwHQGg/eihvi8zc9+AYC8c5ahoyDzrBnT2H5v0IwnS8d4RtCccuKytHkVA6n468n8el6gtXKDrHcHRIku3uj63osjK1JlFYy8UhUSed4dyNFSwAG+Sl4NDqz5bRmPAyjsAgr5+mybaERClZ/EAAAApQZoZSeEPJlMCI//QKnlnIGO8850pTihp1MhK17C8g9TrT+E1DL/1pOEAAAAUQZ43RRE8Kf/7u4EbrdR4Vh3oUkEAAAAJAZ5WdEMf8QwQAAAADAGeWGpDH/qn4+U+gAAAADhBmlxJqEFomUwIj73qv/YRWkr/+bkMSpw+uW4JQdY+dU0s7Zs8Tm7/7W+I372Sl88spvAa68dFWQAAAAtBnnpFESwx//jxSAAAAAkBnptqQx/xepAAAABAQZqdSahBbJlMCI/QTDrpUKVcXElGPQ++d7a2Wq0DalMeUryKfdTJGDYAAZ0K49QbHK2sXFdwutXeEEwLOtaTjwAAABVBmr9J4QpSZTBRUsR/veq/wXGhMfAAAAAJAZ7eakNf8iAhAAAAS0GawEnhDomUwIj/0Ew6sfVeYr/vNJPKv1b30CcaSDoho8tPuE8BEUFTjv/vz7WxnIgXwPvxrP5/N6wdn67tbVbWDZsMNnUkhiVKfQAAAEdBmuNJ4Q8mUwIj/7yb4AH/PRrSNbZhfqOPWAH/qD8UDACRpX0ewEJBjTbo5bm3G8HwTcHP8b1dN6gTK6z8/QamNx06FcB9wAAAAA9BnwFFETwt//oL8eosWvUAAAAJAZ8iakNf+X34AAAAGUGbJkmoQWiZTAiPvJvnHZhNFNGzn8AkZ3EAAAARQZ9ERREsLf/6DAHQ/NrFySMAAAAJAZ9lakNf+X34AAAAFkGbakmoQWyZTAivw593BSVX4ZznnsAAAAAQQZ+IRRUsNf/16RB4dgHEwQAAAAwBn6d0Q1/54BmUPFwAAAAJAZ+pakNf8iAhAAAAJ0GbrEmoQWyZTBRMR7yb3/AZ/ef5VG+UxEgEF1+Fkp+yNm9PfY+3gAAAAA8Bn8tqQ1/7AsTOMSKnE7UAAAAUQZvQSeEKUmUwIr/Dn3fTrjujZ4EAAAAOQZ/uRTRMMf/6p+IjBCUAAAAJAZ4NdEMf+VSxAAAACQGeD2pDH/F6kAAAADFBmhJJqEFomUwU9f+arpA6BUYAB92E97huzrhyhmyKuX0L6/8x7Aoa9HI5PJuDn/eAAAAADAGeMWpDH/qn4+U+gQAAAE1BmjZJ4QpSZTAk/5+uSlICAD0NMGTNeYCF3pD0wOWMNIFdOuR6MC008gyWaOQj3E2yV/yEuhpEm86tfuYyVI53Jvn78P/C+IbLJDcSPgAAABBBnlRFNEwt//RnpFfYfXqAAAAACQGec3RDH/lUsQAAAAkBnnVqQx/48UkAAABVQZp6SahBaJlMCI+60OsG7EGp/s6UxtEjMUj1EcOITktC4+IWuTDR+AUnx3b2go8uLZeT1VNcAWqxZHDrUiJkc8HsaLmZrAdWpPLj2ErTE1iDTRZ/NwAAABJBnphFESwp//OeS/QCLTzBx4AAAAAJAZ63dENf8W3wAAAADwGeuWpDX/XpneyAyxOt4QAAAC5Bmr5JqEFsmUwIr8Ofd/ysUBQfY2awDCyggz7rmX5c+xEeH5W4gnN4Bk9cxA4YAAAAEEGe3EUVLDX/9elQAjsGI+AAAAAJAZ77dENf+dQRAAAACQGe/WpDX/IgIAAAACZBmuJJqEFsmUwIr8HShNU0S2vRe19QAUij1jn2oSbzgsI+QWoA4QAAABJBnwBFFSwp//OeFJVdB1jZ7sEAAAANAZ8/dENf8Z5Bm6yXkAAAAAsBnyFqQ1/16NO9TQAAAExBmyZJqEFsmUwIr8OfgPikz3vgMeyX/0aoACFM/rD2gkL22xwDZo/VOaMphX0gX///8LmK//KAdsEzoeU6O+3vNkrBb5NBsoiuI7zgAAAAEUGfREUVLDH/+qf6kICWjrKBAAAADQGfY3RDH/linFO1n6EAAAAWAZ9lakMf8Y6s/pu//VKOo+qnuDmUIAAAAHZBm2pJqEFsmUwIr8HRmyab8ptoCHcOmFPFQ+AJY7eLwZSx2w4H/lNFQDoqYVL4f1xCnVG0wwaotSr2SKHD1ul0ZPb8yO/SwrW61KXuHeDY/ckjgOVNHQUofoL4AJdHCTeagQ3VP4S7a4/xbdF/PS1gQtm8hNk6AAAAFUGfiEUVLCn/+XsEqCFBIXyCX+elYQAAABABn6d0Qx/7v7oBAi0lf2RYAAAAGwGfqWpDH/j/zbhqr/6ZWuPrEmr5yvEiBCP3kQAAAEBBm6tJqEFsmUwIz9tst1+AAYTrhrau4rVyglG/vNDhGuWAz96iqUH01BSmYLxls+6o/jgVJg0epoVS45xf9NEgAAAANkGbzEnhClJlMCM/ojFJ6xACJblkSYH/w7/qeK/DW+3fSInOCmPSWn+6n3K4trY5R1t3s3dquQAAAEZBm+9J4Q6JlMCM/8hbZWqAB0pzT/GRJu47NEnRB/Kl0jz3SDjCOg0Naga1zdNQa/niUribBvH2tHOw4oxULTqdwbdxv8OBAAAAFEGeDUURPCn/+awO0DA3sHc4N7w5AAAAGwGeLmpDH/j8kvBN00zFRv//znvDn9GW8FNMdwAAAE9BmjNJqEFomUwIj7rQ7EJfi28gi//5sA9UX/0XOwRno+7pkyHVsS381V3HksJB/POpLaEocxgxfTYgKn2Bvc7uA7oHVZ4yQ41E5BYncoJWAAAAHUGeUUURLCH/99Hd/10LjnD+/f8AvrJQuBG4oKEwAAAADAGecHRC3/AXkkr2YQAAAA4BnnJqQt/6C++DyMDvIAAAAEpBmndJqEFsmUwIj7yb4xUYRpzUjnU+3eWrIdWdB6RDJXJUQ/FD1BCLfqvoruWjmoM54e264Lk2XgdRXC2Sm7fsoaWaMY6VG8Ir9wAAABNBnpVFFSwp//QIm2s++cEbpLqRAAAADQGetHRC3/jfRM4wx4kAAAANAZ62akKf8EITwT0pwQAAAGFBmrtJqEFsmUwIj7rRtpYruloOu5zXE+eESv/9vnsoGAgLRdLSME4bIbTUcZ441qw+j1KG9umFGTA+gIUVCLURl+ZZrtKbjSVYvEZZNwcsIv0u+gm135Dwuf+i+GbEX0DAAAAAEkGe2UUVLHf2wg5NZFBKHDqN4AAAAAwBnvh0Qp/ve1o/M6EAAAARAZ76akKf+awQHVz8SGdlIHAAAAAxQZr/SahBbJlMCK/DoHnRE+wZ0+cMe2kTz9GJ0FNRZmEi5zHlidEE6vkaKojvf2FJNgAAABdBnx1FFSwl//laVQwPER6PHE9HavoeGwAAABABnzx0Qp/4NBsRYyVhxGtuAAAADQGfPmpCH+y1zuGUmpkAAAAdQZsgSahBbJlMCI+9628h1XURaHwT1KvtKqWxUDkAAABUQZtESeEKUmUwJ/9uHztbrLIEke6f09wQH1lNGjaUnBYs8CHMLqiyv2lnXm9ywZT2lF1seUC0DRYz7MMsBqbqMNSKF5Pxl+yPMVnMPpbRnw+kSEZgAAAAEkGfYkU0TFf1nCwX6gQK57GIKQAAABIBn4F0R3/rL0wnB6TNJIkio4AAAAAQAZ+DakZ/9nlrerAJMtSTbwAAAEtBm4hJqEFomUwIKf/J115eLFCYFdeHIjXt9FWI1eU0IIz1dIHVK91Hl6RsQhT1KhN6GgNPP2BDJYXztQ+tgcLCdbe4z9EDserpLeEAAAASQZ+mRREs/9IuPbFb5dxasTUIAAAADgGfxXRL/9En2ERNCp/wAAAADAGfx2pL/872k8EHyQAAACtBm8xJqEFsmUwJ/07JgWj+Kc+KFG/QEbLwIk4T393wWPAcPiuQ7w9jwSGAAAAAEkGf6kUVLP/5UddYNtf14nZngQAAABMBngl0S//RJ9dGDBQUkbZ/1T4gAAAAEwGeC2pL//rG3kuC0HDlle4oIKEAAAAzQZoQSahBbJlMD//KX6jVZfOx0yjzkH0w4u1mXGmBgp4l2whM2yPY0DhzwVFuo0DQ6y8DAAAAJEGeLkUVLCH/8OweMy77HBgxg+joz0l1+8Q6NIDbEeIuTWadgQAAABgBnk10R3/1LDMm6sqpsvKQxaXVX+pIg7EAAAANAZ5PakJf7rGw6e0cgAAAAF5BmlNJqEFsmUwJP5+uTpogmWF4i03F5brkP9RhTVDgJSCL/qE1mIMq86MrvV7q1GaxlJV6+e1uhTEjciMKCGMhgWDahr/Vm3hmin66AefKefipJkK6Uu/skhglnUvAAAAAJkGecUUVLHfv3LLn3jyq+X14VnQPSppZp2a4GxHm4Zp0AavX49bxAAAADgGekmpCX/eJYQaxuZeAAAAAPkGalkmoQWyZTAr/mq6Pv23VyUa3PLcgZVBKced7yn0muLeR3Xdf7Ac/k+iaziBo9cKjxv9trqW+C4KCLHOrAAAAHkGetEUVLCn/+7uBKoPdnVUZWDtgS0FyQHd2R7FlyQAAABgBntVqQp/0CHP760+cXPfy31VK9GXfl/sAAABSQZrZSahBbJlMCb/KyDKSOAbI5lkGf+d9FiAYmyOZmBs1K2y1v0HeZUlr55Un7CmwJl6gGXx2zgBJn1S0rwxkZLzHiUeemWaN/EsyWAxl43LmMwAAABxBnvdFFSwp//QIehDnzQnb3CPf2HVVrw2mMx9AAAAADAGfGGpCn/vGnlcIkAAAAcFliIQBf/EEJLac/gY5vrLEZGrr7zgTUdbtvSOVGiIfqdv707TC3fMwUjoDrVYYICLCWUh8v4RJB7FQyYiQ+FK2Mac5yQyE+qU9RkwCWceNY3ETtSOPXWnJatg4VaOZXDf1yCxvAZoMs3ZETjZcX+d08SceSC3OP2opgUSFu1rzIV/pTc7RI0VScrZtp4uaSFJn0SkZ4KzRoiZWvxsuoG8Bb6b3zRHgNG5NV19tSJPpktxc8BqeR8RJtwb5Qsqqqa5Gs/akQF0aym6MtDKuJXJs72mnOL0KcAPjrdB9n/Nic3adFEXgCd+f2+1wkqrpXH/pOuv/pi0Aov9fBCd1nwPeJ3/VpmVUpokcK7rDMYtCz7mUvryoXFYHJIFME2UrUj2nIAoB+Hc+qa+Q52uztTJIYpAwCuSj+Avn4vdsd0D8zoSHoY8SQeNHjCNesJ2QLysxYMW2tlbDIDg8NZo3c3OYx6t+inRXAxMiLfI/61j5fhkrfN00/FPKnOtoDCy/AcEHaL+bNTDmbmNH1xGLzt7s/0axd3UTzwA0cDpK+Ouc6n2/wOVu5vewkX/r2q0ZNTg6xm2x7FjgHCYpypOerxyOwQAAAEVBmiFsRH/0dF5nfdMgnOB//cfoVtMannBHLvZc+oHj/SUdvBviD+bjUaCczKXp3caav9S5Y19kYamqzPQf2gf0tk+1+4AAAAATQZpCPCGTKYRH0HBrCblhTF5m0AAAAVBBiJjCf+yGDkmD/wQPfd4OlYkf8KStrFxfUXR3CS2SOgDGQwqwlSdnBwNZlteBsRyJIQPjrW2t7yUSejzEeUs1t/Am0aDN/skQMZi3fwx/ArKZNKIHl+d6VWg5sbgnVdX87imwMisDuH7xfuRhXtPRoZ1uG5UL5hAvF8hgdwISXlIfGKo9fKhlylEiiwLV92JuOLFwCUGHcEEqjx5jH2vjRWh3u4l1eqH96RRSew+K7ub/iXclvanPSQ9FLRqKDC0Kdkn//SPf6J4YoGEpDs+nDc+2xLkN1e7HTDU0eAsrGhXKqrwA8J8Zgf6IHa0QYCHOEe0emUJ0Og3Tn1qz0T+s9pgms97EX5HiBqfE7rKk6ri1zlMg+fAPhhRNVDUAz6V6g1eheOgDwfVQYYXKj8vP05HKV30fPb7qXPzT6rsof7SrdOAGnEY2ygCayrZoBhcAAABCQZqFSeEPJlMFETxX2I/zFBp9qgp4/salIZLYcsjthwPeJzy6I4Lu+7CGGBKx6XjpyjwGiJbEcm1fv5Ck+M6sKooOAAAAHAGepGpC3/4DfCdoMaZ6mx/xmzisNv3kTTFFbS8AAAAwQZqmSeEPJlMCM//1oIfD2R7/FjV/7uJtbh/h26ZjWXA5M+yxDs/KAQ/6aiOF4VnBAAAAQEGayknhDyZTAiv/wdHPhWK59WZRYi0/mPqWn/7C4qxPtcrpydfPgDIQx2fhe9HYrS2vXLhFrbkXcLk6qMi3kGAAAAAUQZ7oRRE8Lf/8G4A5rmmi3JKiu2kAAAAQAZ8HdEMf+7+5+s6uA5vwQAAAABIBnwlqQx/8uT9Rr8lYNKA+n+EAAAA/QZsLSahBaJlMCK/Yj+3IpItJ9V21VTgkdz6/5DP7dKKprZpHZN9DUrHeMgADNK0lbC1tH//ScaA5P4t61I1nAAABzEGIywJ/7It4VRH+CB7jsTLLVPPp7U4g/IsdIoQa8V4snSdB4duUiktiEeuxLgmsj2QGefVsbZhaCdPvsksjKW3nvstpl7jp2s1ynJ/Px3F5Tbx+f0xtxN+vYooRou8TlENq2A74Y6Hudufwecb93fdePYRNj5p2hM+12MrNo9fs0E0A6n1dTm2MgnmT77UGNHb7qHfYeHmB4iNtsrP2Z63lBj7LC1NJsHptPHCWr6iRvOn4NzFJaGErFx0YnrOrNzX0aYSQJsPonAs94SCb8rn2TaRVBUOi4OZMeQLUmSlKilSVjfMwpBn6iICO/D6GNVQF/XbEQZlYu6zgMYeFX4a63UyRG58tSKwCp9f2OiUkbmXzWmTsTCJXXlmVUrMwTpNoXEDiEwT001WZgkKALXCIPk1L3kEbxiaumzoSosiqqBr9VKSJHQn3rmb+8XdNIPW7EFXzIjmu/jxsw4IB85DNn/r2LGnZ6ubFboE2D9kSfezzikNAqjySErVqEFCTH7HaFLmO/3aXehJj9KwVuxwNJm8NKw1pAN0kWtQKnB/OvrBW7HA0n/E7mxt8Or5DQbwbVLhB6WFlt8YnV23eSAEmZhlh+GEN/pSgZWYAAAA1QZtNSeEOiZTAiv/YvBz63I7ASzLJ9ClmirUgyn4zbGeUwEjkxXWhvASlws6r9b+k/GYZGaAAAAApQZtvSeEPJlMFETxX++/dNnOJV1c7qAqSfYVcKCniofZELz/kuxsZCYEAAAAOAZ+OakMf+qes9v8JUNYAAAAsQZuQSeEPJlMCK//YkA+G0EOmkjT/eiAJTzMiTY9kvmLC3EvBpNCrTtGoUHkAAAFuQYjsQn/slNSDxX/gge9Zzx9CItA2gB7Fxe+b2o53+3RX4JUBeUeOibdTG9rbmLUrPArOvifhMq5Q7JLfNnqiXLjJTMv2e6FycUuVuuePI6RKAcYBEbkjBND4KxpRhiJIlymp5VTQ3OjziOJXT+zM3hiUI25mkdbQA5WSC6m+gWd11ryJv/faN0OTcMI7hvv3ee+fUhupYMIAUVgbpn1lZKSefRaQB6ERu0NiVJ4oZGNlUsUFJBTyLpe7CaycrjIN2jllj8PVifiXmFi2MOYevmj8ZvxDeW3osKlL/kmcX+rgIJ23RZivFVDgMQ1bRxqoKbvaIGNwgBUgsKlFsImf2wpu5TWBCbP3T+zwGjTRqBWmGw49//8WJU0jfwj5B2uGMLz5KkgASH1FYe7uCCAg/6Dj5dvfZAm7j4/aW70veza4AQDMUpVzwiIZxcgj0vhIOyTytgTcK18bP4Svg8ZotUGSeVqHT4FdGB4cr4MrAAAAT0Gb1UnhDyZTAjP/3RkIggzHvWRNc9TxX2WH/8+E/rD2i1ZQTKpeu9+DwUZngwjTv034QztouVhaliBUBg6jAqx/+rfxmaxXDK2Px0gid4EAAAASQZ/zRRE8Lf/8G4A5rZnv159RAAAADwGeEnRDH/u/ufqEKlskoQAAAAwBnhRqQ1/16Na+CkEAAAAmQZoZSahBaJlMCO/hgYUYHZKNMSpYwiDHWiDJzqWKDWaxeJX2fMAAAAARQZ43RREsKf/5q9UyVReo48AAAAAOAZ5WdENf/mu/1JKy+esAAAAUAZ5YakNf+wNq1r+oDmxi+ABl80gAAABlQZpcSahBbJlMCO/O4P6CgkfEbsdAPk763OlTOFMOBcAOlj7jH2qn/7ggwwJtzY2tut6z///8h80yqdypu1E21GmpULwV7cAbwOZCDnGXoHJLNlkq9gd2qksb5f/uyzHDdOuTaEUAAAARQZ56RRUsMf/494qd2NSD7EUAAAALAZ6bakNf9ejTvU0AAAAxQZqdSahBbJlMCO9tMQySaDC0lhMNAk7EKXt0kqeaES32jyRp/1xldocosjRAR//CIQAAAEZBmqFJ4QpSZTAhD85xbKqGA0QTtMTzcZx6yNuBbH8U0I7fG7//Kw5UosjJ6abqyyhuLu+dWi9wsYS86vNDnXIVIQg03l58AAAAGUGe30U0TCX/+Vr/b6JOhhx3hclUqO6BN5AAAAALAZ7+dENf8XrEoMkAAAAQAZ7gakNf+wK2yM+41ggLcAAAAC9BmuJJqEFomUwIS/9uINNmwtVfgNnMLjuvN2mc0U0iDQsZ4KdCN7Scdutl3/zDHgAAABhBmwVJ4QpSZTAhT9hvKp+AC+VU0ptc9L8AAAARQZ8jRTRMMf/0+FX5vMFzFNwAAAALAZ9EakMf8YZwpV0AAABFQZtGSahBaJlMCFv/2/1cKmoZATORftaYkNYi4MPzrovovkDXHEf/X9f4+rYOHw/BQTqNWc+/0n75V8K2rJekkJVWhtpRAAAAcUGbaknhClJlMCGfe+CGgOcXfx3OJIKgzNOc+gs0Sczy88Pz6XV+7vYjcf5TOxHDYJQ3eLDyg4aAx4F3Dq3CJzmBsA2e3EvebWzVAm0v2u01bQAlBHz3oN5b23KMK3wHXrszgwjLbYAMKZU4a3DInOeAAAAAEkGfiEU0TC3/+gwBz8IzBgiuQQAAAAsBn6d0Qx/xFSGsqAAAAA0Bn6lqQx/xhwiWU+f5AAAAGkGbrEmoQWiZTBTxH7yb39z+lhx0unrYELmnAAAACwGfy2pDH/T4RJv6AAAAGUGb0EnhClJlMCI/vJvfTUjU2eEG8oK9IDAAAAARQZ/uRTRMNf/16VACFNjvAFcAAAALAZ4NdEMf+VrnQVAAAAAMAZ4PakNf8i0pRvyBAAAAUUGaEUmoQWiZTAivxP3wG3qGBjVBTyEjbD1fkPtWR9cUvY288YrkR6jM9NbNNvCjggnyw9SM/kDENq6zM9vKVfYCbWDmq8CtS3AdrZTD7TUj9AAAAExBmjVJ4QpSZTAiv9hnwT6sMKiuLXJ6m/uf7wsKfLTzWthUG43dA21WpL3Kq7wAvduAjzdfaEE+qqJc50UtDrMc2mHbZyVD6f9j5RDBAAAAFkGeU0U0TCn/854ISzeb0uuMod51XJ0AAAAOAZ5ydENf8YBS1MO3VkcAAAAOAZ50akNf9ekQeHYBxMEAAABMQZp5SahBaJlMCO/O4PYnqfMx5qoq04QyRTCXp5Fx3TnYELR/fy71W0YZ0vkzKrX9cMCtKngLZvjaM5NTqdGdACBDB6a/OJj+D0fv2QAAAA1BnpdFESwt//RoWfj+AAAACQGetnRDX/nUEQAAAA8BnrhqQ1/5hxavC8yEyyAAAABGQZq9SahBbJlMCK/B0ZOEfNHs/ND+yk6bPA6JIiV+sEhwsRRXPQWxb0UHx52024hBgU1OBZ/TwSYf9gK9YU0Hxj1UtzvvgAAAABlBnttFFSwp//Od6Sx3iJbAmOgfYRSMAvO5AAAADwGe+nRDX/GUcQ19GCh0zQAAAA4BnvxqQx/096b8gklG0wAAAC1Bmv9JqEFsmUwUTGfdGQiGJr0dNHmTKLNt/5RZougY0237Kum9sgCAEWaurfQAAAANAZ8eakMf+NBzeVyfDQAAAEdBmwNJ4QpSZTAjv87iONPZrJ62uCw3JRtXHMPPGA1I8bGLSh4UaCezIdui5HuKSwiSNHcdtBlcIACFbkCShRWAX+zWLBEp5QAAAC9BnyFFNEwp//mrqF88Aan5zR3OTsZJZSJ0af/Mn/LtwoDOdrs6V8kfYEDVQtEX2AAAABgBn0B0Qx/w4+EOJ9ZR/zhUco3vHdJ8dDAAAAANAZ9CakMf8YvYZ9b8aQAAAEhBm0RJqEFomUwIz8mr3uXpRXTHa79QKPHCw7okX6EDW99XQ0eeqlj1aQU2yd1SXOw+i7GQbhKWNmSACHTqrDUx6rBKvAj2T3wAAAA6QZtmSeEKUmUwURLHf+GX1gAKnjh6ohb3ynSQr1tt5pKr0qaMj1RHdDYjOiZNmvS8RWEq5OKqc4GEgQAAABcBn4VqQx/xDQN28EP3DXf9kH0tTMRCTwAAACFBm4dJ4Q6JlMCO/9BGOOsEJ42tX8l3+MuQoXYagQm++aYAAABXQZurSeEPJlMCEv/lx4Cax/3H8DzWUlkBPQuYuEZ5+8zGc/Pj7qlPsL1XxPnPb6/w4gUqqRaCnO7OtrtnuZhexn8E/N07CXUMmIamBCJFY7Gzx/FmJ+oDAAAAKEGfyUURPCX/8lST4jmVONW4yw/e/ykoqg/AQieskKKdgCKMHwjGUTgAAAAVAZ/odEMf8RjTOc99nZ/sg+lqcRT/AAAADwGf6mpC3/Rn+Zjl8/cwWQAAAdRliIIAJ+yDdXz/ggeoxQbKLXjVxyxSWyi4pLuYnWj04DZIXYTyxud4dT9IPxlo6mlJK907YmcwiWz4SBleevk0b+9JOlRG8k2ihFfrYGhQZQMfWgsNRuGAjfZdH2+Y/14GazMnjzUgQ1/mTCyr03T/b7B85sG/kNnzuD8vPxv4HZdYta9l41NjCpQCIM7PLUDqbAzS8IeywAnrXj4I1CwRvzBEm43LDHoR+sPUDuYIBySfE9aQi2gQgcx3yLvBxunv6GbjwBaeTVWfBzGPHu9rN8br+7soIMbiKmaptpmjF0EBak8MH+EmKYk7QNxgqjAniGF7VI1qBxWBX8YbSbNDdoh1o+EzeVTkfzOJ4XuWXBgAMt2VMQk0FMUBcZgRGBFsu9hlcyHZGQONWzbwL966DT9QtiGwIQmshFzBaEqL+fLhMIzkso7ZcYJVTRxyPK9i5kFhctUjaz3C2S4bWyrJQ76tJAUyIJDz5CPQCfOe5YGz1fn5zqO2Sipu2uZ6lR0jlS0orM5EDW3VDr0A5HIiG65Ju857EAIWYyxE9Mj7majWjRsEtRqkLhklNFKVZE/CzLa9Ot6hSDj6wWtfxFKC+VrRLhlq7HpMKZI6Dra0kcYzIrgAAAAfQZokbEd/1rwSbozXDMKpVx9YvcY2deJomjX5cEwcwAAAABxBnkJ4hD/w7TSUhsq2uC7X/b/9gpBTGx6CDSiBAAAADAGeYXRCX/fdR4fFWAAAAAkBnmNqR3/sAh0AAABsQZplSahBaJlMCCn/wYMqpn83L6ypWn0VR4I18zC45U1++wRXSZxFPigNuahbDbWUjv8KIeqZiItbmgF3/CPmmnCVKb+bZv4IABkitSik6T4fhi5i7ltYnFIC/WZdfDc7gZ0ZeAO6BGqI3XNgAAAAIEGahknhClJlMCCv/6l4+1oo19wvA4BqtklFvXPe3beBAAAAR0GaqEnhDomUwU0Tf8BCtK0MTv8V5K4di7oa6cSqeAlg6u4OANvEPcxP3yf8r1i+0lxyXkMxf9lXw/1C9TeXDGOxHMPaoCw3AAAADgGex2pHf+/dmMBump13AAAARkGay0nhDyZTA//KX7Dm5IhrvjLTiU1R6gYAfkxsC4BSX7eQVAee80IKiVsA/IoewNpRyYSok5XCMNxCnww0aFnTQ78x4f0AAAARQZ7pRRE8d/TdIT3mC0A4W0AAAAARAZ8KakJf8vq6iXmBy0AuAOgAAABNQZsNSahBaJlMFPX/m/Afg6fSEC+v+9KVdNDWq+B/jrc1qK/P+pLOHxb6YfxwhltB4Yo0n8ekDNMXJYktHwtGSSW4+L3f4kEZjGJ0KIEAAAARAZ8sakJf96ojD5PknEST0LAAAAB3QZswSeEKUmUwK/+aro+/Y3NsEeZr9oFRbZP80WkyU/ikcKAcUFa4eS9Q1pAG0xaoHvZf+7BLDPp8zoJfjluPUR65Dhpl+g7PsXf1lU4Ib3FjPuASZ9pzcE+ORK0uzUrIuxY7cUfqErO06n96rURCtJ8besUDKYQAAAATQZ9ORTRMIf/w7Tp8oR2obO+zVwAAAAkBn29qQp/4BB0AAABKQZtzSahBaJlMCT+frkpVxmzumb/v0lTxVqSFIzEGctOi62murLv+p0RElAPnEsVN7n03+Qf2ut9M45fgUQ2Gnrg3ZMrQLM+/mUEAAAAUQZ+RRREsLf/0Z/dXzOwuTmHoApwAAAAJAZ+yakLf+GE4AAAB7EGI7Q/wh3o2v8DW19kMfn3/1UpUEwlJEqAEn0Y2y5F29SOnjUtHSaPFtP3IWX5uC3sDoiq5sisspMSR05oPSsTpTmUHdfZtXSml+J+doGdryN9/ZKGyfuaY4u4wjsIZykvxNUyf3ZLmR3eDfO+uyF+pUpynWqBJIjaklzDTE0GftSXhSceUvruRUpyCx3YNzrsZjPQI5yyZrWfm4URG1W2i/Yf1p//BlhXg5SNhPsM5mQg0zr4/XaGpComZOCfhhjpEIRQ/XEIh+H0O617SpHxFsqkHCa83P/SUBRW8aR0ssED0wbEAgHO3mQ9KEkycbCSgbREi2o4e8Ukxbwo7t1M7TYMnPb9e0WHYpMqqeW3QHx+czHuPaSQ7h2W4mEjN1O3EnDRQTHpdkJbhuJmrSXp0yqov9wkQeMN+ePfv+GjwaA1VGdA243t/PtfDwNB9fCCaYZ6sq8MjDFHPkmNRPcgchF6bVueayBA8qXQraF/mLMxzimuw9AraPGgbgAK2VVyqa16pa3jwAskK460fsJm8WvPpGikxgcAsyIG3whK0GING4GMrno1AjOaVOy2ecxvtQeQDc0aCfthvauOy3CZdGAD5hyj5nXO7E4SLXZYH4F1dTa4NN2wESKIUB+jcrTuzMcCQ3YuRTC3ZgQAAADJBm9VJ4QpSZTAiP9BwXFK1hJrUSj/sd9DSfwmrwCNr9lWFYpOR6Ay7+LWT3V2abHpQFQAAAiZBiP2P8IaG4f/md+Hq1j8mXQa6ZIzjnBriVBV3pMs4tC0/OjbacATR0YJudY1WFApGk3zKrYJ//UW0Hx8TLK+J8cIxAo92BgA+JrGScZnPbFvSqh6iCJ4I339kX493hZGrRMnanSx0mXz6io/wvaDwz7ryLV48bGem/nR/2pxYaZtefY7r+vLViyshk+rn3bwxujQ9q0CrH/LhvKsasUrLk3IcP3MBjJxyhVKjudv77xDpZAROfHS2wl0qaO4RX1kzjz9KvUCnPsC0ooB3wdx1Ws2fii8eKgk9raulULxiY85Wvzgb853TCvg0tK20Y7eNFEyHa4b0ERNCEGhxAPyMJrCBIMCaNK78jhgshAYAOKKJgeARtA65ED6tEBTbv/XKrJUFQmfvCGm97sKFtDt0G5ExWKq6pfmhxPugdIhS11MPUiOxe3yNjsNlDR4kG8HhAaA3gXUCUsmF1DQ6jTpjBQyBn6Xdh7If9sS0elvCyS7sgH2XEF/a8gcQfIf7FKeKIk5aG0kpHtCEShd8I6yflSoaSCC2DULQASz4zrr2KkQ1TeRshthVvJo2QGKCCQJ7bPkCtkC+Z1LRcgnLfUpzjGBG4hyjjmqi2QcNMpEdCAtHKJA2N/ead8NCFOwiINNGE7uLmZVwSmQBRW8zSra8B4bdSaMMVdkAm4OW4aCmYDOdUpyFlDLI3O7Hwzt8BoD52I2XGK5qrpzO2Cnu+Bswp5Hc6NGIAAAADUGaF0nhDyZTAiP/C8kAAAGnQYiOD/CGqVx/+Z34fdjh+DDAcm2f/Xje1S+CZzBFKo+3hkz5aJ6YyNVuT55sG9yc4jWNtIc+ptOaq7EvlFnZYgm0TgjlurWKPw/Tuc0wK6o7benGOeT1hsevRo3ZYW2o0bylhDt1OouTpkBaOuxvqTkNfYPW3+ai8r/LPUKZOKy2FrnBAjGFM79L1JGI0kiHODdGOTdcyivNRV0o4ZMOwFy+B9cQRNqggOe4v25aCNTIXp3BR4lUbPCTmbdfaJs2RWhu8FVsacpUzGv+AQzHGhk8vP3vZXuwXhfbsBtRvFnVEs6b9qzagWLdB1l8KQhHUe2EQodH1t1SEQaSGXZk0QkggXkL90G3RaiJAW2jxSoH4ON+zcw1bhRa8oaNGMfK0K6FbwXmC07UI24KZ5JNTDud/BOVqF07TpddnjourFjtBF3RCGvK+1U5xVVolUMpcYVsSTnpCIYpd+u1fPjb79u4ar72BIRY97rUz7eoozt5NiU2f/LitN+cIfY4fHlT/07JXBPmubWkiSn2BJblNJRg2wNhBC/Ved8Sv1fivdaL0uOLlkMQAAAAOkGaWUnhDyZTAiP/0Ew/bZLsuv9nSmKOnO0Gt3KHA8WgqseXCR4Lt7CIOXT0N0FzwYEQ1jiQ2GcBfLkAAAAhQZp6SeEPJlMCI/9Es9yLz8da8rSv8ea8llx2TUXWf52hAAAAH0GanknhDyZTAiP/5+4XUVBAog4xQb3LuxsQCNhbUVgAAAAPQZ68RRE8Kf/5evys1z0/AAAACwGe23RDH/u/mE59AAAACQGe3WpDH/jxSQAAADFBmsBJqEFomUwU8R/QTFLJzhrGkUWlf/1vRD41V2nj5VrJI8F+qI0H7NExcjPFAA35AAAACQGe/2pDH/jxSAAAAi9liIQAn+ydIjrHo/wQPdg51HJJzsnizTqGdhMOm3UR+UkO6md50XAXcpKuq7z4E6XTi91leeyjrL631RNIJb75POfZHbG1eIWFtvdHn6yEpKKeALlzOTWTVdO/qyRG8UudFArlYIkphm9XgLA8LeHBfYYpPnDLB8syNHOuDMkKRTDruPrKUgaPAYlcv1/t+x8690g4OBHjm4Y59i4bIK6UCvYiXIHtZtkEqbfxdVivH7M1x2jCBOmm6WqXnY4TYmCNpk2j5894qErT9Vts5KjT4ed56AhLmrxsNJM5otNo5t+j1FK3r4+O3go+SCdCP0iGSAROtT+gTcocKtQFsNj4wDuNZLeGQrpLQ96mkVbwU7I9ztS1A6gk4k/4G61uVSMjLynsR/96TFoWclz+HVxGk//EAgvjZ+ThS0lv9u1y90cpasPKfRo5oUDExb2vk4wGlB1y/tuc7VFUfKHRUUV92TmUuIyS7lzm1fXBlGi4g3QldXJYKY5ya7jjxr8FkfnsfslN0/+nwaCvN2XtOrNtuMam12qqdbRI/NhFxwW1cKi42a4A7amYxMqB94G1Ma9QDNiJo9pIxAylfX5ggpfIt+61GOftMfhW7NoVcvcraCeL6y1fKgNJUv8n3gqiFZEc0eAuA8zzgK0TKBOH2AI9HudvFxFBpXpVPBWdodaCeDzQtLF26LJWZWZMuJd1FdrTikAWk2ROIET/wk1x3LqHdHUDJGlMbDLWev6l43QnAAAAMEGaImxEf8dJxBnwbtM7HWdKY2iRmuVpXdhvnixmBS4Op/+iynB7NOM26tlGtbNlewAAAAkBnkF5DH/5VLAAAAAXQZpEPCGTKYRH1YEv+avUsMVRwucYjEEAAAAJAZ5jakMf8XqQAAAAOkGaZUnhDyZTAiP/ve1TRzh3eedwFl1iaEK/VvfQJxHGjrUJKe5vi/TLXvTnn68EXNFHXCVqWm1f/20AAAAbQZqJSeEPJlMCI//Vf8WOHCHn6vEojyLT0CzJAAAADkGep0URPCn/+av5ZkJBAAAACQGexnRDX/Ft8QAAAAsBnshqQ1/7AqwkUwAAABZBms1JqEFomUwIr8OfdwUlV+Gc557AAAAAEEGe60URLC3/9GfYT4RMFcEAAAAJAZ8KdENf+dQQAAAACQGfDGpDX/l9+AAAAFRBmxFJqEFsmUwIr8HRmMrvEAHqlw/BWn4owEhkqNlnr8QA6j0g0McUPPwLY3Z1FHARtdVuyeko9kv/o9vgM+SFdESqIFEZmTVPcvtPl4z0+3kAfr8AAAASQZ8vRRUsKf/5rAjT70c18y2xAAAACQGfTnRDX/Ft8QAAABIBn1BqQx/097OOfNESX2nEdoAAAAA3QZtVSahBbJlMCI+8m9/2RABm1gDroMOmO2WyRK6VdehwOrlDKjWDeKBbibrmlniKDo6nbYo28AAAABBBn3NFFSwx//qn8ZT7EeyBAAAACQGfknRDH/lUsAAAAAkBn5RqQx/xepAAAABuQZuZSahBbJlMCb+n6E6wKOK5PuqVO6hP8SKwyWDgSIWN95f36qRquZdFX4/jC6ByNUc0mjGfEOujqGGim5N2i9fjkOpW20jJ9pGI7d/IgjEJoVHiXBgsRY+TWvgrI9F2j6gfn347wuwGVpsA2ZkAAAAfQZ+3RRUsKf/znkv0AlRDRQsKNqi//8Dd/tfohj+IwAAAAAkBn9Z0Qx/xDBEAAAAWAZ/YakMf9PenPNCSf3uTtO+ZPeZUUQAAAEBBm91JqEFsmUwJv9GfJGVvzkMM8k7t4YA4H1zXhfYBFjaaa4C9rcVc9o6zvM95yDE9NddBh2gek7hwPQ79dTeAAAAAHEGf+0UVLDX/9elYeI3cxB+H/iisrxveV6WMW4kAAAAWAZ4adEMf+Sjpmy5Pp//u6F+vWBmRlgAAABUBnhxqQ1/yVsVAdef/ihv/OJW6DFEAAAB3QZoBSahBbJlMCK/B0ZOE3zRo9kv/s0EKrQodXskCOuz9PEW84+1dk5R4rfRJrib++RxUKwLFlan75BF2hVjve1IlqUjgGxENi4n4nmxWrZLUGfTdbJ+sC36N4DbwH2pKUFLlylBIp6cB7v59fb1i+7Dr1dkIkEEAAAAfQZ4/RRUsKf/5ewSnaHDSljduIv14wQwGqN2LSY0q8AAAABYBnl50Q1/0OHl8oMm/mK/jFnsRgiRAAAAAFQGeQGpDX/mR41EqsYP8Ki4MgaxhQQAAAFhBmkVJqEFsmUwIr8OfeA2+aNHsl/9H6VngSrfaNwyp8Cy5bhHlOsJuL9EVuqf90cGmr+peC2TMYNw+A5Zat50U2zM1g5WZ7u6cJ8hCa0iATDRbvRaCkGrcAAAAKkGeY0UVLC3/9Gf7winbZ8/H/HDv/R/NEKBfzHPpSzX2F34STnbHq5kZKQAAAAkBnoJ0Q1/xbfAAAAAJAZ6EakNf8iAhAAAAQEGah0moQWyZTBRMV8Ofd/uElFt4nKVHjdgjELrVzgyV0ShJ3G4Auz+cwdKD1qY3RYKJ8yjQ6ZN664VWm58VNjEAAAAXAZ6makNf9emB9YCe9QuHnWWJDOCLW3kAAAB2QZqrSeEKUmUwIr/DoG7Ld4gBS+z5W/g46fTH3PuvWIqh+CO8mnKPYYGkhLwKHxx47MTGtT9taYt7egkCXySDOmLc8to8DF1FawQx2Bh37ASmt4/+efiCyXjLvQ0rHguqnYn4oV51I2O/XVwflOyIs6Jg7dzr4wAAACRBnslFNEwx//T4hHALD8PbzJ2gSW3HqFn3h35GYAJVd+p6QLgAAAAJAZ7odEMf+VSwAAAAFwGe6mpDH/GGF2YAjKkCZP3/98sN3jLhAAAATEGa7UmoQWiZTBTxX8OgbwI9ADnrj5720lOZ5dMXvezONiF1qqoCQ6TZUelwIdqXsnKLJs4warjTHnCl9QNSsd9185lpszqxtPVq2DYAAAAeAZ8MakMf+qf6iS7ITt6fk7TVRISXOzp6y+/hjiHcAAAAckGbD0nhClJlMFLFf+5HnomSHj1ABBXx6fQXOPEVw7e7qyvNkt92RlwIWYbwDp2C/jzznbU13HrfflwVTKTJbefElceuE/pPqu2r9XJxVGtLNIdYnFOqvNb4fZA/JO3FufUYLPLBvR/1j9F17CD7msIVgQAAAAsBny5qQx/49pKZaQAAAB1BmzBJ4Q6JlMCM/0hHTZqBYr8G4Os1kAVB3lPISQAAAHJBm1RJ4Q8mUwIz/8aQnLnwe8gmwbx9wo7BQk4S+dlW7JfKRFDylSsDUA7swf5qWhp+9V1WvPJBgWsb87Re7Tvfuzo/+UCpA3S8mCNOi/XN+47awQ9nEzefnFLYy2OOxfuKq39oc26gToUmVpkw0f3mD98AAAAmQZ9yRRE8Jf/5KRc6RihMUIhfLoV8hUjjf7/v0YpPOPHR+6uH1BAAAAAcAZ+RdEMf+7+6AW0SwW0yf7I8OpENmp5cRgGHgQAAAAkBn5NqQx/48UgAAABAQZuYSahBaJlMCK/YZ8HvjVcKlF+0h0Qz3o4UXMmFB0cPqMrBPImBFv3oRgwiLLYXGWlUxyz7Kb/rTWc5gdUJkAAAAB1Bn7ZFESwl//JVBsOI3POdjbqxgfuD8F/y/sLL4QAAAA0Bn9V0Qt/wDlLv53+wAAAAEwGf12pC3/Rn5LbAE7HQTEcb5KEAAAAtQZvcSahBbJlMCK/Dn3wi8oIyiSnQ5vOqPQMmFZTIoekqCYd6y+6j7DpCnPghAAAAE0Gf+kUVLCn/+av78D2DU+0ANFgAAAAQAZ4ZdELf+NhZbEvmj27btQAAAA0BnhtqQl/u7we5HelkAAAAGkGaHUmoQWyZTAivxP3uY91psBf0Rr4/ZfPBAAAARkGaIUnhClJlMCO/zuDwQwngNSPGxb1FZnOadJDeCRhHiUsIlgOQG7TXYnU6UhUI38zNWLUJXmcoJgoFdvFEzlrA7eT72x8AAAAVQZ5fRTRMIf/w7Tp7jR8xi0pGrk1AAAAAEAGefnRCX/gPZQ3roh7DukgAAAAJAZ5gakd/7AIdAAAATEGaYkmoQWiZTAn/UQgRvvtdMK6xuTJ/IfCodb1perQoy9dbBJ+ZkqED+PvBIfYfWp/QYgTeGJ6pLsn6JGAURHQarSPd9lVGqpuVmuAAAABPQZqFSeEKUmUwJ/9SkgyDXJ+XQKikWN8L+iedHZFp3uV0hGbjB9q46uj5SJIa3dzKnaxsbaljYoQuP8PKA+FXSaEgbhjosJ7hAf+LPVDWwQAAACZBnqNFNEz/zL1NmWzIOz2w/Hke8AR1ZRohUMfsVJXby346B8BRwAAAAA4BnsRqS//VBFRuogsBzwAAAJ1BmslJqEFomUwIK/+9BU+UUh9LWkYJXD5YAg24IeiOvsbPrbMbY7R1brqxmOclOeM4JuNc5dcs4WtxHvIzs+quZNNy0u4Ujk8UAEIG5xG8jnHDdSGWQtfK9n00U84+y+AwDK7FqqZnm5G/s9YLbt7NWpMxdWtHJJC1PL5urUOOCToF9VEkN+MlDIs0sLalKFlGu6nhwsY8kHLJ4339AAAAIUGe50URLP/MvUQx4hCBOK4BYeaP5UTUAZumnBhi09zB9wAAABsBnwZ0S//O2FGeYCuAAjQw96KGAYeNFAe/wUEAAAALAZ8Iakv/0DamlUAAAABcQZsNSahBbJlMD//JEjxlnvC8oB/8DgMZz+26s2L+4W4et5OmpX00y24xBkg2HbybMnT7NiV65EgFA7MveN9myDCtpqRcDoJEliJHtL/as14sOlSHWEVzOSJKE3gAAAAZQZ8rRRUsZ+8tb2R3J0C+vJu7UraZbMc3wQAAABwBn0p0R3/uKyW3qwtQP4EdkS+VI8a6DZPRpEX0AAAACQGfTGpCH/XtvAAAAIhBm1FJqEFsmUwJP8UtoRVDBvlXXNslf6yTbCrC2kQ+qcrmI4U7/LLmUZqlDWaHVCO7JtJ3+woJClXUmGpvwlmXzJPPaDNG170BqgLhogTUlp1oAa5s0oO8z+frTxnaYdDiQhdWpfxRrUYySiVHIhwdsJsYBSpl87ME6EB//eA2d1Jih3wrUCoXAAAAFkGfb0UVLHfvOp2wdkMJx6pHP0HLXIEAAAAJAZ+OdEJf7kt5AAAAHQGfkGpCn/QIKSmmzrhLRhZzKX/8XYGZ45dfxp0WAAAAPkGblUmoQWyZTAk/n67W/Td7sGZHwhPj63NOMzK2FF7kx+PF0StkwWLpUyKlE+wSbV+6zbfKu9wK9F5CM13wAAAAH0Gfs0UVLC3/9Gf2yg9pIPYXF/taYSnbNqXmAajByxkAAAAkAZ/SdELf+NvJdqYFxE5WQ74tIrHkB/Zp9ewiFN/mhcjp4TOYAAAAGQGf1GpC3/D3ec/VW9//GpQI5uzkdVZhR1IAAACAQZvZSahBbJlMCI+60OsG5t5BF//zgHebhTqAumi1G6t0YyIRbfdJnMssRQ6YJtIEX/vx0FRGg/TIAKxomM1jkZva1As2CxJg8YE+hU7i8LBGSp1gAtkfAU7LHlh0XZd+xpSMvWSaiIP45/hs7ecOiIqsTbrLuHMYsEzveDxsmuEAAAAeQZ/3RRUsJf/yVSNgiU+VMCt73/ecy4y7DWi047CkAAAACwGeFnRC3/AP+vLRAAAAGwGeGGpDH/T33kiHVsuH/GuyX+dUL0bWy9132QAAAFNBmh1JqEFsmUwIr8OfeAz3mZo9kv/o/St6kbmh32+p/vt72CXuBgK0X9AykXozIB2JIADRvcrWHDPtDAS+gTGxvsyZmy/JMOjWTV6lpm4ftOVDxAAAAB1BnjtFFSwx//T33jcNz1kGOP//Oe8caF4Cdnf/awAAAAkBnlp0Qx/5VLAAAAAVAZ5cakMf8VOZanQzUtBv9evsarmhAAAAOEGaXkmoQWyZTAjPyampp2OaGQfIqaE7gBMJNneMTB1fgstzcbywbj3KHCM9O4SsSld8TfUuGgmpAAAAT0GaYknhClJlMCI/vJ06TPf0nqi2tQjFk8wvqp63gVs4puv/+P/bGRGJpDHX6o3bdqK27B0efsxy6XYLIMrcKYDMydFgLWjuPEwc02sEBPAAAAASQZ6ARTRMKf/5q9eNhjvofQFgAAAAEwGev3RDH/DpciwiP/+Xl5ss/+kAAAAJAZ6hakMf8XqQAAAAWEGapEmoQWiZTBTxH7yb3/0MvgyKqhsuq2IMMi//47KrSGJyjIaV256GlbCOJ6Pu9Q1BJRKjOXw//CRcV36Q35KB4cwTBDo2sgbiOIhZMwLN/CAzbHL8cOcAAAAlAZ7DakMf+qex0CQf/93R0suQJjlk/8fT/9tza5BWmRJW6Sk2pAAAADxBmsVJ4QpSZTAiP0VAKYqjweL84xBKP/72D6UmyBWWp3bekX3Szqo/gyBTCIdWbDkVasVI90DBqrpPGuEAAAAvQZrmSeEOiZTAiP+96r/glbFWHeWB1cpEKGuS0FONb0CnFH8F36mKAt0EEIIAQu8AAAF4ZYiCACfsy/x4zf4IHq/54+hEWgbC2xs8Lsw/U2HIqaVTY6YbwQpPSJ5Bg3tkVLWNgvfi66bSJ/kaXi81Gu782xC6UoOA+FvubrW5BsLDrD502/JxbL4QM8CIImMCGN3g7MzVn0SJaJnpoQYc4rc/AdsyvltWuyGtFSiNgQKv2oFXxwxwfPtyfmRYJzvFFAcHlqzR+ovniXrJhr9S6UwLgnKqvbD4cfNGCDIodq5OOICDIKFU6Du2s8SWrIAEX3JAKTsVcGwQvJHITUKx3gdHC7Dt1C9Z8KxjQMUvaNvT1gD0EMfbuuFPuv5yLUBCkxlUxk9zI6gyWw9HqevlQNk7HkAB0t9/VZU3UbESz9TvdVHGofWm6/+DzRvf6V0NYeY5rKJXSFpyUoqNLFNyLNlB8bsXt7GcClKkUlkok0cnJ5OFS/ybLlqtJN+7mMpgEV4EPkfEWab9NOOjRF377hnAHzaEGkw/Ztgc8h/DbjklKdtb2XufPjhBYQAAAFlBmiRsRX/KC0NdtqFZXMmIAgmTCgQ1o+2koaIt5NpjziR88HfbecL/jQTlRMbIt/+5CSb0Tj7Os/OIzrVjaO69AJnj+menJ1si8Drlelqdhk5riUDL1yUb4QAAABxBnkJ4hr/16XzdPZCiyt1C6jhx0Qa+SQ/ACbRAAAAADAGeYXRDX/nbxqgC2QAAABkBnmNqQ1/yVrt4jHFFLc//hKQ7fd0gixdhAAAAO0GaZkmoQWiZTBTxH7yb4GSZB8958M2SbihnpzUspJIl401F/rlocX18Lab7+Y4KtU6/2d1FVYTkSD3gAAAADgGehWpDX/sCwZx+sxrIAAAANUGah0nhClJlMCI/SYYCrG2+HF1nSlssaZvFc18FTsb9UbOG70azdKkxP0/cN6zq74r5EwvBAAAAI0Gaq0nhDomUwIj/utDq/gwx/NYGvagFdEbcqGJ/yTy4rCHtAAAADkGeyUURPCX/+Vr6bu3BAAAACwGe6HRDX/F5SU5QAAAADAGe6mpDH/qn4+U+gAAAAE1Bmu9JqEFomUwIj7yb4jrYof4MS8gi//5/bUp5v2MVCoI0f6PLNZ7Bjw59OHFKjlr14NnN3/xFoZYSrAtW7xnkIfA/OflT+3uyn7TlsQAAABVBnw1FESwx//T4g5mLTAHWqsCrJrAAAAALAZ8sdEMf+VvkHlgAAAANAZ8uakMf8U+Yi27LsQAAAEBBmzFJqEFsmUwUTJ+frkpSBOdttW2Vk9ckcljNnIViN4ukOXZZ4EGQ+0dNNtEY1l0c5oUb/GjPKfQknJOqJ3fAAAAADQGfUGpDH/qn57E+VKkAAAAwQZtUSeEKUmUwK//pVeVkmeVBvo4EV7X3OHeM+7g/u2HBkGnBF6pUVVRVn4TgvUvxAAAAD0GfckU0TDH/+OLrEBewzAAAAAwBn5NqQx/xhxHdu+EAAABPQZuVSahBaJlMCb+q075ubwzKRN7XM/87ywexFlJrG8/bUinZxyPTuFAEyTwxR6azEYBhuqnVcn9TNQ4xlcg93PBab+SwbA4MVO1lua194AAAAD1Bm7dJ4QpSZTBREsR/0Ew7Byktbrs6DwybvIaDF7qDVzqLnsDCc0r/to2hNlPKWBVIl+vq66eVrqB+S5IxAAAAGAGf1mpDX/Iz2ydxP/4SkOt5qCNnwXeAwQAAACxBm9hJ4Q6JlMCI/9BMOrxISY2vj76fWCL//nyWeRkz4Pxb0i3Za5Xv7cw1FQAAAEVBm/xJ4Q8mUwIz/9tKq+m7Xs4PwTl+/gP3ZGXo2R4zTTgZHHDwhe8VgU2forKHlH5GznZFfgSndr90FitcD1nqszu+74AAAAATQZ4aRRE8Kf/znkOA9XhNlv19gwAAAA4Bnjl0Q1/xgDOxFi1O2AAAAA4BnjtqQ1/16OnnnCzmgQAAAElBmiBJqEFomUwIr8OfhQ8FpsYtAzClmwQQd00eyX/2Z6R+QzoMv/BftgwzT1jOcnRhjEanJzdo1KX1zyq8TsYXJ3wArVX/ZkcIAAAAFEGeXkURLDX/9el5SRbzH9nOErVBAAAADQGefXRDX/nejZLEOMEAAAAPAZ5/akNf8lbiKZ59Vb/BAAAAb0GaY0moQWyZTAivw5+FqoDw70nu4DAqVNtsMn/12mWg4cexkiaVI/tLASoBBE9bR1c8hxg3rcwWCDAkjnETDJTevtRkJKmgaGeS5p9nvlqVZkvGvmDvYZ6ocY97QIIdIZEpcHrmtnlFQb5PE+YugQAAABdBnoFFFSwt//Rn17kakdWvvEh1irD8+wAAABYBnqJqQ1/5iDf71F7ONX0dUd67VDHwAAAAaEGap0moQWyZTAiPutDxXUBpop1LLjrGrQ++6bNFwhgRWP95BF//wcCotbmv9bAOKqJKI0H7C2oa01YC3Npmkb/+qubYk7Ws886dRG5t/qRhG9rnuqs+dH0IXC7c6KMxoWa32RquAocdAAAAHkGexUUVLCn/+avW/J4WY5pRF+vFz0kVKOd1nIId6AAAABgBnuR0Qx/w9fyKSvVaznpjcN9zWzGnglkAAAAPAZ7makMf9Pem/JIAujiBAAAATEGa60moQWyZTAiPvJvqtAWixLLyLF0hdgSc7Noh6e3a6ZTD1Xc2F/unCWd/Wp312dKXtCUUNTvvgwFHunoDUaWJqgeTBLpkePOGbYEAAAAbQZ8JRRUsMf/6p4BbYFeu/AagSW3HrhVXo8wRAAAAGQGfKHRDH/kzwGUnAY7/xW/kCGzmXCDthNMAAAAMAZ8qakMf8YsMa6HkAAAAREGbLkmoQWyZTAm/qZIoJmjlGFrXM/876a23ZvNEM5luN1JyJ/bp/VBXtvFXgei4jJM9TwsQnDxucKF38aWtaLldhteBAAAAFEGfTEUVLCn/9AiHAIDs7ire+0pAAAAAEAGfbWpDH/j4qZAav+LrUugAAABKQZtwSahBbJlMFExHverWhWUcU4/CW4BDGSGD3nWNIY54YMHyyPiNbZCMBncYWpSCwCnb27YvHaZSjhzkd6gSOQAE+wr8PEnsjJEAAAANAZ+PakLf8MVMzikXcAAAAD5Bm5FJ4QpSZTAm/8sJIOmAVtC7kaIryjOnT7Xh1wzACn+32VXCZgpXaIuyLf2yJJY3ngd0gzTxiIYc8D+0HwAAAC9Bm7VJ4Q6JlMCvmO7OrjEmOHzqyPNzzO9nLXAFHcUOafbGikI8qt36BU9yNrJBqQAAABZBn9NFETwh//BKeyx2OBR16SoZF6UwAAAADAGf8nRC3+/0ylRmnQAAABIBn/RqQp/0CHusmY+JI8dY2CwAAABJQZv5SahBaJlMCX9AFkZ2g+gFsUIw2J9Bidybrj6tJ2/w2AGA0oLHisLBkJBxJ7u1ZXFD/4R9A8gyMi6zpfAvbrfXaUjdwZzNLQAAABtBnhdFESwl//laz7BH6jLLjK6K/oZ738+X5YEAAAANAZ42dEKf+GOz9E6RogAAABEBnjhqQh/s2Gi3eRvaCFfSgAAAAExBmj1JqEFsmUwI/4N1SFy1LzjQK/oV54xU784FHgUvQLRQKha9SDLcII1DSPXng6ZDsDpWknrR8xHG+Rd62A1VFtOhOcX15PKTYAnvAAAAHEGeW0UVLFf1nHcafvGvgAZb68W7Q2cIo1crjMAAAAANAZ56dEIf7Ar4CH4JFQAAABYBnnxqR3/2wgkXEVr4jIissa4guCx7AAAAbEGaYUmoQWyZTAi/YSMiAb0EE1Lm5HU+Fo+ebtKg3Mi1YNNUgQZ9jQue6fNx+RPVZUY/YvLYWr2kUE6TBStYsqop1tJ6cU+s9DwKbV5QQ7EpNIv38PVAaqunMwiAgT994TUvSeODfBTg2ipzoQAAACBBnp9FFSy/335Am2Awf06O2EaxVEAOkfkjcngZSq+NwQAAABMBnr50Rn/0s/TIeZnYM13qGkshAAAAGgGeoGpGf+r6llEJS1M5IJIFiuyG6x1mMP2BAAAAT0GaokmoQWyZTAn/Zt9t/HADtP3sEzDCzjhTd5c9tFyynKjoj9XgQ4EPcw6Lf0STX0RGDRfYwVF5Ezo8wAhko/AFoX37x4dMBbqVikFDnmsAAAAuQZrESeEKUmUwUVLP/wNKqYoDJCqfO+teCh4YUBO6d1oGDWoVJM+7VPDgLK1/HAAAABIBnuNqQh/s4Ngftj1sMLR86/EAAAGaZYiEAF+ogSzjjwGf/Ods14HQnAlT77zh8sQF2UGlhXxQtwXip25871bA+mnzLHW9k85rfMaM4YLe0ctYSF9Qa66ZANaejB/KBsC+1eRtlM/BnNf4Cr2/0EHUJknfqA0fTUMmFwebKlglaja9DtFAVsxYcyCpwcCaWm8rE/uip6DHn3hqaoLbqO+e9Xxg/dCXPrBEEqsC2zqu9vQfblm8wEprk9GTTQY7qAdpvAsBKA9p9MAg17bVW2dbtQASQWTKg3fmy9MfguNCgLtGnztZQU/+ob9ukPJsR63ijWy5253jFOkY2FFTkJcZRR+BcC0mokQxE0ibo7oWAbbi+/QH7bpZ34ve7CMnhzv7iWs9sg1lKzYmpWw4nbUG+L54Lsfv2DjfvhIO7IWVrJWG+BIesAZN9JJvFrkd7ZWBwsFz0UzhDgtF8pkLJ1ZUW5R1xVSB+Ia+a84vUyMDcw/DZDcYwhK5muYhjwnP99GqIF4MzGaRty5KAq10QQ16hsHOUHYGI7P1oLR3+zNuDEbBGIuxXdAHOGPNf2QANMAAAABAQZokbFeblg+e+1zCTn/vido/Gt9k+CmPaj5nZ2g4EOy3E3rA4HqK6gKjEULq3Ug1MmLelTWGFoRy39GrtwPhsAAAABBBnkJ4hL/y+q2DF8p6AMWBAAAAEAGeYXRCH/ZgiuoLHrgmRP8AAAALAZ5jakKf8BeAJLUAAAH1QYiZQv+JAdWDb/MpFDF7Ie2Cv7zVhkPUHKdMXN6AuunxC8EQ1EYB5zKef7uFomCpuEEx66kwTosXkwgWWzuN3DD9peAQJA3qXlQkoP9O75Pevx6C5FcquEabWbU7gKtO0ixvPoiG/OzknybUuwU3VJEL/d4KvDaan3J1NQNkDjfL+qVmckqJeU75tACOTP1U5WLDPoLk+KXewVajuqxJt9nONGGO7nFhnI4+mWFHi4G4IS99dfid69Kqn37Gsel1nT+teyq9uiT4KMg5eBJ4eo59gAAAx9JjMklUQQXp4jh4aKcwIsNVHx5/+w4pcePXU22e3CwjBh1GjalHqQM7CmbPFoTuLGsyjrJjYqAA44/5H5cocfeSbv6fZ4e67z+BFCQV3YJ6tpzxZSrWjnr+ST1FiS8v78O+OFsjQWjjzwwT/lyDjB7h/4pjY4dwmJ8WIrQrg+GeajnrLJXfDjLHgJyAUjVZEiR1uSG8oYloO8+1QIcKWLbVwMUNwASZ4PDE7BwJ6j2czPvbFIaHGgs663mh0FF7isAsHZvCgZmwvQiPSmfKM///Zi4s6wyDbyBDh67ILq6ozd5FbZT+zsuWsIB7LZAAa+KaRv4x2QcH7Ad1Qh7fhYq+8rtbxBq7H++7s6iUnsUlS58/RK7xXzWl2sMMB7CQAAAAXEGaiUnhClJlMCb/ytvdByee3VaxTCbnltQUjQeLwnUkqpA3VEGxK4chFT0PSORaitu4A2V+Nuzdr7JiFNwpExDiqkTILF2LzIT/dgIJ43hN+ylMk0B2lB68VzOaAAAADkGep0U0TCH/8Eq2pK7BAAAADAGexnRC3+/4D67gmAAAAAsBnshqQt/0aFn4/gAAAC1BmsxJqEFomUwJv6mSJhwsNJZWd+prn66GjhhlkgjmfHzeO/cSHp/ixB8gDlsAAAALQZ7qRREsKf/4BBwAAAAOAZ8LakLf9GhkFVp+JYUAAABAQZsOSahBbJlMFExXxP3wBzGqCnj+xqUhkthzQe2n2QqDnAwRoZlbviEyzs9t/fYIU/rtzeAGy31eH2HQDZxLTQAAAA8Bny1qQx/44oHg73c1+fsAAABlQZsxSeEKUmUwIz/IW1TTzhKu/yHLNjWSCK42TVRj7nfqyqcEjuOr/VVHniHjntiMF57HNQtN+mFr8TrLlvcfiKqo/wFetU/8fXm3I/rpoT6IaJeDHTBG1bVb7i4pEIvsHsP1xMEAAAALQZ9PRTRMKf/4BBwAAAARAZ9wakMf+qes2I4mwip5BoEAAAAdQZtySahBaJlMCM9ai4W2xXm8fbY7jiRfJ1p9/l8AAACsQZuWSeEKUmUwI7/NEa9nFH3bhxJ2+5v+5WDeCdn/aoIzosc3p/ArsYH335vEwCpgM8ygBoR6pNmPfI6tdOCrwiB/67CwAzmNex7D/0gWGRinVmIZI1dxKrZJpFkD56SkdyPsP9OuYMQ+5yId+UBlyeo63FFdKff+4Kb93mzOzjoE5vMpsaC1d3C5W124v4f4evhnJIZTGzyHqc8S4h4D2COKivWSNBEv5wL60AAAAC5Bn7RFNEwp//l7BKgxdlR77od/OCKsX2t9WX67y0PSyGPUqkRAOSXh4d7FTizAAAAAEAGf03RDH/ObGsWf1sI1SwUAAAANAZ/VakMf+NRpCzOSzAAAADlBm9lJqEFomUwI787g8Wiwtp9CXWL8QKJEBrjx5BI7jq/1ri6ckdrFLG36GGxuXZZWqt8S/HR4e8EAAAAaQZ/3RREsKf/5q7AxlFEWx36TuUZ5NQtJP/wAAAAMAZ4YakMf+PeG29XHAAAAHkGaG0moQWyZTBRMd+SLHtShIdUYtb5h8JuW05XO4QAAAA8BnjpqQ1/5itacX/5jCkEAAABfQZo+SeEKUmUwIQ/l8m8FwVQMyzVERyJWe0Sbqs34+/p5TKO2JR1acexuTT0Qzxs0Gb70UbGHwZYFmId6RxtSGCizW8iQAVOsJwa/++zZeEXf+KooS9OgH00NOuEVGL0AAAAUQZ5cRTRMLf/91TZokpxT7BOwRFgAAAAUAZ59akNf/lVKYVn6HlQAjkkR/DAAAABlQZpiSahBaJlMCEP/5k/QKnD2Y86VrRJutjPSmQUOzSe0wtW1nqS4uTvVhjJ9Erk0igBAz33VAQIxZdMgvjtm1S9wzq6eR8FZY169/O4DPeuKu2H19c8r3uHHbg1BHTHOb8OTY4EAAAAYQZ6ARREsKf/9nSzwY6GOjXv9CN6VyFUwAAAACwGev3RDX/F597SwAAAAGQGeoWpDX/5OksEh3kiv+BOjL990M++LFMcAAABtQZqkSahBbJlMFEwl/+j52VFha6nuyw/e/73nnmOuSJWG+rQXNKv/dCoKLiXalQmcvAO8Dc0U13BkeT2ZDOohcmWcACMC2waACHgpQRdjhbwCa+wQU//zgU6EMs3nR6pKOr/XpicgcIJI0/D5gQAAAAwBnsNqQ1/5h+GSXRkAAAA1QZrISeEKUmUwIQ/l8m8CCKhHctaJN1t18XisT8JFt/HYzyGYXHC0/l1I2tUw6gA9dTQLtCgAAAAZQZ7mRTRMLf/9l/nDDoS2vT/itXAZHo6s8AAAABsBnwV0Q1/xqqbBJnX5j2E6QUtPmCGUeGZH/8EAAAAJAZ8HakNf8iAgAAAAR0GbCkmoQWiZTBTx3+SEtwJZ+toudrtSpppdNC72p1MDQ0TGvgYKmH+8qHSE/pRM2ieEcfE60I7fCyZs7x4Nd7uK9v+i+dfAAAAAFAGfKWpDX/3c1iZp5Bwo30XrQXrhAAAAQkGbLEnhClJlMFLHf+TeRPazI6YzJ2MdYyho+3vinAZj6h/yRrlkNNEL2cDleB0lrFMJkHDFVdZYnufq7xRfM/0FigAAAAwBn0tqQ1/5hu0t2TkAAAIBZYiCABH/6Sh9+X/wwVB5gx1JBcd/iJTQgubn7AOcvWdy1KPWQGEgKxOmyTpTX88VmPGSPbeToNG6RMSeOQDIfsrncS4GX8oBXR8nfukQlKGVCXFenY998fN0ikKB6ExB5pz9/pT3Fvnoe2OlcxIV9FcXBKdPzlSoGESmIwDDEJ2ar3NUl8VXJYq0yMLFkyMWBJwi73RPDOWU3t8NRKclxXr3Fcg7rQOvixmVCd/QNTT3puIV4sPef4AiSMpc9oRDCuGvkvej81xovdVs9EoLZ0/ON/KmazQIe3La7P733rxALcwzRHj/GGXXfiiXy8g5B5qLnSffEIPjndwUDOxe2sTysS7syUCJMD8EBqhC3D0EGeKOiYpNMSB97Vhxu/6XCh1DipaLg8bptgkKDIkUQVmPFhULLVrp7HeWC+K5+ymuMGAXEQo05SE/uMI+1R9Afa/4g7Ih8IRefW7X/Q2pWSj/Ez0I6OHGu/zpzeEJHTJNMdqXerM6U2G8iwlySeUMpXYWAhjVuMQEjldbWJMOvjlMAP6uc6Slr2ctbzUg/hZ5e4OIbztjxlBVs+R9VJnNCEVD8nkuvIL3BGmHin76Qej4t5GF3akuQ+JbH6jw/nHWKFk8y81aALQEZ7Od9amBpgnwAG9PMRxyKY+W9Kiacu7fYIZo6k7X+xuh8C5fdoxJAAAAE0GaIWxCH0rmqpr997dv9Chd0rAAAAA7QZpCPCGTKYQh/9Goii+j+/f+QbcfcA9kH4BtPFhtzR5lSvSWeIWdkYxAZ5mp5oQtx0qdrhb+v67+pvEAAAA9QZpjSeEPJlMCEP/RqIorPaJN2pEHLAO0V6jP+yOb8C6p/W6rBhpL6SM3YW9coE9EfngDjnmfmZMZZ9Zc7gAAAgxBiKEBH+k57nfBv/DBUHmCHaMp9hEAQKd1U0esD7RThqnemo6HMIQauZOFCfQSmgVIH+UdXhgZj5FIhxj85msqVwls+4EStXxu4q4cahvE7D5XYd5xOSNEk4VPmsACs2VYzf4XS03fFIM4nvte7vmoUwjutD4wRLw9Qe6HloZU4+dXitj/274+ei8xsyLiG2YeBZpkTXbERbYUseeTJyPJEJCju5ctIfkX1MVi+zHGldkxD1UNJ0klmPsLiTDRJKHNtsO71AhokRma9VNVGly9it0NCEAR6ByaDryl/g8NAPdsfpnTyi1VFY2aWFpD2xMnrcMvrO4MqLdRMLIadebnGi1iflv+J288ONbyYd7v2xrsEdrpwTUvGV9M2hSz8iYa7yp4CM+dhWXTOMpqlCRTXW6fZrBiQdAMpR4Tbc+0rCBAfPTA0xiXTLwUpHGCfxB85KXM6papyRVs2jUq6QbMIs0YpIKLhUNTAoVkFXU7JtpXzaRQKi/HYK3nmMqPQQGfl5rnZpATFr+5+FARnQnnC2D6AC6whm1HYCqG9zUu/Pp8n/3UWoNbvdf752Oshq8REZFOyb4jVOhxxQQRyq++bVW9ap5ktd5Vexc0GcNQEaa9ZlncDdxmw+LBrKPRsHLQKlWhvI42HoWRZOnW3mqNk9OSZI4WyGnpn4WcD37HAYzmViUkCDVmfOPtCQAAADVBmqZJ4Q8mUwURPFffB3SFEIF/wwhSp512h1tJA1QdACbMO5Cpuvk7KCsDfrfpWZpjh/GNsQAAACABnsVqQ1/+SYkJJOfv2fGlrdPL7/+bAenhoN5VO+HBHAAAADJBmshJ4Q8mUwU8Z8hbVMJiaYqKIgh562OR/VH2Psdv5LsVkdtt4raB9v/xqMaQsjpPYAAAAA8BnudqQ1/16X2gOtGBFQMAAAA1QZrsSeEPJlMCO//O4ZuoVUsu0Sr47JY9C0fb3LcDqJuB95scR/X6N/SFGL//d85PBT6OmkAAAAAdQZ8KRRE8Nf/16X3pDmHG1DZo4Og36xaONz+M4j8AAAAJAZ8pdENf+dQQAAAADgGfK2pDX/JmbGpj4FTBAAAALkGbLUmoQWiZTAjv0EM7a3Q5PVwKsOAakeNi2323qsd5EtvuxBZK8LGJUT/KGIEAAAAuQZtPSeEKUmUwURLCH+L3rpVb4xtyFhvvI/TIj1kbrbzzHXJErDo6VTH+DLAjEQAAAA8Bn25qQ1/yZpv+Wk+jLI8AAABaQZtxSeEOiZTBRMIf0EIFZyIB6/7tH99v+YyIDQ1aUw3ElG0JWCpLY3cE+NPKW40/YMEsMYkMrKAbCCGHkdck359IPQe+B1cXukqjEyv7ooKoR3w/BKeyFznEAAAAEQGfkGpDH/qnrvQTEOyQPJYoAAAAGEGbk0nhDyZTBTwp/9mBYOURYAzyYgCr4QAAAB4Bn7JqQx/4x8ld53ATlL8Rum/5wq9b2iTVaFUeyPAAAABAQZu0SeEPJlMCGP+MGLqP/ciD//znvHNHKPgajeqkUXS6b/+o/SREr5iwj3LMZf994PLHEJN1SExvYASVOT6dwAAASXdtb292AAAAbG12aGQAAAAAAAAAAAAAAAAAAAPoAADSBwABAAABAAAAAAAAAAAAAAAAAQAAAAAAAAAAAAAAAAAAAAEAAAAAAAAAAAAAAAAAAEAAAAAAAAAAAAAAAAAAAAAAAAAAAAAAAAAAAAAAAAACAABIonRyYWsAAABcdGtoZAAAAAMAAAAAAAAAAAAAAAEAAAAAAADSBwAAAAAAAAAAAAAAAAAAAAAAAQAAAAAAAAAAAAAAAAAAAAEAAAAAAAAAAAAAAAAAAEAAAAAAMAAAADAAAAAAACRlZHRzAAAAHGVsc3QAAAAAAAAAAQAA0gcAAAQAAAEAAAAASBptZGlhAAAAIG1kaGQAAAAAAAAAAAAAAAAAADwAAAyaAFXEAAAAAAAtaGRscgAAAAAAAAAAdmlkZQAAAAAAAAAAAAAAAFZpZGVvSGFuZGxlcgAAAEfFbWluZgAAABR2bWhkAAAAAQAAAAAAAAAAAAAAJGRpbmYAAAAcZHJlZgAAAAAAAAABAAAADHVybCAAAAABAABHhXN0YmwAAACtc3RzZAAAAAAAAAABAAAAnWF2YzEAAAAAAAAAAQAAAAAAAAAAAAAAAAAAAAAAMAAwAEgAAABIAAAAAAAAAAEUTGF2YzYxLjMuMTAwIGxpYngyNjQAAAAAAAAAAAAAAAAY//8AAAAzYXZjQwFkAAr/4QAWZ2QACqzZTehAAAADAEAAAA8DxIllgAEABmjr48siwP34+AAAAAAUYnRydAAAAAAAADi1AAA4tQAAABhzdHRzAAAAAAAAAAEAAAZNAAACAAAAAHhzdHNzAAAAAAAAABoAAAABAAAAGgAAAEEAAACOAAAA6AAAATAAAAFuAAAB3AAAAi0AAAJhAAACpwAAAsMAAAMLAAADNgAAA08AAAN/AAAD5AAAA/8AAAQ+AAAEeQAABPMAAAU/AAAFYAAABccAAAYMAAAGOQAALMhjdHRzAAAAAAAABZcAAAABAAAEAAAAAAEAAAYAAAAAAQAAAgAAAAABAAAKAAAAAAEAAAQAAAAAAQAAAAAAAAABAAACAAAAAAEAAAgAAAAAAgAAAgAAAAABAAAKAAAAAAEAAAQAAAAAAQAAAAAAAAABAAACAAAAAAEAAAYAAAAAAQAAAgAAAAABAAAGAAAAAAEAAAIAAAAABQAABAAAAAABAAAGAAAAAAEAAAIAAAAAAQAABAAAAAABAAAGAAAAAAEAAAIAAAAAAQAABAAAAAABAAAKAAAAAAEAAAQAAAAAAQAAAAAAAAABAAACAAAAAAEAAAoAAAAAAQAABAAAAAABAAAAAAAAAAEAAAIAAAAAAQAACgAAAAABAAAEAAAAAAEAAAAAAAAAAQAAAgAAAAABAAAKAAAAAAEAAAQAAAAAAQAAAAAAAAABAAACAAAAAAEAAAoAAAAAAQAABAAAAAABAAAAAAAAAAEAAAIAAAAAAQAACgAAAAABAAAEAAAAAAEAAAAAAAAAAQAAAgAAAAABAAAGAAAAAAEAAAIAAAAAAQAACgAAAAABAAAEAAAAAAEAAAAAAAAAAQAAAgAAAAABAAAKAAAAAAEAAAQAAAAAAQAAAAAAAAABAAACAAAAAAIAAAQAAAAAAQAACgAAAAABAAAEAAAAAAEAAAAAAAAAAQAAAgAAAAABAAAKAAAAAAEAAAQAAAAAAQAAAAAAAAABAAACAAAAAAEAAAgAAAAAAgAAAgAAAAABAAAGAAAAAAEAAAIAAAAAAQAABgAAAAABAAACAAAAAAEAAAoAAAAAAQAABAAAAAABAAAAAAAAAAEAAAIAAAAAAQAACgAAAAABAAAEAAAAAAEAAAAAAAAAAQAAAgAAAAABAAAKAAAAAAEAAAQAAAAAAQAAAAAAAAABAAACAAAAAAEAAAYAAAAAAQAAAgAAAAABAAAEAAAAAAEAAAoAAAAAAQAABAAAAAABAAAAAAAAAAEAAAIAAAAAAQAACgAAAAABAAAEAAAAAAEAAAAAAAAAAQAAAgAAAAABAAAGAAAAAAEAAAIAAAAAAQAACgAAAAABAAAEAAAAAAEAAAAAAAAAAQAAAgAAAAABAAAKAAAAAAEAAAQAAAAAAQAAAAAAAAABAAACAAAAAAEAAAoAAAAAAQAABAAAAAABAAAAAAAAAAEAAAIAAAAAAQAACAAAAAACAAACAAAAAAEAAAoAAAAAAQAABAAAAAABAAAAAAAAAAEAAAIAAAAAAQAABgAAAAABAAACAAAAAAEAAAQAAAAAAQAABgAAAAABAAACAAAAAAEAAAQAAAAAAQAABgAAAAABAAACAAAAAAEAAAYAAAAAAQAAAgAAAAABAAAIAAAAAAIAAAIAAAAAAQAACAAAAAACAAACAAAAAAYAAAQAAAAAAQAABgAAAAABAAACAAAAAAEAAAYAAAAAAQAAAgAAAAABAAAKAAAAAAEAAAQAAAAAAQAAAAAAAAABAAACAAAAAAIAAAQAAAAAAQAABgAAAAABAAACAAAAAAEAAAoAAAAAAQAABAAAAAABAAAAAAAAAAEAAAIAAAAAAQAACgAAAAABAAAEAAAAAAEAAAAAAAAAAQAAAgAAAAABAAAGAAAAAAEAAAIAAAAAAQAABgAAAAABAAACAAAAAAEAAAoAAAAAAQAABAAAAAABAAAAAAAAAAEAAAIAAAAAAQAACgAAAAABAAAEAAAAAAEAAAAAAAAAAQAAAgAAAAABAAAKAAAAAAEAAAQAAAAAAQAAAAAAAAABAAACAAAAAAEAAAoAAAAAAQAABAAAAAABAAAAAAAAAAEAAAIAAAAAAQAABgAAAAABAAACAAAAAAEAAAoAAAAAAQAABAAAAAABAAAAAAAAAAEAAAIAAAAAAQAACgAAAAABAAAEAAAAAAEAAAAAAAAAAQAAAgAAAAABAAAKAAAAAAEAAAQAAAAAAQAAAAAAAAABAAACAAAAAAEAAAoAAAAAAQAABAAAAAABAAAAAAAAAAEAAAIAAAAAAQAACgAAAAABAAAEAAAAAAEAAAAAAAAAAQAAAgAAAAABAAAGAAAAAAEAAAIAAAAAAQAACgAAAAABAAAEAAAAAAEAAAAAAAAAAQAAAgAAAAABAAAKAAAAAAEAAAQAAAAAAQAAAAAAAAABAAACAAAAAAEAAAoAAAAAAQAABAAAAAABAAAAAAAAAAEAAAIAAAAAAQAABgAAAAABAAACAAAAAAEAAAoAAAAAAQAABAAAAAABAAAAAAAAAAEAAAIAAAAABAAABAAAAAABAAAGAAAAAAEAAAIAAAAAAQAABAAAAAABAAAGAAAAAAEAAAIAAAAABAAABAAAAAABAAAGAAAAAAEAAAIAAAAAAQAABAAAAAABAAAKAAAAAAEAAAQAAAAAAQAAAAAAAAABAAACAAAAAAEAAAgAAAAAAgAAAgAAAAABAAAKAAAAAAEAAAQAAAAAAQAAAAAAAAABAAACAAAAAAEAAAQAAAAAAQAABgAAAAABAAACAAAAAAEAAAQAAAAAAQAACgAAAAABAAAEAAAAAAEAAAAAAAAAAQAAAgAAAAABAAAKAAAAAAEAAAQAAAAAAQAAAAAAAAABAAACAAAAAAEAAAYAAAAAAQAAAgAAAAABAAAEAAAAAAEAAAYAAAAAAQAAAgAAAAABAAAEAAAAAAEAAAYAAAAAAQAAAgAAAAABAAAKAAAAAAEAAAQAAAAAAQAAAAAAAAABAAACAAAAAAEAAAoAAAAAAQAABAAAAAABAAAAAAAAAAEAAAIAAAAAAQAABgAAAAABAAACAAAAAAEAAAQAAAAAAQAABgAAAAABAAACAAAAAAEAAAoAAAAAAQAABAAAAAABAAAAAAAAAAEAAAIAAAAAAQAABgAAAAABAAACAAAAAAEAAAQAAAAAAQAACgAAAAABAAAEAAAAAAEAAAAAAAAAAQAAAgAAAAABAAAGAAAAAAEAAAIAAAAAAQAABgAAAAABAAACAAAAAAYAAAQAAAAAAQAABgAAAAABAAACAAAAAAIAAAQAAAAAAQAACAAAAAACAAACAAAAAAEAAAQAAAAAAQAABgAAAAABAAACAAAAAAEAAAQAAAAAAQAACAAAAAACAAACAAAAAAEAAAQAAAAAAQAACgAAAAABAAAEAAAAAAEAAAAAAAAAAQAAAgAAAAABAAAGAAAAAAEAAAIAAAAAAQAABgAAAAABAAACAAAAAAEAAAgAAAAAAgAAAgAAAAABAAAKAAAAAAEAAAQAAAAAAQAAAAAAAAABAAACAAAAAAEAAAYAAAAAAQAAAgAAAAABAAAKAAAAAAEAAAQAAAAAAQAAAAAAAAABAAACAAAAAAEAAAgAAAAAAgAAAgAAAAABAAAKAAAAAAEAAAQAAAAAAQAAAAAAAAABAAACAAAAAAEAAAYAAAAAAQAAAgAAAAABAAAEAAAAAAEAAAYAAAAAAQAAAgAAAAABAAAIAAAAAAIAAAIAAAAAAQAACAAAAAACAAACAAAAAAEAAAYAAAAAAQAAAgAAAAAOAAAEAAAAAAEAAAYAAAAAAQAAAgAAAAACAAAEAAAAAAEAAAYAAAAAAQAAAgAAAAABAAAEAAAAAAEAAAgAAAAAAgAAAgAAAAABAAAGAAAAAAEAAAIAAAAAAQAACgAAAAABAAAEAAAAAAEAAAAAAAAAAQAAAgAAAAABAAAEAAAAAAEAAAoAAAAAAQAABAAAAAABAAAAAAAAAAEAAAIAAAAAAQAABgAAAAABAAACAAAAAAEAAAoAAAAAAQAABAAAAAABAAAAAAAAAAEAAAIAAAAAAQAABgAAAAABAAACAAAAAAEAAAYAAAAAAQAAAgAAAAABAAAKAAAAAAEAAAQAAAAAAQAAAAAAAAABAAACAAAAAAEAAAYAAAAAAQAAAgAAAAABAAAKAAAAAAEAAAQAAAAAAQAAAAAAAAABAAACAAAAAAEAAAoAAAAAAQAABAAAAAABAAAAAAAAAAEAAAIAAAAAAQAABgAAAAABAAACAAAAAAEAAAYAAAAAAQAAAgAAAAABAAAGAAAAAAEAAAIAAAAAAQAABgAAAAABAAACAAAAAAEAAAoAAAAAAQAABAAAAAABAAAAAAAAAAEAAAIAAAAAAQAABgAAAAABAAACAAAAAAEAAAoAAAAAAQAABAAAAAABAAAAAAAAAAEAAAIAAAAAAQAACAAAAAACAAACAAAAAAEAAAgAAAAAAgAAAgAAAAABAAAIAAAAAAIAAAIAAAAAAQAACgAAAAABAAAEAAAAAAEAAAAAAAAAAQAAAgAAAAABAAAGAAAAAAEAAAIAAAAAAQAACgAAAAABAAAEAAAAAAEAAAAAAAAAAQAAAgAAAAABAAAKAAAAAAEAAAQAAAAAAQAAAAAAAAABAAACAAAAAAEAAAoAAAAAAQAABAAAAAABAAAAAAAAAAEAAAIAAAAAAQAABgAAAAABAAACAAAAAAIAAAQAAAAAAQAABgAAAAABAAACAAAAAAEAAAQAAAAAAQAACgAAAAABAAAEAAAAAAEAAAAAAAAAAQAAAgAAAAABAAAKAAAAAAEAAAQAAAAAAQAAAAAAAAABAAACAAAAAAIAAAQAAAAAAQAABgAAAAABAAACAAAAAAMAAAQAAAAAAQAABgAAAAABAAACAAAAAAEAAAQAAAAAAQAACgAAAAABAAAEAAAAAAEAAAAAAAAAAQAAAgAAAAABAAAKAAAAAAEAAAQAAAAAAQAAAAAAAAABAAACAAAAAAEAAAQAAAAAAQAACAAAAAACAAACAAAAAAEAAAYAAAAAAQAAAgAAAAABAAAGAAAAAAEAAAIAAAAAAQAACgAAAAABAAAEAAAAAAEAAAAAAAAAAQAAAgAAAAABAAAGAAAAAAEAAAIAAAAAAQAACgAAAAABAAAEAAAAAAEAAAAAAAAAAQAAAgAAAAAGAAAEAAAAAAEAAAgAAAAAAgAAAgAAAAABAAAIAAAAAAIAAAIAAAAAAQAABgAAAAABAAACAAAAAAEAAAoAAAAAAQAABAAAAAABAAAAAAAAAAEAAAIAAAAAAQAACAAAAAACAAACAAAAAAEAAAoAAAAAAQAABAAAAAABAAAAAAAAAAEAAAIAAAAAAQAACgAAAAABAAAEAAAAAAEAAAAAAAAAAQAAAgAAAAABAAAIAAAAAAIAAAIAAAAAAQAACgAAAAABAAAEAAAAAAEAAAAAAAAAAQAAAgAAAAABAAAEAAAAAAEAAAYAAAAAAQAAAgAAAAABAAAGAAAAAAEAAAIAAAAABgAABAAAAAABAAAIAAAAAAIAAAIAAAAAAQAABAAAAAABAAAKAAAAAAEAAAQAAAAAAQAAAAAAAAABAAACAAAAAAEAAAQAAAAAAQAABgAAAAABAAACAAAAAAEAAAoAAAAAAQAABAAAAAABAAAAAAAAAAEAAAIAAAAAAQAACAAAAAACAAACAAAAAAEAAAgAAAAAAgAAAgAAAAABAAAGAAAAAAEAAAIAAAAAAQAACgAAAAABAAAEAAAAAAEAAAAAAAAAAQAAAgAAAAABAAAGAAAAAAEAAAIAAAAAAQAACAAAAAACAAACAAAAAAEAAAoAAAAAAQAABAAAAAABAAAAAAAAAAEAAAIAAAAAAQAABAAAAAABAAAKAAAAAAEAAAQAAAAAAQAAAAAAAAABAAACAAAAAAEAAAQAAAAAAQAACAAAAAACAAACAAAAAAEAAAYAAAAAAQAAAgAAAAABAAAKAAAAAAEAAAQAAAAAAQAAAAAAAAABAAACAAAAAAEAAAQAAAAAAQAACAAAAAACAAACAAAAAAEAAAQAAAAAAQAACgAAAAABAAAEAAAAAAEAAAAAAAAAAQAAAgAAAAABAAAGAAAAAAEAAAIAAAAAAQAACgAAAAABAAAEAAAAAAEAAAAAAAAAAQAAAgAAAAABAAAGAAAAAAEAAAIAAAAAAQAABgAAAAABAAACAAAAAAEAAAoAAAAAAQAABAAAAAABAAAAAAAAAAEAAAIAAAAAAQAACgAAAAABAAAEAAAAAAEAAAAAAAAAAQAAAgAAAAABAAAKAAAAAAEAAAQAAAAAAQAAAAAAAAABAAACAAAAAAEAAAoAAAAAAQAABAAAAAABAAAAAAAAAAEAAAIAAAAAAQAACgAAAAABAAAEAAAAAAEAAAAAAAAAAQAAAgAAAAABAAAKAAAAAAEAAAQAAAAAAQAAAAAAAAABAAACAAAAAAEAAAYAAAAAAQAAAgAAAAABAAAKAAAAAAEAAAQAAAAAAQAAAAAAAAABAAACAAAAAAEAAAoAAAAAAQAABAAAAAABAAAAAAAAAAEAAAIAAAAAAQAACgAAAAABAAAEAAAAAAEAAAAAAAAAAQAAAgAAAAABAAAIAAAAAAIAAAIAAAAAAQAABAAAAAABAAAIAAAAAAIAAAIAAAAAAQAABgAAAAABAAACAAAAAAEAAAQAAAAAAQAABgAAAAABAAACAAAAAAEAAAQAAAAAAQAACgAAAAABAAAEAAAAAAEAAAAAAAAAAQAAAgAAAAABAAAIAAAAAAIAAAIAAAAAAQAABgAAAAABAAACAAAAAAYAAAQAAAAAAQAABgAAAAABAAACAAAAAAIAAAQAAAAAAQAABgAAAAABAAACAAAAAAEAAAoAAAAAAQAABAAAAAABAAAAAAAAAAEAAAIAAAAAAQAABgAAAAABAAACAAAAAAEAAAoAAAAAAQAABAAAAAABAAAAAAAAAAEAAAIAAAAAAQAABgAAAAABAAACAAAAAAEAAAoAAAAAAQAABAAAAAABAAAAAAAAAAEAAAIAAAAAAQAACgAAAAABAAAEAAAAAAEAAAAAAAAAAQAAAgAAAAABAAAKAAAAAAEAAAQAAAAAAQAAAAAAAAABAAACAAAAAAEAAAYAAAAAAQAAAgAAAAABAAAGAAAAAAEAAAIAAAAAAQAACgAAAAABAAAEAAAAAAEAAAAAAAAAAQAAAgAAAAABAAAGAAAAAAEAAAIAAAAAAQAABAAAAAABAAAKAAAAAAEAAAQAAAAAAQAAAAAAAAABAAACAAAAAAEAAAoAAAAAAQAABAAAAAABAAAAAAAAAAEAAAIAAAAAAQAABgAAAAABAAACAAAAAAEAAAoAAAAAAQAABAAAAAABAAAAAAAAAAEAAAIAAAAAAQAABgAAAAABAAACAAAAAAEAAAoAAAAAAQAABAAAAAABAAAAAAAAAAEAAAIAAAAAAQAACgAAAAABAAAEAAAAAAEAAAAAAAAAAQAAAgAAAAABAAAKAAAAAAEAAAQAAAAAAQAAAAAAAAABAAACAAAAAAEAAAYAAAAAAQAAAgAAAAABAAAKAAAAAAEAAAQAAAAAAQAAAAAAAAABAAACAAAAAAYAAAQAAAAAAQAACgAAAAABAAAEAAAAAAEAAAAAAAAAAQAAAgAAAAABAAAKAAAAAAEAAAQAAAAAAQAAAAAAAAABAAACAAAAAAEAAAQAAAAAAQAACAAAAAACAAACAAAAAAEAAAYAAAAAAQAAAgAAAAABAAAKAAAAAAEAAAQAAAAAAQAAAAAAAAABAAACAAAAAAEAAAQAAAAAAQAACAAAAAACAAACAAAAAAEAAAgAAAAAAgAAAgAAAAABAAAGAAAAAAEAAAIAAAAAAQAABAAAAAABAAAGAAAAAAEAAAIAAAAAAQAACAAAAAACAAACAAAAAAEAAAYAAAAAAQAAAgAAAAADAAAEAAAAAAEAAAoAAAAAAQAABAAAAAABAAAAAAAAAAEAAAIAAAAAAQAACgAAAAABAAAEAAAAAAEAAAAAAAAAAQAAAgAAAAABAAAKAAAAAAEAAAQAAAAAAQAAAAAAAAABAAACAAAAAAEAAAYAAAAAAQAAAgAAAAABAAAGAAAAAAEAAAIAAAAABAAABAAAAAABAAAGAAAAAAEAAAIAAAAAAwAABAAAAAABAAAIAAAAAAIAAAIAAAAAAQAACgAAAAABAAAEAAAAAAEAAAAAAAAAAQAAAgAAAAABAAAEAAAAAAEAAAoAAAAAAQAABAAAAAABAAAAAAAAAAEAAAIAAAAAAQAABgAAAAABAAACAAAAAAEAAAQAAAAAAQAABgAAAAABAAACAAAAAAEAAAoAAAAAAQAABAAAAAABAAAAAAAAAAEAAAIAAAAAAQAACgAAAAABAAAEAAAAAAEAAAAAAAAAAQAAAgAAAAABAAAIAAAAAAIAAAIAAAAAAQAACgAAAAABAAAEAAAAAAEAAAAAAAAAAQAAAgAAAAABAAAGAAAAAAEAAAIAAAAAAQAABAAAAAABAAAGAAAAAAEAAAIAAAAAAQAACAAAAAACAAACAAAAAAEAAAYAAAAAAQAAAgAAAAABAAAIAAAAAAIAAAIAAAAAAQAABgAAAAABAAACAAAAAAEAAAQAAAAAAQAACgAAAAABAAAEAAAAAAEAAAAAAAAAAQAAAgAAAAABAAAGAAAAAAEAAAIAAAAAAQAACgAAAAABAAAEAAAAAAEAAAAAAAAAAQAAAgAAAAABAAAKAAAAAAEAAAQAAAAAAQAAAAAAAAABAAACAAAAAAEAAAoAAAAAAQAABAAAAAABAAAAAAAAAAEAAAIAAAAAAQAABgAAAAABAAACAAAAAAEAAAoAAAAAAQAABAAAAAABAAAAAAAAAAEAAAIAAAAAAQAACgAAAAABAAAEAAAAAAEAAAAAAAAAAQAAAgAAAAABAAAKAAAAAAEAAAQAAAAAAQAAAAAAAAABAAACAAAAAAEAAAQAAAAAAQAACgAAAAABAAAEAAAAAAEAAAAAAAAAAQAAAgAAAAABAAAGAAAAAAEAAAIAAAAAAQAABgAAAAABAAACAAAAAAEAAAoAAAAAAQAABAAAAAABAAAAAAAAAAEAAAIAAAAAAQAACgAAAAABAAAEAAAAAAEAAAAAAAAAAQAAAgAAAAABAAAIAAAAAAIAAAIAAAAAAQAACgAAAAABAAAEAAAAAAEAAAAAAAAAAQAAAgAAAAABAAAKAAAAAAEAAAQAAAAAAQAAAAAAAAABAAACAAAAAAIAAAQAAAAAAQAACgAAAAABAAAEAAAAAAEAAAAAAAAAAQAAAgAAAAABAAAKAAAAAAEAAAQAAAAAAQAAAAAAAAABAAACAAAAAAEAAAoAAAAAAQAABAAAAAABAAAAAAAAAAEAAAIAAAAAAQAACgAAAAABAAAEAAAAAAEAAAAAAAAAAQAAAgAAAAABAAAKAAAAAAEAAAQAAAAAAQAAAAAAAAABAAACAAAAAAEAAAYAAAAAAQAAAgAAAAABAAAKAAAAAAEAAAQAAAAAAQAAAAAAAAABAAACAAAAAAEAAAQAAAAAAQAACAAAAAACAAACAAAAAAEAAAoAAAAAAQAABAAAAAABAAAAAAAAAAEAAAIAAAAAAQAABgAAAAABAAACAAAAAAEAAAYAAAAAAQAAAgAAAAABAAAEAAAAAAEAAAoAAAAAAQAABAAAAAABAAAAAAAAAAEAAAIAAAAAAQAABgAAAAABAAACAAAAAAEAAAYAAAAAAQAAAgAAAAABAAAIAAAAAAIAAAIAAAAAAQAABgAAAAABAAACAAAAAAEAAAgAAAAAAgAAAgAAAAABAAAKAAAAAAEAAAQAAAAAAQAAAAAAAAABAAACAAAAAAEAAAgAAAAAAgAAAgAAAAAEAAAEAAAAAAEAAAYAAAAAAQAAAgAAAAADAAAEAAAAAAEAAAYAAAAAAQAAAgAAAAABAAAEAAAAAAEAAAgAAAAAAgAAAgAAAAABAAAEAAAAAAEAAAoAAAAAAQAABAAAAAABAAAAAAAAAAEAAAIAAAAAAQAABAAAAAABAAAIAAAAAAIAAAIAAAAAAQAACAAAAAACAAACAAAAAAEAAAoAAAAAAQAABAAAAAABAAAAAAAAAAEAAAIAAAAAAQAACgAAAAABAAAEAAAAAAEAAAAAAAAAAQAAAgAAAAABAAAKAAAAAAEAAAQAAAAAAQAAAAAAAAABAAACAAAAAAEAAAYAAAAAAQAAAgAAAAABAAAIAAAAAAIAAAIAAAAAAQAABgAAAAABAAACAAAAAAEAAAgAAAAAAgAAAgAAAAACAAAEAAAAAAEAAAYAAAAAAQAAAgAAAAABAAAEAAAAAAEAAAYAAAAAAQAAAgAAAAABAAAGAAAAAAEAAAIAAAAAAQAACAAAAAACAAACAAAAAAEAAAgAAAAAAgAAAgAAAAAFAAAEAAAAAAEAAAYAAAAAAQAAAgAAAAADAAAEAAAAAAEAAAYAAAAAAQAAAgAAAAADAAAEAAAAAAEAAAYAAAAAAQAAAgAAAAABAAAEAAAAAAEAAAYAAAAAAQAAAgAAAAABAAAKAAAAAAEAAAQAAAAAAQAAAAAAAAABAAACAAAAAAEAAAoAAAAAAQAABAAAAAABAAAAAAAAAAEAAAIAAAAAAQAACgAAAAABAAAEAAAAAAEAAAAAAAAAAQAAAgAAAAABAAAGAAAAAAEAAAIAAAAAAQAACgAAAAABAAAEAAAAAAEAAAAAAAAAAQAAAgAAAAABAAAKAAAAAAEAAAQAAAAAAQAAAAAAAAABAAACAAAAAAEAAAYAAAAAAQAAAgAAAAABAAAGAAAAAAEAAAIAAAAAAQAACAAAAAACAAACAAAAAAEAAAYAAAAAAQAAAgAAAAABAAAGAAAAAAEAAAIAAAAAAQAACAAAAAACAAACAAAAAAEAAAgAAAAAAgAAAgAAAAABAAAGAAAAAAEAAAIAAAAABQAABAAAAAABAAAGAAAAAAEAAAIAAAAAAQAABAAAAAABAAAGAAAAAAEAAAIAAAAAAQAABAAAAAABAAAKAAAAAAEAAAQAAAAAAQAAAAAAAAABAAACAAAAAAIAAAQAAAAAAQAABgAAAAABAAACAAAAAAEAAAYAAAAAAQAAAgAAAAABAAAEAAAAAAEAAAoAAAAAAQAABAAAAAABAAAAAAAAAAEAAAIAAAAAAQAACAAAAAACAAACAAAAAAEAAAQAAAAAAQAABgAAAAABAAACAAAAAAEAAAQAAAAAAQAACAAAAAACAAACAAAAAAEAAAgAAAAAAgAAAgAAAAABAAAKAAAAAAEAAAQAAAAAAQAAAAAAAAABAAACAAAAAAEAAAYAAAAAAQAAAgAAAAABAAAKAAAAAAEAAAQAAAAAAQAAAAAAAAABAAACAAAAAAEAAAYAAAAAAQAAAgAAAAABAAAKAAAAAAEAAAQAAAAAAQAAAAAAAAABAAACAAAAAAEAAAoAAAAAAQAABAAAAAABAAAAAAAAAAEAAAIAAAAAAQAACgAAAAABAAAEAAAAAAEAAAAAAAAAAQAAAgAAAAABAAAKAAAAAAEAAAQAAAAAAQAAAAAAAAABAAACAAAAAAEAAAoAAAAAAQAABAAAAAABAAAAAAAAAAEAAAIAAAAAAQAACgAAAAABAAAEAAAAAAEAAAAAAAAAAQAAAgAAAAACAAAEAAAAAAEAAAgAAAAAAgAAAgAAAAABAAAKAAAAAAEAAAQAAAAAAQAAAAAAAAABAAACAAAAAAEAAAoAAAAAAQAABAAAAAABAAAAAAAAAAEAAAIAAAAAAQAACgAAAAABAAAEAAAAAAEAAAAAAAAAAQAAAgAAAAABAAAKAAAAAAEAAAQAAAAAAQAAAAAAAAABAAACAAAAAAEAAAQAAAAAAQAACgAAAAABAAAEAAAAAAEAAAAAAAAAAQAAAgAAAAABAAAKAAAAAAEAAAQAAAAAAQAAAAAAAAABAAACAAAAAAEAAAoAAAAAAQAABAAAAAABAAAAAAAAAAEAAAIAAAAAAQAACgAAAAABAAAEAAAAAAEAAAAAAAAAAQAAAgAAAAABAAAIAAAAAAIAAAIAAAAAAQAACAAAAAACAAACAAAAAAEAAAgAAAAAAgAAAgAAAAAEAAAEAAAAAAEAAAYAAAAAAQAAAgAAAAABAAAEAAAAAAEAAAoAAAAAAQAABAAAAAABAAAAAAAAAAEAAAIAAAAAAwAABAAAAAABAAAGAAAAAAEAAAIAAAAAAgAABAAAAAABAAAKAAAAAAEAAAQAAAAAAQAAAAAAAAABAAACAAAAAAEAAAoAAAAAAQAABAAAAAABAAAAAAAAAAEAAAIAAAAAAQAACAAAAAACAAACAAAAAAEAAAQAAAAAAQAACgAAAAABAAAEAAAAAAEAAAAAAAAAAQAAAgAAAAABAAAEAAAAAAEAAAgAAAAAAgAAAgAAAAABAAAEAAAAAAEAAAoAAAAAAQAABAAAAAABAAAAAAAAAAEAAAIAAAAAAQAABgAAAAABAAACAAAAAAEAAAoAAAAAAQAABAAAAAABAAAAAAAAAAEAAAIAAAAAAQAABAAAAAABAAAKAAAAAAEAAAQAAAAAAQAAAAAAAAABAAACAAAAAAEAAAoAAAAAAQAABAAAAAABAAAAAAAAAAEAAAIAAAAAAQAACgAAAAABAAAEAAAAAAEAAAAAAAAAAQAAAgAAAAABAAAGAAAAAAEAAAIAAAAAAQAACgAAAAABAAAEAAAAAAEAAAAAAAAAAQAAAgAAAAABAAAEAAAAAAEAAAYAAAAAAQAAAgAAAAABAAAEAAAAAAEAAAoAAAAAAQAABAAAAAABAAAAAAAAAAEAAAIAAAAAAQAABAAAAAABAAAKAAAAAAEAAAQAAAAAAQAAAAAAAAABAAACAAAAAAIAAAQAAAAAAQAABgAAAAABAAACAAAAAAEAAAgAAAAAAgAAAgAAAAABAAAGAAAAAAEAAAIAAAAAAQAACAAAAAACAAACAAAAAAEAAAgAAAAAAgAAAgAAAAAHAAAEAAAAAAEAAAoAAAAAAQAABAAAAAABAAAAAAAAAAEAAAIAAAAAAQAABgAAAAABAAACAAAAAAEAAAQAAAAAAQAABgAAAAABAAACAAAAAAEAAAYAAAAAAQAAAgAAAAABAAAEAAAAAAEAAAoAAAAAAQAABAAAAAABAAAAAAAAAAEAAAIAAAAAAQAACgAAAAABAAAEAAAAAAEAAAAAAAAAAQAAAgAAAAABAAAKAAAAAAEAAAQAAAAAAQAAAAAAAAABAAACAAAAAAEAAAoAAAAAAQAABAAAAAABAAAAAAAAAAEAAAIAAAAAAQAACgAAAAABAAAEAAAAAAEAAAAAAAAAAQAAAgAAAAABAAAKAAAAAAEAAAQAAAAAAQAAAAAAAAABAAACAAAAAAEAAAoAAAAAAQAABAAAAAABAAAAAAAAAAEAAAIAAAAAAQAACgAAAAABAAAEAAAAAAEAAAAAAAAAAQAAAgAAAAABAAAGAAAAAAEAAAIAAAAAAQAACgAAAAABAAAEAAAAAAEAAAAAAAAAAQAAAgAAAAABAAAGAAAAAAEAAAIAAAAAAQAABgAAAAABAAACAAAAAAEAAAQAAAAAAQAACgAAAAABAAAEAAAAAAEAAAAAAAAAAQAAAgAAAAABAAAKAAAAAAEAAAQAAAAAAQAAAAAAAAABAAACAAAAAAEAAAoAAAAAAQAABAAAAAABAAAAAAAAAAEAAAIAAAAAAQAABAAAAAABAAAKAAAAAAEAAAQAAAAAAQAAAAAAAAABAAACAAAAAAEAAAQAAAAAAQAACAAAAAACAAACAAAAAAEAAAoAAAAAAQAABAAAAAABAAAAAAAAAAEAAAIAAAAAAQAACgAAAAABAAAEAAAAAAEAAAAAAAAAAQAAAgAAAAABAAAKAAAAAAEAAAQAAAAAAQAAAAAAAAABAAACAAAAAAEAAAoAAAAAAQAABAAAAAABAAAAAAAAAAEAAAIAAAAAAQAACgAAAAABAAAEAAAAAAEAAAAAAAAAAQAAAgAAAAABAAAKAAAAAAEAAAQAAAAAAQAAAAAAAAABAAACAAAAAAEAAAQAAAAAAQAACgAAAAABAAAEAAAAAAEAAAAAAAAAAQAAAgAAAAABAAAGAAAAAAEAAAIAAAAAAwAABAAAAAABAAAKAAAAAAEAAAQAAAAAAQAAAAAAAAABAAACAAAAAAEAAAYAAAAAAQAAAgAAAAABAAAEAAAAAAEAAAoAAAAAAQAABAAAAAABAAAAAAAAAAEAAAIAAAAAAQAACgAAAAABAAAEAAAAAAEAAAAAAAAAAQAAAgAAAAABAAAGAAAAAAEAAAIAAAAAAQAACAAAAAACAAACAAAAAAEAAAQAAAAAAQAABgAAAAABAAACAAAAAAEAAAQAAAAAAQAACgAAAAABAAAEAAAAAAEAAAAAAAAAAQAAAgAAAAABAAAKAAAAAAEAAAQAAAAAAQAAAAAAAAABAAACAAAAAAEAAAgAAAAAAgAAAgAAAAABAAAKAAAAAAEAAAQAAAAAAQAAAAAAAAABAAACAAAAAAEAAAoAAAAAAQAABAAAAAABAAAAAAAAAAEAAAIAAAAAAQAACAAAAAACAAACAAAAAAEAAAYAAAAAAQAAAgAAAAABAAAEAAAAAAEAAAoAAAAAAQAABAAAAAABAAAAAAAAAAEAAAIAAAAAAQAACgAAAAABAAAEAAAAAAEAAAAAAAAAAQAAAgAAAAABAAAKAAAAAAEAAAQAAAAAAQAAAAAAAAABAAACAAAAAAEAAAoAAAAAAQAABAAAAAABAAAAAAAAAAEAAAIAAAAAAQAABAAAAAABAAAGAAAAAAEAAAIAAAAAAQAABAAAAAABAAAKAAAAAAEAAAQAAAAAAQAAAAAAAAABAAACAAAAAAEAAAQAAAAAAQAACgAAAAABAAAEAAAAAAEAAAAAAAAAAQAAAgAAAAABAAAIAAAAAAIAAAIAAAAAAQAABgAAAAABAAACAAAAAAEAAAgAAAAAAgAAAgAAAAABAAAEAAAAAAEAAAoAAAAAAQAABAAAAAABAAAAAAAAAAEAAAIAAAAAAQAACAAAAAACAAACAAAAAAEAAAYAAAAAAQAAAgAAAAABAAAIAAAAAAIAAAIAAAAAAQAACgAAAAABAAAEAAAAAAEAAAAAAAAAAQAAAgAAAAABAAAGAAAAAAEAAAIAAAAAAQAACgAAAAABAAAEAAAAAAEAAAAAAAAAAQAAAgAAAAABAAAGAAAAAAEAAAIAAAAAAQAABgAAAAABAAACAAAAAAUAAAQAAAAAAQAABgAAAAABAAACAAAAAAEAAAYAAAAAAQAAAgAAAAABAAAKAAAAAAEAAAQAAAAAAQAAAAAAAAABAAACAAAAAAEAAAQAAAAAAQAABgAAAAABAAACAAAAAAEAAAYAAAAAAQAAAgAAAAABAAAGAAAAAAEAAAIAAAAAAQAABAAAAAAcc3RzYwAAAAAAAAABAAAAAQAABk0AAAABAAAZSHN0c3oAAAAAAAAAAAAABk0AAAPoAAABKwAAAA0AAABSAAAAFgAAAB0AAAANAAAATQAAABYAAAAWAAAAcQAAABgAAAAUAAAAEgAAAF8AAAAWAAAASwAAAA8AAAGpAAAALQAAAdIAAAAkAAACJgAAACYAAAANAAABmgAAAFQAAAANAAACKQAAACwAAAAWAAAADQAAAA0AAABKAAAAFgAAABUAAAANAAAAewAAABUAAAANAAAAGQAAACYAAAASAAAADwAAAA0AAABfAAAAFwAAAA8AAAAUAAAATQAAABQAAAANAAAADQAAADsAAAAPAAAAIwAAABEAAAANAAAADQAAAEQAAAAVAAAAEQAAABMAAAARAAAB2gAAADEAAAAQAAAADQAAAA8AAABNAAAAGgAAABIAAAANAAAAMQAAABIAAAAQAAAASAAAAA0AAAA1AAAAFwAAAGUAAAAVAAAADQAAAA0AAABvAAAAFwAAAA0AAAATAAAATAAAABQAAAANAAAAEAAAAC8AAAASAAAAHQAAAIcAAAAmAAAAEwAAACAAAABNAAAAFQAAAA0AAAANAAAAQwAAABYAAAA7AAAAHgAAAA8AAAAPAAAAOQAAACIAAAAPAAAAGQAAAGgAAAAhAAAADwAAAA8AAAA1AAAAFQAAABEAAADZAAAAQwAAAA8AAAAjAAAAYAAAAA8AAAAaAAAAOwAAABAAAAAVAAAALwAAABQAAABTAAAAEgAAAFkAAAAXAAAADQAAAF4AAAApAAAADQAAACYAAAH/AAAAEwAAAB4AAAAgAAACFAAAADQAAAAPAAAAGwAAAA0AAABlAAAAEgAAAA0AAAAPAAACIgAAABgAAAAzAAAADQAAAEIAAAAZAAAAEQAAAA0AAAAcAAAAFwAAAA0AAAANAAAAGQAAAA8AAAAvAAAAEgAAABsAAAASAAAADQAAAA8AAABbAAAAFQAAABAAAAARAAAAQQAAABQAAAANAAAAEgAAAFEAAAAVAAAADQAAAA0AAAAkAAAADwAAAFIAAAAUAAAADQAAABEAAAB3AAAAGAAAAA0AAAATAAAARwAAACQAAAAUAAAAGwAAAG4AAAAhAAAAHAAAABsAAABWAAAAHgAAAA0AAAANAAAAYQAAAA4AAAAzAAAAFwAAABMAAAASAAAAIwAAABQAAAAPAAAADwAAADYAAAAVAAAADQAAAA0AAAApAAAAGgAAAFIAAAAeAAAADQAAABIAAABdAAAAHAAAAEgAAAFcAAAAaAAAABAAAAH9AAAAMwAAACEAAAFeAAAAMAAAADcAAAH/AAAAIwAAABMAAAAjAAAAYAAAABcAAAAPAAAAFwAAACkAAAAVAAAAFwAAAEsAAAAWAAAAEwAAABcAAAA0AAAAMAAAABgAAABVAAAAVAAAABgAAAAVAAAAEwAAAC0AAAAWAAAAEQAAABYAAAAcAAAAEQAAABwAAAAeAAAAEwAAABwAAAAhAAAAEgAAAUAAAAAgAAAAGwAAAA8AAABUAAAAFgAAAA0AAAAQAAAASwAAABMAAAAVAAAASQAAABYAAABUAAAAFgAAABQAAAANAAAAHwAAABEAAAAWAAAAfQAAABoAAAANAAAAEgAAAEQAAAAPAAAAOAAAABIAAAJqAAAAWAAAACEAAAGJAAAALAAAAEEAAABVAAAADwAAABsAAAGeAAAAGwAAABIAAAAPAAACIgAAABwAAAASAAAAFQAAABcAAAARAAAADQAAABsAAAA9AAAAFgAAABAAAAANAAAAIAAAABIAAABTAAAADwAAAGgAAAAUAAAAEgAAAE8AAAArAAAAEQAAAA8AAABjAAAAJAAAACcAAAAjAAAADQAAAA0AAABEAAAAHQAAAA0AAADAAAAAJwAAAA0AAAAfAAAAZAAAABAAAAAZAAAAQgAAABAAAABPAAAAFAAAABYAAABjAAAAFgAAABYAAABnAAAADQAAAYsAAAAUAAAATgAAAg0AAAA9AAAAQAAAAi8AAAA6AAACCgAAACYAAAAhAAAAJAAAABgAAAGYAAAARgAAAA8AAAAuAAACRgAAACcAAAAQAAAAFgAAAFkAAAARAAAADQAAAB4AAAAPAAAANAAAABQAAAANAAAAEgAAABsAAAAuAAAAFgAAABAAAAANAAAAKwAAABMAAABMAAAAFQAAAB0AAAARAAAAHwAAABIAAABEAAAAEgAAAGIAAAARAAAADQAAAA0AAAAfAAAAEgAAAD0AAAAUAAAADQAAAA0AAACKAAAAKAAAABEAAAAcAAAAfwAAACcAAABWAAAAKAAAAEwAAAANAAAASwAAABYAAABIAAAAEgAAAA0AAAANAAAAZQAAABcAAABoAAAAFgAAABEAAAAWAAAATQAAABwAAAAVAAAALwAAABUAAAANAAAARwAAAC8AAAARAAAAGwAAABQAAAAiAAAADQAAADAAAAAaAAAAQgAAABsAAAAPAAAADgAAAGkAAAA0AAAAIAAAABIAAABRAAAAGQAAADAAAAARAAAALgAAABIAAAAXAAAAKwAAADUAAAAlAAAB5gAAABkAAAATAAAAIQAAAA0AAABsAAAAFQAAABMAAAAPAAAAOQAAAbsAAAB1AAAAFQAAACYAAAAlAAABnwAAAB4AAAAUAAAAJgAAADMAAAAUAAAAEAAAABkAAAAmAAAAFQAAABkAAAAPAAAAGwAAAEwAAAARAAAADwAAAG0AAAAPAAAAOAAAABIAAABMAAAAFgAAABIAAAAPAAAAJwAAABMAAABbAAAAEQAAABoAAAAaAAAAFwAAAC4AAAAiAAAANgAAABoAAAAvAAAAKwAAABUAAAAQAAAAbQAAACAAAAASAAAAYQAAACEAAABeAAAAIgAAABEAAAAaAAAANwAAABMAAAAbAAAAHQAAABAAAAAbAAAAGgAAACIAAAArAAAAEgAAABMAAAAeAAAAGAAAABQAAABVAAAAHAAAAA8AAAAZAAAB/QAAADoAAAAsAAAAXgAAABAAAABUAAAB+gAAABQAAAHnAAAAIgAAABcAAABXAAAAFgAAABEAAAHtAAAAPgAAABUAAAAaAAAAEQAAAD0AAAA/AAAAGAAAACcAAAAUAAAAEQAAABIAAABlAAAAFQAAACAAAAAwAAAAFAAAABIAAAByAAAAEAAAADsAAAAhAAAAIAAAAA0AAABGAAAAHwAAADcAAAARAAAAHwAAAFoAAAAYAAAAEgAAACIAAAA7AAAAUAAAABkAAAATAAAADwAAAgkAAAByAAAAEQAAAA0AAABbAAAADwAAADEAAAA5AAAAHgAAABMAAAAhAAAAHgAAABEAAAANAAACHQAAAEkAAAAeAAAADQAAABQAAABfAAAAEwAAAC4AAAAWAAAADQAAAA0AAABoAAAAFAAAAC0AAAANAAAAMwAAABIAAAAQAAAAEAAAAFAAAAAnAAAAGAAAABgAAABfAAAAJAAAAA0AAAAaAAAAYwAAADAAAAAaAAAADwAAAGYAAAAkAAAADgAAABwAAAB4AAAAHgAAAA8AAAAZAAAARAAAABYAAAAqAAAAGwAAAA8AAAANAAAARwAAAB8AAAATAAAAEwAAADkAAAAeAAAADQAAAA0AAABRAAAAIwAAABAAAAH8AAAATwAAAB0AAAAeAAAAQAAAABUAAAH2AAAALAAAABEAAAGDAAAAfgAAABEAAAASAAAADQAAADUAAAAXAAAADQAAAEQAAAARAAACVwAAACoAAAAlAAABvQAAACcAAAA4AAAAQQAAAA8AAAAjAAABmgAAAEMAAAARAAAASwAAABUAAAANAAAAEAAAAD4AAAASAAAAVAAAABQAAAANAAAADQAAACoAAAASAAAAHwAAABgAAAANAAAADQAAAEcAAAAWAAAADQAAABIAAABHAAAAGAAAAA0AAAANAAAAPgAAAA8AAAAhAAAADQAAAE8AAAAVAAAAIgAAAA0AAAAwAAAAEwAAABUAAAB4AAAALgAAABMAAAAcAAAANAAAAB8AAAANAAAAEAAAAFAAAAAbAAAAYwAAABwAAAANAAAADQAAAE0AAAAOAAAAIwAAABQAAAARAAAAGAAAACgAAAAVAAAADgAAAA4AAABpAAAAFQAAAA0AAAARAAAAPgAAABYAAABpAAAAGgAAABEAAAASAAACEQAAAB0AAAAuAAABqQAAAB8AAAAxAAAALgAAACQAAAARAAAAHQAAAFkAAAAqAAAAEgAAABMAAAHwAAAARgAAABgAAAAVAAAAMwAAABgAAAA/AAAAGgAAABUAAAAWAAAAOAAAAEcAAAAZAAAAEQAAADwAAAAWAAAAEgAAACoAAAAbAAAAGQAAAEcAAAAjAAAATAAAABgAAAAkAAAANwAAABIAAAAhAAAAHgAAAc0AAAA1AAAAHQAAABEAAAANAAAATAAAABYAAAARAAAAEgAAAGUAAAAXAAAAEwAAABIAAABoAAAAHQAAAEMAAAAPAAABjQAAABMAAAHcAAAAOQAAACsAAAASAAABwgAAACYAAAIBAAAARQAAABEAAAAPAAAAHQAAABgAAAARAAAADQAAAC0AAABNAAAAMwAAABMAAAAVAAAAaQAAABkAAAAZAAAAUQAAABQAAABDAAAAKAAAAA0AAAANAAAAMwAAAB4AAAANAAAAGwAAABcAAAAPAAAAEQAAARUAAAAqAAAADQAAACEAAAAzAAAADQAAAB4AAABCAAAAFAAAAKEAAAAWAAAAFQAAAFQAAAAVAAAAPgAAABoAAAANAAAAQwAAAA0AAAH7AAAARAAAABQAAAAPAAAAEQAAAGEAAAASAAAARwAAABYAAAANAAAADQAAAGEAAAAWAAAADgAAABMAAABVAAAAFQAAAA8AAAANAAAANgAAABEAAAAvAAAAEQAAAA0AAAANAAAALwAAABQAAAANAAAAFgAAAC4AAAAVAAAADQAAAA0AAAAtAAAATwAAABcAAAANAAAADQAAAG8AAAAUAAAAKQAAAA0AAABnAAAAEgAAAA0AAAAPAAAAJAAAABQAAAANAAAAEQAAAHYAAAAZAAAADQAAAGMAAAAYAAAAEgAAABkAAABMAAAAEQAAAA0AAAANAAAAUQAAAB8AAACTAAAAJAAAABUAAAANAAAAaAAAABUAAAAPAAAAEgAAACsAAAAaAAAADQAAABMAAAAoAAAAEgAAAA0AAAAOAAAAQwAAABUAAAANAAAAGQAAACgAAAAZAAAAMAAAABwAAAANAAAADgAAADcAAABpAAAAIQAAACkAAABSAAAAKAAAABQAAAAPAAAANwAAACEAAAAqAAAADQAAAZ4AAAAoAAAAHQAAABAAAAANAAAAVQAAABIAAABMAAAAFAAAAGAAAAAWAAAAFAAAAEYAAAAVAAAAVQAAABcAAAANAAAAgwAAACMAAAANAAAADQAAADwAAAAUAAAADQAAAWwAAABhAAAAIgAAAj8AAAAvAAAADQAAAX8AAAAuAAAAPAAAAEkAAAANAAACKgAAAE4AAAARAAAADQAAAj8AAAAlAAAAFQAAAA8AAAANAAAAHAAAACUAAAAUAAAAEgAAAB0AAAASAAAAEgAAABkAAAAXAAAAEAAAAA0AAABnAAAAIAAAABAAAAAmAAAAPQAAABwAAAAQAAAADQAAAC4AAAAYAAAAKgAAAA8AAAAPAAABLgAAAA0AAAAgAAAAJAAAAA0AAABeAAAAGgAAAF8AAAAQAAAAFQAAADEAAAATAAAAPAAAABIAAABsAAAAGAAAAA0AAABpAAAAIQAAAA0AAAAqAAAAZwAAAjYAAAAdAAABzQAAAEgAAAASAAAALwAAACAAAAJJAAAAKAAAAA0AAAIiAAAAJwAAABgAAAAnAAAAEgAAAcEAAAAaAAAADwAAABkAAAARAAAADQAAAA0AAAAtAAAAFAAAAA0AAAASAAAAJQAAABUAAAAQAAAADQAAACYAAAAbAAAAYgAAACsAAAANAAAADQAAAEMAAAAhAAAADQAAABkAAABlAAAAEgAAASIAAAANAAAAMQAAAC4AAAANAAAAQQAAABIAAAAjAAAAEgAAAIAAAAAVAAAAFQAAAFcAAAAWAAAAFAAAAEwAAAANAAABaAAAACQAAAGvAAAAGQAAAeYAAAAxAAAADQAAAXIAAAA6AAAADwAAAfEAAABeAAAAFgAAAA0AAAANAAAAOgAAAf8AAABRAAAAFAAAAC4AAAANAAAB7wAAAC0AAAAYAAAADQAAABAAAAA8AAAADwAAAA0AAABEAAAAGQAAAA0AAABPAAAASwAAABMAAAANAAAAHQAAABUAAAANAAAAGgAAABQAAAAQAAAADQAAACsAAAATAAAAGAAAABIAAAANAAAADQAAADUAAAAQAAAAUQAAABQAAAANAAAADQAAAFkAAAAWAAAADQAAABMAAAAyAAAAFAAAAA0AAAANAAAAKgAAABYAAAARAAAADwAAAFAAAAAVAAAAEQAAABoAAAB6AAAAGQAAABQAAAAfAAAARAAAADoAAABKAAAAGAAAAB8AAABTAAAAIQAAABAAAAASAAAATgAAABcAAAARAAAAEQAAAGUAAAAWAAAAEAAAABUAAAA1AAAAGwAAABQAAAARAAAAIQAAAFgAAAAWAAAAFgAAABQAAABPAAAAFgAAABIAAAAQAAAALwAAABYAAAAXAAAAFwAAADcAAAAoAAAAHAAAABEAAABiAAAAKgAAABIAAABCAAAAIgAAABwAAABWAAAAIAAAABAAAAHFAAAASQAAABcAAAFUAAAARgAAACAAAAA0AAAARAAAABgAAAAUAAAAFgAAAEMAAAHQAAAAOQAAAC0AAAASAAAAMAAAAXIAAABTAAAAFgAAABMAAAAQAAAAKgAAABUAAAASAAAAGAAAAGkAAAAVAAAADwAAADUAAABKAAAAHQAAAA8AAAAUAAAAMwAAABwAAAAVAAAADwAAAEkAAAB1AAAAFgAAAA8AAAARAAAAHgAAAA8AAAAdAAAAFQAAAA8AAAAQAAAAVQAAAFAAAAAaAAAAEgAAABIAAABQAAAAEQAAAA0AAAATAAAASgAAAB0AAAATAAAAEgAAADEAAAARAAAASwAAADMAAAAcAAAAEQAAAEwAAAA+AAAAGwAAACUAAABbAAAALAAAABkAAAATAAAB2AAAACMAAAAgAAAAEAAAAA0AAABwAAAAJAAAAEsAAAASAAAASgAAABUAAAAVAAAAUQAAABUAAAB7AAAAFwAAAA0AAABOAAAAGAAAAA0AAAHwAAAANgAAAioAAAARAAABqwAAAD4AAAAlAAAAIwAAABMAAAAPAAAADQAAADUAAAANAAACMwAAADQAAAANAAAAGwAAAA0AAAA+AAAAHwAAABIAAAANAAAADwAAABoAAAAUAAAADQAAAA0AAABYAAAAFgAAAA0AAAAWAAAAOwAAABQAAAANAAAADQAAAHIAAAAjAAAADQAAABoAAABEAAAAIAAAABoAAAAZAAAAewAAACMAAAAaAAAAGQAAAFwAAAAuAAAADQAAAA0AAABEAAAAGwAAAHoAAAAoAAAADQAAABsAAABQAAAAIgAAAHYAAAAPAAAAIQAAAHYAAAAqAAAAIAAAAA0AAABEAAAAIQAAABEAAAAXAAAAMQAAABcAAAAUAAAAEQAAAB4AAABKAAAAGQAAABQAAAANAAAAUAAAAFMAAAAqAAAAEgAAAKEAAAAlAAAAHwAAAA8AAABgAAAAHQAAACAAAAANAAAAjAAAABoAAAANAAAAIQAAAEIAAAAjAAAAKAAAAB0AAACEAAAAIgAAAA8AAAAfAAAAVwAAACEAAAANAAAAGQAAADwAAABTAAAAFgAAABcAAAANAAAAXAAAACkAAABAAAAAMwAAAXwAAABdAAAAIAAAABAAAAAdAAAAPwAAABIAAAA5AAAAJwAAABIAAAAPAAAAEAAAAFEAAAAZAAAADwAAABEAAABEAAAAEQAAADQAAAATAAAAEAAAAFMAAABBAAAAHAAAADAAAABJAAAAFwAAABIAAAASAAAATQAAABgAAAARAAAAEwAAAHMAAAAbAAAAGgAAAGwAAAAiAAAAHAAAABMAAABQAAAAHwAAAB0AAAAQAAAASAAAABgAAAAUAAAATgAAABEAAABCAAAAMwAAABoAAAAQAAAAFgAAAE0AAAAfAAAAEQAAABUAAABQAAAAIAAAABEAAAAaAAAAcAAAACQAAAAXAAAAHgAAAFMAAAAyAAAAFgAAAZ4AAABEAAAAFAAAABQAAAAPAAAB+QAAAGAAAAASAAAAEAAAAA8AAAAxAAAADwAAABIAAABEAAAAEwAAAGkAAAAPAAAAFQAAACEAAACwAAAAMgAAABQAAAARAAAAPQAAAB4AAAAQAAAAIgAAABMAAABjAAAAGAAAABgAAABpAAAAHAAAAA8AAAAdAAAAcQAAABAAAAA5AAAAHQAAAB8AAAANAAAASwAAABgAAABGAAAAEAAAAgUAAAAXAAAAPwAAAEEAAAIQAAAAOQAAACQAAAA2AAAAEwAAADkAAAAhAAAADQAAABIAAAAyAAAAMgAAABMAAABeAAAAFQAAABwAAAAiAAAARAAAABRzdGNvAAAAAAAAAAEAAAAwAAAAYXVkdGEAAABZbWV0YQAAAAAAAAAhaGRscgAAAAAAAAAAbWRpcmFwcGwAAAAAAAAAAAAAAAAsaWxzdAAAACSpdG9vAAAAHGRhdGEAAAABAAAAAExhdmY2MS4xLjEwMA==\" type=\"video/mp4\">\n",
              "        </video>\n",
              "        "
            ]
          },
          "metadata": {},
          "execution_count": 19
        }
      ]
    },
    {
      "cell_type": "code",
      "source": [
        "!pip --quiet install optuna"
      ],
      "metadata": {
        "colab": {
          "base_uri": "https://localhost:8080/"
        },
        "id": "h_QWFl6rDT6w",
        "outputId": "415e30e2-5905-4014-8404-2287947adb89"
      },
      "execution_count": 20,
      "outputs": [
        {
          "output_type": "stream",
          "name": "stdout",
          "text": [
            "Collecting optuna\n",
            "  Downloading optuna-4.2.0-py3-none-any.whl.metadata (17 kB)\n",
            "Collecting alembic>=1.5.0 (from optuna)\n",
            "  Downloading alembic-1.14.1-py3-none-any.whl.metadata (7.4 kB)\n",
            "Collecting colorlog (from optuna)\n",
            "  Downloading colorlog-6.9.0-py3-none-any.whl.metadata (10 kB)\n",
            "Requirement already satisfied: numpy in /usr/local/lib/python3.11/dist-packages (from optuna) (1.26.4)\n",
            "Requirement already satisfied: packaging>=20.0 in /usr/local/lib/python3.11/dist-packages (from optuna) (24.2)\n",
            "Requirement already satisfied: sqlalchemy>=1.4.2 in /usr/local/lib/python3.11/dist-packages (from optuna) (2.0.37)\n",
            "Requirement already satisfied: tqdm in /usr/local/lib/python3.11/dist-packages (from optuna) (4.67.1)\n",
            "Requirement already satisfied: PyYAML in /usr/local/lib/python3.11/dist-packages (from optuna) (6.0)\n",
            "Collecting Mako (from alembic>=1.5.0->optuna)\n",
            "  Downloading Mako-1.3.8-py3-none-any.whl.metadata (2.9 kB)\n",
            "Requirement already satisfied: typing-extensions>=4 in /usr/local/lib/python3.11/dist-packages (from alembic>=1.5.0->optuna) (4.12.2)\n",
            "Requirement already satisfied: greenlet!=0.4.17 in /usr/local/lib/python3.11/dist-packages (from sqlalchemy>=1.4.2->optuna) (3.1.1)\n",
            "Requirement already satisfied: MarkupSafe>=0.9.2 in /usr/local/lib/python3.11/dist-packages (from Mako->alembic>=1.5.0->optuna) (3.0.2)\n",
            "Downloading optuna-4.2.0-py3-none-any.whl (383 kB)\n",
            "\u001b[2K   \u001b[90m━━━━━━━━━━━━━━━━━━━━━━━━━━━━━━━━━━━━━━━━\u001b[0m \u001b[32m383.4/383.4 kB\u001b[0m \u001b[31m33.2 MB/s\u001b[0m eta \u001b[36m0:00:00\u001b[0m\n",
            "\u001b[?25hDownloading alembic-1.14.1-py3-none-any.whl (233 kB)\n",
            "\u001b[2K   \u001b[90m━━━━━━━━━━━━━━━━━━━━━━━━━━━━━━━━━━━━━━━━\u001b[0m \u001b[32m233.6/233.6 kB\u001b[0m \u001b[31m21.4 MB/s\u001b[0m eta \u001b[36m0:00:00\u001b[0m\n",
            "\u001b[?25hDownloading colorlog-6.9.0-py3-none-any.whl (11 kB)\n",
            "Downloading Mako-1.3.8-py3-none-any.whl (78 kB)\n",
            "\u001b[2K   \u001b[90m━━━━━━━━━━━━━━━━━━━━━━━━━━━━━━━━━━━━━━━━\u001b[0m \u001b[32m78.6/78.6 kB\u001b[0m \u001b[31m8.6 MB/s\u001b[0m eta \u001b[36m0:00:00\u001b[0m\n",
            "\u001b[?25hInstalling collected packages: Mako, colorlog, alembic, optuna\n",
            "Successfully installed Mako-1.3.8 alembic-1.14.1 colorlog-6.9.0 optuna-4.2.0\n"
          ]
        }
      ]
    },
    {
      "cell_type": "code",
      "source": [
        "import optuna\n",
        "from optuna import Trial\n",
        "import numpy as np\n",
        "import torch\n",
        "\n",
        "# Define the objective function\n",
        "def objective(trial: Trial):\n",
        "    \"\"\"\n",
        "    Objective function to optimize hyperparameters for the reinforcement learning agent.\n",
        "    \"\"\"\n",
        "    # Define the hyperparameter search space\n",
        "    hidden_size = trial.suggest_int(\"hidden_size\", 32, 256)\n",
        "    learning_rate = trial.suggest_loguniform(\"learning_rate\", 1e-5, 1e-2)\n",
        "    gamma = trial.suggest_float(\"gamma\", 0.9, 0.999)\n",
        "\n",
        "    # Initialize the policy with the suggested hyperparameters\n",
        "    policy = Policy(s_size, a_size, hidden_size).to(device)\n",
        "    optimizer = torch.optim.Adam(policy.parameters(), lr=learning_rate)\n",
        "\n",
        "    # Training loop\n",
        "    max_episodes = 200\n",
        "    max_steps = 500\n",
        "    gamma = gamma\n",
        "\n",
        "    def train_agent():\n",
        "        total_rewards = []\n",
        "        for episode in range(max_episodes):\n",
        "            state = env.reset()\n",
        "            log_probs = []\n",
        "            rewards = []\n",
        "            done = False\n",
        "\n",
        "            for step in range(max_steps):\n",
        "                action, log_prob = policy.act(state)\n",
        "                next_state, reward, done, _ = env.step(action)\n",
        "                log_probs.append(log_prob)\n",
        "                rewards.append(reward)\n",
        "\n",
        "                if done:\n",
        "                    break\n",
        "                state = next_state\n",
        "\n",
        "            # Compute discounted rewards\n",
        "            discounted_rewards = []\n",
        "            cumulative_reward = 0\n",
        "            for r in reversed(rewards):\n",
        "                cumulative_reward = r + gamma * cumulative_reward\n",
        "                discounted_rewards.insert(0, cumulative_reward)\n",
        "\n",
        "            # Normalize rewards\n",
        "            discounted_rewards = torch.tensor(discounted_rewards).to(device)\n",
        "            discounted_rewards = (discounted_rewards - discounted_rewards.mean()) / (\n",
        "                discounted_rewards.std() + 1e-8\n",
        "            )\n",
        "\n",
        "            # Compute policy loss\n",
        "            policy_loss = []\n",
        "            for log_prob, reward in zip(log_probs, discounted_rewards):\n",
        "                policy_loss.append(-log_prob * reward)\n",
        "            policy_loss = torch.cat(policy_loss).sum()\n",
        "\n",
        "            # Backpropagation\n",
        "            optimizer.zero_grad()\n",
        "            policy_loss.backward()\n",
        "            optimizer.step()\n",
        "\n",
        "            total_rewards.append(sum(rewards))\n",
        "\n",
        "        return np.mean(total_rewards[-10:])  # Average of the last 10 episodes\n",
        "\n",
        "    # Train the agent\n",
        "    avg_reward = train_agent()\n",
        "\n",
        "    return avg_reward\n",
        "\n",
        "# Set up the Optuna study\n",
        "study = optuna.create_study(direction=\"maximize\")\n",
        "study.optimize(objective, n_trials=50)\n",
        "\n",
        "# Print the best hyperparameters\n",
        "print(\"Best hyperparameters:\")\n",
        "print(study.best_params)\n",
        "\n",
        "# Save study results\n",
        "optuna.visualization.plot_optimization_history(study)\n",
        "optuna.visualization.plot_param_importances(study)\n"
      ],
      "metadata": {
        "colab": {
          "base_uri": "https://localhost:8080/",
          "height": 849
        },
        "id": "LI3cuQINDVc_",
        "outputId": "e6c6aac8-0a14-43ea-d337-ea7182fbbb2c"
      },
      "execution_count": 21,
      "outputs": [
        {
          "output_type": "stream",
          "name": "stderr",
          "text": [
            "/usr/local/lib/python3.11/dist-packages/ipykernel/ipkernel.py:283: DeprecationWarning: `should_run_async` will not call `transform_cell` automatically in the future. Please pass the result to `transformed_cell` argument and any exception that happen during thetransform in `preprocessing_exc_tuple` in IPython 7.17 and above.\n",
            "  and should_run_async(code)\n",
            "[I 2025-01-27 19:38:03,899] A new study created in memory with name: no-name-f566b173-eca3-496c-95b6-a3895f7e8798\n",
            "<ipython-input-21-0cf242dd6f52>:13: FutureWarning: suggest_loguniform has been deprecated in v3.0.0. This feature will be removed in v6.0.0. See https://github.com/optuna/optuna/releases/tag/v3.0.0. Use suggest_float(..., log=True) instead.\n",
            "  learning_rate = trial.suggest_loguniform(\"learning_rate\", 1e-5, 1e-2)\n",
            "[I 2025-01-27 19:38:18,959] Trial 0 finished with value: 5.0 and parameters: {'hidden_size': 235, 'learning_rate': 0.00020682568035428344, 'gamma': 0.9452164459941139}. Best is trial 0 with value: 5.0.\n",
            "[I 2025-01-27 19:38:27,065] Trial 1 finished with value: -2.7 and parameters: {'hidden_size': 226, 'learning_rate': 0.000752731037830389, 'gamma': 0.9059877782295364}. Best is trial 0 with value: 5.0.\n",
            "[W 2025-01-27 19:38:36,214] Trial 2 failed with parameters: {'hidden_size': 133, 'learning_rate': 1.300410500235282e-05, 'gamma': 0.9883229898173435} because of the following error: KeyboardInterrupt().\n",
            "Traceback (most recent call last):\n",
            "  File \"/usr/local/lib/python3.11/dist-packages/optuna/study/_optimize.py\", line 197, in _run_trial\n",
            "    value_or_values = func(trial)\n",
            "                      ^^^^^^^^^^^\n",
            "  File \"<ipython-input-21-0cf242dd6f52>\", line 72, in objective\n",
            "    avg_reward = train_agent()\n",
            "                 ^^^^^^^^^^^^^\n",
            "  File \"<ipython-input-21-0cf242dd6f52>\", line 34, in train_agent\n",
            "    action, log_prob = policy.act(state)\n",
            "                       ^^^^^^^^^^^^^^^^^\n",
            "  File \"<ipython-input-8-3838e890b237>\", line 20, in act\n",
            "    return action.item(), m.log_prob(action)\n",
            "                          ^^^^^^^^^^^^^^^^^^\n",
            "  File \"/usr/local/lib/python3.11/dist-packages/torch/distributions/categorical.py\", line 143, in log_prob\n",
            "    return log_pmf.gather(-1, value).squeeze(-1)\n",
            "           ^^^^^^^^^^^^^^^^^^^^^^^^^^^^^^^^^^^^^\n",
            "KeyboardInterrupt\n",
            "[W 2025-01-27 19:38:36,216] Trial 2 failed with value None.\n"
          ]
        },
        {
          "output_type": "error",
          "ename": "KeyboardInterrupt",
          "evalue": "",
          "traceback": [
            "\u001b[0;31m---------------------------------------------------------------------------\u001b[0m",
            "\u001b[0;31mKeyboardInterrupt\u001b[0m                         Traceback (most recent call last)",
            "\u001b[0;32m<ipython-input-21-0cf242dd6f52>\u001b[0m in \u001b[0;36m<cell line: 0>\u001b[0;34m()\u001b[0m\n\u001b[1;32m     76\u001b[0m \u001b[0;31m# Set up the Optuna study\u001b[0m\u001b[0;34m\u001b[0m\u001b[0;34m\u001b[0m\u001b[0m\n\u001b[1;32m     77\u001b[0m \u001b[0mstudy\u001b[0m \u001b[0;34m=\u001b[0m \u001b[0moptuna\u001b[0m\u001b[0;34m.\u001b[0m\u001b[0mcreate_study\u001b[0m\u001b[0;34m(\u001b[0m\u001b[0mdirection\u001b[0m\u001b[0;34m=\u001b[0m\u001b[0;34m\"maximize\"\u001b[0m\u001b[0;34m)\u001b[0m\u001b[0;34m\u001b[0m\u001b[0;34m\u001b[0m\u001b[0m\n\u001b[0;32m---> 78\u001b[0;31m \u001b[0mstudy\u001b[0m\u001b[0;34m.\u001b[0m\u001b[0moptimize\u001b[0m\u001b[0;34m(\u001b[0m\u001b[0mobjective\u001b[0m\u001b[0;34m,\u001b[0m \u001b[0mn_trials\u001b[0m\u001b[0;34m=\u001b[0m\u001b[0;36m50\u001b[0m\u001b[0;34m)\u001b[0m\u001b[0;34m\u001b[0m\u001b[0;34m\u001b[0m\u001b[0m\n\u001b[0m\u001b[1;32m     79\u001b[0m \u001b[0;34m\u001b[0m\u001b[0m\n\u001b[1;32m     80\u001b[0m \u001b[0;31m# Print the best hyperparameters\u001b[0m\u001b[0;34m\u001b[0m\u001b[0;34m\u001b[0m\u001b[0m\n",
            "\u001b[0;32m/usr/local/lib/python3.11/dist-packages/optuna/study/study.py\u001b[0m in \u001b[0;36moptimize\u001b[0;34m(self, func, n_trials, timeout, n_jobs, catch, callbacks, gc_after_trial, show_progress_bar)\u001b[0m\n\u001b[1;32m    473\u001b[0m                 \u001b[0mIf\u001b[0m \u001b[0mnested\u001b[0m \u001b[0minvocation\u001b[0m \u001b[0mof\u001b[0m \u001b[0mthis\u001b[0m \u001b[0mmethod\u001b[0m \u001b[0moccurs\u001b[0m\u001b[0;34m.\u001b[0m\u001b[0;34m\u001b[0m\u001b[0;34m\u001b[0m\u001b[0m\n\u001b[1;32m    474\u001b[0m         \"\"\"\n\u001b[0;32m--> 475\u001b[0;31m         _optimize(\n\u001b[0m\u001b[1;32m    476\u001b[0m             \u001b[0mstudy\u001b[0m\u001b[0;34m=\u001b[0m\u001b[0mself\u001b[0m\u001b[0;34m,\u001b[0m\u001b[0;34m\u001b[0m\u001b[0;34m\u001b[0m\u001b[0m\n\u001b[1;32m    477\u001b[0m             \u001b[0mfunc\u001b[0m\u001b[0;34m=\u001b[0m\u001b[0mfunc\u001b[0m\u001b[0;34m,\u001b[0m\u001b[0;34m\u001b[0m\u001b[0;34m\u001b[0m\u001b[0m\n",
            "\u001b[0;32m/usr/local/lib/python3.11/dist-packages/optuna/study/_optimize.py\u001b[0m in \u001b[0;36m_optimize\u001b[0;34m(study, func, n_trials, timeout, n_jobs, catch, callbacks, gc_after_trial, show_progress_bar)\u001b[0m\n\u001b[1;32m     61\u001b[0m     \u001b[0;32mtry\u001b[0m\u001b[0;34m:\u001b[0m\u001b[0;34m\u001b[0m\u001b[0;34m\u001b[0m\u001b[0m\n\u001b[1;32m     62\u001b[0m         \u001b[0;32mif\u001b[0m \u001b[0mn_jobs\u001b[0m \u001b[0;34m==\u001b[0m \u001b[0;36m1\u001b[0m\u001b[0;34m:\u001b[0m\u001b[0;34m\u001b[0m\u001b[0;34m\u001b[0m\u001b[0m\n\u001b[0;32m---> 63\u001b[0;31m             _optimize_sequential(\n\u001b[0m\u001b[1;32m     64\u001b[0m                 \u001b[0mstudy\u001b[0m\u001b[0;34m,\u001b[0m\u001b[0;34m\u001b[0m\u001b[0;34m\u001b[0m\u001b[0m\n\u001b[1;32m     65\u001b[0m                 \u001b[0mfunc\u001b[0m\u001b[0;34m,\u001b[0m\u001b[0;34m\u001b[0m\u001b[0;34m\u001b[0m\u001b[0m\n",
            "\u001b[0;32m/usr/local/lib/python3.11/dist-packages/optuna/study/_optimize.py\u001b[0m in \u001b[0;36m_optimize_sequential\u001b[0;34m(study, func, n_trials, timeout, catch, callbacks, gc_after_trial, reseed_sampler_rng, time_start, progress_bar)\u001b[0m\n\u001b[1;32m    158\u001b[0m \u001b[0;34m\u001b[0m\u001b[0m\n\u001b[1;32m    159\u001b[0m         \u001b[0;32mtry\u001b[0m\u001b[0;34m:\u001b[0m\u001b[0;34m\u001b[0m\u001b[0;34m\u001b[0m\u001b[0m\n\u001b[0;32m--> 160\u001b[0;31m             \u001b[0mfrozen_trial\u001b[0m \u001b[0;34m=\u001b[0m \u001b[0m_run_trial\u001b[0m\u001b[0;34m(\u001b[0m\u001b[0mstudy\u001b[0m\u001b[0;34m,\u001b[0m \u001b[0mfunc\u001b[0m\u001b[0;34m,\u001b[0m \u001b[0mcatch\u001b[0m\u001b[0;34m)\u001b[0m\u001b[0;34m\u001b[0m\u001b[0;34m\u001b[0m\u001b[0m\n\u001b[0m\u001b[1;32m    161\u001b[0m         \u001b[0;32mfinally\u001b[0m\u001b[0;34m:\u001b[0m\u001b[0;34m\u001b[0m\u001b[0;34m\u001b[0m\u001b[0m\n\u001b[1;32m    162\u001b[0m             \u001b[0;31m# The following line mitigates memory problems that can be occurred in some\u001b[0m\u001b[0;34m\u001b[0m\u001b[0;34m\u001b[0m\u001b[0m\n",
            "\u001b[0;32m/usr/local/lib/python3.11/dist-packages/optuna/study/_optimize.py\u001b[0m in \u001b[0;36m_run_trial\u001b[0;34m(study, func, catch)\u001b[0m\n\u001b[1;32m    246\u001b[0m         \u001b[0;32mand\u001b[0m \u001b[0;32mnot\u001b[0m \u001b[0misinstance\u001b[0m\u001b[0;34m(\u001b[0m\u001b[0mfunc_err\u001b[0m\u001b[0;34m,\u001b[0m \u001b[0mcatch\u001b[0m\u001b[0;34m)\u001b[0m\u001b[0;34m\u001b[0m\u001b[0;34m\u001b[0m\u001b[0m\n\u001b[1;32m    247\u001b[0m     ):\n\u001b[0;32m--> 248\u001b[0;31m         \u001b[0;32mraise\u001b[0m \u001b[0mfunc_err\u001b[0m\u001b[0;34m\u001b[0m\u001b[0;34m\u001b[0m\u001b[0m\n\u001b[0m\u001b[1;32m    249\u001b[0m     \u001b[0;32mreturn\u001b[0m \u001b[0mfrozen_trial\u001b[0m\u001b[0;34m\u001b[0m\u001b[0;34m\u001b[0m\u001b[0m\n\u001b[1;32m    250\u001b[0m \u001b[0;34m\u001b[0m\u001b[0m\n",
            "\u001b[0;32m/usr/local/lib/python3.11/dist-packages/optuna/study/_optimize.py\u001b[0m in \u001b[0;36m_run_trial\u001b[0;34m(study, func, catch)\u001b[0m\n\u001b[1;32m    195\u001b[0m     \u001b[0;32mwith\u001b[0m \u001b[0mget_heartbeat_thread\u001b[0m\u001b[0;34m(\u001b[0m\u001b[0mtrial\u001b[0m\u001b[0;34m.\u001b[0m\u001b[0m_trial_id\u001b[0m\u001b[0;34m,\u001b[0m \u001b[0mstudy\u001b[0m\u001b[0;34m.\u001b[0m\u001b[0m_storage\u001b[0m\u001b[0;34m)\u001b[0m\u001b[0;34m:\u001b[0m\u001b[0;34m\u001b[0m\u001b[0;34m\u001b[0m\u001b[0m\n\u001b[1;32m    196\u001b[0m         \u001b[0;32mtry\u001b[0m\u001b[0;34m:\u001b[0m\u001b[0;34m\u001b[0m\u001b[0;34m\u001b[0m\u001b[0m\n\u001b[0;32m--> 197\u001b[0;31m             \u001b[0mvalue_or_values\u001b[0m \u001b[0;34m=\u001b[0m \u001b[0mfunc\u001b[0m\u001b[0;34m(\u001b[0m\u001b[0mtrial\u001b[0m\u001b[0;34m)\u001b[0m\u001b[0;34m\u001b[0m\u001b[0;34m\u001b[0m\u001b[0m\n\u001b[0m\u001b[1;32m    198\u001b[0m         \u001b[0;32mexcept\u001b[0m \u001b[0mexceptions\u001b[0m\u001b[0;34m.\u001b[0m\u001b[0mTrialPruned\u001b[0m \u001b[0;32mas\u001b[0m \u001b[0me\u001b[0m\u001b[0;34m:\u001b[0m\u001b[0;34m\u001b[0m\u001b[0;34m\u001b[0m\u001b[0m\n\u001b[1;32m    199\u001b[0m             \u001b[0;31m# TODO(mamu): Handle multi-objective cases.\u001b[0m\u001b[0;34m\u001b[0m\u001b[0;34m\u001b[0m\u001b[0m\n",
            "\u001b[0;32m<ipython-input-21-0cf242dd6f52>\u001b[0m in \u001b[0;36mobjective\u001b[0;34m(trial)\u001b[0m\n\u001b[1;32m     70\u001b[0m \u001b[0;34m\u001b[0m\u001b[0m\n\u001b[1;32m     71\u001b[0m     \u001b[0;31m# Train the agent\u001b[0m\u001b[0;34m\u001b[0m\u001b[0;34m\u001b[0m\u001b[0m\n\u001b[0;32m---> 72\u001b[0;31m     \u001b[0mavg_reward\u001b[0m \u001b[0;34m=\u001b[0m \u001b[0mtrain_agent\u001b[0m\u001b[0;34m(\u001b[0m\u001b[0;34m)\u001b[0m\u001b[0;34m\u001b[0m\u001b[0;34m\u001b[0m\u001b[0m\n\u001b[0m\u001b[1;32m     73\u001b[0m \u001b[0;34m\u001b[0m\u001b[0m\n\u001b[1;32m     74\u001b[0m     \u001b[0;32mreturn\u001b[0m \u001b[0mavg_reward\u001b[0m\u001b[0;34m\u001b[0m\u001b[0;34m\u001b[0m\u001b[0m\n",
            "\u001b[0;32m<ipython-input-21-0cf242dd6f52>\u001b[0m in \u001b[0;36mtrain_agent\u001b[0;34m()\u001b[0m\n\u001b[1;32m     32\u001b[0m \u001b[0;34m\u001b[0m\u001b[0m\n\u001b[1;32m     33\u001b[0m             \u001b[0;32mfor\u001b[0m \u001b[0mstep\u001b[0m \u001b[0;32min\u001b[0m \u001b[0mrange\u001b[0m\u001b[0;34m(\u001b[0m\u001b[0mmax_steps\u001b[0m\u001b[0;34m)\u001b[0m\u001b[0;34m:\u001b[0m\u001b[0;34m\u001b[0m\u001b[0;34m\u001b[0m\u001b[0m\n\u001b[0;32m---> 34\u001b[0;31m                 \u001b[0maction\u001b[0m\u001b[0;34m,\u001b[0m \u001b[0mlog_prob\u001b[0m \u001b[0;34m=\u001b[0m \u001b[0mpolicy\u001b[0m\u001b[0;34m.\u001b[0m\u001b[0mact\u001b[0m\u001b[0;34m(\u001b[0m\u001b[0mstate\u001b[0m\u001b[0;34m)\u001b[0m\u001b[0;34m\u001b[0m\u001b[0;34m\u001b[0m\u001b[0m\n\u001b[0m\u001b[1;32m     35\u001b[0m                 \u001b[0mnext_state\u001b[0m\u001b[0;34m,\u001b[0m \u001b[0mreward\u001b[0m\u001b[0;34m,\u001b[0m \u001b[0mdone\u001b[0m\u001b[0;34m,\u001b[0m \u001b[0m_\u001b[0m \u001b[0;34m=\u001b[0m \u001b[0menv\u001b[0m\u001b[0;34m.\u001b[0m\u001b[0mstep\u001b[0m\u001b[0;34m(\u001b[0m\u001b[0maction\u001b[0m\u001b[0;34m)\u001b[0m\u001b[0;34m\u001b[0m\u001b[0;34m\u001b[0m\u001b[0m\n\u001b[1;32m     36\u001b[0m                 \u001b[0mlog_probs\u001b[0m\u001b[0;34m.\u001b[0m\u001b[0mappend\u001b[0m\u001b[0;34m(\u001b[0m\u001b[0mlog_prob\u001b[0m\u001b[0;34m)\u001b[0m\u001b[0;34m\u001b[0m\u001b[0;34m\u001b[0m\u001b[0m\n",
            "\u001b[0;32m<ipython-input-8-3838e890b237>\u001b[0m in \u001b[0;36mact\u001b[0;34m(self, state, deterministic)\u001b[0m\n\u001b[1;32m     18\u001b[0m             \u001b[0mm\u001b[0m \u001b[0;34m=\u001b[0m \u001b[0mCategorical\u001b[0m\u001b[0;34m(\u001b[0m\u001b[0mprobs\u001b[0m\u001b[0;34m)\u001b[0m\u001b[0;34m\u001b[0m\u001b[0;34m\u001b[0m\u001b[0m\n\u001b[1;32m     19\u001b[0m             \u001b[0maction\u001b[0m \u001b[0;34m=\u001b[0m \u001b[0mm\u001b[0m\u001b[0;34m.\u001b[0m\u001b[0msample\u001b[0m\u001b[0;34m(\u001b[0m\u001b[0;34m)\u001b[0m\u001b[0;34m\u001b[0m\u001b[0;34m\u001b[0m\u001b[0m\n\u001b[0;32m---> 20\u001b[0;31m             \u001b[0;32mreturn\u001b[0m \u001b[0maction\u001b[0m\u001b[0;34m.\u001b[0m\u001b[0mitem\u001b[0m\u001b[0;34m(\u001b[0m\u001b[0;34m)\u001b[0m\u001b[0;34m,\u001b[0m \u001b[0mm\u001b[0m\u001b[0;34m.\u001b[0m\u001b[0mlog_prob\u001b[0m\u001b[0;34m(\u001b[0m\u001b[0maction\u001b[0m\u001b[0;34m)\u001b[0m\u001b[0;34m\u001b[0m\u001b[0;34m\u001b[0m\u001b[0m\n\u001b[0m\u001b[1;32m     21\u001b[0m         \u001b[0;32melse\u001b[0m\u001b[0;34m:\u001b[0m\u001b[0;34m\u001b[0m\u001b[0;34m\u001b[0m\u001b[0m\n\u001b[1;32m     22\u001b[0m           \u001b[0mm\u001b[0m \u001b[0;34m=\u001b[0m \u001b[0mCategorical\u001b[0m\u001b[0;34m(\u001b[0m\u001b[0mprobs\u001b[0m\u001b[0;34m)\u001b[0m\u001b[0;34m\u001b[0m\u001b[0;34m\u001b[0m\u001b[0m\n",
            "\u001b[0;32m/usr/local/lib/python3.11/dist-packages/torch/distributions/categorical.py\u001b[0m in \u001b[0;36mlog_prob\u001b[0;34m(self, value)\u001b[0m\n\u001b[1;32m    141\u001b[0m         \u001b[0mvalue\u001b[0m\u001b[0;34m,\u001b[0m \u001b[0mlog_pmf\u001b[0m \u001b[0;34m=\u001b[0m \u001b[0mtorch\u001b[0m\u001b[0;34m.\u001b[0m\u001b[0mbroadcast_tensors\u001b[0m\u001b[0;34m(\u001b[0m\u001b[0mvalue\u001b[0m\u001b[0;34m,\u001b[0m \u001b[0mself\u001b[0m\u001b[0;34m.\u001b[0m\u001b[0mlogits\u001b[0m\u001b[0;34m)\u001b[0m\u001b[0;34m\u001b[0m\u001b[0;34m\u001b[0m\u001b[0m\n\u001b[1;32m    142\u001b[0m         \u001b[0mvalue\u001b[0m \u001b[0;34m=\u001b[0m \u001b[0mvalue\u001b[0m\u001b[0;34m[\u001b[0m\u001b[0;34m...\u001b[0m\u001b[0;34m,\u001b[0m \u001b[0;34m:\u001b[0m\u001b[0;36m1\u001b[0m\u001b[0;34m]\u001b[0m\u001b[0;34m\u001b[0m\u001b[0;34m\u001b[0m\u001b[0m\n\u001b[0;32m--> 143\u001b[0;31m         \u001b[0;32mreturn\u001b[0m \u001b[0mlog_pmf\u001b[0m\u001b[0;34m.\u001b[0m\u001b[0mgather\u001b[0m\u001b[0;34m(\u001b[0m\u001b[0;34m-\u001b[0m\u001b[0;36m1\u001b[0m\u001b[0;34m,\u001b[0m \u001b[0mvalue\u001b[0m\u001b[0;34m)\u001b[0m\u001b[0;34m.\u001b[0m\u001b[0msqueeze\u001b[0m\u001b[0;34m(\u001b[0m\u001b[0;34m-\u001b[0m\u001b[0;36m1\u001b[0m\u001b[0;34m)\u001b[0m\u001b[0;34m\u001b[0m\u001b[0;34m\u001b[0m\u001b[0m\n\u001b[0m\u001b[1;32m    144\u001b[0m \u001b[0;34m\u001b[0m\u001b[0m\n\u001b[1;32m    145\u001b[0m     \u001b[0;32mdef\u001b[0m \u001b[0mentropy\u001b[0m\u001b[0;34m(\u001b[0m\u001b[0mself\u001b[0m\u001b[0;34m)\u001b[0m\u001b[0;34m:\u001b[0m\u001b[0;34m\u001b[0m\u001b[0;34m\u001b[0m\u001b[0m\n",
            "\u001b[0;31mKeyboardInterrupt\u001b[0m: "
          ]
        }
      ]
    }
  ]
}